{
 "cells": [
  {
   "cell_type": "markdown",
   "id": "575194de",
   "metadata": {},
   "source": [
    "# Исследование надежности заемщиков."
   ]
  },
  {
   "cell_type": "markdown",
   "id": "b29ef201",
   "metadata": {},
   "source": [
    "Описание проекта.\n",
    "\n",
    "Заказчик — кредитный отдел банка. Нужно разобраться, влияет ли семейное положение и количество детей клиента на факт погашения кредита в срок. Входные данные от банка — статистика о платёжеспособности клиентов.\n",
    "Результаты исследования будут учтены при построении модели кредитного скоринга — специальной системы, которая оценивает способность потенциального заёмщика вернуть кредит банку.\n"
   ]
  },
  {
   "cell_type": "markdown",
   "id": "4173f604",
   "metadata": {},
   "source": [
    "### Шаг 1. Обзор данных"
   ]
  },
  {
   "cell_type": "code",
   "execution_count": 28,
   "id": "39626ac0",
   "metadata": {},
   "outputs": [
    {
     "data": {
      "text/html": [
       "<div>\n",
       "<style scoped>\n",
       "    .dataframe tbody tr th:only-of-type {\n",
       "        vertical-align: middle;\n",
       "    }\n",
       "\n",
       "    .dataframe tbody tr th {\n",
       "        vertical-align: top;\n",
       "    }\n",
       "\n",
       "    .dataframe thead th {\n",
       "        text-align: right;\n",
       "    }\n",
       "</style>\n",
       "<table border=\"1\" class=\"dataframe\">\n",
       "  <thead>\n",
       "    <tr style=\"text-align: right;\">\n",
       "      <th></th>\n",
       "      <th>children</th>\n",
       "      <th>days_employed</th>\n",
       "      <th>dob_years</th>\n",
       "      <th>education</th>\n",
       "      <th>education_id</th>\n",
       "      <th>family_status</th>\n",
       "      <th>family_status_id</th>\n",
       "      <th>gender</th>\n",
       "      <th>income_type</th>\n",
       "      <th>debt</th>\n",
       "      <th>total_income</th>\n",
       "      <th>purpose</th>\n",
       "    </tr>\n",
       "  </thead>\n",
       "  <tbody>\n",
       "    <tr>\n",
       "      <th>0</th>\n",
       "      <td>1</td>\n",
       "      <td>-8437.673028</td>\n",
       "      <td>42</td>\n",
       "      <td>высшее</td>\n",
       "      <td>0</td>\n",
       "      <td>женат / замужем</td>\n",
       "      <td>0</td>\n",
       "      <td>F</td>\n",
       "      <td>сотрудник</td>\n",
       "      <td>0</td>\n",
       "      <td>253875.639453</td>\n",
       "      <td>покупка жилья</td>\n",
       "    </tr>\n",
       "    <tr>\n",
       "      <th>1</th>\n",
       "      <td>1</td>\n",
       "      <td>-4024.803754</td>\n",
       "      <td>36</td>\n",
       "      <td>среднее</td>\n",
       "      <td>1</td>\n",
       "      <td>женат / замужем</td>\n",
       "      <td>0</td>\n",
       "      <td>F</td>\n",
       "      <td>сотрудник</td>\n",
       "      <td>0</td>\n",
       "      <td>112080.014102</td>\n",
       "      <td>приобретение автомобиля</td>\n",
       "    </tr>\n",
       "    <tr>\n",
       "      <th>2</th>\n",
       "      <td>0</td>\n",
       "      <td>-5623.422610</td>\n",
       "      <td>33</td>\n",
       "      <td>Среднее</td>\n",
       "      <td>1</td>\n",
       "      <td>женат / замужем</td>\n",
       "      <td>0</td>\n",
       "      <td>M</td>\n",
       "      <td>сотрудник</td>\n",
       "      <td>0</td>\n",
       "      <td>145885.952297</td>\n",
       "      <td>покупка жилья</td>\n",
       "    </tr>\n",
       "    <tr>\n",
       "      <th>3</th>\n",
       "      <td>3</td>\n",
       "      <td>-4124.747207</td>\n",
       "      <td>32</td>\n",
       "      <td>среднее</td>\n",
       "      <td>1</td>\n",
       "      <td>женат / замужем</td>\n",
       "      <td>0</td>\n",
       "      <td>M</td>\n",
       "      <td>сотрудник</td>\n",
       "      <td>0</td>\n",
       "      <td>267628.550329</td>\n",
       "      <td>дополнительное образование</td>\n",
       "    </tr>\n",
       "    <tr>\n",
       "      <th>4</th>\n",
       "      <td>0</td>\n",
       "      <td>340266.072047</td>\n",
       "      <td>53</td>\n",
       "      <td>среднее</td>\n",
       "      <td>1</td>\n",
       "      <td>гражданский брак</td>\n",
       "      <td>1</td>\n",
       "      <td>F</td>\n",
       "      <td>пенсионер</td>\n",
       "      <td>0</td>\n",
       "      <td>158616.077870</td>\n",
       "      <td>сыграть свадьбу</td>\n",
       "    </tr>\n",
       "    <tr>\n",
       "      <th>5</th>\n",
       "      <td>0</td>\n",
       "      <td>-926.185831</td>\n",
       "      <td>27</td>\n",
       "      <td>высшее</td>\n",
       "      <td>0</td>\n",
       "      <td>гражданский брак</td>\n",
       "      <td>1</td>\n",
       "      <td>M</td>\n",
       "      <td>компаньон</td>\n",
       "      <td>0</td>\n",
       "      <td>255763.565419</td>\n",
       "      <td>покупка жилья</td>\n",
       "    </tr>\n",
       "    <tr>\n",
       "      <th>6</th>\n",
       "      <td>0</td>\n",
       "      <td>-2879.202052</td>\n",
       "      <td>43</td>\n",
       "      <td>высшее</td>\n",
       "      <td>0</td>\n",
       "      <td>женат / замужем</td>\n",
       "      <td>0</td>\n",
       "      <td>F</td>\n",
       "      <td>компаньон</td>\n",
       "      <td>0</td>\n",
       "      <td>240525.971920</td>\n",
       "      <td>операции с жильем</td>\n",
       "    </tr>\n",
       "    <tr>\n",
       "      <th>7</th>\n",
       "      <td>0</td>\n",
       "      <td>-152.779569</td>\n",
       "      <td>50</td>\n",
       "      <td>СРЕДНЕЕ</td>\n",
       "      <td>1</td>\n",
       "      <td>женат / замужем</td>\n",
       "      <td>0</td>\n",
       "      <td>M</td>\n",
       "      <td>сотрудник</td>\n",
       "      <td>0</td>\n",
       "      <td>135823.934197</td>\n",
       "      <td>образование</td>\n",
       "    </tr>\n",
       "    <tr>\n",
       "      <th>8</th>\n",
       "      <td>2</td>\n",
       "      <td>-6929.865299</td>\n",
       "      <td>35</td>\n",
       "      <td>ВЫСШЕЕ</td>\n",
       "      <td>0</td>\n",
       "      <td>гражданский брак</td>\n",
       "      <td>1</td>\n",
       "      <td>F</td>\n",
       "      <td>сотрудник</td>\n",
       "      <td>0</td>\n",
       "      <td>95856.832424</td>\n",
       "      <td>на проведение свадьбы</td>\n",
       "    </tr>\n",
       "    <tr>\n",
       "      <th>9</th>\n",
       "      <td>0</td>\n",
       "      <td>-2188.756445</td>\n",
       "      <td>41</td>\n",
       "      <td>среднее</td>\n",
       "      <td>1</td>\n",
       "      <td>женат / замужем</td>\n",
       "      <td>0</td>\n",
       "      <td>M</td>\n",
       "      <td>сотрудник</td>\n",
       "      <td>0</td>\n",
       "      <td>144425.938277</td>\n",
       "      <td>покупка жилья для семьи</td>\n",
       "    </tr>\n",
       "  </tbody>\n",
       "</table>\n",
       "</div>"
      ],
      "text/plain": [
       "   children  days_employed  dob_years education  education_id  \\\n",
       "0         1   -8437.673028         42    высшее             0   \n",
       "1         1   -4024.803754         36   среднее             1   \n",
       "2         0   -5623.422610         33   Среднее             1   \n",
       "3         3   -4124.747207         32   среднее             1   \n",
       "4         0  340266.072047         53   среднее             1   \n",
       "5         0    -926.185831         27    высшее             0   \n",
       "6         0   -2879.202052         43    высшее             0   \n",
       "7         0    -152.779569         50   СРЕДНЕЕ             1   \n",
       "8         2   -6929.865299         35    ВЫСШЕЕ             0   \n",
       "9         0   -2188.756445         41   среднее             1   \n",
       "\n",
       "      family_status  family_status_id gender income_type  debt   total_income  \\\n",
       "0   женат / замужем                 0      F   сотрудник     0  253875.639453   \n",
       "1   женат / замужем                 0      F   сотрудник     0  112080.014102   \n",
       "2   женат / замужем                 0      M   сотрудник     0  145885.952297   \n",
       "3   женат / замужем                 0      M   сотрудник     0  267628.550329   \n",
       "4  гражданский брак                 1      F   пенсионер     0  158616.077870   \n",
       "5  гражданский брак                 1      M   компаньон     0  255763.565419   \n",
       "6   женат / замужем                 0      F   компаньон     0  240525.971920   \n",
       "7   женат / замужем                 0      M   сотрудник     0  135823.934197   \n",
       "8  гражданский брак                 1      F   сотрудник     0   95856.832424   \n",
       "9   женат / замужем                 0      M   сотрудник     0  144425.938277   \n",
       "\n",
       "                      purpose  \n",
       "0               покупка жилья  \n",
       "1     приобретение автомобиля  \n",
       "2               покупка жилья  \n",
       "3  дополнительное образование  \n",
       "4             сыграть свадьбу  \n",
       "5               покупка жилья  \n",
       "6           операции с жильем  \n",
       "7                 образование  \n",
       "8       на проведение свадьбы  \n",
       "9     покупка жилья для семьи  "
      ]
     },
     "metadata": {},
     "output_type": "display_data"
    }
   ],
   "source": [
    "import pandas as pd\n",
    "data = pd.read_csv('/datasets/data.csv')\n",
    "display(data.head(10))"
   ]
  },
  {
   "cell_type": "markdown",
   "id": "ca2d154d",
   "metadata": {},
   "source": [
    "Описание данных\n",
    "\n",
    "children — количество детей в семье\n",
    "\n",
    "days_employed — общий трудовой стаж в днях\n",
    "\n",
    "dob_years — возраст клиента в годах\n",
    "\n",
    "education — уровень образования клиента\n",
    "\n",
    "education_id — идентификатор уровня образования\n",
    "\n",
    "family_status — семейное положение\n",
    "\n",
    "family_status_id — идентификатор семейного положения\n",
    "\n",
    "gender — пол клиента\n",
    "\n",
    "income_type — тип занятости\n",
    "\n",
    "debt — имел ли задолженность по возврату кредитов\n",
    "\n",
    "total_income — ежемесячный доход\n",
    "\n",
    "purpose — цель получения кредита\n"
   ]
  },
  {
   "cell_type": "code",
   "execution_count": 29,
   "id": "632d4338",
   "metadata": {},
   "outputs": [
    {
     "name": "stdout",
     "output_type": "stream",
     "text": [
      "<class 'pandas.core.frame.DataFrame'>\n",
      "RangeIndex: 21525 entries, 0 to 21524\n",
      "Data columns (total 12 columns):\n",
      " #   Column            Non-Null Count  Dtype  \n",
      "---  ------            --------------  -----  \n",
      " 0   children          21525 non-null  int64  \n",
      " 1   days_employed     19351 non-null  float64\n",
      " 2   dob_years         21525 non-null  int64  \n",
      " 3   education         21525 non-null  object \n",
      " 4   education_id      21525 non-null  int64  \n",
      " 5   family_status     21525 non-null  object \n",
      " 6   family_status_id  21525 non-null  int64  \n",
      " 7   gender            21525 non-null  object \n",
      " 8   income_type       21525 non-null  object \n",
      " 9   debt              21525 non-null  int64  \n",
      " 10  total_income      19351 non-null  float64\n",
      " 11  purpose           21525 non-null  object \n",
      "dtypes: float64(2), int64(5), object(5)\n",
      "memory usage: 2.0+ MB\n"
     ]
    }
   ],
   "source": [
    "data.info()"
   ]
  },
  {
   "cell_type": "markdown",
   "id": "6a91366d",
   "metadata": {},
   "source": [
    "### Шаг 2.1 Изучение пропусков"
   ]
  },
  {
   "cell_type": "code",
   "execution_count": 30,
   "id": "7ba9b19d",
   "metadata": {},
   "outputs": [
    {
     "data": {
      "text/plain": [
       "children               0\n",
       "days_employed       2174\n",
       "dob_years              0\n",
       "education              0\n",
       "education_id           0\n",
       "family_status          0\n",
       "family_status_id       0\n",
       "gender                 0\n",
       "income_type            0\n",
       "debt                   0\n",
       "total_income        2174\n",
       "purpose                0\n",
       "dtype: int64"
      ]
     },
     "metadata": {},
     "output_type": "display_data"
    },
    {
     "name": "stdout",
     "output_type": "stream",
     "text": [
      "Доля пропущенных значений в столбце days_employed: 11%\n",
      "Доля пропущенных значений в столбце total_income: 11%\n"
     ]
    }
   ],
   "source": [
    "display(data.isna().sum())\n",
    "print('Доля пропущенных значений в столбце days_employed: {:.0%}'.format(data['days_employed'].isna().sum()/data['days_employed'].count()))\n",
    "print('Доля пропущенных значений в столбце total_income: {:.0%}'.format(data['total_income'].isna().sum()/data['total_income'].count()))"
   ]
  },
  {
   "cell_type": "markdown",
   "id": "e884dcd7",
   "metadata": {},
   "source": [
    "В столбцах days_employed и total_income пропушены 2174 значения. Пропущенные значения являются колличественными, так как принимают любое числовое значение в диапазоне. Доля пропущенных значений от общего кол-ва значений столбцов составляет 11% в двух случаях. \n",
    "\n",
    "Причины появления пропусков могут быть технологические (из-за копирования, считывания или переформатирования) или из-за человеского фактора.\n",
    "\n",
    "Лучше использовать медиану, чтобы в случае присутствия выдающихся значений, среднее значение данных не искажалось."
   ]
  },
  {
   "cell_type": "code",
   "execution_count": 31,
   "id": "943b84cb",
   "metadata": {},
   "outputs": [
    {
     "name": "stdout",
     "output_type": "stream",
     "text": [
      "-1203.369528770489\n",
      "145017.93753253992\n"
     ]
    }
   ],
   "source": [
    "days_employed_avg = data['days_employed'].median()\n",
    "total_income_avg = data['total_income'].median()\n",
    "print(days_employed_avg)\n",
    "print(total_income_avg)"
   ]
  },
  {
   "cell_type": "markdown",
   "id": "0b4d3fb6",
   "metadata": {},
   "source": [
    "Явная ошибка в значение days_employed_avg, средний стаж работы больше средних лет жизни человека. Где-то скорее всего есть аномальные значения, которые влияют на среднее значение.\n",
    "Ошибка в отрицательном значении среднего дохода total_income_avg.\n"
   ]
  },
  {
   "cell_type": "code",
   "execution_count": 32,
   "id": "27a37179",
   "metadata": {},
   "outputs": [
    {
     "data": {
      "text/html": [
       "<div>\n",
       "<style scoped>\n",
       "    .dataframe tbody tr th:only-of-type {\n",
       "        vertical-align: middle;\n",
       "    }\n",
       "\n",
       "    .dataframe tbody tr th {\n",
       "        vertical-align: top;\n",
       "    }\n",
       "\n",
       "    .dataframe thead th {\n",
       "        text-align: right;\n",
       "    }\n",
       "</style>\n",
       "<table border=\"1\" class=\"dataframe\">\n",
       "  <thead>\n",
       "    <tr style=\"text-align: right;\">\n",
       "      <th></th>\n",
       "      <th>children</th>\n",
       "      <th>days_employed</th>\n",
       "      <th>dob_years</th>\n",
       "      <th>education</th>\n",
       "      <th>education_id</th>\n",
       "      <th>family_status</th>\n",
       "      <th>family_status_id</th>\n",
       "      <th>gender</th>\n",
       "      <th>income_type</th>\n",
       "      <th>debt</th>\n",
       "      <th>total_income</th>\n",
       "      <th>purpose</th>\n",
       "    </tr>\n",
       "  </thead>\n",
       "  <tbody>\n",
       "    <tr>\n",
       "      <th>0</th>\n",
       "      <td>1</td>\n",
       "      <td>-8437.673028</td>\n",
       "      <td>42</td>\n",
       "      <td>высшее</td>\n",
       "      <td>0</td>\n",
       "      <td>женат / замужем</td>\n",
       "      <td>0</td>\n",
       "      <td>F</td>\n",
       "      <td>сотрудник</td>\n",
       "      <td>0</td>\n",
       "      <td>253875.639453</td>\n",
       "      <td>покупка жилья</td>\n",
       "    </tr>\n",
       "    <tr>\n",
       "      <th>1</th>\n",
       "      <td>1</td>\n",
       "      <td>-4024.803754</td>\n",
       "      <td>36</td>\n",
       "      <td>среднее</td>\n",
       "      <td>1</td>\n",
       "      <td>женат / замужем</td>\n",
       "      <td>0</td>\n",
       "      <td>F</td>\n",
       "      <td>сотрудник</td>\n",
       "      <td>0</td>\n",
       "      <td>112080.014102</td>\n",
       "      <td>приобретение автомобиля</td>\n",
       "    </tr>\n",
       "    <tr>\n",
       "      <th>2</th>\n",
       "      <td>0</td>\n",
       "      <td>-5623.422610</td>\n",
       "      <td>33</td>\n",
       "      <td>Среднее</td>\n",
       "      <td>1</td>\n",
       "      <td>женат / замужем</td>\n",
       "      <td>0</td>\n",
       "      <td>M</td>\n",
       "      <td>сотрудник</td>\n",
       "      <td>0</td>\n",
       "      <td>145885.952297</td>\n",
       "      <td>покупка жилья</td>\n",
       "    </tr>\n",
       "    <tr>\n",
       "      <th>3</th>\n",
       "      <td>3</td>\n",
       "      <td>-4124.747207</td>\n",
       "      <td>32</td>\n",
       "      <td>среднее</td>\n",
       "      <td>1</td>\n",
       "      <td>женат / замужем</td>\n",
       "      <td>0</td>\n",
       "      <td>M</td>\n",
       "      <td>сотрудник</td>\n",
       "      <td>0</td>\n",
       "      <td>267628.550329</td>\n",
       "      <td>дополнительное образование</td>\n",
       "    </tr>\n",
       "    <tr>\n",
       "      <th>4</th>\n",
       "      <td>0</td>\n",
       "      <td>340266.072047</td>\n",
       "      <td>53</td>\n",
       "      <td>среднее</td>\n",
       "      <td>1</td>\n",
       "      <td>гражданский брак</td>\n",
       "      <td>1</td>\n",
       "      <td>F</td>\n",
       "      <td>пенсионер</td>\n",
       "      <td>0</td>\n",
       "      <td>158616.077870</td>\n",
       "      <td>сыграть свадьбу</td>\n",
       "    </tr>\n",
       "    <tr>\n",
       "      <th>5</th>\n",
       "      <td>0</td>\n",
       "      <td>-926.185831</td>\n",
       "      <td>27</td>\n",
       "      <td>высшее</td>\n",
       "      <td>0</td>\n",
       "      <td>гражданский брак</td>\n",
       "      <td>1</td>\n",
       "      <td>M</td>\n",
       "      <td>компаньон</td>\n",
       "      <td>0</td>\n",
       "      <td>255763.565419</td>\n",
       "      <td>покупка жилья</td>\n",
       "    </tr>\n",
       "    <tr>\n",
       "      <th>6</th>\n",
       "      <td>0</td>\n",
       "      <td>-2879.202052</td>\n",
       "      <td>43</td>\n",
       "      <td>высшее</td>\n",
       "      <td>0</td>\n",
       "      <td>женат / замужем</td>\n",
       "      <td>0</td>\n",
       "      <td>F</td>\n",
       "      <td>компаньон</td>\n",
       "      <td>0</td>\n",
       "      <td>240525.971920</td>\n",
       "      <td>операции с жильем</td>\n",
       "    </tr>\n",
       "    <tr>\n",
       "      <th>7</th>\n",
       "      <td>0</td>\n",
       "      <td>-152.779569</td>\n",
       "      <td>50</td>\n",
       "      <td>СРЕДНЕЕ</td>\n",
       "      <td>1</td>\n",
       "      <td>женат / замужем</td>\n",
       "      <td>0</td>\n",
       "      <td>M</td>\n",
       "      <td>сотрудник</td>\n",
       "      <td>0</td>\n",
       "      <td>135823.934197</td>\n",
       "      <td>образование</td>\n",
       "    </tr>\n",
       "    <tr>\n",
       "      <th>8</th>\n",
       "      <td>2</td>\n",
       "      <td>-6929.865299</td>\n",
       "      <td>35</td>\n",
       "      <td>ВЫСШЕЕ</td>\n",
       "      <td>0</td>\n",
       "      <td>гражданский брак</td>\n",
       "      <td>1</td>\n",
       "      <td>F</td>\n",
       "      <td>сотрудник</td>\n",
       "      <td>0</td>\n",
       "      <td>95856.832424</td>\n",
       "      <td>на проведение свадьбы</td>\n",
       "    </tr>\n",
       "    <tr>\n",
       "      <th>9</th>\n",
       "      <td>0</td>\n",
       "      <td>-2188.756445</td>\n",
       "      <td>41</td>\n",
       "      <td>среднее</td>\n",
       "      <td>1</td>\n",
       "      <td>женат / замужем</td>\n",
       "      <td>0</td>\n",
       "      <td>M</td>\n",
       "      <td>сотрудник</td>\n",
       "      <td>0</td>\n",
       "      <td>144425.938277</td>\n",
       "      <td>покупка жилья для семьи</td>\n",
       "    </tr>\n",
       "  </tbody>\n",
       "</table>\n",
       "</div>"
      ],
      "text/plain": [
       "   children  days_employed  dob_years education  education_id  \\\n",
       "0         1   -8437.673028         42    высшее             0   \n",
       "1         1   -4024.803754         36   среднее             1   \n",
       "2         0   -5623.422610         33   Среднее             1   \n",
       "3         3   -4124.747207         32   среднее             1   \n",
       "4         0  340266.072047         53   среднее             1   \n",
       "5         0    -926.185831         27    высшее             0   \n",
       "6         0   -2879.202052         43    высшее             0   \n",
       "7         0    -152.779569         50   СРЕДНЕЕ             1   \n",
       "8         2   -6929.865299         35    ВЫСШЕЕ             0   \n",
       "9         0   -2188.756445         41   среднее             1   \n",
       "\n",
       "      family_status  family_status_id gender income_type  debt   total_income  \\\n",
       "0   женат / замужем                 0      F   сотрудник     0  253875.639453   \n",
       "1   женат / замужем                 0      F   сотрудник     0  112080.014102   \n",
       "2   женат / замужем                 0      M   сотрудник     0  145885.952297   \n",
       "3   женат / замужем                 0      M   сотрудник     0  267628.550329   \n",
       "4  гражданский брак                 1      F   пенсионер     0  158616.077870   \n",
       "5  гражданский брак                 1      M   компаньон     0  255763.565419   \n",
       "6   женат / замужем                 0      F   компаньон     0  240525.971920   \n",
       "7   женат / замужем                 0      M   сотрудник     0  135823.934197   \n",
       "8  гражданский брак                 1      F   сотрудник     0   95856.832424   \n",
       "9   женат / замужем                 0      M   сотрудник     0  144425.938277   \n",
       "\n",
       "                      purpose  \n",
       "0               покупка жилья  \n",
       "1     приобретение автомобиля  \n",
       "2               покупка жилья  \n",
       "3  дополнительное образование  \n",
       "4             сыграть свадьбу  \n",
       "5               покупка жилья  \n",
       "6           операции с жильем  \n",
       "7                 образование  \n",
       "8       на проведение свадьбы  \n",
       "9     покупка жилья для семьи  "
      ]
     },
     "metadata": {},
     "output_type": "display_data"
    }
   ],
   "source": [
    "data['days_employed'] = data['days_employed'].fillna(days_employed_avg)\n",
    "data['total_income'] = data['total_income'].fillna(total_income_avg)\n",
    "display(data.head(10))"
   ]
  },
  {
   "cell_type": "code",
   "execution_count": 33,
   "id": "ec6feaf0",
   "metadata": {},
   "outputs": [
    {
     "data": {
      "text/plain": [
       "children            0\n",
       "days_employed       0\n",
       "dob_years           0\n",
       "education           0\n",
       "education_id        0\n",
       "family_status       0\n",
       "family_status_id    0\n",
       "gender              0\n",
       "income_type         0\n",
       "debt                0\n",
       "total_income        0\n",
       "purpose             0\n",
       "dtype: int64"
      ]
     },
     "metadata": {},
     "output_type": "display_data"
    }
   ],
   "source": [
    "display(data.isna().sum())"
   ]
  },
  {
   "cell_type": "markdown",
   "id": "70c2d0fa",
   "metadata": {},
   "source": [
    "Пропущенных значений нет."
   ]
  },
  {
   "cell_type": "markdown",
   "id": "b01a8b3a",
   "metadata": {},
   "source": [
    "### Шаг 2.2 Проверка данных на аномалии и исправления."
   ]
  },
  {
   "cell_type": "markdown",
   "id": "16b6832c",
   "metadata": {},
   "source": [
    "В первую очередь приведем значения к положительным, чтобы далее было удобно работать с данными.\n",
    "Аномалии могут возникнуть из-за ошибки в форматировании, при скачивании файла или из-за человеского фактора.\n"
   ]
  },
  {
   "cell_type": "code",
   "execution_count": 34,
   "id": "b22e8ca2",
   "metadata": {},
   "outputs": [
    {
     "data": {
      "text/html": [
       "<div>\n",
       "<style scoped>\n",
       "    .dataframe tbody tr th:only-of-type {\n",
       "        vertical-align: middle;\n",
       "    }\n",
       "\n",
       "    .dataframe tbody tr th {\n",
       "        vertical-align: top;\n",
       "    }\n",
       "\n",
       "    .dataframe thead th {\n",
       "        text-align: right;\n",
       "    }\n",
       "</style>\n",
       "<table border=\"1\" class=\"dataframe\">\n",
       "  <thead>\n",
       "    <tr style=\"text-align: right;\">\n",
       "      <th></th>\n",
       "      <th>children</th>\n",
       "      <th>days_employed</th>\n",
       "      <th>dob_years</th>\n",
       "      <th>education</th>\n",
       "      <th>education_id</th>\n",
       "      <th>family_status</th>\n",
       "      <th>family_status_id</th>\n",
       "      <th>gender</th>\n",
       "      <th>income_type</th>\n",
       "      <th>debt</th>\n",
       "      <th>total_income</th>\n",
       "      <th>purpose</th>\n",
       "    </tr>\n",
       "  </thead>\n",
       "  <tbody>\n",
       "    <tr>\n",
       "      <th>0</th>\n",
       "      <td>1</td>\n",
       "      <td>8437.673028</td>\n",
       "      <td>42</td>\n",
       "      <td>высшее</td>\n",
       "      <td>0</td>\n",
       "      <td>женат / замужем</td>\n",
       "      <td>0</td>\n",
       "      <td>F</td>\n",
       "      <td>сотрудник</td>\n",
       "      <td>0</td>\n",
       "      <td>253875.639453</td>\n",
       "      <td>покупка жилья</td>\n",
       "    </tr>\n",
       "    <tr>\n",
       "      <th>1</th>\n",
       "      <td>1</td>\n",
       "      <td>4024.803754</td>\n",
       "      <td>36</td>\n",
       "      <td>среднее</td>\n",
       "      <td>1</td>\n",
       "      <td>женат / замужем</td>\n",
       "      <td>0</td>\n",
       "      <td>F</td>\n",
       "      <td>сотрудник</td>\n",
       "      <td>0</td>\n",
       "      <td>112080.014102</td>\n",
       "      <td>приобретение автомобиля</td>\n",
       "    </tr>\n",
       "    <tr>\n",
       "      <th>2</th>\n",
       "      <td>0</td>\n",
       "      <td>5623.422610</td>\n",
       "      <td>33</td>\n",
       "      <td>Среднее</td>\n",
       "      <td>1</td>\n",
       "      <td>женат / замужем</td>\n",
       "      <td>0</td>\n",
       "      <td>M</td>\n",
       "      <td>сотрудник</td>\n",
       "      <td>0</td>\n",
       "      <td>145885.952297</td>\n",
       "      <td>покупка жилья</td>\n",
       "    </tr>\n",
       "    <tr>\n",
       "      <th>3</th>\n",
       "      <td>3</td>\n",
       "      <td>4124.747207</td>\n",
       "      <td>32</td>\n",
       "      <td>среднее</td>\n",
       "      <td>1</td>\n",
       "      <td>женат / замужем</td>\n",
       "      <td>0</td>\n",
       "      <td>M</td>\n",
       "      <td>сотрудник</td>\n",
       "      <td>0</td>\n",
       "      <td>267628.550329</td>\n",
       "      <td>дополнительное образование</td>\n",
       "    </tr>\n",
       "    <tr>\n",
       "      <th>4</th>\n",
       "      <td>0</td>\n",
       "      <td>340266.072047</td>\n",
       "      <td>53</td>\n",
       "      <td>среднее</td>\n",
       "      <td>1</td>\n",
       "      <td>гражданский брак</td>\n",
       "      <td>1</td>\n",
       "      <td>F</td>\n",
       "      <td>пенсионер</td>\n",
       "      <td>0</td>\n",
       "      <td>158616.077870</td>\n",
       "      <td>сыграть свадьбу</td>\n",
       "    </tr>\n",
       "    <tr>\n",
       "      <th>5</th>\n",
       "      <td>0</td>\n",
       "      <td>926.185831</td>\n",
       "      <td>27</td>\n",
       "      <td>высшее</td>\n",
       "      <td>0</td>\n",
       "      <td>гражданский брак</td>\n",
       "      <td>1</td>\n",
       "      <td>M</td>\n",
       "      <td>компаньон</td>\n",
       "      <td>0</td>\n",
       "      <td>255763.565419</td>\n",
       "      <td>покупка жилья</td>\n",
       "    </tr>\n",
       "    <tr>\n",
       "      <th>6</th>\n",
       "      <td>0</td>\n",
       "      <td>2879.202052</td>\n",
       "      <td>43</td>\n",
       "      <td>высшее</td>\n",
       "      <td>0</td>\n",
       "      <td>женат / замужем</td>\n",
       "      <td>0</td>\n",
       "      <td>F</td>\n",
       "      <td>компаньон</td>\n",
       "      <td>0</td>\n",
       "      <td>240525.971920</td>\n",
       "      <td>операции с жильем</td>\n",
       "    </tr>\n",
       "    <tr>\n",
       "      <th>7</th>\n",
       "      <td>0</td>\n",
       "      <td>152.779569</td>\n",
       "      <td>50</td>\n",
       "      <td>СРЕДНЕЕ</td>\n",
       "      <td>1</td>\n",
       "      <td>женат / замужем</td>\n",
       "      <td>0</td>\n",
       "      <td>M</td>\n",
       "      <td>сотрудник</td>\n",
       "      <td>0</td>\n",
       "      <td>135823.934197</td>\n",
       "      <td>образование</td>\n",
       "    </tr>\n",
       "    <tr>\n",
       "      <th>8</th>\n",
       "      <td>2</td>\n",
       "      <td>6929.865299</td>\n",
       "      <td>35</td>\n",
       "      <td>ВЫСШЕЕ</td>\n",
       "      <td>0</td>\n",
       "      <td>гражданский брак</td>\n",
       "      <td>1</td>\n",
       "      <td>F</td>\n",
       "      <td>сотрудник</td>\n",
       "      <td>0</td>\n",
       "      <td>95856.832424</td>\n",
       "      <td>на проведение свадьбы</td>\n",
       "    </tr>\n",
       "    <tr>\n",
       "      <th>9</th>\n",
       "      <td>0</td>\n",
       "      <td>2188.756445</td>\n",
       "      <td>41</td>\n",
       "      <td>среднее</td>\n",
       "      <td>1</td>\n",
       "      <td>женат / замужем</td>\n",
       "      <td>0</td>\n",
       "      <td>M</td>\n",
       "      <td>сотрудник</td>\n",
       "      <td>0</td>\n",
       "      <td>144425.938277</td>\n",
       "      <td>покупка жилья для семьи</td>\n",
       "    </tr>\n",
       "  </tbody>\n",
       "</table>\n",
       "</div>"
      ],
      "text/plain": [
       "   children  days_employed  dob_years education  education_id  \\\n",
       "0         1    8437.673028         42    высшее             0   \n",
       "1         1    4024.803754         36   среднее             1   \n",
       "2         0    5623.422610         33   Среднее             1   \n",
       "3         3    4124.747207         32   среднее             1   \n",
       "4         0  340266.072047         53   среднее             1   \n",
       "5         0     926.185831         27    высшее             0   \n",
       "6         0    2879.202052         43    высшее             0   \n",
       "7         0     152.779569         50   СРЕДНЕЕ             1   \n",
       "8         2    6929.865299         35    ВЫСШЕЕ             0   \n",
       "9         0    2188.756445         41   среднее             1   \n",
       "\n",
       "      family_status  family_status_id gender income_type  debt   total_income  \\\n",
       "0   женат / замужем                 0      F   сотрудник     0  253875.639453   \n",
       "1   женат / замужем                 0      F   сотрудник     0  112080.014102   \n",
       "2   женат / замужем                 0      M   сотрудник     0  145885.952297   \n",
       "3   женат / замужем                 0      M   сотрудник     0  267628.550329   \n",
       "4  гражданский брак                 1      F   пенсионер     0  158616.077870   \n",
       "5  гражданский брак                 1      M   компаньон     0  255763.565419   \n",
       "6   женат / замужем                 0      F   компаньон     0  240525.971920   \n",
       "7   женат / замужем                 0      M   сотрудник     0  135823.934197   \n",
       "8  гражданский брак                 1      F   сотрудник     0   95856.832424   \n",
       "9   женат / замужем                 0      M   сотрудник     0  144425.938277   \n",
       "\n",
       "                      purpose  \n",
       "0               покупка жилья  \n",
       "1     приобретение автомобиля  \n",
       "2               покупка жилья  \n",
       "3  дополнительное образование  \n",
       "4             сыграть свадьбу  \n",
       "5               покупка жилья  \n",
       "6           операции с жильем  \n",
       "7                 образование  \n",
       "8       на проведение свадьбы  \n",
       "9     покупка жилья для семьи  "
      ]
     },
     "metadata": {},
     "output_type": "display_data"
    }
   ],
   "source": [
    "data['children'] = abs(data['children'])\n",
    "data['days_employed'] = abs(data['days_employed'])\n",
    "data['dob_years'] = abs(data['dob_years'])\n",
    "data['total_income'] = abs(data['total_income'])\n",
    "display(data.head(10))"
   ]
  },
  {
   "cell_type": "code",
   "execution_count": 35,
   "id": "07d08adb",
   "metadata": {},
   "outputs": [
    {
     "data": {
      "text/html": [
       "<div>\n",
       "<style scoped>\n",
       "    .dataframe tbody tr th:only-of-type {\n",
       "        vertical-align: middle;\n",
       "    }\n",
       "\n",
       "    .dataframe tbody tr th {\n",
       "        vertical-align: top;\n",
       "    }\n",
       "\n",
       "    .dataframe thead th {\n",
       "        text-align: right;\n",
       "    }\n",
       "</style>\n",
       "<table border=\"1\" class=\"dataframe\">\n",
       "  <thead>\n",
       "    <tr style=\"text-align: right;\">\n",
       "      <th></th>\n",
       "      <th>children</th>\n",
       "      <th>days_employed</th>\n",
       "      <th>dob_years</th>\n",
       "      <th>education</th>\n",
       "      <th>education_id</th>\n",
       "      <th>family_status</th>\n",
       "      <th>family_status_id</th>\n",
       "      <th>gender</th>\n",
       "      <th>income_type</th>\n",
       "      <th>debt</th>\n",
       "      <th>total_income</th>\n",
       "      <th>purpose</th>\n",
       "    </tr>\n",
       "  </thead>\n",
       "  <tbody>\n",
       "    <tr>\n",
       "      <th>0</th>\n",
       "      <td>1</td>\n",
       "      <td>8437.673028</td>\n",
       "      <td>42</td>\n",
       "      <td>высшее</td>\n",
       "      <td>0</td>\n",
       "      <td>женат / замужем</td>\n",
       "      <td>0</td>\n",
       "      <td>F</td>\n",
       "      <td>сотрудник</td>\n",
       "      <td>0</td>\n",
       "      <td>253875.639453</td>\n",
       "      <td>покупка жилья</td>\n",
       "    </tr>\n",
       "    <tr>\n",
       "      <th>1</th>\n",
       "      <td>1</td>\n",
       "      <td>4024.803754</td>\n",
       "      <td>36</td>\n",
       "      <td>среднее</td>\n",
       "      <td>1</td>\n",
       "      <td>женат / замужем</td>\n",
       "      <td>0</td>\n",
       "      <td>F</td>\n",
       "      <td>сотрудник</td>\n",
       "      <td>0</td>\n",
       "      <td>112080.014102</td>\n",
       "      <td>приобретение автомобиля</td>\n",
       "    </tr>\n",
       "    <tr>\n",
       "      <th>2</th>\n",
       "      <td>0</td>\n",
       "      <td>5623.422610</td>\n",
       "      <td>33</td>\n",
       "      <td>Среднее</td>\n",
       "      <td>1</td>\n",
       "      <td>женат / замужем</td>\n",
       "      <td>0</td>\n",
       "      <td>M</td>\n",
       "      <td>сотрудник</td>\n",
       "      <td>0</td>\n",
       "      <td>145885.952297</td>\n",
       "      <td>покупка жилья</td>\n",
       "    </tr>\n",
       "    <tr>\n",
       "      <th>3</th>\n",
       "      <td>3</td>\n",
       "      <td>4124.747207</td>\n",
       "      <td>32</td>\n",
       "      <td>среднее</td>\n",
       "      <td>1</td>\n",
       "      <td>женат / замужем</td>\n",
       "      <td>0</td>\n",
       "      <td>M</td>\n",
       "      <td>сотрудник</td>\n",
       "      <td>0</td>\n",
       "      <td>267628.550329</td>\n",
       "      <td>дополнительное образование</td>\n",
       "    </tr>\n",
       "    <tr>\n",
       "      <th>4</th>\n",
       "      <td>0</td>\n",
       "      <td>12775.000000</td>\n",
       "      <td>53</td>\n",
       "      <td>среднее</td>\n",
       "      <td>1</td>\n",
       "      <td>гражданский брак</td>\n",
       "      <td>1</td>\n",
       "      <td>F</td>\n",
       "      <td>пенсионер</td>\n",
       "      <td>0</td>\n",
       "      <td>158616.077870</td>\n",
       "      <td>сыграть свадьбу</td>\n",
       "    </tr>\n",
       "    <tr>\n",
       "      <th>5</th>\n",
       "      <td>0</td>\n",
       "      <td>926.185831</td>\n",
       "      <td>27</td>\n",
       "      <td>высшее</td>\n",
       "      <td>0</td>\n",
       "      <td>гражданский брак</td>\n",
       "      <td>1</td>\n",
       "      <td>M</td>\n",
       "      <td>компаньон</td>\n",
       "      <td>0</td>\n",
       "      <td>255763.565419</td>\n",
       "      <td>покупка жилья</td>\n",
       "    </tr>\n",
       "    <tr>\n",
       "      <th>6</th>\n",
       "      <td>0</td>\n",
       "      <td>2879.202052</td>\n",
       "      <td>43</td>\n",
       "      <td>высшее</td>\n",
       "      <td>0</td>\n",
       "      <td>женат / замужем</td>\n",
       "      <td>0</td>\n",
       "      <td>F</td>\n",
       "      <td>компаньон</td>\n",
       "      <td>0</td>\n",
       "      <td>240525.971920</td>\n",
       "      <td>операции с жильем</td>\n",
       "    </tr>\n",
       "    <tr>\n",
       "      <th>7</th>\n",
       "      <td>0</td>\n",
       "      <td>152.779569</td>\n",
       "      <td>50</td>\n",
       "      <td>СРЕДНЕЕ</td>\n",
       "      <td>1</td>\n",
       "      <td>женат / замужем</td>\n",
       "      <td>0</td>\n",
       "      <td>M</td>\n",
       "      <td>сотрудник</td>\n",
       "      <td>0</td>\n",
       "      <td>135823.934197</td>\n",
       "      <td>образование</td>\n",
       "    </tr>\n",
       "    <tr>\n",
       "      <th>8</th>\n",
       "      <td>2</td>\n",
       "      <td>6205.000000</td>\n",
       "      <td>35</td>\n",
       "      <td>ВЫСШЕЕ</td>\n",
       "      <td>0</td>\n",
       "      <td>гражданский брак</td>\n",
       "      <td>1</td>\n",
       "      <td>F</td>\n",
       "      <td>сотрудник</td>\n",
       "      <td>0</td>\n",
       "      <td>95856.832424</td>\n",
       "      <td>на проведение свадьбы</td>\n",
       "    </tr>\n",
       "    <tr>\n",
       "      <th>9</th>\n",
       "      <td>0</td>\n",
       "      <td>2188.756445</td>\n",
       "      <td>41</td>\n",
       "      <td>среднее</td>\n",
       "      <td>1</td>\n",
       "      <td>женат / замужем</td>\n",
       "      <td>0</td>\n",
       "      <td>M</td>\n",
       "      <td>сотрудник</td>\n",
       "      <td>0</td>\n",
       "      <td>144425.938277</td>\n",
       "      <td>покупка жилья для семьи</td>\n",
       "    </tr>\n",
       "  </tbody>\n",
       "</table>\n",
       "</div>"
      ],
      "text/plain": [
       "   children  days_employed  dob_years education  education_id  \\\n",
       "0         1    8437.673028         42    высшее             0   \n",
       "1         1    4024.803754         36   среднее             1   \n",
       "2         0    5623.422610         33   Среднее             1   \n",
       "3         3    4124.747207         32   среднее             1   \n",
       "4         0   12775.000000         53   среднее             1   \n",
       "5         0     926.185831         27    высшее             0   \n",
       "6         0    2879.202052         43    высшее             0   \n",
       "7         0     152.779569         50   СРЕДНЕЕ             1   \n",
       "8         2    6205.000000         35    ВЫСШЕЕ             0   \n",
       "9         0    2188.756445         41   среднее             1   \n",
       "\n",
       "      family_status  family_status_id gender income_type  debt   total_income  \\\n",
       "0   женат / замужем                 0      F   сотрудник     0  253875.639453   \n",
       "1   женат / замужем                 0      F   сотрудник     0  112080.014102   \n",
       "2   женат / замужем                 0      M   сотрудник     0  145885.952297   \n",
       "3   женат / замужем                 0      M   сотрудник     0  267628.550329   \n",
       "4  гражданский брак                 1      F   пенсионер     0  158616.077870   \n",
       "5  гражданский брак                 1      M   компаньон     0  255763.565419   \n",
       "6   женат / замужем                 0      F   компаньон     0  240525.971920   \n",
       "7   женат / замужем                 0      M   сотрудник     0  135823.934197   \n",
       "8  гражданский брак                 1      F   сотрудник     0   95856.832424   \n",
       "9   женат / замужем                 0      M   сотрудник     0  144425.938277   \n",
       "\n",
       "                      purpose  \n",
       "0               покупка жилья  \n",
       "1     приобретение автомобиля  \n",
       "2               покупка жилья  \n",
       "3  дополнительное образование  \n",
       "4             сыграть свадьбу  \n",
       "5               покупка жилья  \n",
       "6           операции с жильем  \n",
       "7                 образование  \n",
       "8       на проведение свадьбы  \n",
       "9     покупка жилья для семьи  "
      ]
     },
     "metadata": {},
     "output_type": "display_data"
    }
   ],
   "source": [
    "max_days_employed = data['days_employed'] // 365 > data['dob_years'] - 18\n",
    "data.loc[max_days_employed, 'days_employed'] = (data.loc[max_days_employed,'dob_years']-18)*365\n",
    "display(data.head(10))\n"
   ]
  },
  {
   "cell_type": "markdown",
   "id": "f1956cd1",
   "metadata": {},
   "source": [
    "Для изменения данных по стажу посчитаем возможен ли стаж каждого человека в зависимости от его возраста. Примем за начало работы возраст 18 лет. Используем фильтрацию для замены аномальных значений."
   ]
  },
  {
   "cell_type": "markdown",
   "id": "73c6f905",
   "metadata": {},
   "source": [
    "### Шаг 2.3. Изменение типов данных."
   ]
  },
  {
   "cell_type": "code",
   "execution_count": 36,
   "id": "e69f28fb",
   "metadata": {},
   "outputs": [
    {
     "data": {
      "text/html": [
       "<div>\n",
       "<style scoped>\n",
       "    .dataframe tbody tr th:only-of-type {\n",
       "        vertical-align: middle;\n",
       "    }\n",
       "\n",
       "    .dataframe tbody tr th {\n",
       "        vertical-align: top;\n",
       "    }\n",
       "\n",
       "    .dataframe thead th {\n",
       "        text-align: right;\n",
       "    }\n",
       "</style>\n",
       "<table border=\"1\" class=\"dataframe\">\n",
       "  <thead>\n",
       "    <tr style=\"text-align: right;\">\n",
       "      <th></th>\n",
       "      <th>children</th>\n",
       "      <th>days_employed</th>\n",
       "      <th>dob_years</th>\n",
       "      <th>education</th>\n",
       "      <th>education_id</th>\n",
       "      <th>family_status</th>\n",
       "      <th>family_status_id</th>\n",
       "      <th>gender</th>\n",
       "      <th>income_type</th>\n",
       "      <th>debt</th>\n",
       "      <th>total_income</th>\n",
       "      <th>purpose</th>\n",
       "    </tr>\n",
       "  </thead>\n",
       "  <tbody>\n",
       "    <tr>\n",
       "      <th>0</th>\n",
       "      <td>1</td>\n",
       "      <td>8437</td>\n",
       "      <td>42</td>\n",
       "      <td>высшее</td>\n",
       "      <td>0</td>\n",
       "      <td>женат / замужем</td>\n",
       "      <td>0</td>\n",
       "      <td>F</td>\n",
       "      <td>сотрудник</td>\n",
       "      <td>0</td>\n",
       "      <td>253875</td>\n",
       "      <td>покупка жилья</td>\n",
       "    </tr>\n",
       "    <tr>\n",
       "      <th>1</th>\n",
       "      <td>1</td>\n",
       "      <td>4024</td>\n",
       "      <td>36</td>\n",
       "      <td>среднее</td>\n",
       "      <td>1</td>\n",
       "      <td>женат / замужем</td>\n",
       "      <td>0</td>\n",
       "      <td>F</td>\n",
       "      <td>сотрудник</td>\n",
       "      <td>0</td>\n",
       "      <td>112080</td>\n",
       "      <td>приобретение автомобиля</td>\n",
       "    </tr>\n",
       "    <tr>\n",
       "      <th>2</th>\n",
       "      <td>0</td>\n",
       "      <td>5623</td>\n",
       "      <td>33</td>\n",
       "      <td>Среднее</td>\n",
       "      <td>1</td>\n",
       "      <td>женат / замужем</td>\n",
       "      <td>0</td>\n",
       "      <td>M</td>\n",
       "      <td>сотрудник</td>\n",
       "      <td>0</td>\n",
       "      <td>145885</td>\n",
       "      <td>покупка жилья</td>\n",
       "    </tr>\n",
       "    <tr>\n",
       "      <th>3</th>\n",
       "      <td>3</td>\n",
       "      <td>4124</td>\n",
       "      <td>32</td>\n",
       "      <td>среднее</td>\n",
       "      <td>1</td>\n",
       "      <td>женат / замужем</td>\n",
       "      <td>0</td>\n",
       "      <td>M</td>\n",
       "      <td>сотрудник</td>\n",
       "      <td>0</td>\n",
       "      <td>267628</td>\n",
       "      <td>дополнительное образование</td>\n",
       "    </tr>\n",
       "    <tr>\n",
       "      <th>4</th>\n",
       "      <td>0</td>\n",
       "      <td>12775</td>\n",
       "      <td>53</td>\n",
       "      <td>среднее</td>\n",
       "      <td>1</td>\n",
       "      <td>гражданский брак</td>\n",
       "      <td>1</td>\n",
       "      <td>F</td>\n",
       "      <td>пенсионер</td>\n",
       "      <td>0</td>\n",
       "      <td>158616</td>\n",
       "      <td>сыграть свадьбу</td>\n",
       "    </tr>\n",
       "    <tr>\n",
       "      <th>5</th>\n",
       "      <td>0</td>\n",
       "      <td>926</td>\n",
       "      <td>27</td>\n",
       "      <td>высшее</td>\n",
       "      <td>0</td>\n",
       "      <td>гражданский брак</td>\n",
       "      <td>1</td>\n",
       "      <td>M</td>\n",
       "      <td>компаньон</td>\n",
       "      <td>0</td>\n",
       "      <td>255763</td>\n",
       "      <td>покупка жилья</td>\n",
       "    </tr>\n",
       "    <tr>\n",
       "      <th>6</th>\n",
       "      <td>0</td>\n",
       "      <td>2879</td>\n",
       "      <td>43</td>\n",
       "      <td>высшее</td>\n",
       "      <td>0</td>\n",
       "      <td>женат / замужем</td>\n",
       "      <td>0</td>\n",
       "      <td>F</td>\n",
       "      <td>компаньон</td>\n",
       "      <td>0</td>\n",
       "      <td>240525</td>\n",
       "      <td>операции с жильем</td>\n",
       "    </tr>\n",
       "    <tr>\n",
       "      <th>7</th>\n",
       "      <td>0</td>\n",
       "      <td>152</td>\n",
       "      <td>50</td>\n",
       "      <td>СРЕДНЕЕ</td>\n",
       "      <td>1</td>\n",
       "      <td>женат / замужем</td>\n",
       "      <td>0</td>\n",
       "      <td>M</td>\n",
       "      <td>сотрудник</td>\n",
       "      <td>0</td>\n",
       "      <td>135823</td>\n",
       "      <td>образование</td>\n",
       "    </tr>\n",
       "    <tr>\n",
       "      <th>8</th>\n",
       "      <td>2</td>\n",
       "      <td>6205</td>\n",
       "      <td>35</td>\n",
       "      <td>ВЫСШЕЕ</td>\n",
       "      <td>0</td>\n",
       "      <td>гражданский брак</td>\n",
       "      <td>1</td>\n",
       "      <td>F</td>\n",
       "      <td>сотрудник</td>\n",
       "      <td>0</td>\n",
       "      <td>95856</td>\n",
       "      <td>на проведение свадьбы</td>\n",
       "    </tr>\n",
       "    <tr>\n",
       "      <th>9</th>\n",
       "      <td>0</td>\n",
       "      <td>2188</td>\n",
       "      <td>41</td>\n",
       "      <td>среднее</td>\n",
       "      <td>1</td>\n",
       "      <td>женат / замужем</td>\n",
       "      <td>0</td>\n",
       "      <td>M</td>\n",
       "      <td>сотрудник</td>\n",
       "      <td>0</td>\n",
       "      <td>144425</td>\n",
       "      <td>покупка жилья для семьи</td>\n",
       "    </tr>\n",
       "  </tbody>\n",
       "</table>\n",
       "</div>"
      ],
      "text/plain": [
       "   children  days_employed  dob_years education  education_id  \\\n",
       "0         1           8437         42    высшее             0   \n",
       "1         1           4024         36   среднее             1   \n",
       "2         0           5623         33   Среднее             1   \n",
       "3         3           4124         32   среднее             1   \n",
       "4         0          12775         53   среднее             1   \n",
       "5         0            926         27    высшее             0   \n",
       "6         0           2879         43    высшее             0   \n",
       "7         0            152         50   СРЕДНЕЕ             1   \n",
       "8         2           6205         35    ВЫСШЕЕ             0   \n",
       "9         0           2188         41   среднее             1   \n",
       "\n",
       "      family_status  family_status_id gender income_type  debt  total_income  \\\n",
       "0   женат / замужем                 0      F   сотрудник     0        253875   \n",
       "1   женат / замужем                 0      F   сотрудник     0        112080   \n",
       "2   женат / замужем                 0      M   сотрудник     0        145885   \n",
       "3   женат / замужем                 0      M   сотрудник     0        267628   \n",
       "4  гражданский брак                 1      F   пенсионер     0        158616   \n",
       "5  гражданский брак                 1      M   компаньон     0        255763   \n",
       "6   женат / замужем                 0      F   компаньон     0        240525   \n",
       "7   женат / замужем                 0      M   сотрудник     0        135823   \n",
       "8  гражданский брак                 1      F   сотрудник     0         95856   \n",
       "9   женат / замужем                 0      M   сотрудник     0        144425   \n",
       "\n",
       "                      purpose  \n",
       "0               покупка жилья  \n",
       "1     приобретение автомобиля  \n",
       "2               покупка жилья  \n",
       "3  дополнительное образование  \n",
       "4             сыграть свадьбу  \n",
       "5               покупка жилья  \n",
       "6           операции с жильем  \n",
       "7                 образование  \n",
       "8       на проведение свадьбы  \n",
       "9     покупка жилья для семьи  "
      ]
     },
     "metadata": {},
     "output_type": "display_data"
    }
   ],
   "source": [
    "data['days_employed'] = data['days_employed'].astype('int')\n",
    "data['total_income'] = data['total_income'].astype('int')\n",
    "display(data.head(10))"
   ]
  },
  {
   "cell_type": "markdown",
   "id": "1d98e480",
   "metadata": {},
   "source": [
    "Применяем функцию int() для того, чтобы изменить float на int. "
   ]
  },
  {
   "cell_type": "code",
   "execution_count": 37,
   "id": "782b65e5",
   "metadata": {},
   "outputs": [
    {
     "name": "stdout",
     "output_type": "stream",
     "text": [
      "<class 'pandas.core.frame.DataFrame'>\n",
      "RangeIndex: 21525 entries, 0 to 21524\n",
      "Data columns (total 12 columns):\n",
      " #   Column            Non-Null Count  Dtype \n",
      "---  ------            --------------  ----- \n",
      " 0   children          21525 non-null  int64 \n",
      " 1   days_employed     21525 non-null  int64 \n",
      " 2   dob_years         21525 non-null  int64 \n",
      " 3   education         21525 non-null  object\n",
      " 4   education_id      21525 non-null  int64 \n",
      " 5   family_status     21525 non-null  object\n",
      " 6   family_status_id  21525 non-null  int64 \n",
      " 7   gender            21525 non-null  object\n",
      " 8   income_type       21525 non-null  object\n",
      " 9   debt              21525 non-null  int64 \n",
      " 10  total_income      21525 non-null  int64 \n",
      " 11  purpose           21525 non-null  object\n",
      "dtypes: int64(7), object(5)\n",
      "memory usage: 2.0+ MB\n"
     ]
    }
   ],
   "source": [
    "data.info()"
   ]
  },
  {
   "cell_type": "markdown",
   "id": "62e45f25",
   "metadata": {},
   "source": [
    "Данные float теперь целочисленные."
   ]
  },
  {
   "cell_type": "markdown",
   "id": "8656db77",
   "metadata": {},
   "source": [
    "### Шаг 2.4. Удаление дубликатов."
   ]
  },
  {
   "cell_type": "code",
   "execution_count": 38,
   "id": "865e3b4a",
   "metadata": {},
   "outputs": [
    {
     "name": "stdout",
     "output_type": "stream",
     "text": [
      "['женат / замужем' 'гражданский брак' 'вдовец / вдова' 'в разводе'\n",
      " 'Не женат / не замужем']\n",
      "['высшее' 'среднее' 'Среднее' 'СРЕДНЕЕ' 'ВЫСШЕЕ' 'неоконченное высшее'\n",
      " 'начальное' 'Высшее' 'НЕОКОНЧЕННОЕ ВЫСШЕЕ' 'Неоконченное высшее'\n",
      " 'НАЧАЛЬНОЕ' 'Начальное' 'Ученая степень' 'УЧЕНАЯ СТЕПЕНЬ'\n",
      " 'ученая степень']\n",
      "['сотрудник' 'пенсионер' 'компаньон' 'госслужащий' 'безработный'\n",
      " 'предприниматель' 'студент' 'в декрете']\n",
      "['покупка жилья' 'приобретение автомобиля' 'дополнительное образование'\n",
      " 'сыграть свадьбу' 'операции с жильем' 'образование'\n",
      " 'на проведение свадьбы' 'покупка жилья для семьи' 'покупка недвижимости'\n",
      " 'покупка коммерческой недвижимости' 'покупка жилой недвижимости'\n",
      " 'строительство собственной недвижимости' 'недвижимость'\n",
      " 'строительство недвижимости' 'на покупку подержанного автомобиля'\n",
      " 'на покупку своего автомобиля' 'операции с коммерческой недвижимостью'\n",
      " 'строительство жилой недвижимости' 'жилье'\n",
      " 'операции со своей недвижимостью' 'автомобили' 'заняться образованием'\n",
      " 'сделка с подержанным автомобилем' 'получение образования' 'автомобиль'\n",
      " 'свадьба' 'получение дополнительного образования' 'покупка своего жилья'\n",
      " 'операции с недвижимостью' 'получение высшего образования'\n",
      " 'свой автомобиль' 'сделка с автомобилем' 'профильное образование'\n",
      " 'высшее образование' 'покупка жилья для сдачи' 'на покупку автомобиля'\n",
      " 'ремонт жилью' 'заняться высшим образованием']\n",
      "['F' 'M' 'XNA']\n",
      "[0 1]\n",
      "[ 1  0  3  2  4 20  5]\n"
     ]
    }
   ],
   "source": [
    "print(data['family_status'].unique())\n",
    "print(data['education'].unique())\n",
    "print(data['income_type'].unique())\n",
    "print(data['purpose'].unique())\n",
    "print(data['gender'].unique())\n",
    "print(data['debt'].unique())\n",
    "print(data['children'].unique())"
   ]
  },
  {
   "cell_type": "markdown",
   "id": "f7e9a27f",
   "metadata": {},
   "source": [
    "В education разный регистр букв, что создает неявные дубликаты.\n",
    "Также, заметно, что цели в purpose похожи, но написаны разными словами.\n",
    "Также в столбце gender есть неизвестный пол XNA.\n",
    "В столбце children есть показатель в 20 детей, что странно. Возьмем 20 за 2, так как возможна опечатка."
   ]
  },
  {
   "cell_type": "code",
   "execution_count": 39,
   "id": "4b9f0bb8",
   "metadata": {},
   "outputs": [
    {
     "name": "stdout",
     "output_type": "stream",
     "text": [
      "['высшее' 'среднее' 'неоконченное высшее' 'начальное' 'ученая степень']\n"
     ]
    }
   ],
   "source": [
    "data['education'] = data['education'].str.lower()\n",
    "print(data['education'].unique())"
   ]
  },
  {
   "cell_type": "markdown",
   "id": "0b5a79e5",
   "metadata": {},
   "source": [
    "Устранили неявные дубликаты.\n",
    "Выбран метод unique, чтобы посмотреть уникальные значения столбца и сравнить их."
   ]
  },
  {
   "cell_type": "code",
   "execution_count": 40,
   "id": "300db30d",
   "metadata": {},
   "outputs": [
    {
     "name": "stdout",
     "output_type": "stream",
     "text": [
      "['F' 'M']\n"
     ]
    }
   ],
   "source": [
    "data['gender'] = data['gender'].replace('XNA', 'F')\n",
    "print(data['gender'].unique())"
   ]
  },
  {
   "cell_type": "markdown",
   "id": "ac0379dd",
   "metadata": {},
   "source": [
    "Заменили XNA на женский пол, теперь у нас только женский и мужской пол в столбце."
   ]
  },
  {
   "cell_type": "code",
   "execution_count": 41,
   "id": "67856e1e",
   "metadata": {},
   "outputs": [
    {
     "name": "stdout",
     "output_type": "stream",
     "text": [
      "[1 0 3 2 4 5]\n"
     ]
    }
   ],
   "source": [
    "data['children'] = data['children'].replace(20, 2)\n",
    "print(data['children'].unique())"
   ]
  },
  {
   "cell_type": "markdown",
   "id": "5e568aa3",
   "metadata": {},
   "source": [
    "Заменили аномальное кол-во детей."
   ]
  },
  {
   "cell_type": "code",
   "execution_count": 42,
   "id": "8b5fa3ec",
   "metadata": {},
   "outputs": [
    {
     "name": "stdout",
     "output_type": "stream",
     "text": [
      "0\n"
     ]
    }
   ],
   "source": [
    "data = data.drop_duplicates().reset_index(drop = True)\n",
    "print(data.duplicated().sum())"
   ]
  },
  {
   "cell_type": "markdown",
   "id": "4661cab1",
   "metadata": {},
   "source": [
    "Удалены явные дубликаты, чтобы не было искажения финальных оценок.\n",
    "\n",
    "Похоже, что строки просто задвоились, что привело к дубликатам."
   ]
  },
  {
   "cell_type": "markdown",
   "id": "908e8177",
   "metadata": {},
   "source": [
    "### Шаг 2.5. Формирование дополнительных датафреймов словарей, декомпозиция исходного датафрейма."
   ]
  },
  {
   "cell_type": "code",
   "execution_count": 43,
   "id": "15ffb7a8",
   "metadata": {},
   "outputs": [
    {
     "data": {
      "text/html": [
       "<div>\n",
       "<style scoped>\n",
       "    .dataframe tbody tr th:only-of-type {\n",
       "        vertical-align: middle;\n",
       "    }\n",
       "\n",
       "    .dataframe tbody tr th {\n",
       "        vertical-align: top;\n",
       "    }\n",
       "\n",
       "    .dataframe thead th {\n",
       "        text-align: right;\n",
       "    }\n",
       "</style>\n",
       "<table border=\"1\" class=\"dataframe\">\n",
       "  <thead>\n",
       "    <tr style=\"text-align: right;\">\n",
       "      <th></th>\n",
       "      <th>education</th>\n",
       "    </tr>\n",
       "    <tr>\n",
       "      <th>education_id</th>\n",
       "      <th></th>\n",
       "    </tr>\n",
       "  </thead>\n",
       "  <tbody>\n",
       "    <tr>\n",
       "      <th>0</th>\n",
       "      <td>высшее</td>\n",
       "    </tr>\n",
       "    <tr>\n",
       "      <th>1</th>\n",
       "      <td>среднее</td>\n",
       "    </tr>\n",
       "    <tr>\n",
       "      <th>2</th>\n",
       "      <td>неоконченное высшее</td>\n",
       "    </tr>\n",
       "    <tr>\n",
       "      <th>3</th>\n",
       "      <td>начальное</td>\n",
       "    </tr>\n",
       "    <tr>\n",
       "      <th>4</th>\n",
       "      <td>ученая степень</td>\n",
       "    </tr>\n",
       "  </tbody>\n",
       "</table>\n",
       "</div>"
      ],
      "text/plain": [
       "                        education\n",
       "education_id                     \n",
       "0                          высшее\n",
       "1                         среднее\n",
       "2             неоконченное высшее\n",
       "3                       начальное\n",
       "4                  ученая степень"
      ]
     },
     "metadata": {},
     "output_type": "display_data"
    },
    {
     "data": {
      "text/html": [
       "<div>\n",
       "<style scoped>\n",
       "    .dataframe tbody tr th:only-of-type {\n",
       "        vertical-align: middle;\n",
       "    }\n",
       "\n",
       "    .dataframe tbody tr th {\n",
       "        vertical-align: top;\n",
       "    }\n",
       "\n",
       "    .dataframe thead th {\n",
       "        text-align: right;\n",
       "    }\n",
       "</style>\n",
       "<table border=\"1\" class=\"dataframe\">\n",
       "  <thead>\n",
       "    <tr style=\"text-align: right;\">\n",
       "      <th></th>\n",
       "      <th>family_status</th>\n",
       "    </tr>\n",
       "    <tr>\n",
       "      <th>family_status_id</th>\n",
       "      <th></th>\n",
       "    </tr>\n",
       "  </thead>\n",
       "  <tbody>\n",
       "    <tr>\n",
       "      <th>0</th>\n",
       "      <td>женат / замужем</td>\n",
       "    </tr>\n",
       "    <tr>\n",
       "      <th>1</th>\n",
       "      <td>гражданский брак</td>\n",
       "    </tr>\n",
       "    <tr>\n",
       "      <th>2</th>\n",
       "      <td>вдовец / вдова</td>\n",
       "    </tr>\n",
       "    <tr>\n",
       "      <th>3</th>\n",
       "      <td>в разводе</td>\n",
       "    </tr>\n",
       "    <tr>\n",
       "      <th>4</th>\n",
       "      <td>Не женат / не замужем</td>\n",
       "    </tr>\n",
       "  </tbody>\n",
       "</table>\n",
       "</div>"
      ],
      "text/plain": [
       "                          family_status\n",
       "family_status_id                       \n",
       "0                       женат / замужем\n",
       "1                      гражданский брак\n",
       "2                        вдовец / вдова\n",
       "3                             в разводе\n",
       "4                 Не женат / не замужем"
      ]
     },
     "metadata": {},
     "output_type": "display_data"
    }
   ],
   "source": [
    "data_education = data[['education_id', 'education']].drop_duplicates().set_index('education_id')\n",
    "data_family = data[['family_status_id', 'family_status']].drop_duplicates().set_index('family_status_id')\n",
    "\n",
    "display(data_education)\n",
    "display(data_family)"
   ]
  },
  {
   "cell_type": "markdown",
   "id": "19c0b1bf",
   "metadata": {},
   "source": [
    "Созданы две таблицы, это будут наши словари, к которым можно будет обращаться по  id."
   ]
  },
  {
   "cell_type": "code",
   "execution_count": 44,
   "id": "a1b2b0d6",
   "metadata": {},
   "outputs": [
    {
     "data": {
      "text/html": [
       "<div>\n",
       "<style scoped>\n",
       "    .dataframe tbody tr th:only-of-type {\n",
       "        vertical-align: middle;\n",
       "    }\n",
       "\n",
       "    .dataframe tbody tr th {\n",
       "        vertical-align: top;\n",
       "    }\n",
       "\n",
       "    .dataframe thead th {\n",
       "        text-align: right;\n",
       "    }\n",
       "</style>\n",
       "<table border=\"1\" class=\"dataframe\">\n",
       "  <thead>\n",
       "    <tr style=\"text-align: right;\">\n",
       "      <th></th>\n",
       "      <th>children</th>\n",
       "      <th>days_employed</th>\n",
       "      <th>dob_years</th>\n",
       "      <th>education_id</th>\n",
       "      <th>family_status_id</th>\n",
       "      <th>gender</th>\n",
       "      <th>income_type</th>\n",
       "      <th>debt</th>\n",
       "      <th>total_income</th>\n",
       "      <th>purpose</th>\n",
       "    </tr>\n",
       "  </thead>\n",
       "  <tbody>\n",
       "    <tr>\n",
       "      <th>0</th>\n",
       "      <td>1</td>\n",
       "      <td>8437</td>\n",
       "      <td>42</td>\n",
       "      <td>0</td>\n",
       "      <td>0</td>\n",
       "      <td>F</td>\n",
       "      <td>сотрудник</td>\n",
       "      <td>0</td>\n",
       "      <td>253875</td>\n",
       "      <td>покупка жилья</td>\n",
       "    </tr>\n",
       "    <tr>\n",
       "      <th>1</th>\n",
       "      <td>1</td>\n",
       "      <td>4024</td>\n",
       "      <td>36</td>\n",
       "      <td>1</td>\n",
       "      <td>0</td>\n",
       "      <td>F</td>\n",
       "      <td>сотрудник</td>\n",
       "      <td>0</td>\n",
       "      <td>112080</td>\n",
       "      <td>приобретение автомобиля</td>\n",
       "    </tr>\n",
       "    <tr>\n",
       "      <th>2</th>\n",
       "      <td>0</td>\n",
       "      <td>5623</td>\n",
       "      <td>33</td>\n",
       "      <td>1</td>\n",
       "      <td>0</td>\n",
       "      <td>M</td>\n",
       "      <td>сотрудник</td>\n",
       "      <td>0</td>\n",
       "      <td>145885</td>\n",
       "      <td>покупка жилья</td>\n",
       "    </tr>\n",
       "    <tr>\n",
       "      <th>3</th>\n",
       "      <td>3</td>\n",
       "      <td>4124</td>\n",
       "      <td>32</td>\n",
       "      <td>1</td>\n",
       "      <td>0</td>\n",
       "      <td>M</td>\n",
       "      <td>сотрудник</td>\n",
       "      <td>0</td>\n",
       "      <td>267628</td>\n",
       "      <td>дополнительное образование</td>\n",
       "    </tr>\n",
       "    <tr>\n",
       "      <th>4</th>\n",
       "      <td>0</td>\n",
       "      <td>12775</td>\n",
       "      <td>53</td>\n",
       "      <td>1</td>\n",
       "      <td>1</td>\n",
       "      <td>F</td>\n",
       "      <td>пенсионер</td>\n",
       "      <td>0</td>\n",
       "      <td>158616</td>\n",
       "      <td>сыграть свадьбу</td>\n",
       "    </tr>\n",
       "    <tr>\n",
       "      <th>5</th>\n",
       "      <td>0</td>\n",
       "      <td>926</td>\n",
       "      <td>27</td>\n",
       "      <td>0</td>\n",
       "      <td>1</td>\n",
       "      <td>M</td>\n",
       "      <td>компаньон</td>\n",
       "      <td>0</td>\n",
       "      <td>255763</td>\n",
       "      <td>покупка жилья</td>\n",
       "    </tr>\n",
       "    <tr>\n",
       "      <th>6</th>\n",
       "      <td>0</td>\n",
       "      <td>2879</td>\n",
       "      <td>43</td>\n",
       "      <td>0</td>\n",
       "      <td>0</td>\n",
       "      <td>F</td>\n",
       "      <td>компаньон</td>\n",
       "      <td>0</td>\n",
       "      <td>240525</td>\n",
       "      <td>операции с жильем</td>\n",
       "    </tr>\n",
       "    <tr>\n",
       "      <th>7</th>\n",
       "      <td>0</td>\n",
       "      <td>152</td>\n",
       "      <td>50</td>\n",
       "      <td>1</td>\n",
       "      <td>0</td>\n",
       "      <td>M</td>\n",
       "      <td>сотрудник</td>\n",
       "      <td>0</td>\n",
       "      <td>135823</td>\n",
       "      <td>образование</td>\n",
       "    </tr>\n",
       "    <tr>\n",
       "      <th>8</th>\n",
       "      <td>2</td>\n",
       "      <td>6205</td>\n",
       "      <td>35</td>\n",
       "      <td>0</td>\n",
       "      <td>1</td>\n",
       "      <td>F</td>\n",
       "      <td>сотрудник</td>\n",
       "      <td>0</td>\n",
       "      <td>95856</td>\n",
       "      <td>на проведение свадьбы</td>\n",
       "    </tr>\n",
       "    <tr>\n",
       "      <th>9</th>\n",
       "      <td>0</td>\n",
       "      <td>2188</td>\n",
       "      <td>41</td>\n",
       "      <td>1</td>\n",
       "      <td>0</td>\n",
       "      <td>M</td>\n",
       "      <td>сотрудник</td>\n",
       "      <td>0</td>\n",
       "      <td>144425</td>\n",
       "      <td>покупка жилья для семьи</td>\n",
       "    </tr>\n",
       "  </tbody>\n",
       "</table>\n",
       "</div>"
      ],
      "text/plain": [
       "   children  days_employed  dob_years  education_id  family_status_id gender  \\\n",
       "0         1           8437         42             0                 0      F   \n",
       "1         1           4024         36             1                 0      F   \n",
       "2         0           5623         33             1                 0      M   \n",
       "3         3           4124         32             1                 0      M   \n",
       "4         0          12775         53             1                 1      F   \n",
       "5         0            926         27             0                 1      M   \n",
       "6         0           2879         43             0                 0      F   \n",
       "7         0            152         50             1                 0      M   \n",
       "8         2           6205         35             0                 1      F   \n",
       "9         0           2188         41             1                 0      M   \n",
       "\n",
       "  income_type  debt  total_income                     purpose  \n",
       "0   сотрудник     0        253875               покупка жилья  \n",
       "1   сотрудник     0        112080     приобретение автомобиля  \n",
       "2   сотрудник     0        145885               покупка жилья  \n",
       "3   сотрудник     0        267628  дополнительное образование  \n",
       "4   пенсионер     0        158616             сыграть свадьбу  \n",
       "5   компаньон     0        255763               покупка жилья  \n",
       "6   компаньон     0        240525           операции с жильем  \n",
       "7   сотрудник     0        135823                 образование  \n",
       "8   сотрудник     0         95856       на проведение свадьбы  \n",
       "9   сотрудник     0        144425     покупка жилья для семьи  "
      ]
     },
     "metadata": {},
     "output_type": "display_data"
    }
   ],
   "source": [
    "data.pop('education')\n",
    "data.pop('family_status')\n",
    "display(data.head(10))"
   ]
  },
  {
   "cell_type": "markdown",
   "id": "280b12b5",
   "metadata": {},
   "source": [
    "Удалили два столбца, которые теперь находятся отдельно в словарях. Таблица стала компактней и удобней. "
   ]
  },
  {
   "cell_type": "markdown",
   "id": "d276cc8d",
   "metadata": {},
   "source": [
    "### Шаг 2.6. Категоризация дохода."
   ]
  },
  {
   "cell_type": "code",
   "execution_count": 45,
   "id": "dbade1f2",
   "metadata": {},
   "outputs": [
    {
     "data": {
      "text/html": [
       "<div>\n",
       "<style scoped>\n",
       "    .dataframe tbody tr th:only-of-type {\n",
       "        vertical-align: middle;\n",
       "    }\n",
       "\n",
       "    .dataframe tbody tr th {\n",
       "        vertical-align: top;\n",
       "    }\n",
       "\n",
       "    .dataframe thead th {\n",
       "        text-align: right;\n",
       "    }\n",
       "</style>\n",
       "<table border=\"1\" class=\"dataframe\">\n",
       "  <thead>\n",
       "    <tr style=\"text-align: right;\">\n",
       "      <th></th>\n",
       "      <th>children</th>\n",
       "      <th>days_employed</th>\n",
       "      <th>dob_years</th>\n",
       "      <th>education_id</th>\n",
       "      <th>family_status_id</th>\n",
       "      <th>gender</th>\n",
       "      <th>income_type</th>\n",
       "      <th>debt</th>\n",
       "      <th>total_income</th>\n",
       "      <th>purpose</th>\n",
       "      <th>total_income_category</th>\n",
       "    </tr>\n",
       "  </thead>\n",
       "  <tbody>\n",
       "    <tr>\n",
       "      <th>0</th>\n",
       "      <td>1</td>\n",
       "      <td>8437</td>\n",
       "      <td>42</td>\n",
       "      <td>0</td>\n",
       "      <td>0</td>\n",
       "      <td>F</td>\n",
       "      <td>сотрудник</td>\n",
       "      <td>0</td>\n",
       "      <td>253875</td>\n",
       "      <td>покупка жилья</td>\n",
       "      <td>B</td>\n",
       "    </tr>\n",
       "    <tr>\n",
       "      <th>1</th>\n",
       "      <td>1</td>\n",
       "      <td>4024</td>\n",
       "      <td>36</td>\n",
       "      <td>1</td>\n",
       "      <td>0</td>\n",
       "      <td>F</td>\n",
       "      <td>сотрудник</td>\n",
       "      <td>0</td>\n",
       "      <td>112080</td>\n",
       "      <td>приобретение автомобиля</td>\n",
       "      <td>C</td>\n",
       "    </tr>\n",
       "    <tr>\n",
       "      <th>2</th>\n",
       "      <td>0</td>\n",
       "      <td>5623</td>\n",
       "      <td>33</td>\n",
       "      <td>1</td>\n",
       "      <td>0</td>\n",
       "      <td>M</td>\n",
       "      <td>сотрудник</td>\n",
       "      <td>0</td>\n",
       "      <td>145885</td>\n",
       "      <td>покупка жилья</td>\n",
       "      <td>C</td>\n",
       "    </tr>\n",
       "    <tr>\n",
       "      <th>3</th>\n",
       "      <td>3</td>\n",
       "      <td>4124</td>\n",
       "      <td>32</td>\n",
       "      <td>1</td>\n",
       "      <td>0</td>\n",
       "      <td>M</td>\n",
       "      <td>сотрудник</td>\n",
       "      <td>0</td>\n",
       "      <td>267628</td>\n",
       "      <td>дополнительное образование</td>\n",
       "      <td>B</td>\n",
       "    </tr>\n",
       "    <tr>\n",
       "      <th>4</th>\n",
       "      <td>0</td>\n",
       "      <td>12775</td>\n",
       "      <td>53</td>\n",
       "      <td>1</td>\n",
       "      <td>1</td>\n",
       "      <td>F</td>\n",
       "      <td>пенсионер</td>\n",
       "      <td>0</td>\n",
       "      <td>158616</td>\n",
       "      <td>сыграть свадьбу</td>\n",
       "      <td>C</td>\n",
       "    </tr>\n",
       "    <tr>\n",
       "      <th>5</th>\n",
       "      <td>0</td>\n",
       "      <td>926</td>\n",
       "      <td>27</td>\n",
       "      <td>0</td>\n",
       "      <td>1</td>\n",
       "      <td>M</td>\n",
       "      <td>компаньон</td>\n",
       "      <td>0</td>\n",
       "      <td>255763</td>\n",
       "      <td>покупка жилья</td>\n",
       "      <td>B</td>\n",
       "    </tr>\n",
       "    <tr>\n",
       "      <th>6</th>\n",
       "      <td>0</td>\n",
       "      <td>2879</td>\n",
       "      <td>43</td>\n",
       "      <td>0</td>\n",
       "      <td>0</td>\n",
       "      <td>F</td>\n",
       "      <td>компаньон</td>\n",
       "      <td>0</td>\n",
       "      <td>240525</td>\n",
       "      <td>операции с жильем</td>\n",
       "      <td>B</td>\n",
       "    </tr>\n",
       "    <tr>\n",
       "      <th>7</th>\n",
       "      <td>0</td>\n",
       "      <td>152</td>\n",
       "      <td>50</td>\n",
       "      <td>1</td>\n",
       "      <td>0</td>\n",
       "      <td>M</td>\n",
       "      <td>сотрудник</td>\n",
       "      <td>0</td>\n",
       "      <td>135823</td>\n",
       "      <td>образование</td>\n",
       "      <td>C</td>\n",
       "    </tr>\n",
       "    <tr>\n",
       "      <th>8</th>\n",
       "      <td>2</td>\n",
       "      <td>6205</td>\n",
       "      <td>35</td>\n",
       "      <td>0</td>\n",
       "      <td>1</td>\n",
       "      <td>F</td>\n",
       "      <td>сотрудник</td>\n",
       "      <td>0</td>\n",
       "      <td>95856</td>\n",
       "      <td>на проведение свадьбы</td>\n",
       "      <td>C</td>\n",
       "    </tr>\n",
       "    <tr>\n",
       "      <th>9</th>\n",
       "      <td>0</td>\n",
       "      <td>2188</td>\n",
       "      <td>41</td>\n",
       "      <td>1</td>\n",
       "      <td>0</td>\n",
       "      <td>M</td>\n",
       "      <td>сотрудник</td>\n",
       "      <td>0</td>\n",
       "      <td>144425</td>\n",
       "      <td>покупка жилья для семьи</td>\n",
       "      <td>C</td>\n",
       "    </tr>\n",
       "  </tbody>\n",
       "</table>\n",
       "</div>"
      ],
      "text/plain": [
       "   children  days_employed  dob_years  education_id  family_status_id gender  \\\n",
       "0         1           8437         42             0                 0      F   \n",
       "1         1           4024         36             1                 0      F   \n",
       "2         0           5623         33             1                 0      M   \n",
       "3         3           4124         32             1                 0      M   \n",
       "4         0          12775         53             1                 1      F   \n",
       "5         0            926         27             0                 1      M   \n",
       "6         0           2879         43             0                 0      F   \n",
       "7         0            152         50             1                 0      M   \n",
       "8         2           6205         35             0                 1      F   \n",
       "9         0           2188         41             1                 0      M   \n",
       "\n",
       "  income_type  debt  total_income                     purpose  \\\n",
       "0   сотрудник     0        253875               покупка жилья   \n",
       "1   сотрудник     0        112080     приобретение автомобиля   \n",
       "2   сотрудник     0        145885               покупка жилья   \n",
       "3   сотрудник     0        267628  дополнительное образование   \n",
       "4   пенсионер     0        158616             сыграть свадьбу   \n",
       "5   компаньон     0        255763               покупка жилья   \n",
       "6   компаньон     0        240525           операции с жильем   \n",
       "7   сотрудник     0        135823                 образование   \n",
       "8   сотрудник     0         95856       на проведение свадьбы   \n",
       "9   сотрудник     0        144425     покупка жилья для семьи   \n",
       "\n",
       "  total_income_category  \n",
       "0                     B  \n",
       "1                     C  \n",
       "2                     C  \n",
       "3                     B  \n",
       "4                     C  \n",
       "5                     B  \n",
       "6                     B  \n",
       "7                     C  \n",
       "8                     C  \n",
       "9                     C  "
      ]
     },
     "metadata": {},
     "output_type": "display_data"
    }
   ],
   "source": [
    "def salary_type(total_income):\n",
    "\n",
    "    if total_income >= 0 and total_income <= 30000:\n",
    "        return 'E'\n",
    "    elif total_income >= 30000 and total_income <= 50000:\n",
    "        return 'D'\n",
    "    elif total_income >= 50001 and total_income <= 200000:\n",
    "        return 'C'\n",
    "    elif total_income >= 200001 and total_income <= 1000000:\n",
    "        return 'B'\n",
    "    else:\n",
    "        return 'A'\n",
    "\n",
    "data['total_income_category'] = data['total_income'].apply(salary_type)\n",
    "display(data.head(10))"
   ]
  },
  {
   "cell_type": "markdown",
   "id": "64f2bd79",
   "metadata": {},
   "source": [
    "Cоздан столбец total_income_category с категориями, которые распределяются исходя из total_income. \n",
    "Использовали конструкцию try-except, чтобы в случае с неподходящими ни под одну категорию данными, код не упал.\n"
   ]
  },
  {
   "cell_type": "markdown",
   "id": "c66b9c82",
   "metadata": {},
   "source": [
    "### Шаг 2.7. Категоризация целей кредита."
   ]
  },
  {
   "cell_type": "code",
   "execution_count": 46,
   "id": "2d19f91f",
   "metadata": {},
   "outputs": [
    {
     "data": {
      "text/plain": [
       "свадьба                                   791\n",
       "на проведение свадьбы                     768\n",
       "сыграть свадьбу                           765\n",
       "операции с недвижимостью                  675\n",
       "покупка коммерческой недвижимости         661\n",
       "операции с жильем                         652\n",
       "покупка жилья для сдачи                   651\n",
       "операции с коммерческой недвижимостью     650\n",
       "покупка жилья                             646\n",
       "жилье                                     646\n",
       "покупка жилья для семьи                   638\n",
       "строительство собственной недвижимости    635\n",
       "недвижимость                              633\n",
       "операции со своей недвижимостью           627\n",
       "строительство жилой недвижимости          624\n",
       "покупка недвижимости                      621\n",
       "покупка своего жилья                      620\n",
       "строительство недвижимости                619\n",
       "ремонт жилью                              607\n",
       "покупка жилой недвижимости                606\n",
       "на покупку своего автомобиля              505\n",
       "заняться высшим образованием              496\n",
       "автомобиль                                494\n",
       "сделка с подержанным автомобилем          486\n",
       "автомобили                                478\n",
       "свой автомобиль                           478\n",
       "на покупку подержанного автомобиля        478\n",
       "на покупку автомобиля                     471\n",
       "приобретение автомобиля                   461\n",
       "дополнительное образование                460\n",
       "сделка с автомобилем                      455\n",
       "высшее образование                        452\n",
       "образование                               447\n",
       "получение дополнительного образования     446\n",
       "получение образования                     442\n",
       "профильное образование                    436\n",
       "получение высшего образования             426\n",
       "заняться образованием                     408\n",
       "Name: purpose, dtype: int64"
      ]
     },
     "execution_count": 46,
     "metadata": {},
     "output_type": "execute_result"
    }
   ],
   "source": [
    "data['purpose'].value_counts()"
   ]
  },
  {
   "cell_type": "markdown",
   "id": "547a1a3c",
   "metadata": {},
   "source": [
    "Изучили повторяющиеся цели, далее объединим их в категории."
   ]
  },
  {
   "cell_type": "code",
   "execution_count": 47,
   "id": "2b425a0d",
   "metadata": {},
   "outputs": [
    {
     "data": {
      "text/html": [
       "<div>\n",
       "<style scoped>\n",
       "    .dataframe tbody tr th:only-of-type {\n",
       "        vertical-align: middle;\n",
       "    }\n",
       "\n",
       "    .dataframe tbody tr th {\n",
       "        vertical-align: top;\n",
       "    }\n",
       "\n",
       "    .dataframe thead th {\n",
       "        text-align: right;\n",
       "    }\n",
       "</style>\n",
       "<table border=\"1\" class=\"dataframe\">\n",
       "  <thead>\n",
       "    <tr style=\"text-align: right;\">\n",
       "      <th></th>\n",
       "      <th>children</th>\n",
       "      <th>days_employed</th>\n",
       "      <th>dob_years</th>\n",
       "      <th>education_id</th>\n",
       "      <th>family_status_id</th>\n",
       "      <th>gender</th>\n",
       "      <th>income_type</th>\n",
       "      <th>debt</th>\n",
       "      <th>total_income</th>\n",
       "      <th>purpose</th>\n",
       "      <th>total_income_category</th>\n",
       "      <th>purpose_category</th>\n",
       "    </tr>\n",
       "  </thead>\n",
       "  <tbody>\n",
       "    <tr>\n",
       "      <th>0</th>\n",
       "      <td>1</td>\n",
       "      <td>8437</td>\n",
       "      <td>42</td>\n",
       "      <td>0</td>\n",
       "      <td>0</td>\n",
       "      <td>F</td>\n",
       "      <td>сотрудник</td>\n",
       "      <td>0</td>\n",
       "      <td>253875</td>\n",
       "      <td>покупка жилья</td>\n",
       "      <td>B</td>\n",
       "      <td>операции с недвижимостью</td>\n",
       "    </tr>\n",
       "    <tr>\n",
       "      <th>1</th>\n",
       "      <td>1</td>\n",
       "      <td>4024</td>\n",
       "      <td>36</td>\n",
       "      <td>1</td>\n",
       "      <td>0</td>\n",
       "      <td>F</td>\n",
       "      <td>сотрудник</td>\n",
       "      <td>0</td>\n",
       "      <td>112080</td>\n",
       "      <td>приобретение автомобиля</td>\n",
       "      <td>C</td>\n",
       "      <td>операции с автомобилем</td>\n",
       "    </tr>\n",
       "    <tr>\n",
       "      <th>2</th>\n",
       "      <td>0</td>\n",
       "      <td>5623</td>\n",
       "      <td>33</td>\n",
       "      <td>1</td>\n",
       "      <td>0</td>\n",
       "      <td>M</td>\n",
       "      <td>сотрудник</td>\n",
       "      <td>0</td>\n",
       "      <td>145885</td>\n",
       "      <td>покупка жилья</td>\n",
       "      <td>C</td>\n",
       "      <td>операции с недвижимостью</td>\n",
       "    </tr>\n",
       "    <tr>\n",
       "      <th>3</th>\n",
       "      <td>3</td>\n",
       "      <td>4124</td>\n",
       "      <td>32</td>\n",
       "      <td>1</td>\n",
       "      <td>0</td>\n",
       "      <td>M</td>\n",
       "      <td>сотрудник</td>\n",
       "      <td>0</td>\n",
       "      <td>267628</td>\n",
       "      <td>дополнительное образование</td>\n",
       "      <td>B</td>\n",
       "      <td>получение образования</td>\n",
       "    </tr>\n",
       "    <tr>\n",
       "      <th>4</th>\n",
       "      <td>0</td>\n",
       "      <td>12775</td>\n",
       "      <td>53</td>\n",
       "      <td>1</td>\n",
       "      <td>1</td>\n",
       "      <td>F</td>\n",
       "      <td>пенсионер</td>\n",
       "      <td>0</td>\n",
       "      <td>158616</td>\n",
       "      <td>сыграть свадьбу</td>\n",
       "      <td>C</td>\n",
       "      <td>проведение свадьбы</td>\n",
       "    </tr>\n",
       "    <tr>\n",
       "      <th>5</th>\n",
       "      <td>0</td>\n",
       "      <td>926</td>\n",
       "      <td>27</td>\n",
       "      <td>0</td>\n",
       "      <td>1</td>\n",
       "      <td>M</td>\n",
       "      <td>компаньон</td>\n",
       "      <td>0</td>\n",
       "      <td>255763</td>\n",
       "      <td>покупка жилья</td>\n",
       "      <td>B</td>\n",
       "      <td>операции с недвижимостью</td>\n",
       "    </tr>\n",
       "    <tr>\n",
       "      <th>6</th>\n",
       "      <td>0</td>\n",
       "      <td>2879</td>\n",
       "      <td>43</td>\n",
       "      <td>0</td>\n",
       "      <td>0</td>\n",
       "      <td>F</td>\n",
       "      <td>компаньон</td>\n",
       "      <td>0</td>\n",
       "      <td>240525</td>\n",
       "      <td>операции с жильем</td>\n",
       "      <td>B</td>\n",
       "      <td>операции с недвижимостью</td>\n",
       "    </tr>\n",
       "    <tr>\n",
       "      <th>7</th>\n",
       "      <td>0</td>\n",
       "      <td>152</td>\n",
       "      <td>50</td>\n",
       "      <td>1</td>\n",
       "      <td>0</td>\n",
       "      <td>M</td>\n",
       "      <td>сотрудник</td>\n",
       "      <td>0</td>\n",
       "      <td>135823</td>\n",
       "      <td>образование</td>\n",
       "      <td>C</td>\n",
       "      <td>получение образования</td>\n",
       "    </tr>\n",
       "    <tr>\n",
       "      <th>8</th>\n",
       "      <td>2</td>\n",
       "      <td>6205</td>\n",
       "      <td>35</td>\n",
       "      <td>0</td>\n",
       "      <td>1</td>\n",
       "      <td>F</td>\n",
       "      <td>сотрудник</td>\n",
       "      <td>0</td>\n",
       "      <td>95856</td>\n",
       "      <td>на проведение свадьбы</td>\n",
       "      <td>C</td>\n",
       "      <td>проведение свадьбы</td>\n",
       "    </tr>\n",
       "    <tr>\n",
       "      <th>9</th>\n",
       "      <td>0</td>\n",
       "      <td>2188</td>\n",
       "      <td>41</td>\n",
       "      <td>1</td>\n",
       "      <td>0</td>\n",
       "      <td>M</td>\n",
       "      <td>сотрудник</td>\n",
       "      <td>0</td>\n",
       "      <td>144425</td>\n",
       "      <td>покупка жилья для семьи</td>\n",
       "      <td>C</td>\n",
       "      <td>операции с недвижимостью</td>\n",
       "    </tr>\n",
       "  </tbody>\n",
       "</table>\n",
       "</div>"
      ],
      "text/plain": [
       "   children  days_employed  dob_years  education_id  family_status_id gender  \\\n",
       "0         1           8437         42             0                 0      F   \n",
       "1         1           4024         36             1                 0      F   \n",
       "2         0           5623         33             1                 0      M   \n",
       "3         3           4124         32             1                 0      M   \n",
       "4         0          12775         53             1                 1      F   \n",
       "5         0            926         27             0                 1      M   \n",
       "6         0           2879         43             0                 0      F   \n",
       "7         0            152         50             1                 0      M   \n",
       "8         2           6205         35             0                 1      F   \n",
       "9         0           2188         41             1                 0      M   \n",
       "\n",
       "  income_type  debt  total_income                     purpose  \\\n",
       "0   сотрудник     0        253875               покупка жилья   \n",
       "1   сотрудник     0        112080     приобретение автомобиля   \n",
       "2   сотрудник     0        145885               покупка жилья   \n",
       "3   сотрудник     0        267628  дополнительное образование   \n",
       "4   пенсионер     0        158616             сыграть свадьбу   \n",
       "5   компаньон     0        255763               покупка жилья   \n",
       "6   компаньон     0        240525           операции с жильем   \n",
       "7   сотрудник     0        135823                 образование   \n",
       "8   сотрудник     0         95856       на проведение свадьбы   \n",
       "9   сотрудник     0        144425     покупка жилья для семьи   \n",
       "\n",
       "  total_income_category          purpose_category  \n",
       "0                     B  операции с недвижимостью  \n",
       "1                     C    операции с автомобилем  \n",
       "2                     C  операции с недвижимостью  \n",
       "3                     B     получение образования  \n",
       "4                     C        проведение свадьбы  \n",
       "5                     B  операции с недвижимостью  \n",
       "6                     B  операции с недвижимостью  \n",
       "7                     C     получение образования  \n",
       "8                     C        проведение свадьбы  \n",
       "9                     C  операции с недвижимостью  "
      ]
     },
     "metadata": {},
     "output_type": "display_data"
    }
   ],
   "source": [
    "def purpose_f (purpose):\n",
    "    if 'свадьб' in purpose:\n",
    "        return 'проведение свадьбы'\n",
    "    elif 'недвижим'in purpose or 'жиль' in purpose:\n",
    "        return 'операции с недвижимостью'\n",
    "    elif 'образова' in purpose:\n",
    "        return 'получение образования'\n",
    "    else:\n",
    "        return 'операции с автомобилем'\n",
    "\n",
    "data['purpose_category'] = data['purpose'].apply(purpose_f)\n",
    "display(data.head(10))  "
   ]
  },
  {
   "cell_type": "markdown",
   "id": "bad68d79",
   "metadata": {},
   "source": [
    "Создана функция, которая добавляет в новый столбец категорию, характеризующую цель взятия кредита.\n",
    "Использовали конструкцию try-except, чтобы в случае с неподходящими ни под одну категорию данными, код не упал."
   ]
  },
  {
   "cell_type": "markdown",
   "id": "db06e417",
   "metadata": {},
   "source": [
    "### Ответы на вопросы."
   ]
  },
  {
   "cell_type": "markdown",
   "id": "ddc37925",
   "metadata": {},
   "source": [
    "##### Вопрос 1: Есть ли зависимость между количеством детей и возвратом кредита в срок?"
   ]
  },
  {
   "cell_type": "code",
   "execution_count": 48,
   "id": "541c7be2",
   "metadata": {},
   "outputs": [
    {
     "data": {
      "text/html": [
       "<style  type=\"text/css\" >\n",
       "</style><table id=\"T_2ed16_\" ><thead>    <tr>        <th class=\"blank level0\" ></th>        <th class=\"col_heading level0 col0\" >число_клиентов</th>        <th class=\"col_heading level0 col1\" >число_должников</th>        <th class=\"col_heading level0 col2\" >доля_должников</th>    </tr>    <tr>        <th class=\"index_name level0\" >children</th>        <th class=\"blank\" ></th>        <th class=\"blank\" ></th>        <th class=\"blank\" ></th>    </tr></thead><tbody>\n",
       "                <tr>\n",
       "                        <th id=\"T_2ed16_level0_row0\" class=\"row_heading level0 row0\" >4</th>\n",
       "                        <td id=\"T_2ed16_row0_col0\" class=\"data row0 col0\" >41</td>\n",
       "                        <td id=\"T_2ed16_row0_col1\" class=\"data row0 col1\" >4</td>\n",
       "                        <td id=\"T_2ed16_row0_col2\" class=\"data row0 col2\" >9.76%</td>\n",
       "            </tr>\n",
       "            <tr>\n",
       "                        <th id=\"T_2ed16_level0_row1\" class=\"row_heading level0 row1\" >2</th>\n",
       "                        <td id=\"T_2ed16_row1_col0\" class=\"data row1 col0\" >2128</td>\n",
       "                        <td id=\"T_2ed16_row1_col1\" class=\"data row1 col1\" >202</td>\n",
       "                        <td id=\"T_2ed16_row1_col2\" class=\"data row1 col2\" >9.49%</td>\n",
       "            </tr>\n",
       "            <tr>\n",
       "                        <th id=\"T_2ed16_level0_row2\" class=\"row_heading level0 row2\" >1</th>\n",
       "                        <td id=\"T_2ed16_row2_col0\" class=\"data row2 col0\" >4855</td>\n",
       "                        <td id=\"T_2ed16_row2_col1\" class=\"data row2 col1\" >445</td>\n",
       "                        <td id=\"T_2ed16_row2_col2\" class=\"data row2 col2\" >9.17%</td>\n",
       "            </tr>\n",
       "            <tr>\n",
       "                        <th id=\"T_2ed16_level0_row3\" class=\"row_heading level0 row3\" >3</th>\n",
       "                        <td id=\"T_2ed16_row3_col0\" class=\"data row3 col0\" >330</td>\n",
       "                        <td id=\"T_2ed16_row3_col1\" class=\"data row3 col1\" >27</td>\n",
       "                        <td id=\"T_2ed16_row3_col2\" class=\"data row3 col2\" >8.18%</td>\n",
       "            </tr>\n",
       "            <tr>\n",
       "                        <th id=\"T_2ed16_level0_row4\" class=\"row_heading level0 row4\" >0</th>\n",
       "                        <td id=\"T_2ed16_row4_col0\" class=\"data row4 col0\" >14091</td>\n",
       "                        <td id=\"T_2ed16_row4_col1\" class=\"data row4 col1\" >1063</td>\n",
       "                        <td id=\"T_2ed16_row4_col2\" class=\"data row4 col2\" >7.54%</td>\n",
       "            </tr>\n",
       "            <tr>\n",
       "                        <th id=\"T_2ed16_level0_row5\" class=\"row_heading level0 row5\" >5</th>\n",
       "                        <td id=\"T_2ed16_row5_col0\" class=\"data row5 col0\" >9</td>\n",
       "                        <td id=\"T_2ed16_row5_col1\" class=\"data row5 col1\" >0</td>\n",
       "                        <td id=\"T_2ed16_row5_col2\" class=\"data row5 col2\" >0.00%</td>\n",
       "            </tr>\n",
       "    </tbody></table>"
      ],
      "text/plain": [
       "<pandas.io.formats.style.Styler at 0x7fde147b3610>"
      ]
     },
     "execution_count": 48,
     "metadata": {},
     "output_type": "execute_result"
    }
   ],
   "source": [
    "data.groupby('children').agg(число_клиентов=('debt','count'), число_должников=('debt','sum'), доля_должников=('debt','mean'))\\\n",
    "    .sort_values('доля_должников', ascending=False)\\\n",
    "    .style.format({'доля_должников' : '{:.2%}'.format})\n"
   ]
  },
  {
   "cell_type": "markdown",
   "id": "12a2b953",
   "metadata": {},
   "source": [
    "##### Вывод 1: Заемщики, у которых нет детей, менее склонны к просрочке по выплатам кредита. Чем больше детей - тем больше возможность задолженности."
   ]
  },
  {
   "cell_type": "markdown",
   "id": "d183e62c",
   "metadata": {},
   "source": [
    "0.9.0.2  Вопрос 2: Есть ли зависимость между семейным положением и возвратом кредита в срок?"
   ]
  },
  {
   "cell_type": "code",
   "execution_count": 49,
   "id": "7e043e42",
   "metadata": {},
   "outputs": [
    {
     "data": {
      "text/html": [
       "<style  type=\"text/css\" >\n",
       "</style><table id=\"T_25a67_\" ><thead>    <tr>        <th class=\"blank level0\" ></th>        <th class=\"col_heading level0 col0\" >число_клиентов</th>        <th class=\"col_heading level0 col1\" >число_должников</th>        <th class=\"col_heading level0 col2\" >доля_должников</th>        <th class=\"col_heading level0 col3\" >family_status</th>    </tr>    <tr>        <th class=\"index_name level0\" >family_status_id</th>        <th class=\"blank\" ></th>        <th class=\"blank\" ></th>        <th class=\"blank\" ></th>        <th class=\"blank\" ></th>    </tr></thead><tbody>\n",
       "                <tr>\n",
       "                        <th id=\"T_25a67_level0_row0\" class=\"row_heading level0 row0\" >4</th>\n",
       "                        <td id=\"T_25a67_row0_col0\" class=\"data row0 col0\" >2810</td>\n",
       "                        <td id=\"T_25a67_row0_col1\" class=\"data row0 col1\" >274</td>\n",
       "                        <td id=\"T_25a67_row0_col2\" class=\"data row0 col2\" >9.75%</td>\n",
       "                        <td id=\"T_25a67_row0_col3\" class=\"data row0 col3\" >Не женат / не замужем</td>\n",
       "            </tr>\n",
       "            <tr>\n",
       "                        <th id=\"T_25a67_level0_row1\" class=\"row_heading level0 row1\" >1</th>\n",
       "                        <td id=\"T_25a67_row1_col0\" class=\"data row1 col0\" >4151</td>\n",
       "                        <td id=\"T_25a67_row1_col1\" class=\"data row1 col1\" >388</td>\n",
       "                        <td id=\"T_25a67_row1_col2\" class=\"data row1 col2\" >9.35%</td>\n",
       "                        <td id=\"T_25a67_row1_col3\" class=\"data row1 col3\" >гражданский брак</td>\n",
       "            </tr>\n",
       "            <tr>\n",
       "                        <th id=\"T_25a67_level0_row2\" class=\"row_heading level0 row2\" >0</th>\n",
       "                        <td id=\"T_25a67_row2_col0\" class=\"data row2 col0\" >12339</td>\n",
       "                        <td id=\"T_25a67_row2_col1\" class=\"data row2 col1\" >931</td>\n",
       "                        <td id=\"T_25a67_row2_col2\" class=\"data row2 col2\" >7.55%</td>\n",
       "                        <td id=\"T_25a67_row2_col3\" class=\"data row2 col3\" >женат / замужем</td>\n",
       "            </tr>\n",
       "            <tr>\n",
       "                        <th id=\"T_25a67_level0_row3\" class=\"row_heading level0 row3\" >3</th>\n",
       "                        <td id=\"T_25a67_row3_col0\" class=\"data row3 col0\" >1195</td>\n",
       "                        <td id=\"T_25a67_row3_col1\" class=\"data row3 col1\" >85</td>\n",
       "                        <td id=\"T_25a67_row3_col2\" class=\"data row3 col2\" >7.11%</td>\n",
       "                        <td id=\"T_25a67_row3_col3\" class=\"data row3 col3\" >в разводе</td>\n",
       "            </tr>\n",
       "            <tr>\n",
       "                        <th id=\"T_25a67_level0_row4\" class=\"row_heading level0 row4\" >2</th>\n",
       "                        <td id=\"T_25a67_row4_col0\" class=\"data row4 col0\" >959</td>\n",
       "                        <td id=\"T_25a67_row4_col1\" class=\"data row4 col1\" >63</td>\n",
       "                        <td id=\"T_25a67_row4_col2\" class=\"data row4 col2\" >6.57%</td>\n",
       "                        <td id=\"T_25a67_row4_col3\" class=\"data row4 col3\" >вдовец / вдова</td>\n",
       "            </tr>\n",
       "    </tbody></table>"
      ],
      "text/plain": [
       "<pandas.io.formats.style.Styler at 0x7fde174e5f40>"
      ]
     },
     "execution_count": 49,
     "metadata": {},
     "output_type": "execute_result"
    }
   ],
   "source": [
    "data.groupby('family_status_id').agg(число_клиентов=('debt','count'), число_должников=('debt','sum'), доля_должников=('debt','mean'))\\\n",
    "    .sort_values('доля_должников', ascending=False).join(data_family)\\\n",
    "    .style.format({'доля_должников' : '{:.2%}'.format})"
   ]
  },
  {
   "cell_type": "markdown",
   "id": "ba75d0bd",
   "metadata": {},
   "source": [
    "##### Вывод 2: Заемщики, которые состоят в браке или были в браке, менее склонны к просрочке по выплатам кредита. Заемщики, которые не были в узаконенных отношениях чаще имеют долг по кредиту."
   ]
  },
  {
   "cell_type": "markdown",
   "id": "c9dc041a",
   "metadata": {},
   "source": [
    "0.9.0.3  Вопрос 3: Есть ли зависимость между уровнем дохода и возвратом кредита в срок?"
   ]
  },
  {
   "cell_type": "code",
   "execution_count": 50,
   "id": "28ef0add",
   "metadata": {},
   "outputs": [
    {
     "data": {
      "text/html": [
       "<div>\n",
       "<style scoped>\n",
       "    .dataframe tbody tr th:only-of-type {\n",
       "        vertical-align: middle;\n",
       "    }\n",
       "\n",
       "    .dataframe tbody tr th {\n",
       "        vertical-align: top;\n",
       "    }\n",
       "\n",
       "    .dataframe thead th {\n",
       "        text-align: right;\n",
       "    }\n",
       "</style>\n",
       "<table border=\"1\" class=\"dataframe\">\n",
       "  <thead>\n",
       "    <tr style=\"text-align: right;\">\n",
       "      <th>debt</th>\n",
       "      <th>0</th>\n",
       "      <th>1</th>\n",
       "      <th>ratio</th>\n",
       "    </tr>\n",
       "    <tr>\n",
       "      <th>total_income_category</th>\n",
       "      <th></th>\n",
       "      <th></th>\n",
       "      <th></th>\n",
       "    </tr>\n",
       "  </thead>\n",
       "  <tbody>\n",
       "    <tr>\n",
       "      <th>E</th>\n",
       "      <td>20</td>\n",
       "      <td>2</td>\n",
       "      <td>0.090909</td>\n",
       "    </tr>\n",
       "    <tr>\n",
       "      <th>C</th>\n",
       "      <td>14656</td>\n",
       "      <td>1360</td>\n",
       "      <td>0.084915</td>\n",
       "    </tr>\n",
       "    <tr>\n",
       "      <th>A</th>\n",
       "      <td>23</td>\n",
       "      <td>2</td>\n",
       "      <td>0.080000</td>\n",
       "    </tr>\n",
       "    <tr>\n",
       "      <th>B</th>\n",
       "      <td>4685</td>\n",
       "      <td>356</td>\n",
       "      <td>0.070621</td>\n",
       "    </tr>\n",
       "    <tr>\n",
       "      <th>D</th>\n",
       "      <td>329</td>\n",
       "      <td>21</td>\n",
       "      <td>0.060000</td>\n",
       "    </tr>\n",
       "  </tbody>\n",
       "</table>\n",
       "</div>"
      ],
      "text/plain": [
       "debt                       0     1     ratio\n",
       "total_income_category                       \n",
       "E                         20     2  0.090909\n",
       "C                      14656  1360  0.084915\n",
       "A                         23     2  0.080000\n",
       "B                       4685   356  0.070621\n",
       "D                        329    21  0.060000"
      ]
     },
     "execution_count": 50,
     "metadata": {},
     "output_type": "execute_result"
    }
   ],
   "source": [
    "data_pivot_income = data.pivot_table(index = data['total_income_category'], columns = 'debt', values = 'dob_years', aggfunc = 'count')\n",
    "data_pivot_income['ratio'] = data_pivot_income[1] / (data_pivot_income[0] + data_pivot_income[1])\n",
    "data_pivot_income.sort_values('ratio', ascending = False)"
   ]
  },
  {
   "cell_type": "markdown",
   "id": "0bd46115",
   "metadata": {},
   "source": [
    "##### Вывод 3: Заемщики с наименьшим уровнем дохода  более склонны нарушать обязательства по выплатам кредита в срок. Но заемщики среднего уровня дохода лучше всех выполняют свои обязательства."
   ]
  },
  {
   "cell_type": "markdown",
   "id": "96d88b75",
   "metadata": {},
   "source": [
    "0.9.0.4 Вопрос 4: Как разные цели кредита влияют на его возврат в срок?"
   ]
  },
  {
   "cell_type": "code",
   "execution_count": 51,
   "id": "6e780d5c",
   "metadata": {},
   "outputs": [
    {
     "data": {
      "text/html": [
       "<div>\n",
       "<style scoped>\n",
       "    .dataframe tbody tr th:only-of-type {\n",
       "        vertical-align: middle;\n",
       "    }\n",
       "\n",
       "    .dataframe tbody tr th {\n",
       "        vertical-align: top;\n",
       "    }\n",
       "\n",
       "    .dataframe thead th {\n",
       "        text-align: right;\n",
       "    }\n",
       "</style>\n",
       "<table border=\"1\" class=\"dataframe\">\n",
       "  <thead>\n",
       "    <tr style=\"text-align: right;\">\n",
       "      <th>debt</th>\n",
       "      <th>0</th>\n",
       "      <th>1</th>\n",
       "      <th>ratio</th>\n",
       "    </tr>\n",
       "    <tr>\n",
       "      <th>purpose_category</th>\n",
       "      <th></th>\n",
       "      <th></th>\n",
       "      <th></th>\n",
       "    </tr>\n",
       "  </thead>\n",
       "  <tbody>\n",
       "    <tr>\n",
       "      <th>операции с автомобилем</th>\n",
       "      <td>3903</td>\n",
       "      <td>403</td>\n",
       "      <td>0.093590</td>\n",
       "    </tr>\n",
       "    <tr>\n",
       "      <th>получение образования</th>\n",
       "      <td>3643</td>\n",
       "      <td>370</td>\n",
       "      <td>0.092200</td>\n",
       "    </tr>\n",
       "    <tr>\n",
       "      <th>проведение свадьбы</th>\n",
       "      <td>2138</td>\n",
       "      <td>186</td>\n",
       "      <td>0.080034</td>\n",
       "    </tr>\n",
       "    <tr>\n",
       "      <th>операции с недвижимостью</th>\n",
       "      <td>10029</td>\n",
       "      <td>782</td>\n",
       "      <td>0.072334</td>\n",
       "    </tr>\n",
       "  </tbody>\n",
       "</table>\n",
       "</div>"
      ],
      "text/plain": [
       "debt                          0    1     ratio\n",
       "purpose_category                              \n",
       "операции с автомобилем     3903  403  0.093590\n",
       "получение образования      3643  370  0.092200\n",
       "проведение свадьбы         2138  186  0.080034\n",
       "операции с недвижимостью  10029  782  0.072334"
      ]
     },
     "execution_count": 51,
     "metadata": {},
     "output_type": "execute_result"
    }
   ],
   "source": [
    "data_pivot_purpose = data.pivot_table(index = data['purpose_category'], columns = 'debt', values = 'dob_years', aggfunc = 'count')\n",
    "data_pivot_purpose['ratio'] = data_pivot_purpose[1] / (data_pivot_purpose[0] + data_pivot_purpose[1])\n",
    "data_pivot_purpose.sort_values('ratio', ascending = False)"
   ]
  },
  {
   "cell_type": "markdown",
   "id": "02dbe01c",
   "metadata": {},
   "source": [
    "Заемщики, которые берут кредит для проведения операций с жильем менее склонны нарушать обязательства по выплатам кредита в срок. Заемщики, которые берут кредит на автомобиль наоборот чаще задерживают выплаты."
   ]
  },
  {
   "cell_type": "markdown",
   "id": "5dbe4401",
   "metadata": {},
   "source": [
    "## Общий вывод:"
   ]
  },
  {
   "cell_type": "markdown",
   "id": "d2e4a479",
   "metadata": {},
   "source": [
    "Цель анализа – узнать влияет ли семейное положение и количество детей клиента на факт погашения кредита в срок. Исходя из данных, можно сделать вывод, что кол-во детей влияет на заемщиков. Чем больше детей в семье – тем чаще люди задерживают выплаты.\n",
    "Относительно семейного положения, можно сказать, что люди, которые не были в браке чаще становятся должниками.\n",
    "\n",
    "Итог:\n",
    "заемщики без детей и в браке (или были когда-то в браке) – самые ответственные заемщики.\n",
    "Заемщики с детьми и не находящиеся в браке – менее отвественные заемщики."
   ]
  }
 ],
 "metadata": {
  "ExecuteTimeLog": [
   {
    "duration": 686,
    "start_time": "2022-02-14T08:22:01.872Z"
   },
   {
    "duration": 10,
    "start_time": "2022-02-14T08:32:57.252Z"
   },
   {
    "duration": 1049,
    "start_time": "2022-02-14T08:35:44.233Z"
   },
   {
    "duration": 10,
    "start_time": "2022-02-14T08:35:56.214Z"
   },
   {
    "duration": 11,
    "start_time": "2022-02-14T08:39:55.435Z"
   },
   {
    "duration": 10,
    "start_time": "2022-02-14T08:40:07.403Z"
   },
   {
    "duration": -58,
    "start_time": "2022-02-14T08:41:01.999Z"
   },
   {
    "duration": 8384,
    "start_time": "2022-02-14T08:41:05.932Z"
   },
   {
    "duration": -53,
    "start_time": "2022-02-14T08:41:48.100Z"
   },
   {
    "duration": 10,
    "start_time": "2022-02-14T08:41:52.482Z"
   },
   {
    "duration": 123,
    "start_time": "2022-02-14T08:46:44.689Z"
   },
   {
    "duration": 108,
    "start_time": "2022-02-14T08:47:05.702Z"
   },
   {
    "duration": 115,
    "start_time": "2022-02-14T08:48:07.862Z"
   },
   {
    "duration": 11,
    "start_time": "2022-02-14T08:48:50.653Z"
   },
   {
    "duration": 131,
    "start_time": "2022-02-14T08:49:28.260Z"
   },
   {
    "duration": 115,
    "start_time": "2022-02-14T08:49:37.252Z"
   },
   {
    "duration": 11,
    "start_time": "2022-02-14T08:49:53.222Z"
   },
   {
    "duration": 11,
    "start_time": "2022-02-14T08:50:43.012Z"
   },
   {
    "duration": 11,
    "start_time": "2022-02-14T08:50:55.302Z"
   },
   {
    "duration": 12,
    "start_time": "2022-02-14T08:51:01.062Z"
   },
   {
    "duration": 12,
    "start_time": "2022-02-14T08:51:09.271Z"
   },
   {
    "duration": 55,
    "start_time": "2022-02-14T08:54:44.733Z"
   },
   {
    "duration": 5,
    "start_time": "2022-02-14T09:18:15.004Z"
   },
   {
    "duration": 363,
    "start_time": "2022-02-14T09:18:39.865Z"
   },
   {
    "duration": 5,
    "start_time": "2022-02-14T09:19:20.464Z"
   },
   {
    "duration": 330,
    "start_time": "2022-02-14T09:31:05.274Z"
   },
   {
    "duration": 8,
    "start_time": "2022-02-14T09:31:14.444Z"
   },
   {
    "duration": 7,
    "start_time": "2022-02-14T09:31:48.524Z"
   },
   {
    "duration": 8,
    "start_time": "2022-02-14T09:32:25.874Z"
   },
   {
    "duration": 7,
    "start_time": "2022-02-14T09:32:35.965Z"
   },
   {
    "duration": 6,
    "start_time": "2022-02-14T09:32:47.314Z"
   },
   {
    "duration": 329,
    "start_time": "2022-02-14T09:37:53.304Z"
   },
   {
    "duration": 112,
    "start_time": "2022-02-14T09:38:19.274Z"
   },
   {
    "duration": 324,
    "start_time": "2022-02-14T09:38:41.484Z"
   },
   {
    "duration": 3,
    "start_time": "2022-02-14T09:40:03.156Z"
   },
   {
    "duration": 5,
    "start_time": "2022-02-14T09:42:07.984Z"
   },
   {
    "duration": 15,
    "start_time": "2022-02-14T09:42:19.975Z"
   },
   {
    "duration": 7,
    "start_time": "2022-02-14T09:48:30.663Z"
   },
   {
    "duration": 338,
    "start_time": "2022-02-14T09:49:32.693Z"
   },
   {
    "duration": 319,
    "start_time": "2022-02-14T09:49:37.744Z"
   },
   {
    "duration": 154,
    "start_time": "2022-02-14T09:50:41.034Z"
   },
   {
    "duration": 13,
    "start_time": "2022-02-14T09:50:45.662Z"
   },
   {
    "duration": 699,
    "start_time": "2022-02-14T09:51:00.204Z"
   },
   {
    "duration": 13,
    "start_time": "2022-02-14T09:51:14.884Z"
   },
   {
    "duration": 394,
    "start_time": "2022-02-14T09:53:47.102Z"
   },
   {
    "duration": 5,
    "start_time": "2022-02-14T09:53:54.587Z"
   },
   {
    "duration": 5,
    "start_time": "2022-02-14T09:54:55.804Z"
   },
   {
    "duration": 5,
    "start_time": "2022-02-14T09:55:02.774Z"
   },
   {
    "duration": 5,
    "start_time": "2022-02-14T09:55:10.375Z"
   },
   {
    "duration": 4,
    "start_time": "2022-02-14T09:55:27.639Z"
   },
   {
    "duration": 4,
    "start_time": "2022-02-14T09:55:31.104Z"
   },
   {
    "duration": 4,
    "start_time": "2022-02-14T09:56:15.422Z"
   },
   {
    "duration": 4,
    "start_time": "2022-02-14T09:57:28.604Z"
   },
   {
    "duration": 3,
    "start_time": "2022-02-14T09:58:24.544Z"
   },
   {
    "duration": 4,
    "start_time": "2022-02-14T09:58:28.384Z"
   },
   {
    "duration": 118,
    "start_time": "2022-02-14T10:03:04.734Z"
   },
   {
    "duration": 118,
    "start_time": "2022-02-14T10:03:09.962Z"
   },
   {
    "duration": 119,
    "start_time": "2022-02-14T10:03:27.994Z"
   },
   {
    "duration": 108,
    "start_time": "2022-02-14T10:03:30.415Z"
   },
   {
    "duration": 9,
    "start_time": "2022-02-14T10:03:40.564Z"
   },
   {
    "duration": 108,
    "start_time": "2022-02-14T10:05:13.584Z"
   },
   {
    "duration": 108,
    "start_time": "2022-02-14T10:05:17.214Z"
   },
   {
    "duration": 4,
    "start_time": "2022-02-14T10:05:28.574Z"
   },
   {
    "duration": 16,
    "start_time": "2022-02-14T10:05:56.965Z"
   },
   {
    "duration": 341,
    "start_time": "2022-02-14T10:09:27.224Z"
   },
   {
    "duration": 335,
    "start_time": "2022-02-14T10:09:48.114Z"
   },
   {
    "duration": 108,
    "start_time": "2022-02-14T10:14:04.124Z"
   },
   {
    "duration": 115,
    "start_time": "2022-02-14T10:14:20.373Z"
   },
   {
    "duration": 2,
    "start_time": "2022-02-14T10:15:11.175Z"
   },
   {
    "duration": 577,
    "start_time": "2022-02-14T10:15:42.325Z"
   },
   {
    "duration": 344,
    "start_time": "2022-02-14T10:16:12.754Z"
   },
   {
    "duration": 334,
    "start_time": "2022-02-14T10:17:53.241Z"
   },
   {
    "duration": 14,
    "start_time": "2022-02-14T10:21:47.888Z"
   },
   {
    "duration": 53,
    "start_time": "2022-02-14T10:21:54.288Z"
   },
   {
    "duration": 10,
    "start_time": "2022-02-14T10:21:54.342Z"
   },
   {
    "duration": 10,
    "start_time": "2022-02-14T10:21:54.354Z"
   },
   {
    "duration": 4,
    "start_time": "2022-02-14T10:21:54.366Z"
   },
   {
    "duration": 13,
    "start_time": "2022-02-14T10:21:54.371Z"
   },
   {
    "duration": 14,
    "start_time": "2022-02-14T10:21:54.386Z"
   },
   {
    "duration": 14,
    "start_time": "2022-02-14T10:21:54.401Z"
   },
   {
    "duration": 9,
    "start_time": "2022-02-14T10:24:28.487Z"
   },
   {
    "duration": 311,
    "start_time": "2022-02-14T11:14:12.485Z"
   },
   {
    "duration": 4,
    "start_time": "2022-02-14T11:15:06.444Z"
   },
   {
    "duration": 316,
    "start_time": "2022-02-14T11:15:08.163Z"
   },
   {
    "duration": 315,
    "start_time": "2022-02-14T11:18:28.804Z"
   },
   {
    "duration": 14,
    "start_time": "2022-02-14T11:19:05.924Z"
   },
   {
    "duration": 357,
    "start_time": "2022-02-14T11:19:19.654Z"
   },
   {
    "duration": 326,
    "start_time": "2022-02-14T11:25:37.084Z"
   },
   {
    "duration": 10,
    "start_time": "2022-02-14T11:26:53.244Z"
   },
   {
    "duration": 4116,
    "start_time": "2022-02-14T11:28:10.652Z"
   },
   {
    "duration": 3,
    "start_time": "2022-02-14T11:30:06.163Z"
   },
   {
    "duration": 678,
    "start_time": "2022-02-14T11:30:31.086Z"
   },
   {
    "duration": 389,
    "start_time": "2022-02-14T11:34:53.412Z"
   },
   {
    "duration": 15,
    "start_time": "2022-02-14T11:35:02.084Z"
   },
   {
    "duration": 56,
    "start_time": "2022-02-14T11:52:57.005Z"
   },
   {
    "duration": 9,
    "start_time": "2022-02-14T11:52:57.063Z"
   },
   {
    "duration": 10,
    "start_time": "2022-02-14T11:52:57.074Z"
   },
   {
    "duration": 16,
    "start_time": "2022-02-14T11:52:57.085Z"
   },
   {
    "duration": 30,
    "start_time": "2022-02-14T11:52:57.102Z"
   },
   {
    "duration": 9,
    "start_time": "2022-02-14T11:52:57.133Z"
   },
   {
    "duration": 27,
    "start_time": "2022-02-14T11:52:57.143Z"
   },
   {
    "duration": 13,
    "start_time": "2022-02-14T11:52:57.172Z"
   },
   {
    "duration": 10,
    "start_time": "2022-02-14T11:53:40.645Z"
   },
   {
    "duration": 334,
    "start_time": "2022-02-14T11:57:15.525Z"
   },
   {
    "duration": 13,
    "start_time": "2022-02-14T11:57:21.583Z"
   },
   {
    "duration": 23,
    "start_time": "2022-02-14T11:57:37.404Z"
   },
   {
    "duration": 30,
    "start_time": "2022-02-14T11:59:20.646Z"
   },
   {
    "duration": 25,
    "start_time": "2022-02-14T12:02:09.764Z"
   },
   {
    "duration": 35,
    "start_time": "2022-02-14T12:02:35.444Z"
   },
   {
    "duration": 6,
    "start_time": "2022-02-14T12:05:09.448Z"
   },
   {
    "duration": 5,
    "start_time": "2022-02-14T12:05:59.884Z"
   },
   {
    "duration": 11,
    "start_time": "2022-02-14T12:07:38.572Z"
   },
   {
    "duration": 14,
    "start_time": "2022-02-14T12:07:48.444Z"
   },
   {
    "duration": 332,
    "start_time": "2022-02-14T12:08:12.684Z"
   },
   {
    "duration": 4,
    "start_time": "2022-02-14T12:08:42.604Z"
   },
   {
    "duration": 7,
    "start_time": "2022-02-14T12:09:14.492Z"
   },
   {
    "duration": 9,
    "start_time": "2022-02-14T12:10:11.165Z"
   },
   {
    "duration": 52,
    "start_time": "2022-02-14T12:12:28.685Z"
   },
   {
    "duration": 9,
    "start_time": "2022-02-14T12:12:28.739Z"
   },
   {
    "duration": 9,
    "start_time": "2022-02-14T12:12:28.750Z"
   },
   {
    "duration": 21,
    "start_time": "2022-02-14T12:12:28.761Z"
   },
   {
    "duration": 22,
    "start_time": "2022-02-14T12:12:28.784Z"
   },
   {
    "duration": 7,
    "start_time": "2022-02-14T12:12:28.807Z"
   },
   {
    "duration": 23,
    "start_time": "2022-02-14T12:12:28.816Z"
   },
   {
    "duration": 17,
    "start_time": "2022-02-14T12:12:28.841Z"
   },
   {
    "duration": 11,
    "start_time": "2022-02-14T12:12:28.860Z"
   },
   {
    "duration": 45,
    "start_time": "2022-02-14T12:12:28.872Z"
   },
   {
    "duration": 9,
    "start_time": "2022-02-14T12:12:28.918Z"
   },
   {
    "duration": 29,
    "start_time": "2022-02-14T12:12:28.928Z"
   },
   {
    "duration": 102,
    "start_time": "2022-02-14T12:16:22.605Z"
   },
   {
    "duration": 56,
    "start_time": "2022-02-14T13:30:14.090Z"
   },
   {
    "duration": 9,
    "start_time": "2022-02-14T13:30:14.148Z"
   },
   {
    "duration": 27,
    "start_time": "2022-02-14T13:30:14.159Z"
   },
   {
    "duration": 19,
    "start_time": "2022-02-14T13:30:14.187Z"
   },
   {
    "duration": 23,
    "start_time": "2022-02-14T13:30:14.207Z"
   },
   {
    "duration": 8,
    "start_time": "2022-02-14T13:30:14.231Z"
   },
   {
    "duration": 33,
    "start_time": "2022-02-14T13:30:14.240Z"
   },
   {
    "duration": 13,
    "start_time": "2022-02-14T13:30:14.275Z"
   },
   {
    "duration": 20,
    "start_time": "2022-02-14T13:30:14.290Z"
   },
   {
    "duration": 41,
    "start_time": "2022-02-14T13:30:14.311Z"
   },
   {
    "duration": 17,
    "start_time": "2022-02-14T13:30:14.354Z"
   },
   {
    "duration": 23,
    "start_time": "2022-02-14T13:30:14.373Z"
   },
   {
    "duration": 775,
    "start_time": "2022-02-14T13:30:14.398Z"
   },
   {
    "duration": 753,
    "start_time": "2022-02-14T13:39:37.648Z"
   },
   {
    "duration": 10,
    "start_time": "2022-02-14T13:40:31.847Z"
   },
   {
    "duration": 392,
    "start_time": "2022-02-14T13:41:32.373Z"
   },
   {
    "duration": 16,
    "start_time": "2022-02-14T13:41:43.198Z"
   },
   {
    "duration": 11,
    "start_time": "2022-02-14T13:46:41.528Z"
   },
   {
    "duration": 13,
    "start_time": "2022-02-14T14:02:19.007Z"
   },
   {
    "duration": 6,
    "start_time": "2022-02-14T14:06:35.488Z"
   },
   {
    "duration": 8,
    "start_time": "2022-02-14T14:08:46.768Z"
   },
   {
    "duration": 16,
    "start_time": "2022-02-14T14:09:27.968Z"
   },
   {
    "duration": 55,
    "start_time": "2022-02-14T14:14:42.366Z"
   },
   {
    "duration": 9,
    "start_time": "2022-02-14T14:14:42.422Z"
   },
   {
    "duration": 9,
    "start_time": "2022-02-14T14:14:42.433Z"
   },
   {
    "duration": 4,
    "start_time": "2022-02-14T14:14:42.444Z"
   },
   {
    "duration": 29,
    "start_time": "2022-02-14T14:14:42.450Z"
   },
   {
    "duration": 7,
    "start_time": "2022-02-14T14:14:42.480Z"
   },
   {
    "duration": 13,
    "start_time": "2022-02-14T14:14:42.489Z"
   },
   {
    "duration": 18,
    "start_time": "2022-02-14T14:14:42.504Z"
   },
   {
    "duration": 56,
    "start_time": "2022-02-14T14:14:44.898Z"
   },
   {
    "duration": 9,
    "start_time": "2022-02-14T14:14:44.955Z"
   },
   {
    "duration": 10,
    "start_time": "2022-02-14T14:14:44.966Z"
   },
   {
    "duration": 4,
    "start_time": "2022-02-14T14:14:44.978Z"
   },
   {
    "duration": 12,
    "start_time": "2022-02-14T14:14:44.984Z"
   },
   {
    "duration": 8,
    "start_time": "2022-02-14T14:14:44.998Z"
   },
   {
    "duration": 18,
    "start_time": "2022-02-14T14:14:45.007Z"
   },
   {
    "duration": 17,
    "start_time": "2022-02-14T14:14:45.026Z"
   },
   {
    "duration": 13,
    "start_time": "2022-02-14T14:14:45.073Z"
   },
   {
    "duration": 9,
    "start_time": "2022-02-14T14:14:45.088Z"
   },
   {
    "duration": 33,
    "start_time": "2022-02-14T14:14:45.098Z"
   },
   {
    "duration": 9,
    "start_time": "2022-02-14T14:14:45.133Z"
   },
   {
    "duration": 13,
    "start_time": "2022-02-14T14:14:45.171Z"
   },
   {
    "duration": 16,
    "start_time": "2022-02-14T14:14:45.185Z"
   },
   {
    "duration": 11,
    "start_time": "2022-02-14T14:14:45.202Z"
   },
   {
    "duration": 116,
    "start_time": "2022-02-14T14:14:45.215Z"
   },
   {
    "duration": 1667,
    "start_time": "2022-02-14T14:23:58.927Z"
   },
   {
    "duration": 1566,
    "start_time": "2022-02-14T14:27:11.968Z"
   },
   {
    "duration": 1291,
    "start_time": "2022-02-14T14:30:40.327Z"
   },
   {
    "duration": 17,
    "start_time": "2022-02-14T14:30:49.527Z"
   },
   {
    "duration": 20,
    "start_time": "2022-02-14T14:31:07.048Z"
   },
   {
    "duration": 289,
    "start_time": "2022-02-15T08:58:57.751Z"
   },
   {
    "duration": 718,
    "start_time": "2022-02-15T08:59:01.953Z"
   },
   {
    "duration": 12,
    "start_time": "2022-02-15T08:59:02.673Z"
   },
   {
    "duration": 36,
    "start_time": "2022-02-15T08:59:02.687Z"
   },
   {
    "duration": 28,
    "start_time": "2022-02-15T08:59:02.725Z"
   },
   {
    "duration": 41,
    "start_time": "2022-02-15T08:59:02.755Z"
   },
   {
    "duration": 27,
    "start_time": "2022-02-15T08:59:02.798Z"
   },
   {
    "duration": 32,
    "start_time": "2022-02-15T08:59:02.826Z"
   },
   {
    "duration": 43,
    "start_time": "2022-02-15T08:59:02.860Z"
   },
   {
    "duration": 15,
    "start_time": "2022-02-15T08:59:02.906Z"
   },
   {
    "duration": 22,
    "start_time": "2022-02-15T08:59:02.924Z"
   },
   {
    "duration": 46,
    "start_time": "2022-02-15T08:59:02.948Z"
   },
   {
    "duration": 17,
    "start_time": "2022-02-15T08:59:02.996Z"
   },
   {
    "duration": 28,
    "start_time": "2022-02-15T08:59:03.015Z"
   },
   {
    "duration": 50,
    "start_time": "2022-02-15T08:59:03.046Z"
   },
   {
    "duration": 45,
    "start_time": "2022-02-15T08:59:03.098Z"
   },
   {
    "duration": 37,
    "start_time": "2022-02-15T08:59:03.146Z"
   },
   {
    "duration": 10,
    "start_time": "2022-02-15T09:13:45.496Z"
   },
   {
    "duration": 280,
    "start_time": "2022-02-15T09:14:21.112Z"
   },
   {
    "duration": 15,
    "start_time": "2022-02-15T09:14:25.231Z"
   },
   {
    "duration": 87,
    "start_time": "2022-02-15T09:16:30.686Z"
   },
   {
    "duration": 26,
    "start_time": "2022-02-15T09:16:50.953Z"
   },
   {
    "duration": 16,
    "start_time": "2022-02-15T09:17:03.233Z"
   },
   {
    "duration": 56,
    "start_time": "2022-02-15T09:17:33.233Z"
   },
   {
    "duration": 11,
    "start_time": "2022-02-15T09:17:33.291Z"
   },
   {
    "duration": 15,
    "start_time": "2022-02-15T09:17:33.305Z"
   },
   {
    "duration": 7,
    "start_time": "2022-02-15T09:17:33.322Z"
   },
   {
    "duration": 18,
    "start_time": "2022-02-15T09:17:33.331Z"
   },
   {
    "duration": 11,
    "start_time": "2022-02-15T09:17:33.351Z"
   },
   {
    "duration": 28,
    "start_time": "2022-02-15T09:17:33.393Z"
   },
   {
    "duration": 21,
    "start_time": "2022-02-15T09:17:33.423Z"
   },
   {
    "duration": 17,
    "start_time": "2022-02-15T09:17:33.446Z"
   },
   {
    "duration": 13,
    "start_time": "2022-02-15T09:17:33.464Z"
   },
   {
    "duration": 69,
    "start_time": "2022-02-15T09:17:33.479Z"
   },
   {
    "duration": 11,
    "start_time": "2022-02-15T09:17:33.550Z"
   },
   {
    "duration": 43,
    "start_time": "2022-02-15T09:17:33.563Z"
   },
   {
    "duration": 16,
    "start_time": "2022-02-15T09:17:33.872Z"
   },
   {
    "duration": 39,
    "start_time": "2022-02-15T09:17:33.890Z"
   },
   {
    "duration": 19,
    "start_time": "2022-02-15T09:17:33.932Z"
   },
   {
    "duration": 1137,
    "start_time": "2022-02-15T09:17:33.953Z"
   },
   {
    "duration": 61,
    "start_time": "2022-02-15T09:19:40.033Z"
   },
   {
    "duration": 13,
    "start_time": "2022-02-15T09:19:40.096Z"
   },
   {
    "duration": 20,
    "start_time": "2022-02-15T09:19:40.111Z"
   },
   {
    "duration": 18,
    "start_time": "2022-02-15T09:19:40.134Z"
   },
   {
    "duration": 32,
    "start_time": "2022-02-15T09:19:40.154Z"
   },
   {
    "duration": 23,
    "start_time": "2022-02-15T09:19:40.188Z"
   },
   {
    "duration": 26,
    "start_time": "2022-02-15T09:19:40.213Z"
   },
   {
    "duration": 22,
    "start_time": "2022-02-15T09:19:40.242Z"
   },
   {
    "duration": 42,
    "start_time": "2022-02-15T09:19:40.268Z"
   },
   {
    "duration": 14,
    "start_time": "2022-02-15T09:19:40.313Z"
   },
   {
    "duration": 41,
    "start_time": "2022-02-15T09:19:40.330Z"
   },
   {
    "duration": 38,
    "start_time": "2022-02-15T09:19:40.374Z"
   },
   {
    "duration": 25,
    "start_time": "2022-02-15T09:19:40.414Z"
   },
   {
    "duration": 17,
    "start_time": "2022-02-15T09:19:40.442Z"
   },
   {
    "duration": 24,
    "start_time": "2022-02-15T09:19:40.640Z"
   },
   {
    "duration": 18,
    "start_time": "2022-02-15T09:19:40.667Z"
   },
   {
    "duration": 1166,
    "start_time": "2022-02-15T09:19:40.688Z"
   },
   {
    "duration": 70,
    "start_time": "2022-02-15T09:20:30.914Z"
   },
   {
    "duration": 24,
    "start_time": "2022-02-15T09:20:30.987Z"
   },
   {
    "duration": 28,
    "start_time": "2022-02-15T09:20:31.013Z"
   },
   {
    "duration": 16,
    "start_time": "2022-02-15T09:20:31.044Z"
   },
   {
    "duration": 33,
    "start_time": "2022-02-15T09:20:31.063Z"
   },
   {
    "duration": 16,
    "start_time": "2022-02-15T09:20:31.098Z"
   },
   {
    "duration": 69,
    "start_time": "2022-02-15T09:20:31.116Z"
   },
   {
    "duration": 26,
    "start_time": "2022-02-15T09:20:31.188Z"
   },
   {
    "duration": 18,
    "start_time": "2022-02-15T09:20:31.219Z"
   },
   {
    "duration": 40,
    "start_time": "2022-02-15T09:20:31.240Z"
   },
   {
    "duration": 45,
    "start_time": "2022-02-15T09:20:31.282Z"
   },
   {
    "duration": 11,
    "start_time": "2022-02-15T09:20:31.330Z"
   },
   {
    "duration": 55,
    "start_time": "2022-02-15T09:20:31.343Z"
   },
   {
    "duration": 22,
    "start_time": "2022-02-15T09:20:31.401Z"
   },
   {
    "duration": 56,
    "start_time": "2022-02-15T09:20:31.425Z"
   },
   {
    "duration": 21,
    "start_time": "2022-02-15T09:20:31.483Z"
   },
   {
    "duration": 1639,
    "start_time": "2022-02-15T09:20:31.506Z"
   },
   {
    "duration": 100,
    "start_time": "2022-02-15T09:22:22.958Z"
   },
   {
    "duration": 20,
    "start_time": "2022-02-15T09:22:23.062Z"
   },
   {
    "duration": 169,
    "start_time": "2022-02-15T09:22:23.084Z"
   },
   {
    "duration": 8,
    "start_time": "2022-02-15T09:22:23.256Z"
   },
   {
    "duration": 18,
    "start_time": "2022-02-15T09:22:23.266Z"
   },
   {
    "duration": 9,
    "start_time": "2022-02-15T09:22:23.286Z"
   },
   {
    "duration": 25,
    "start_time": "2022-02-15T09:22:23.297Z"
   },
   {
    "duration": 26,
    "start_time": "2022-02-15T09:22:23.326Z"
   },
   {
    "duration": 17,
    "start_time": "2022-02-15T09:22:23.354Z"
   },
   {
    "duration": 45,
    "start_time": "2022-02-15T09:22:23.372Z"
   },
   {
    "duration": 41,
    "start_time": "2022-02-15T09:22:23.419Z"
   },
   {
    "duration": 12,
    "start_time": "2022-02-15T09:22:23.462Z"
   },
   {
    "duration": 51,
    "start_time": "2022-02-15T09:22:23.476Z"
   },
   {
    "duration": 23,
    "start_time": "2022-02-15T09:22:23.530Z"
   },
   {
    "duration": 52,
    "start_time": "2022-02-15T09:22:23.555Z"
   },
   {
    "duration": 20,
    "start_time": "2022-02-15T09:22:23.610Z"
   },
   {
    "duration": 1426,
    "start_time": "2022-02-15T09:22:23.633Z"
   },
   {
    "duration": 1285,
    "start_time": "2022-02-15T09:24:49.911Z"
   },
   {
    "duration": 1186,
    "start_time": "2022-02-15T09:25:36.351Z"
   },
   {
    "duration": 1171,
    "start_time": "2022-02-15T09:32:09.443Z"
   },
   {
    "duration": 2254,
    "start_time": "2022-02-15T09:33:43.912Z"
   },
   {
    "duration": 1152,
    "start_time": "2022-02-15T09:34:33.792Z"
   },
   {
    "duration": 1279,
    "start_time": "2022-02-15T09:38:25.796Z"
   },
   {
    "duration": 15,
    "start_time": "2022-02-15T09:38:50.436Z"
   },
   {
    "duration": 701,
    "start_time": "2022-02-15T09:39:25.076Z"
   },
   {
    "duration": 631,
    "start_time": "2022-02-15T09:39:32.757Z"
   },
   {
    "duration": 10,
    "start_time": "2022-02-15T09:41:49.196Z"
   },
   {
    "duration": 396,
    "start_time": "2022-02-15T09:42:02.796Z"
   },
   {
    "duration": 15,
    "start_time": "2022-02-15T09:42:06.116Z"
   },
   {
    "duration": 7121,
    "start_time": "2022-02-15T09:44:52.956Z"
   },
   {
    "duration": 83,
    "start_time": "2022-02-15T09:45:48.056Z"
   },
   {
    "duration": 18,
    "start_time": "2022-02-15T09:45:48.142Z"
   },
   {
    "duration": 19,
    "start_time": "2022-02-15T09:45:48.163Z"
   },
   {
    "duration": 28,
    "start_time": "2022-02-15T09:45:48.185Z"
   },
   {
    "duration": 23,
    "start_time": "2022-02-15T09:45:48.214Z"
   },
   {
    "duration": 10,
    "start_time": "2022-02-15T09:45:48.238Z"
   },
   {
    "duration": 22,
    "start_time": "2022-02-15T09:45:48.250Z"
   },
   {
    "duration": 49,
    "start_time": "2022-02-15T09:45:48.274Z"
   },
   {
    "duration": 17,
    "start_time": "2022-02-15T09:45:48.325Z"
   },
   {
    "duration": 13,
    "start_time": "2022-02-15T09:45:48.344Z"
   },
   {
    "duration": 59,
    "start_time": "2022-02-15T09:45:48.359Z"
   },
   {
    "duration": 11,
    "start_time": "2022-02-15T09:45:48.420Z"
   },
   {
    "duration": 16,
    "start_time": "2022-02-15T09:45:48.433Z"
   },
   {
    "duration": 8558,
    "start_time": "2022-02-15T09:45:48.451Z"
   },
   {
    "duration": -159,
    "start_time": "2022-02-15T09:45:57.170Z"
   },
   {
    "duration": -161,
    "start_time": "2022-02-15T09:45:57.173Z"
   },
   {
    "duration": -163,
    "start_time": "2022-02-15T09:45:57.176Z"
   },
   {
    "duration": -167,
    "start_time": "2022-02-15T09:45:57.182Z"
   },
   {
    "duration": 7640,
    "start_time": "2022-02-15T09:46:11.604Z"
   },
   {
    "duration": 8,
    "start_time": "2022-02-15T09:46:28.634Z"
   },
   {
    "duration": 14,
    "start_time": "2022-02-15T09:46:31.716Z"
   },
   {
    "duration": 63,
    "start_time": "2022-02-15T09:46:37.956Z"
   },
   {
    "duration": 12,
    "start_time": "2022-02-15T09:46:38.021Z"
   },
   {
    "duration": 17,
    "start_time": "2022-02-15T09:46:38.035Z"
   },
   {
    "duration": 8,
    "start_time": "2022-02-15T09:46:38.054Z"
   },
   {
    "duration": 55,
    "start_time": "2022-02-15T09:46:38.064Z"
   },
   {
    "duration": 16,
    "start_time": "2022-02-15T09:46:38.121Z"
   },
   {
    "duration": 30,
    "start_time": "2022-02-15T09:46:38.140Z"
   },
   {
    "duration": 56,
    "start_time": "2022-02-15T09:46:38.172Z"
   },
   {
    "duration": 16,
    "start_time": "2022-02-15T09:46:38.231Z"
   },
   {
    "duration": 23,
    "start_time": "2022-02-15T09:46:38.250Z"
   },
   {
    "duration": 55,
    "start_time": "2022-02-15T09:46:38.275Z"
   },
   {
    "duration": 12,
    "start_time": "2022-02-15T09:46:38.332Z"
   },
   {
    "duration": 14,
    "start_time": "2022-02-15T09:46:38.347Z"
   },
   {
    "duration": 9,
    "start_time": "2022-02-15T09:46:38.363Z"
   },
   {
    "duration": 38,
    "start_time": "2022-02-15T09:46:38.374Z"
   },
   {
    "duration": 41,
    "start_time": "2022-02-15T09:46:38.415Z"
   },
   {
    "duration": 21,
    "start_time": "2022-02-15T09:46:38.458Z"
   },
   {
    "duration": 28,
    "start_time": "2022-02-15T09:46:38.481Z"
   },
   {
    "duration": 9,
    "start_time": "2022-02-15T10:01:24.595Z"
   },
   {
    "duration": 3,
    "start_time": "2022-02-15T10:08:12.355Z"
   },
   {
    "duration": 3,
    "start_time": "2022-02-15T10:11:14.036Z"
   },
   {
    "duration": 20,
    "start_time": "2022-02-15T10:11:59.716Z"
   },
   {
    "duration": 21,
    "start_time": "2022-02-15T10:13:30.515Z"
   },
   {
    "duration": 22,
    "start_time": "2022-02-15T10:14:13.005Z"
   },
   {
    "duration": 20,
    "start_time": "2022-02-15T10:16:37.876Z"
   },
   {
    "duration": 22,
    "start_time": "2022-02-15T10:17:02.915Z"
   },
   {
    "duration": 21,
    "start_time": "2022-02-15T10:19:40.835Z"
   },
   {
    "duration": 24,
    "start_time": "2022-02-15T11:55:36.396Z"
   },
   {
    "duration": 24,
    "start_time": "2022-02-15T12:03:26.868Z"
   },
   {
    "duration": 22,
    "start_time": "2022-02-15T12:06:24.748Z"
   },
   {
    "duration": 24,
    "start_time": "2022-02-15T12:06:39.029Z"
   },
   {
    "duration": 67,
    "start_time": "2022-02-15T12:06:41.479Z"
   },
   {
    "duration": 12,
    "start_time": "2022-02-15T12:06:41.548Z"
   },
   {
    "duration": 24,
    "start_time": "2022-02-15T12:06:41.562Z"
   },
   {
    "duration": 28,
    "start_time": "2022-02-15T12:06:41.588Z"
   },
   {
    "duration": 42,
    "start_time": "2022-02-15T12:06:41.618Z"
   },
   {
    "duration": 17,
    "start_time": "2022-02-15T12:06:41.662Z"
   },
   {
    "duration": 45,
    "start_time": "2022-02-15T12:06:41.682Z"
   },
   {
    "duration": 43,
    "start_time": "2022-02-15T12:06:41.730Z"
   },
   {
    "duration": 31,
    "start_time": "2022-02-15T12:06:41.777Z"
   },
   {
    "duration": 30,
    "start_time": "2022-02-15T12:06:41.811Z"
   },
   {
    "duration": 64,
    "start_time": "2022-02-15T12:06:41.844Z"
   },
   {
    "duration": 20,
    "start_time": "2022-02-15T12:06:41.911Z"
   },
   {
    "duration": 28,
    "start_time": "2022-02-15T12:06:41.933Z"
   },
   {
    "duration": 33,
    "start_time": "2022-02-15T12:06:41.963Z"
   },
   {
    "duration": 47,
    "start_time": "2022-02-15T12:06:41.999Z"
   },
   {
    "duration": 36,
    "start_time": "2022-02-15T12:06:42.049Z"
   },
   {
    "duration": 46,
    "start_time": "2022-02-15T12:06:42.087Z"
   },
   {
    "duration": 71,
    "start_time": "2022-02-15T12:06:42.136Z"
   },
   {
    "duration": 66,
    "start_time": "2022-02-15T12:06:42.208Z"
   },
   {
    "duration": 18,
    "start_time": "2022-02-15T12:22:46.466Z"
   },
   {
    "duration": 21,
    "start_time": "2022-02-15T12:23:06.095Z"
   },
   {
    "duration": 246,
    "start_time": "2022-02-15T12:26:25.189Z"
   },
   {
    "duration": 14,
    "start_time": "2022-02-15T12:27:17.078Z"
   },
   {
    "duration": 42,
    "start_time": "2022-02-15T12:28:17.574Z"
   },
   {
    "duration": 79,
    "start_time": "2022-02-15T12:30:02.180Z"
   },
   {
    "duration": 81,
    "start_time": "2022-02-15T12:30:05.512Z"
   },
   {
    "duration": 22,
    "start_time": "2022-02-15T12:30:10.207Z"
   },
   {
    "duration": 5,
    "start_time": "2022-02-15T12:33:22.181Z"
   },
   {
    "duration": 299,
    "start_time": "2022-02-15T12:34:51.499Z"
   },
   {
    "duration": 17,
    "start_time": "2022-02-15T12:35:27.513Z"
   },
   {
    "duration": 22,
    "start_time": "2022-02-15T12:35:34.879Z"
   },
   {
    "duration": 21,
    "start_time": "2022-02-15T12:36:22.180Z"
   },
   {
    "duration": 19,
    "start_time": "2022-02-15T12:36:28.153Z"
   },
   {
    "duration": 23,
    "start_time": "2022-02-15T12:36:35.972Z"
   },
   {
    "duration": 28,
    "start_time": "2022-02-15T12:37:33.708Z"
   },
   {
    "duration": 260,
    "start_time": "2022-02-15T12:38:11.589Z"
   },
   {
    "duration": 18,
    "start_time": "2022-02-15T12:38:31.345Z"
   },
   {
    "duration": 460,
    "start_time": "2022-02-15T13:43:00.874Z"
   },
   {
    "duration": 946,
    "start_time": "2022-02-15T13:43:07.275Z"
   },
   {
    "duration": 25,
    "start_time": "2022-02-15T13:43:08.224Z"
   },
   {
    "duration": 16,
    "start_time": "2022-02-15T13:43:08.251Z"
   },
   {
    "duration": 15,
    "start_time": "2022-02-15T13:43:08.270Z"
   },
   {
    "duration": 37,
    "start_time": "2022-02-15T13:43:08.287Z"
   },
   {
    "duration": 29,
    "start_time": "2022-02-15T13:43:08.326Z"
   },
   {
    "duration": 41,
    "start_time": "2022-02-15T13:43:08.357Z"
   },
   {
    "duration": 34,
    "start_time": "2022-02-15T13:43:08.400Z"
   },
   {
    "duration": 32,
    "start_time": "2022-02-15T13:43:08.438Z"
   },
   {
    "duration": 15,
    "start_time": "2022-02-15T13:43:08.473Z"
   },
   {
    "duration": 71,
    "start_time": "2022-02-15T13:43:08.491Z"
   },
   {
    "duration": 15,
    "start_time": "2022-02-15T13:43:08.565Z"
   },
   {
    "duration": 19,
    "start_time": "2022-02-15T13:43:08.583Z"
   },
   {
    "duration": 45,
    "start_time": "2022-02-15T13:43:08.605Z"
   },
   {
    "duration": 28,
    "start_time": "2022-02-15T13:43:08.653Z"
   },
   {
    "duration": 20,
    "start_time": "2022-02-15T13:43:08.683Z"
   },
   {
    "duration": 75,
    "start_time": "2022-02-15T13:43:08.705Z"
   },
   {
    "duration": 12,
    "start_time": "2022-02-15T13:43:08.783Z"
   },
   {
    "duration": 81,
    "start_time": "2022-02-15T13:43:08.799Z"
   },
   {
    "duration": 41,
    "start_time": "2022-02-15T13:43:08.883Z"
   },
   {
    "duration": 43,
    "start_time": "2022-02-15T13:43:08.927Z"
   },
   {
    "duration": 5335,
    "start_time": "2022-02-15T13:47:22.648Z"
   },
   {
    "duration": 5729,
    "start_time": "2022-02-15T13:47:38.936Z"
   },
   {
    "duration": 5662,
    "start_time": "2022-02-15T13:47:57.286Z"
   },
   {
    "duration": 27,
    "start_time": "2022-02-15T13:48:37.860Z"
   },
   {
    "duration": 28,
    "start_time": "2022-02-15T13:49:42.755Z"
   },
   {
    "duration": 7213,
    "start_time": "2022-02-15T13:52:15.355Z"
   },
   {
    "duration": 20,
    "start_time": "2022-02-15T13:55:19.955Z"
   },
   {
    "duration": 26,
    "start_time": "2022-02-15T13:55:29.237Z"
   },
   {
    "duration": 5392,
    "start_time": "2022-02-15T13:57:12.035Z"
   },
   {
    "duration": 5656,
    "start_time": "2022-02-15T13:59:52.495Z"
   },
   {
    "duration": 5704,
    "start_time": "2022-02-15T14:00:28.205Z"
   },
   {
    "duration": 5941,
    "start_time": "2022-02-15T14:00:45.683Z"
   },
   {
    "duration": 5,
    "start_time": "2022-02-15T14:00:58.771Z"
   },
   {
    "duration": 11,
    "start_time": "2022-02-15T14:01:08.995Z"
   },
   {
    "duration": 6926,
    "start_time": "2022-02-15T14:02:37.206Z"
   },
   {
    "duration": 7,
    "start_time": "2022-02-15T14:09:00.516Z"
   },
   {
    "duration": 13,
    "start_time": "2022-02-15T14:09:33.282Z"
   },
   {
    "duration": 59,
    "start_time": "2022-02-15T14:10:01.795Z"
   },
   {
    "duration": 72,
    "start_time": "2022-02-15T14:10:09.522Z"
   },
   {
    "duration": 13,
    "start_time": "2022-02-15T14:10:09.597Z"
   },
   {
    "duration": 37,
    "start_time": "2022-02-15T14:10:09.613Z"
   },
   {
    "duration": 7,
    "start_time": "2022-02-15T14:10:09.653Z"
   },
   {
    "duration": 32,
    "start_time": "2022-02-15T14:10:09.662Z"
   },
   {
    "duration": 12,
    "start_time": "2022-02-15T14:10:09.696Z"
   },
   {
    "duration": 52,
    "start_time": "2022-02-15T14:10:09.711Z"
   },
   {
    "duration": 28,
    "start_time": "2022-02-15T14:10:09.766Z"
   },
   {
    "duration": 56,
    "start_time": "2022-02-15T14:10:09.798Z"
   },
   {
    "duration": 16,
    "start_time": "2022-02-15T14:10:09.857Z"
   },
   {
    "duration": 40,
    "start_time": "2022-02-15T14:10:09.876Z"
   },
   {
    "duration": 39,
    "start_time": "2022-02-15T14:10:09.919Z"
   },
   {
    "duration": 25,
    "start_time": "2022-02-15T14:10:09.960Z"
   },
   {
    "duration": 8,
    "start_time": "2022-02-15T14:10:09.988Z"
   },
   {
    "duration": 63,
    "start_time": "2022-02-15T14:10:09.999Z"
   },
   {
    "duration": 20,
    "start_time": "2022-02-15T14:10:10.065Z"
   },
   {
    "duration": 67,
    "start_time": "2022-02-15T14:10:10.088Z"
   },
   {
    "duration": 12,
    "start_time": "2022-02-15T14:10:10.158Z"
   },
   {
    "duration": 31,
    "start_time": "2022-02-15T14:10:10.172Z"
   },
   {
    "duration": 60,
    "start_time": "2022-02-15T14:10:10.206Z"
   },
   {
    "duration": 18,
    "start_time": "2022-02-15T14:10:10.269Z"
   },
   {
    "duration": 34,
    "start_time": "2022-02-15T14:10:10.290Z"
   },
   {
    "duration": 282,
    "start_time": "2022-02-15T14:10:57.510Z"
   },
   {
    "duration": 279,
    "start_time": "2022-02-15T14:11:14.009Z"
   },
   {
    "duration": 5,
    "start_time": "2022-02-15T14:11:18.275Z"
   },
   {
    "duration": 32,
    "start_time": "2022-02-15T14:11:32.010Z"
   },
   {
    "duration": 7358,
    "start_time": "2022-02-15T14:14:32.196Z"
   },
   {
    "duration": 84,
    "start_time": "2022-02-15T14:14:49.042Z"
   },
   {
    "duration": 29,
    "start_time": "2022-02-15T14:14:49.130Z"
   },
   {
    "duration": 17,
    "start_time": "2022-02-15T14:14:49.162Z"
   },
   {
    "duration": 7,
    "start_time": "2022-02-15T14:14:49.182Z"
   },
   {
    "duration": 63,
    "start_time": "2022-02-15T14:14:49.192Z"
   },
   {
    "duration": 12,
    "start_time": "2022-02-15T14:14:49.258Z"
   },
   {
    "duration": 32,
    "start_time": "2022-02-15T14:14:49.272Z"
   },
   {
    "duration": 53,
    "start_time": "2022-02-15T14:14:49.308Z"
   },
   {
    "duration": 22,
    "start_time": "2022-02-15T14:14:49.364Z"
   },
   {
    "duration": 15,
    "start_time": "2022-02-15T14:14:49.389Z"
   },
   {
    "duration": 73,
    "start_time": "2022-02-15T14:14:49.406Z"
   },
   {
    "duration": 16,
    "start_time": "2022-02-15T14:14:49.482Z"
   },
   {
    "duration": 20,
    "start_time": "2022-02-15T14:14:49.501Z"
   },
   {
    "duration": 32,
    "start_time": "2022-02-15T14:14:49.523Z"
   },
   {
    "duration": 27,
    "start_time": "2022-02-15T14:14:49.558Z"
   },
   {
    "duration": 24,
    "start_time": "2022-02-15T14:14:49.588Z"
   },
   {
    "duration": 68,
    "start_time": "2022-02-15T14:14:49.615Z"
   },
   {
    "duration": 14,
    "start_time": "2022-02-15T14:14:49.686Z"
   },
   {
    "duration": 80,
    "start_time": "2022-02-15T14:14:49.703Z"
   },
   {
    "duration": 40,
    "start_time": "2022-02-15T14:14:49.786Z"
   },
   {
    "duration": 24,
    "start_time": "2022-02-15T14:14:49.849Z"
   },
   {
    "duration": 30,
    "start_time": "2022-02-15T14:17:10.835Z"
   },
   {
    "duration": 310,
    "start_time": "2022-02-15T14:18:57.954Z"
   },
   {
    "duration": 41,
    "start_time": "2022-02-15T14:19:07.644Z"
   },
   {
    "duration": 72,
    "start_time": "2022-02-15T14:23:13.543Z"
   },
   {
    "duration": 33,
    "start_time": "2022-02-15T14:25:15.875Z"
   },
   {
    "duration": 3,
    "start_time": "2022-02-15T14:28:45.715Z"
   },
   {
    "duration": 36,
    "start_time": "2022-02-15T14:30:35.484Z"
   },
   {
    "duration": 35,
    "start_time": "2022-02-15T14:30:56.554Z"
   },
   {
    "duration": 79,
    "start_time": "2022-02-15T14:44:30.658Z"
   },
   {
    "duration": 15,
    "start_time": "2022-02-15T14:44:30.748Z"
   },
   {
    "duration": 21,
    "start_time": "2022-02-15T14:44:30.766Z"
   },
   {
    "duration": 9,
    "start_time": "2022-02-15T14:44:30.790Z"
   },
   {
    "duration": 74,
    "start_time": "2022-02-15T14:44:30.802Z"
   },
   {
    "duration": 20,
    "start_time": "2022-02-15T14:44:30.879Z"
   },
   {
    "duration": 56,
    "start_time": "2022-02-15T14:44:30.902Z"
   },
   {
    "duration": 47,
    "start_time": "2022-02-15T14:44:30.962Z"
   },
   {
    "duration": 58,
    "start_time": "2022-02-15T14:44:31.016Z"
   },
   {
    "duration": 21,
    "start_time": "2022-02-15T14:44:31.078Z"
   },
   {
    "duration": 73,
    "start_time": "2022-02-15T14:44:31.101Z"
   },
   {
    "duration": 17,
    "start_time": "2022-02-15T14:44:31.177Z"
   },
   {
    "duration": 20,
    "start_time": "2022-02-15T14:44:31.197Z"
   },
   {
    "duration": 54,
    "start_time": "2022-02-15T14:44:31.220Z"
   },
   {
    "duration": 30,
    "start_time": "2022-02-15T14:44:31.277Z"
   },
   {
    "duration": 21,
    "start_time": "2022-02-15T14:44:31.310Z"
   },
   {
    "duration": 46,
    "start_time": "2022-02-15T14:44:31.334Z"
   },
   {
    "duration": 28,
    "start_time": "2022-02-15T14:44:31.382Z"
   },
   {
    "duration": 58,
    "start_time": "2022-02-15T14:44:31.413Z"
   },
   {
    "duration": 45,
    "start_time": "2022-02-15T14:44:31.474Z"
   },
   {
    "duration": 45,
    "start_time": "2022-02-15T14:44:31.522Z"
   },
   {
    "duration": 31,
    "start_time": "2022-02-15T14:44:31.570Z"
   },
   {
    "duration": 57,
    "start_time": "2022-02-15T14:44:31.604Z"
   },
   {
    "duration": 865,
    "start_time": "2022-02-16T09:13:32.637Z"
   },
   {
    "duration": 16,
    "start_time": "2022-02-16T09:13:33.505Z"
   },
   {
    "duration": 20,
    "start_time": "2022-02-16T09:13:33.525Z"
   },
   {
    "duration": 8,
    "start_time": "2022-02-16T09:13:33.568Z"
   },
   {
    "duration": 27,
    "start_time": "2022-02-16T09:13:33.578Z"
   },
   {
    "duration": 12,
    "start_time": "2022-02-16T09:13:33.607Z"
   },
   {
    "duration": 63,
    "start_time": "2022-02-16T09:13:33.622Z"
   },
   {
    "duration": 34,
    "start_time": "2022-02-16T09:13:33.687Z"
   },
   {
    "duration": 52,
    "start_time": "2022-02-16T09:13:33.725Z"
   },
   {
    "duration": 16,
    "start_time": "2022-02-16T09:13:33.780Z"
   },
   {
    "duration": 41,
    "start_time": "2022-02-16T09:13:33.798Z"
   },
   {
    "duration": 371,
    "start_time": "2022-02-16T09:13:33.870Z"
   },
   {
    "duration": 1952,
    "start_time": "2022-02-16T09:13:32.291Z"
   },
   {
    "duration": 1947,
    "start_time": "2022-02-16T09:13:32.298Z"
   },
   {
    "duration": 1934,
    "start_time": "2022-02-16T09:13:32.312Z"
   },
   {
    "duration": 1932,
    "start_time": "2022-02-16T09:13:32.315Z"
   },
   {
    "duration": 1929,
    "start_time": "2022-02-16T09:13:32.320Z"
   },
   {
    "duration": 1925,
    "start_time": "2022-02-16T09:13:32.325Z"
   },
   {
    "duration": 1924,
    "start_time": "2022-02-16T09:13:32.328Z"
   },
   {
    "duration": 1913,
    "start_time": "2022-02-16T09:13:32.340Z"
   },
   {
    "duration": 1908,
    "start_time": "2022-02-16T09:13:32.347Z"
   },
   {
    "duration": 1900,
    "start_time": "2022-02-16T09:13:32.356Z"
   },
   {
    "duration": 1897,
    "start_time": "2022-02-16T09:13:32.361Z"
   },
   {
    "duration": 17,
    "start_time": "2022-02-16T09:14:05.245Z"
   },
   {
    "duration": 5,
    "start_time": "2022-02-16T09:15:35.793Z"
   },
   {
    "duration": 77,
    "start_time": "2022-02-16T09:15:52.370Z"
   },
   {
    "duration": 22,
    "start_time": "2022-02-16T09:15:52.449Z"
   },
   {
    "duration": 17,
    "start_time": "2022-02-16T09:15:52.474Z"
   },
   {
    "duration": 10,
    "start_time": "2022-02-16T09:15:52.494Z"
   },
   {
    "duration": 26,
    "start_time": "2022-02-16T09:15:52.506Z"
   },
   {
    "duration": 15,
    "start_time": "2022-02-16T09:15:52.570Z"
   },
   {
    "duration": 32,
    "start_time": "2022-02-16T09:15:52.588Z"
   },
   {
    "duration": 65,
    "start_time": "2022-02-16T09:15:52.623Z"
   },
   {
    "duration": 23,
    "start_time": "2022-02-16T09:15:52.692Z"
   },
   {
    "duration": 34,
    "start_time": "2022-02-16T09:15:52.718Z"
   },
   {
    "duration": 54,
    "start_time": "2022-02-16T09:15:52.754Z"
   },
   {
    "duration": 16,
    "start_time": "2022-02-16T09:15:52.811Z"
   },
   {
    "duration": 45,
    "start_time": "2022-02-16T09:15:52.829Z"
   },
   {
    "duration": 8,
    "start_time": "2022-02-16T09:15:52.877Z"
   },
   {
    "duration": 7,
    "start_time": "2022-02-16T09:15:52.887Z"
   },
   {
    "duration": 27,
    "start_time": "2022-02-16T09:15:52.896Z"
   },
   {
    "duration": 59,
    "start_time": "2022-02-16T09:15:52.925Z"
   },
   {
    "duration": 36,
    "start_time": "2022-02-16T09:15:52.986Z"
   },
   {
    "duration": 12,
    "start_time": "2022-02-16T09:15:53.024Z"
   },
   {
    "duration": 61,
    "start_time": "2022-02-16T09:15:53.038Z"
   },
   {
    "duration": 34,
    "start_time": "2022-02-16T09:15:53.101Z"
   },
   {
    "duration": 58,
    "start_time": "2022-02-16T09:15:53.138Z"
   },
   {
    "duration": 32,
    "start_time": "2022-02-16T09:15:53.198Z"
   },
   {
    "duration": 56,
    "start_time": "2022-02-16T09:15:53.233Z"
   },
   {
    "duration": 85,
    "start_time": "2022-02-16T09:17:39.320Z"
   },
   {
    "duration": 21,
    "start_time": "2022-02-16T09:17:47.481Z"
   },
   {
    "duration": 241,
    "start_time": "2022-02-26T14:45:02.825Z"
   },
   {
    "duration": 601,
    "start_time": "2022-02-26T14:45:09.971Z"
   },
   {
    "duration": 12,
    "start_time": "2022-02-26T14:45:10.575Z"
   },
   {
    "duration": 13,
    "start_time": "2022-02-26T14:45:10.589Z"
   },
   {
    "duration": 6,
    "start_time": "2022-02-26T14:45:10.604Z"
   },
   {
    "duration": 16,
    "start_time": "2022-02-26T14:45:10.611Z"
   },
   {
    "duration": 40,
    "start_time": "2022-02-26T14:45:10.628Z"
   },
   {
    "duration": 210,
    "start_time": "2022-02-26T14:45:10.670Z"
   },
   {
    "duration": -5065,
    "start_time": "2022-02-26T14:45:15.947Z"
   },
   {
    "duration": -5066,
    "start_time": "2022-02-26T14:45:15.949Z"
   },
   {
    "duration": -5066,
    "start_time": "2022-02-26T14:45:15.950Z"
   },
   {
    "duration": -5067,
    "start_time": "2022-02-26T14:45:15.952Z"
   },
   {
    "duration": -5068,
    "start_time": "2022-02-26T14:45:15.954Z"
   },
   {
    "duration": -5069,
    "start_time": "2022-02-26T14:45:15.956Z"
   },
   {
    "duration": -5070,
    "start_time": "2022-02-26T14:45:15.958Z"
   },
   {
    "duration": -5070,
    "start_time": "2022-02-26T14:45:15.959Z"
   },
   {
    "duration": -5071,
    "start_time": "2022-02-26T14:45:15.961Z"
   },
   {
    "duration": -5071,
    "start_time": "2022-02-26T14:45:15.962Z"
   },
   {
    "duration": -5071,
    "start_time": "2022-02-26T14:45:15.963Z"
   },
   {
    "duration": -5076,
    "start_time": "2022-02-26T14:45:15.969Z"
   },
   {
    "duration": -5077,
    "start_time": "2022-02-26T14:45:15.971Z"
   },
   {
    "duration": -5078,
    "start_time": "2022-02-26T14:45:15.973Z"
   },
   {
    "duration": -5078,
    "start_time": "2022-02-26T14:45:15.974Z"
   },
   {
    "duration": -5079,
    "start_time": "2022-02-26T14:45:15.976Z"
   },
   {
    "duration": -5079,
    "start_time": "2022-02-26T14:45:15.977Z"
   },
   {
    "duration": -5079,
    "start_time": "2022-02-26T14:45:15.978Z"
   },
   {
    "duration": 17,
    "start_time": "2022-02-26T14:45:21.173Z"
   },
   {
    "duration": 58,
    "start_time": "2022-02-26T14:45:35.204Z"
   },
   {
    "duration": 10,
    "start_time": "2022-02-26T14:45:35.263Z"
   },
   {
    "duration": 12,
    "start_time": "2022-02-26T14:45:35.275Z"
   },
   {
    "duration": 5,
    "start_time": "2022-02-26T14:45:35.289Z"
   },
   {
    "duration": 14,
    "start_time": "2022-02-26T14:45:35.295Z"
   },
   {
    "duration": 8,
    "start_time": "2022-02-26T14:45:35.311Z"
   },
   {
    "duration": 48,
    "start_time": "2022-02-26T14:45:35.321Z"
   },
   {
    "duration": 15,
    "start_time": "2022-02-26T14:45:35.372Z"
   },
   {
    "duration": 20,
    "start_time": "2022-02-26T14:45:35.389Z"
   },
   {
    "duration": 14,
    "start_time": "2022-02-26T14:45:35.411Z"
   },
   {
    "duration": 11,
    "start_time": "2022-02-26T14:45:35.460Z"
   },
   {
    "duration": 28,
    "start_time": "2022-02-26T14:45:35.473Z"
   },
   {
    "duration": 12,
    "start_time": "2022-02-26T14:45:35.503Z"
   },
   {
    "duration": 44,
    "start_time": "2022-02-26T14:45:35.517Z"
   },
   {
    "duration": 6,
    "start_time": "2022-02-26T14:45:35.562Z"
   },
   {
    "duration": 6,
    "start_time": "2022-02-26T14:45:35.570Z"
   },
   {
    "duration": 15,
    "start_time": "2022-02-26T14:45:35.578Z"
   },
   {
    "duration": 12,
    "start_time": "2022-02-26T14:45:35.595Z"
   },
   {
    "duration": 59,
    "start_time": "2022-02-26T14:45:35.609Z"
   },
   {
    "duration": 8,
    "start_time": "2022-02-26T14:45:35.670Z"
   },
   {
    "duration": 23,
    "start_time": "2022-02-26T14:45:35.679Z"
   },
   {
    "duration": 23,
    "start_time": "2022-02-26T14:45:35.703Z"
   },
   {
    "duration": 40,
    "start_time": "2022-02-26T14:45:35.729Z"
   },
   {
    "duration": 20,
    "start_time": "2022-02-26T14:45:35.771Z"
   },
   {
    "duration": 20,
    "start_time": "2022-02-26T14:45:35.793Z"
   },
   {
    "duration": 7,
    "start_time": "2022-02-26T14:45:45.246Z"
   },
   {
    "duration": 68,
    "start_time": "2022-02-26T14:59:56.404Z"
   },
   {
    "duration": 1090,
    "start_time": "2022-02-26T14:59:58.934Z"
   },
   {
    "duration": 21,
    "start_time": "2022-02-26T15:01:46.815Z"
   },
   {
    "duration": 4,
    "start_time": "2022-02-26T15:02:49.438Z"
   },
   {
    "duration": 4,
    "start_time": "2022-02-26T15:02:54.616Z"
   },
   {
    "duration": 67,
    "start_time": "2022-02-26T18:45:03.666Z"
   },
   {
    "duration": 789,
    "start_time": "2022-02-26T18:45:08.933Z"
   },
   {
    "duration": 15,
    "start_time": "2022-02-26T18:45:09.725Z"
   },
   {
    "duration": 16,
    "start_time": "2022-02-26T18:45:09.752Z"
   },
   {
    "duration": 7,
    "start_time": "2022-02-26T18:45:09.770Z"
   },
   {
    "duration": 22,
    "start_time": "2022-02-26T18:45:09.780Z"
   },
   {
    "duration": 53,
    "start_time": "2022-02-26T18:45:09.804Z"
   },
   {
    "duration": 11,
    "start_time": "2022-02-26T18:45:09.859Z"
   },
   {
    "duration": 23,
    "start_time": "2022-02-26T18:45:09.873Z"
   },
   {
    "duration": 61,
    "start_time": "2022-02-26T18:45:09.900Z"
   },
   {
    "duration": 23,
    "start_time": "2022-02-26T18:45:09.964Z"
   },
   {
    "duration": 15,
    "start_time": "2022-02-26T18:45:09.989Z"
   },
   {
    "duration": 49,
    "start_time": "2022-02-26T18:45:10.007Z"
   },
   {
    "duration": 19,
    "start_time": "2022-02-26T18:45:10.058Z"
   },
   {
    "duration": 7,
    "start_time": "2022-02-26T18:45:10.079Z"
   },
   {
    "duration": 8,
    "start_time": "2022-02-26T18:45:10.088Z"
   },
   {
    "duration": 96,
    "start_time": "2022-02-26T18:45:10.098Z"
   },
   {
    "duration": -87,
    "start_time": "2022-02-26T18:45:10.283Z"
   },
   {
    "duration": -91,
    "start_time": "2022-02-26T18:45:10.288Z"
   },
   {
    "duration": -93,
    "start_time": "2022-02-26T18:45:10.292Z"
   },
   {
    "duration": -94,
    "start_time": "2022-02-26T18:45:10.295Z"
   },
   {
    "duration": -97,
    "start_time": "2022-02-26T18:45:10.299Z"
   },
   {
    "duration": -100,
    "start_time": "2022-02-26T18:45:10.303Z"
   },
   {
    "duration": -102,
    "start_time": "2022-02-26T18:45:10.307Z"
   },
   {
    "duration": -103,
    "start_time": "2022-02-26T18:45:10.309Z"
   },
   {
    "duration": -104,
    "start_time": "2022-02-26T18:45:10.312Z"
   },
   {
    "duration": -107,
    "start_time": "2022-02-26T18:45:10.316Z"
   },
   {
    "duration": -107,
    "start_time": "2022-02-26T18:45:10.318Z"
   },
   {
    "duration": 71,
    "start_time": "2022-02-26T18:45:32.168Z"
   },
   {
    "duration": 20,
    "start_time": "2022-02-26T18:45:32.242Z"
   },
   {
    "duration": 15,
    "start_time": "2022-02-26T18:45:32.265Z"
   },
   {
    "duration": 6,
    "start_time": "2022-02-26T18:45:32.283Z"
   },
   {
    "duration": 60,
    "start_time": "2022-02-26T18:45:32.291Z"
   },
   {
    "duration": 13,
    "start_time": "2022-02-26T18:45:32.353Z"
   },
   {
    "duration": 14,
    "start_time": "2022-02-26T18:45:32.369Z"
   },
   {
    "duration": 24,
    "start_time": "2022-02-26T18:45:32.387Z"
   },
   {
    "duration": 60,
    "start_time": "2022-02-26T18:45:32.414Z"
   },
   {
    "duration": 22,
    "start_time": "2022-02-26T18:45:32.476Z"
   },
   {
    "duration": 15,
    "start_time": "2022-02-26T18:45:32.500Z"
   },
   {
    "duration": 44,
    "start_time": "2022-02-26T18:45:32.517Z"
   },
   {
    "duration": 18,
    "start_time": "2022-02-26T18:45:32.563Z"
   },
   {
    "duration": 10,
    "start_time": "2022-02-26T18:45:32.584Z"
   },
   {
    "duration": 14,
    "start_time": "2022-02-26T18:45:32.596Z"
   },
   {
    "duration": 72,
    "start_time": "2022-02-26T18:45:32.613Z"
   },
   {
    "duration": 25,
    "start_time": "2022-02-26T18:45:32.687Z"
   },
   {
    "duration": 41,
    "start_time": "2022-02-26T18:45:32.715Z"
   },
   {
    "duration": 32,
    "start_time": "2022-02-26T18:45:32.758Z"
   },
   {
    "duration": 10,
    "start_time": "2022-02-26T18:45:32.792Z"
   },
   {
    "duration": 62,
    "start_time": "2022-02-26T18:45:32.804Z"
   },
   {
    "duration": 33,
    "start_time": "2022-02-26T18:45:32.869Z"
   },
   {
    "duration": 484,
    "start_time": "2022-02-26T18:45:32.907Z"
   },
   {
    "duration": 36,
    "start_time": "2022-02-26T18:45:33.394Z"
   },
   {
    "duration": 45,
    "start_time": "2022-02-26T18:45:33.433Z"
   },
   {
    "duration": 30,
    "start_time": "2022-02-26T18:45:33.480Z"
   },
   {
    "duration": 52,
    "start_time": "2022-02-26T18:45:33.512Z"
   },
   {
    "duration": 311,
    "start_time": "2022-02-26T18:47:28.058Z"
   },
   {
    "duration": 72,
    "start_time": "2022-02-26T18:47:44.981Z"
   },
   {
    "duration": 13,
    "start_time": "2022-02-26T18:47:45.056Z"
   },
   {
    "duration": 17,
    "start_time": "2022-02-26T18:47:45.073Z"
   },
   {
    "duration": 7,
    "start_time": "2022-02-26T18:47:45.093Z"
   },
   {
    "duration": 63,
    "start_time": "2022-02-26T18:47:45.102Z"
   },
   {
    "duration": 12,
    "start_time": "2022-02-26T18:47:45.167Z"
   },
   {
    "duration": 17,
    "start_time": "2022-02-26T18:47:45.181Z"
   },
   {
    "duration": 53,
    "start_time": "2022-02-26T18:47:45.200Z"
   },
   {
    "duration": 30,
    "start_time": "2022-02-26T18:47:45.256Z"
   },
   {
    "duration": 22,
    "start_time": "2022-02-26T18:47:45.289Z"
   },
   {
    "duration": 47,
    "start_time": "2022-02-26T18:47:45.313Z"
   },
   {
    "duration": 16,
    "start_time": "2022-02-26T18:47:45.362Z"
   },
   {
    "duration": 18,
    "start_time": "2022-02-26T18:47:45.380Z"
   },
   {
    "duration": 8,
    "start_time": "2022-02-26T18:47:45.400Z"
   },
   {
    "duration": 45,
    "start_time": "2022-02-26T18:47:45.410Z"
   },
   {
    "duration": 101,
    "start_time": "2022-02-26T18:47:45.457Z"
   },
   {
    "duration": 203,
    "start_time": "2022-02-26T18:47:45.560Z"
   },
   {
    "duration": -27,
    "start_time": "2022-02-26T18:47:45.792Z"
   },
   {
    "duration": -28,
    "start_time": "2022-02-26T18:47:45.795Z"
   },
   {
    "duration": -31,
    "start_time": "2022-02-26T18:47:45.799Z"
   },
   {
    "duration": -31,
    "start_time": "2022-02-26T18:47:45.801Z"
   },
   {
    "duration": -33,
    "start_time": "2022-02-26T18:47:45.804Z"
   },
   {
    "duration": -34,
    "start_time": "2022-02-26T18:47:45.807Z"
   },
   {
    "duration": -39,
    "start_time": "2022-02-26T18:47:45.813Z"
   },
   {
    "duration": -41,
    "start_time": "2022-02-26T18:47:45.816Z"
   },
   {
    "duration": -41,
    "start_time": "2022-02-26T18:47:45.818Z"
   },
   {
    "duration": -43,
    "start_time": "2022-02-26T18:47:45.821Z"
   },
   {
    "duration": -46,
    "start_time": "2022-02-26T18:47:45.825Z"
   },
   {
    "duration": 227,
    "start_time": "2022-02-26T18:48:21.891Z"
   },
   {
    "duration": 27,
    "start_time": "2022-02-26T18:49:04.296Z"
   },
   {
    "duration": 26,
    "start_time": "2022-02-26T18:50:15.735Z"
   },
   {
    "duration": 34,
    "start_time": "2022-02-26T18:51:41.612Z"
   },
   {
    "duration": 28,
    "start_time": "2022-02-26T18:52:07.217Z"
   },
   {
    "duration": 27,
    "start_time": "2022-02-26T18:52:39.197Z"
   },
   {
    "duration": 73,
    "start_time": "2022-02-26T18:58:00.842Z"
   },
   {
    "duration": 15,
    "start_time": "2022-02-26T18:58:00.918Z"
   },
   {
    "duration": 19,
    "start_time": "2022-02-26T18:58:00.953Z"
   },
   {
    "duration": 8,
    "start_time": "2022-02-26T18:58:00.974Z"
   },
   {
    "duration": 30,
    "start_time": "2022-02-26T18:58:00.984Z"
   },
   {
    "duration": 13,
    "start_time": "2022-02-26T18:58:01.052Z"
   },
   {
    "duration": 12,
    "start_time": "2022-02-26T18:58:01.211Z"
   },
   {
    "duration": 28,
    "start_time": "2022-02-26T18:58:01.226Z"
   },
   {
    "duration": 30,
    "start_time": "2022-02-26T18:58:01.258Z"
   },
   {
    "duration": 25,
    "start_time": "2022-02-26T18:58:01.292Z"
   },
   {
    "duration": 16,
    "start_time": "2022-02-26T18:58:01.351Z"
   },
   {
    "duration": 19,
    "start_time": "2022-02-26T18:58:01.370Z"
   },
   {
    "duration": 23,
    "start_time": "2022-02-26T18:58:01.391Z"
   },
   {
    "duration": 37,
    "start_time": "2022-02-26T18:58:01.417Z"
   },
   {
    "duration": 14,
    "start_time": "2022-02-26T18:58:01.458Z"
   },
   {
    "duration": 52,
    "start_time": "2022-02-26T18:58:01.475Z"
   },
   {
    "duration": 28,
    "start_time": "2022-02-26T18:58:01.550Z"
   },
   {
    "duration": 19,
    "start_time": "2022-02-26T18:58:01.580Z"
   },
   {
    "duration": 70,
    "start_time": "2022-02-26T18:58:01.601Z"
   },
   {
    "duration": 11,
    "start_time": "2022-02-26T18:58:01.673Z"
   },
   {
    "duration": 47,
    "start_time": "2022-02-26T18:58:01.686Z"
   },
   {
    "duration": 33,
    "start_time": "2022-02-26T18:58:01.751Z"
   },
   {
    "duration": 22,
    "start_time": "2022-02-26T18:58:01.787Z"
   },
   {
    "duration": 6968,
    "start_time": "2022-02-26T18:58:01.812Z"
   },
   {
    "duration": -45,
    "start_time": "2022-02-26T18:58:08.828Z"
   },
   {
    "duration": -49,
    "start_time": "2022-02-26T18:58:08.834Z"
   },
   {
    "duration": -51,
    "start_time": "2022-02-26T18:58:08.837Z"
   },
   {
    "duration": 80,
    "start_time": "2022-02-26T19:04:35.656Z"
   },
   {
    "duration": 224,
    "start_time": "2022-02-26T19:06:00.173Z"
   },
   {
    "duration": 5337,
    "start_time": "2022-02-26T19:08:26.270Z"
   },
   {
    "duration": 22,
    "start_time": "2022-02-26T19:15:24.214Z"
   },
   {
    "duration": 5117,
    "start_time": "2022-02-26T19:16:24.498Z"
   },
   {
    "duration": 223,
    "start_time": "2022-02-26T19:16:47.377Z"
   },
   {
    "duration": 22,
    "start_time": "2022-02-26T19:17:22.158Z"
   },
   {
    "duration": 75,
    "start_time": "2022-02-26T19:18:43.610Z"
   },
   {
    "duration": 13,
    "start_time": "2022-02-26T19:18:43.688Z"
   },
   {
    "duration": 48,
    "start_time": "2022-02-26T19:18:43.704Z"
   },
   {
    "duration": 8,
    "start_time": "2022-02-26T19:18:43.755Z"
   },
   {
    "duration": 23,
    "start_time": "2022-02-26T19:18:43.765Z"
   },
   {
    "duration": 14,
    "start_time": "2022-02-26T19:18:43.790Z"
   },
   {
    "duration": 54,
    "start_time": "2022-02-26T19:18:43.807Z"
   },
   {
    "duration": 25,
    "start_time": "2022-02-26T19:18:43.864Z"
   },
   {
    "duration": 58,
    "start_time": "2022-02-26T19:18:43.895Z"
   },
   {
    "duration": 23,
    "start_time": "2022-02-26T19:18:43.958Z"
   },
   {
    "duration": 17,
    "start_time": "2022-02-26T19:18:43.984Z"
   },
   {
    "duration": 55,
    "start_time": "2022-02-26T19:18:44.003Z"
   },
   {
    "duration": 18,
    "start_time": "2022-02-26T19:18:44.060Z"
   },
   {
    "duration": 8,
    "start_time": "2022-02-26T19:18:44.080Z"
   },
   {
    "duration": 6,
    "start_time": "2022-02-26T19:18:44.090Z"
   },
   {
    "duration": 82,
    "start_time": "2022-02-26T19:18:44.098Z"
   },
   {
    "duration": 25,
    "start_time": "2022-02-26T19:18:44.182Z"
   },
   {
    "duration": 16,
    "start_time": "2022-02-26T19:18:44.210Z"
   },
   {
    "duration": 53,
    "start_time": "2022-02-26T19:18:44.228Z"
   },
   {
    "duration": 12,
    "start_time": "2022-02-26T19:18:44.283Z"
   },
   {
    "duration": 64,
    "start_time": "2022-02-26T19:18:44.297Z"
   },
   {
    "duration": 25,
    "start_time": "2022-02-26T19:18:44.363Z"
   },
   {
    "duration": 21,
    "start_time": "2022-02-26T19:18:44.391Z"
   },
   {
    "duration": 55,
    "start_time": "2022-02-26T19:18:44.415Z"
   },
   {
    "duration": 216,
    "start_time": "2022-02-26T19:18:44.473Z"
   },
   {
    "duration": 116,
    "start_time": "2022-02-26T19:18:44.576Z"
   },
   {
    "duration": 111,
    "start_time": "2022-02-26T19:18:44.582Z"
   },
   {
    "duration": 74,
    "start_time": "2022-02-26T19:20:06.350Z"
   },
   {
    "duration": 26,
    "start_time": "2022-02-26T19:20:06.427Z"
   },
   {
    "duration": 15,
    "start_time": "2022-02-26T19:20:06.456Z"
   },
   {
    "duration": 7,
    "start_time": "2022-02-26T19:20:06.473Z"
   },
   {
    "duration": 22,
    "start_time": "2022-02-26T19:20:06.482Z"
   },
   {
    "duration": 55,
    "start_time": "2022-02-26T19:20:06.506Z"
   },
   {
    "duration": 11,
    "start_time": "2022-02-26T19:20:06.564Z"
   },
   {
    "duration": 23,
    "start_time": "2022-02-26T19:20:06.577Z"
   },
   {
    "duration": 65,
    "start_time": "2022-02-26T19:20:06.604Z"
   },
   {
    "duration": 22,
    "start_time": "2022-02-26T19:20:06.671Z"
   },
   {
    "duration": 13,
    "start_time": "2022-02-26T19:20:06.695Z"
   },
   {
    "duration": 51,
    "start_time": "2022-02-26T19:20:06.711Z"
   },
   {
    "duration": 23,
    "start_time": "2022-02-26T19:20:06.765Z"
   },
   {
    "duration": 17,
    "start_time": "2022-02-26T19:20:06.791Z"
   },
   {
    "duration": 6,
    "start_time": "2022-02-26T19:20:06.810Z"
   },
   {
    "duration": 41,
    "start_time": "2022-02-26T19:20:06.850Z"
   },
   {
    "duration": 26,
    "start_time": "2022-02-26T19:20:06.894Z"
   },
   {
    "duration": 44,
    "start_time": "2022-02-26T19:20:06.923Z"
   },
   {
    "duration": 36,
    "start_time": "2022-02-26T19:20:06.970Z"
   },
   {
    "duration": 47,
    "start_time": "2022-02-26T19:20:07.009Z"
   },
   {
    "duration": 34,
    "start_time": "2022-02-26T19:20:07.059Z"
   },
   {
    "duration": 56,
    "start_time": "2022-02-26T19:20:07.096Z"
   },
   {
    "duration": 22,
    "start_time": "2022-02-26T19:20:07.155Z"
   },
   {
    "duration": 22,
    "start_time": "2022-02-26T19:20:07.180Z"
   },
   {
    "duration": 3,
    "start_time": "2022-02-26T19:20:07.205Z"
   },
   {
    "duration": 68,
    "start_time": "2022-02-26T19:20:07.211Z"
   },
   {
    "duration": 31,
    "start_time": "2022-02-26T19:20:07.285Z"
   },
   {
    "duration": 63,
    "start_time": "2022-02-26T19:23:04.682Z"
   },
   {
    "duration": 23,
    "start_time": "2022-02-26T19:23:11.533Z"
   },
   {
    "duration": 22,
    "start_time": "2022-02-26T19:24:10.402Z"
   },
   {
    "duration": 72,
    "start_time": "2022-02-26T19:24:42.069Z"
   },
   {
    "duration": 17,
    "start_time": "2022-02-26T19:24:42.143Z"
   },
   {
    "duration": 16,
    "start_time": "2022-02-26T19:24:42.163Z"
   },
   {
    "duration": 6,
    "start_time": "2022-02-26T19:24:42.182Z"
   },
   {
    "duration": 26,
    "start_time": "2022-02-26T19:24:42.190Z"
   },
   {
    "duration": 13,
    "start_time": "2022-02-26T19:24:42.252Z"
   },
   {
    "duration": 11,
    "start_time": "2022-02-26T19:24:42.267Z"
   },
   {
    "duration": 24,
    "start_time": "2022-02-26T19:24:42.280Z"
   },
   {
    "duration": 66,
    "start_time": "2022-02-26T19:24:42.307Z"
   },
   {
    "duration": 22,
    "start_time": "2022-02-26T19:24:42.376Z"
   },
   {
    "duration": 16,
    "start_time": "2022-02-26T19:24:42.401Z"
   },
   {
    "duration": 18,
    "start_time": "2022-02-26T19:24:42.451Z"
   },
   {
    "duration": 17,
    "start_time": "2022-02-26T19:24:42.471Z"
   },
   {
    "duration": 7,
    "start_time": "2022-02-26T19:24:42.491Z"
   },
   {
    "duration": 51,
    "start_time": "2022-02-26T19:24:42.500Z"
   },
   {
    "duration": 42,
    "start_time": "2022-02-26T19:24:42.554Z"
   },
   {
    "duration": 26,
    "start_time": "2022-02-26T19:24:42.598Z"
   },
   {
    "duration": 19,
    "start_time": "2022-02-26T19:24:42.651Z"
   },
   {
    "duration": 32,
    "start_time": "2022-02-26T19:24:42.672Z"
   },
   {
    "duration": 14,
    "start_time": "2022-02-26T19:24:42.706Z"
   },
   {
    "duration": 56,
    "start_time": "2022-02-26T19:24:42.722Z"
   },
   {
    "duration": 24,
    "start_time": "2022-02-26T19:24:42.780Z"
   },
   {
    "duration": 48,
    "start_time": "2022-02-26T19:24:42.806Z"
   },
   {
    "duration": 22,
    "start_time": "2022-02-26T19:24:42.856Z"
   },
   {
    "duration": 2,
    "start_time": "2022-02-26T19:24:42.880Z"
   },
   {
    "duration": 36,
    "start_time": "2022-02-26T19:24:42.884Z"
   },
   {
    "duration": 52,
    "start_time": "2022-02-26T19:24:42.924Z"
   },
   {
    "duration": 61,
    "start_time": "2022-02-27T08:28:25.143Z"
   }
  ],
  "kernelspec": {
   "display_name": "Python 3 (ipykernel)",
   "language": "python",
   "name": "python3"
  },
  "language_info": {
   "codemirror_mode": {
    "name": "ipython",
    "version": 3
   },
   "file_extension": ".py",
   "mimetype": "text/x-python",
   "name": "python",
   "nbconvert_exporter": "python",
   "pygments_lexer": "ipython3",
   "version": "3.9.5"
  },
  "toc": {
   "base_numbering": 1,
   "nav_menu": {},
   "number_sections": true,
   "sideBar": true,
   "skip_h1_title": true,
   "title_cell": "Table of Contents",
   "title_sidebar": "Contents",
   "toc_cell": false,
   "toc_position": {},
   "toc_section_display": true,
   "toc_window_display": false
  }
 },
 "nbformat": 4,
 "nbformat_minor": 5
}
