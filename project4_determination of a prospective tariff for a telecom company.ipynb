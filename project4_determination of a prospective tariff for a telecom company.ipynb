{
 "cells": [
  {
   "cell_type": "markdown",
   "metadata": {},
   "source": [
    "# Определение перспективного тарифа для телеком-компании\n"
   ]
  },
  {
   "cell_type": "markdown",
   "metadata": {},
   "source": [
    "<h1>Содержание<span class=\"tocSkip\"></span></h1>\n",
    "<div class=\"toc\"><ul class=\"toc-item\"><li><span><a href=\"#Изучение-данных-из-файла\" data-toc-modified-id=\"Изучение-данных-из-файла-1\"><span class=\"toc-item-num\">1&nbsp;&nbsp;</span>Изучение данных из файла</a></span><ul class=\"toc-item\"><li><span><a href=\"#Предобработка-данных\" data-toc-modified-id=\"Предобработка-данных-2\"><span class=\"toc-item-num\">2&nbsp;&nbsp;</span>Предобработка данных</a></span></li><li><span><a href=\"#Исследовательский-анализ-данных\" data-toc-modified-id=\"Исследовательский-анализ-данных-3\"><span class=\"toc-item-num\">3&nbsp;&nbsp;</span>Исследовательский анализ данных</a></span></li><li><span><a href=\"#Проверка гипотез\" data-toc-modified-id=\"Проверка гипотез-4\"><span class=\"toc-item-num\">4&nbsp;&nbsp;</span>Проверка гипотез</a></span></li><li><span><a <li><span><a href=\"#Общий-вывод\" data-toc-modified-id=\"Общий-вывод-5\"><span class=\"toc-item-num\">5&nbsp;&nbsp;</span>Общий вывод</a></span></li><li><span><a "
   ]
  },
  {
   "cell_type": "markdown",
   "metadata": {},
   "source": [
    "Описание проекта\n",
    "\n",
    "Компания «Мегалайн» — федеральный оператор сотовой связи. Клиентам предлагают два тарифных плана: «Смарт» и «Ультра». Чтобы скорректировать рекламный бюджет, коммерческий департамент хочет понять, какой тариф приносит больше денег.\n",
    "Нужно сделать предварительный анализ тарифов на небольшой выборке клиентов. В нашем распоряжении данные 500 пользователей «Мегалайна»: кто они, откуда, каким тарифом пользуются, сколько звонков и сообщений каждый отправил за 2018 год. Нужно проанализировать поведение клиентов и сделать вывод — какой тариф лучше.\n"
   ]
  },
  {
   "cell_type": "markdown",
   "metadata": {},
   "source": [
    "Описание данных\n",
    "\n",
    "Таблица users (информация о пользователях):\n",
    "\n",
    "user_id — уникальный идентификатор пользователя\n",
    "\n",
    "first_name — имя пользователя\n",
    "\n",
    "last_name — фамилия пользователя\n",
    "\n",
    "age — возраст пользователя (годы)\n",
    "\n",
    "reg_date — дата подключения тарифа (день, месяц, год)\n",
    "\n",
    "churn_date — дата прекращения пользования тарифом (если значение пропущено, то тариф ещё действовал на момент выгрузки данных)\n",
    "\n",
    "city — город проживания пользователя\n",
    "\n",
    "tarif — название тарифного плана\n",
    "\n",
    "Таблица calls (информация о звонках):\n",
    "\n",
    "id — уникальный номер звонка\n",
    "\n",
    "call_date — дата звонка\n",
    "\n",
    "duration — длительность звонка в минутах\n",
    "\n",
    "user_id — идентификатор пользователя, сделавшего звонок\n",
    "\n",
    "Таблица messages (информация о сообщениях):\n",
    "\n",
    "id — уникальный номер сообщения\n",
    "\n",
    "message_date — дата сообщения\n",
    "\n",
    "user_id — идентификатор пользователя, отправившего сообщение\n",
    "\n",
    "Таблица internet (информация об интернет-сессиях):\n",
    "\n",
    "id — уникальный номер сессии\n",
    "\n",
    "mb_used — объём потраченного за сессию интернет-трафика (в мегабайтах)\n",
    "\n",
    "session_date — дата интернет-сессии\n",
    "\n",
    "user_id — идентификатор пользователя\n",
    "\n",
    "Таблица tariffs (информация о тарифах):\n",
    "\n",
    "tariff_name — название тарифа\n",
    "\n",
    "rub_monthly_fee — ежемесячная абонентская плата в рублях\n",
    "\n",
    "minutes_included — количество минут разговора в месяц, включённых в абонентскую плату\n",
    "\n",
    "messages_included — количество сообщений в месяц, включённых в абонентскую плату\n",
    "\n",
    "mb_per_month_included — объём интернет-трафика, включённого в абонентскую плату (в мегабайтах)\n",
    "\n",
    "rub_per_minute — стоимость минуты разговора сверх тарифного пакета (например, если в тарифе 100 минут разговора в месяц, то со 101 минуты будет взиматься плата)\n",
    "\n",
    "rub_per_message — стоимость отправки сообщения сверх тарифного пакета\n",
    "\n",
    "rub_per_gb — стоимость дополнительного гигабайта интернет-трафика сверх тарифного пакета (1 гигабайт = 1024 мегабайта)"
   ]
  },
  {
   "cell_type": "markdown",
   "metadata": {},
   "source": [
    "## Изучение данных из файла"
   ]
  },
  {
   "cell_type": "code",
   "execution_count": 1,
   "metadata": {},
   "outputs": [],
   "source": [
    "import pandas as pd\n",
    "import matplotlib.pyplot as plt\n",
    "import math\n",
    "import numpy as np\n",
    "from scipy import stats as st\n",
    "import datetime\n",
    "df_calls = pd.read_csv('/datasets/calls.csv')\n",
    "df_internet = pd.read_csv('/datasets/internet.csv')\n",
    "df_messages = pd.read_csv('/datasets/messages.csv')\n",
    "df_tariffs = pd.read_csv('/datasets/tariffs.csv')\n",
    "df_users = pd.read_csv('/datasets/users.csv')\n",
    "#открыли и записали файлы"
   ]
  },
  {
   "cell_type": "code",
   "execution_count": 2,
   "metadata": {},
   "outputs": [
    {
     "data": {
      "text/html": [
       "<div>\n",
       "<style scoped>\n",
       "    .dataframe tbody tr th:only-of-type {\n",
       "        vertical-align: middle;\n",
       "    }\n",
       "\n",
       "    .dataframe tbody tr th {\n",
       "        vertical-align: top;\n",
       "    }\n",
       "\n",
       "    .dataframe thead th {\n",
       "        text-align: right;\n",
       "    }\n",
       "</style>\n",
       "<table border=\"1\" class=\"dataframe\">\n",
       "  <thead>\n",
       "    <tr style=\"text-align: right;\">\n",
       "      <th></th>\n",
       "      <th>id</th>\n",
       "      <th>call_date</th>\n",
       "      <th>duration</th>\n",
       "      <th>user_id</th>\n",
       "    </tr>\n",
       "  </thead>\n",
       "  <tbody>\n",
       "    <tr>\n",
       "      <th>0</th>\n",
       "      <td>1000_0</td>\n",
       "      <td>2018-07-25</td>\n",
       "      <td>0.00</td>\n",
       "      <td>1000</td>\n",
       "    </tr>\n",
       "    <tr>\n",
       "      <th>1</th>\n",
       "      <td>1000_1</td>\n",
       "      <td>2018-08-17</td>\n",
       "      <td>0.00</td>\n",
       "      <td>1000</td>\n",
       "    </tr>\n",
       "    <tr>\n",
       "      <th>2</th>\n",
       "      <td>1000_2</td>\n",
       "      <td>2018-06-11</td>\n",
       "      <td>2.85</td>\n",
       "      <td>1000</td>\n",
       "    </tr>\n",
       "    <tr>\n",
       "      <th>3</th>\n",
       "      <td>1000_3</td>\n",
       "      <td>2018-09-21</td>\n",
       "      <td>13.80</td>\n",
       "      <td>1000</td>\n",
       "    </tr>\n",
       "    <tr>\n",
       "      <th>4</th>\n",
       "      <td>1000_4</td>\n",
       "      <td>2018-12-15</td>\n",
       "      <td>5.18</td>\n",
       "      <td>1000</td>\n",
       "    </tr>\n",
       "  </tbody>\n",
       "</table>\n",
       "</div>"
      ],
      "text/plain": [
       "       id   call_date  duration  user_id\n",
       "0  1000_0  2018-07-25      0.00     1000\n",
       "1  1000_1  2018-08-17      0.00     1000\n",
       "2  1000_2  2018-06-11      2.85     1000\n",
       "3  1000_3  2018-09-21     13.80     1000\n",
       "4  1000_4  2018-12-15      5.18     1000"
      ]
     },
     "metadata": {},
     "output_type": "display_data"
    },
    {
     "name": "stdout",
     "output_type": "stream",
     "text": [
      "<class 'pandas.core.frame.DataFrame'>\n",
      "RangeIndex: 202607 entries, 0 to 202606\n",
      "Data columns (total 4 columns):\n",
      " #   Column     Non-Null Count   Dtype  \n",
      "---  ------     --------------   -----  \n",
      " 0   id         202607 non-null  object \n",
      " 1   call_date  202607 non-null  object \n",
      " 2   duration   202607 non-null  float64\n",
      " 3   user_id    202607 non-null  int64  \n",
      "dtypes: float64(1), int64(1), object(2)\n",
      "memory usage: 6.2+ MB\n"
     ]
    }
   ],
   "source": [
    "display(df_calls.head(5))\n",
    "df_calls.info()"
   ]
  },
  {
   "cell_type": "code",
   "execution_count": 3,
   "metadata": {},
   "outputs": [],
   "source": [
    "# Пропущенных значений нет. \n",
    "#Нужно привести дату к нужному формату, а также вынести месяц в отдельный столбец, чтобы дальше было удобно рпботать с данными.\n",
    "df_calls['call_date'] = pd.to_datetime(df_calls['call_date'], format='%Y-%m-%d')\n",
    "df_calls['month'] = pd.DatetimeIndex(df_calls['call_date']).month"
   ]
  },
  {
   "cell_type": "code",
   "execution_count": 4,
   "metadata": {},
   "outputs": [
    {
     "data": {
      "text/html": [
       "<div>\n",
       "<style scoped>\n",
       "    .dataframe tbody tr th:only-of-type {\n",
       "        vertical-align: middle;\n",
       "    }\n",
       "\n",
       "    .dataframe tbody tr th {\n",
       "        vertical-align: top;\n",
       "    }\n",
       "\n",
       "    .dataframe thead th {\n",
       "        text-align: right;\n",
       "    }\n",
       "</style>\n",
       "<table border=\"1\" class=\"dataframe\">\n",
       "  <thead>\n",
       "    <tr style=\"text-align: right;\">\n",
       "      <th></th>\n",
       "      <th>Unnamed: 0</th>\n",
       "      <th>id</th>\n",
       "      <th>mb_used</th>\n",
       "      <th>session_date</th>\n",
       "      <th>user_id</th>\n",
       "    </tr>\n",
       "  </thead>\n",
       "  <tbody>\n",
       "    <tr>\n",
       "      <th>0</th>\n",
       "      <td>0</td>\n",
       "      <td>1000_0</td>\n",
       "      <td>112.95</td>\n",
       "      <td>2018-11-25</td>\n",
       "      <td>1000</td>\n",
       "    </tr>\n",
       "    <tr>\n",
       "      <th>1</th>\n",
       "      <td>1</td>\n",
       "      <td>1000_1</td>\n",
       "      <td>1052.81</td>\n",
       "      <td>2018-09-07</td>\n",
       "      <td>1000</td>\n",
       "    </tr>\n",
       "    <tr>\n",
       "      <th>2</th>\n",
       "      <td>2</td>\n",
       "      <td>1000_2</td>\n",
       "      <td>1197.26</td>\n",
       "      <td>2018-06-25</td>\n",
       "      <td>1000</td>\n",
       "    </tr>\n",
       "    <tr>\n",
       "      <th>3</th>\n",
       "      <td>3</td>\n",
       "      <td>1000_3</td>\n",
       "      <td>550.27</td>\n",
       "      <td>2018-08-22</td>\n",
       "      <td>1000</td>\n",
       "    </tr>\n",
       "    <tr>\n",
       "      <th>4</th>\n",
       "      <td>4</td>\n",
       "      <td>1000_4</td>\n",
       "      <td>302.56</td>\n",
       "      <td>2018-09-24</td>\n",
       "      <td>1000</td>\n",
       "    </tr>\n",
       "  </tbody>\n",
       "</table>\n",
       "</div>"
      ],
      "text/plain": [
       "   Unnamed: 0      id  mb_used session_date  user_id\n",
       "0           0  1000_0   112.95   2018-11-25     1000\n",
       "1           1  1000_1  1052.81   2018-09-07     1000\n",
       "2           2  1000_2  1197.26   2018-06-25     1000\n",
       "3           3  1000_3   550.27   2018-08-22     1000\n",
       "4           4  1000_4   302.56   2018-09-24     1000"
      ]
     },
     "metadata": {},
     "output_type": "display_data"
    },
    {
     "name": "stdout",
     "output_type": "stream",
     "text": [
      "<class 'pandas.core.frame.DataFrame'>\n",
      "RangeIndex: 149396 entries, 0 to 149395\n",
      "Data columns (total 5 columns):\n",
      " #   Column        Non-Null Count   Dtype  \n",
      "---  ------        --------------   -----  \n",
      " 0   Unnamed: 0    149396 non-null  int64  \n",
      " 1   id            149396 non-null  object \n",
      " 2   mb_used       149396 non-null  float64\n",
      " 3   session_date  149396 non-null  object \n",
      " 4   user_id       149396 non-null  int64  \n",
      "dtypes: float64(1), int64(2), object(2)\n",
      "memory usage: 5.7+ MB\n"
     ]
    }
   ],
   "source": [
    "display(df_internet.head(5))\n",
    "df_internet.info()"
   ]
  },
  {
   "cell_type": "code",
   "execution_count": 5,
   "metadata": {},
   "outputs": [],
   "source": [
    "#Пропущенных значений нет.\n",
    "# Переведем даты в нуужный формат, добавим столбец с месяцем.\n",
    "df_internet['session_date'] = pd.to_datetime(df_internet['session_date'], format='%Y-%m-%d')\n",
    "df_internet['month'] = pd.DatetimeIndex(df_internet['session_date']).month"
   ]
  },
  {
   "cell_type": "code",
   "execution_count": 6,
   "metadata": {},
   "outputs": [
    {
     "data": {
      "text/html": [
       "<div>\n",
       "<style scoped>\n",
       "    .dataframe tbody tr th:only-of-type {\n",
       "        vertical-align: middle;\n",
       "    }\n",
       "\n",
       "    .dataframe tbody tr th {\n",
       "        vertical-align: top;\n",
       "    }\n",
       "\n",
       "    .dataframe thead th {\n",
       "        text-align: right;\n",
       "    }\n",
       "</style>\n",
       "<table border=\"1\" class=\"dataframe\">\n",
       "  <thead>\n",
       "    <tr style=\"text-align: right;\">\n",
       "      <th></th>\n",
       "      <th>id</th>\n",
       "      <th>message_date</th>\n",
       "      <th>user_id</th>\n",
       "    </tr>\n",
       "  </thead>\n",
       "  <tbody>\n",
       "    <tr>\n",
       "      <th>0</th>\n",
       "      <td>1000_0</td>\n",
       "      <td>2018-06-27</td>\n",
       "      <td>1000</td>\n",
       "    </tr>\n",
       "    <tr>\n",
       "      <th>1</th>\n",
       "      <td>1000_1</td>\n",
       "      <td>2018-10-08</td>\n",
       "      <td>1000</td>\n",
       "    </tr>\n",
       "    <tr>\n",
       "      <th>2</th>\n",
       "      <td>1000_2</td>\n",
       "      <td>2018-08-04</td>\n",
       "      <td>1000</td>\n",
       "    </tr>\n",
       "    <tr>\n",
       "      <th>3</th>\n",
       "      <td>1000_3</td>\n",
       "      <td>2018-06-16</td>\n",
       "      <td>1000</td>\n",
       "    </tr>\n",
       "    <tr>\n",
       "      <th>4</th>\n",
       "      <td>1000_4</td>\n",
       "      <td>2018-12-05</td>\n",
       "      <td>1000</td>\n",
       "    </tr>\n",
       "  </tbody>\n",
       "</table>\n",
       "</div>"
      ],
      "text/plain": [
       "       id message_date  user_id\n",
       "0  1000_0   2018-06-27     1000\n",
       "1  1000_1   2018-10-08     1000\n",
       "2  1000_2   2018-08-04     1000\n",
       "3  1000_3   2018-06-16     1000\n",
       "4  1000_4   2018-12-05     1000"
      ]
     },
     "metadata": {},
     "output_type": "display_data"
    },
    {
     "name": "stdout",
     "output_type": "stream",
     "text": [
      "<class 'pandas.core.frame.DataFrame'>\n",
      "RangeIndex: 123036 entries, 0 to 123035\n",
      "Data columns (total 3 columns):\n",
      " #   Column        Non-Null Count   Dtype \n",
      "---  ------        --------------   ----- \n",
      " 0   id            123036 non-null  object\n",
      " 1   message_date  123036 non-null  object\n",
      " 2   user_id       123036 non-null  int64 \n",
      "dtypes: int64(1), object(2)\n",
      "memory usage: 2.8+ MB\n"
     ]
    }
   ],
   "source": [
    "display(df_messages.head(5))\n",
    "df_messages.info()\n"
   ]
  },
  {
   "cell_type": "code",
   "execution_count": 7,
   "metadata": {},
   "outputs": [],
   "source": [
    "#Пропущенных значений нет.\n",
    "# Переведем даты в нуужный формат, добавим столбец с месяцем.\n",
    "df_messages['message_date'] = pd.to_datetime(df_messages['message_date'], format='%Y-%m-%d')\n",
    "df_messages['month'] = pd.DatetimeIndex(df_messages['message_date']).month"
   ]
  },
  {
   "cell_type": "code",
   "execution_count": 8,
   "metadata": {},
   "outputs": [
    {
     "data": {
      "text/html": [
       "<div>\n",
       "<style scoped>\n",
       "    .dataframe tbody tr th:only-of-type {\n",
       "        vertical-align: middle;\n",
       "    }\n",
       "\n",
       "    .dataframe tbody tr th {\n",
       "        vertical-align: top;\n",
       "    }\n",
       "\n",
       "    .dataframe thead th {\n",
       "        text-align: right;\n",
       "    }\n",
       "</style>\n",
       "<table border=\"1\" class=\"dataframe\">\n",
       "  <thead>\n",
       "    <tr style=\"text-align: right;\">\n",
       "      <th></th>\n",
       "      <th>messages_included</th>\n",
       "      <th>mb_per_month_included</th>\n",
       "      <th>minutes_included</th>\n",
       "      <th>rub_monthly_fee</th>\n",
       "      <th>rub_per_gb</th>\n",
       "      <th>rub_per_message</th>\n",
       "      <th>rub_per_minute</th>\n",
       "      <th>tariff</th>\n",
       "    </tr>\n",
       "  </thead>\n",
       "  <tbody>\n",
       "    <tr>\n",
       "      <th>0</th>\n",
       "      <td>50</td>\n",
       "      <td>15360</td>\n",
       "      <td>500</td>\n",
       "      <td>550</td>\n",
       "      <td>200</td>\n",
       "      <td>3</td>\n",
       "      <td>3</td>\n",
       "      <td>smart</td>\n",
       "    </tr>\n",
       "    <tr>\n",
       "      <th>1</th>\n",
       "      <td>1000</td>\n",
       "      <td>30720</td>\n",
       "      <td>3000</td>\n",
       "      <td>1950</td>\n",
       "      <td>150</td>\n",
       "      <td>1</td>\n",
       "      <td>1</td>\n",
       "      <td>ultra</td>\n",
       "    </tr>\n",
       "  </tbody>\n",
       "</table>\n",
       "</div>"
      ],
      "text/plain": [
       "   messages_included  mb_per_month_included  minutes_included  \\\n",
       "0                 50                  15360               500   \n",
       "1               1000                  30720              3000   \n",
       "\n",
       "   rub_monthly_fee  rub_per_gb  rub_per_message  rub_per_minute tariff  \n",
       "0              550         200                3               3  smart  \n",
       "1             1950         150                1               1  ultra  "
      ]
     },
     "metadata": {},
     "output_type": "display_data"
    }
   ],
   "source": [
    "df_tariffs = df_tariffs.rename(columns={'tariff_name':'tariff'})\n",
    "#заменим имя столбца для удобства\n",
    "display(df_tariffs.head())"
   ]
  },
  {
   "cell_type": "code",
   "execution_count": 9,
   "metadata": {},
   "outputs": [
    {
     "data": {
      "text/html": [
       "<div>\n",
       "<style scoped>\n",
       "    .dataframe tbody tr th:only-of-type {\n",
       "        vertical-align: middle;\n",
       "    }\n",
       "\n",
       "    .dataframe tbody tr th {\n",
       "        vertical-align: top;\n",
       "    }\n",
       "\n",
       "    .dataframe thead th {\n",
       "        text-align: right;\n",
       "    }\n",
       "</style>\n",
       "<table border=\"1\" class=\"dataframe\">\n",
       "  <thead>\n",
       "    <tr style=\"text-align: right;\">\n",
       "      <th></th>\n",
       "      <th>user_id</th>\n",
       "      <th>age</th>\n",
       "      <th>churn_date</th>\n",
       "      <th>city</th>\n",
       "      <th>first_name</th>\n",
       "      <th>last_name</th>\n",
       "      <th>reg_date</th>\n",
       "      <th>tariff</th>\n",
       "    </tr>\n",
       "  </thead>\n",
       "  <tbody>\n",
       "    <tr>\n",
       "      <th>0</th>\n",
       "      <td>1000</td>\n",
       "      <td>52</td>\n",
       "      <td>NaN</td>\n",
       "      <td>Краснодар</td>\n",
       "      <td>Рафаил</td>\n",
       "      <td>Верещагин</td>\n",
       "      <td>2018-05-25</td>\n",
       "      <td>ultra</td>\n",
       "    </tr>\n",
       "    <tr>\n",
       "      <th>1</th>\n",
       "      <td>1001</td>\n",
       "      <td>41</td>\n",
       "      <td>NaN</td>\n",
       "      <td>Москва</td>\n",
       "      <td>Иван</td>\n",
       "      <td>Ежов</td>\n",
       "      <td>2018-11-01</td>\n",
       "      <td>smart</td>\n",
       "    </tr>\n",
       "    <tr>\n",
       "      <th>2</th>\n",
       "      <td>1002</td>\n",
       "      <td>59</td>\n",
       "      <td>NaN</td>\n",
       "      <td>Стерлитамак</td>\n",
       "      <td>Евгений</td>\n",
       "      <td>Абрамович</td>\n",
       "      <td>2018-06-17</td>\n",
       "      <td>smart</td>\n",
       "    </tr>\n",
       "    <tr>\n",
       "      <th>3</th>\n",
       "      <td>1003</td>\n",
       "      <td>23</td>\n",
       "      <td>NaN</td>\n",
       "      <td>Москва</td>\n",
       "      <td>Белла</td>\n",
       "      <td>Белякова</td>\n",
       "      <td>2018-08-17</td>\n",
       "      <td>ultra</td>\n",
       "    </tr>\n",
       "    <tr>\n",
       "      <th>4</th>\n",
       "      <td>1004</td>\n",
       "      <td>68</td>\n",
       "      <td>NaN</td>\n",
       "      <td>Новокузнецк</td>\n",
       "      <td>Татьяна</td>\n",
       "      <td>Авдеенко</td>\n",
       "      <td>2018-05-14</td>\n",
       "      <td>ultra</td>\n",
       "    </tr>\n",
       "  </tbody>\n",
       "</table>\n",
       "</div>"
      ],
      "text/plain": [
       "   user_id  age churn_date         city first_name  last_name    reg_date  \\\n",
       "0     1000   52        NaN    Краснодар     Рафаил  Верещагин  2018-05-25   \n",
       "1     1001   41        NaN       Москва       Иван       Ежов  2018-11-01   \n",
       "2     1002   59        NaN  Стерлитамак    Евгений  Абрамович  2018-06-17   \n",
       "3     1003   23        NaN       Москва      Белла   Белякова  2018-08-17   \n",
       "4     1004   68        NaN  Новокузнецк    Татьяна   Авдеенко  2018-05-14   \n",
       "\n",
       "  tariff  \n",
       "0  ultra  \n",
       "1  smart  \n",
       "2  smart  \n",
       "3  ultra  \n",
       "4  ultra  "
      ]
     },
     "metadata": {},
     "output_type": "display_data"
    },
    {
     "name": "stdout",
     "output_type": "stream",
     "text": [
      "<class 'pandas.core.frame.DataFrame'>\n",
      "RangeIndex: 500 entries, 0 to 499\n",
      "Data columns (total 8 columns):\n",
      " #   Column      Non-Null Count  Dtype \n",
      "---  ------      --------------  ----- \n",
      " 0   user_id     500 non-null    int64 \n",
      " 1   age         500 non-null    int64 \n",
      " 2   churn_date  38 non-null     object\n",
      " 3   city        500 non-null    object\n",
      " 4   first_name  500 non-null    object\n",
      " 5   last_name   500 non-null    object\n",
      " 6   reg_date    500 non-null    object\n",
      " 7   tariff      500 non-null    object\n",
      "dtypes: int64(2), object(6)\n",
      "memory usage: 31.4+ KB\n"
     ]
    }
   ],
   "source": [
    "display(df_users.head(5))\n",
    "df_users.info()"
   ]
  },
  {
   "cell_type": "code",
   "execution_count": 10,
   "metadata": {},
   "outputs": [
    {
     "data": {
      "text/html": [
       "<div>\n",
       "<style scoped>\n",
       "    .dataframe tbody tr th:only-of-type {\n",
       "        vertical-align: middle;\n",
       "    }\n",
       "\n",
       "    .dataframe tbody tr th {\n",
       "        vertical-align: top;\n",
       "    }\n",
       "\n",
       "    .dataframe thead th {\n",
       "        text-align: right;\n",
       "    }\n",
       "</style>\n",
       "<table border=\"1\" class=\"dataframe\">\n",
       "  <thead>\n",
       "    <tr style=\"text-align: right;\">\n",
       "      <th></th>\n",
       "      <th>user_id</th>\n",
       "      <th>age</th>\n",
       "      <th>churn_date</th>\n",
       "      <th>city</th>\n",
       "      <th>first_name</th>\n",
       "      <th>last_name</th>\n",
       "      <th>reg_date</th>\n",
       "      <th>tariff</th>\n",
       "    </tr>\n",
       "  </thead>\n",
       "  <tbody>\n",
       "    <tr>\n",
       "      <th>0</th>\n",
       "      <td>1000</td>\n",
       "      <td>52</td>\n",
       "      <td>NaT</td>\n",
       "      <td>Краснодар</td>\n",
       "      <td>Рафаил</td>\n",
       "      <td>Верещагин</td>\n",
       "      <td>2018-05-25</td>\n",
       "      <td>ultra</td>\n",
       "    </tr>\n",
       "    <tr>\n",
       "      <th>1</th>\n",
       "      <td>1001</td>\n",
       "      <td>41</td>\n",
       "      <td>NaT</td>\n",
       "      <td>Москва</td>\n",
       "      <td>Иван</td>\n",
       "      <td>Ежов</td>\n",
       "      <td>2018-11-01</td>\n",
       "      <td>smart</td>\n",
       "    </tr>\n",
       "    <tr>\n",
       "      <th>2</th>\n",
       "      <td>1002</td>\n",
       "      <td>59</td>\n",
       "      <td>NaT</td>\n",
       "      <td>Стерлитамак</td>\n",
       "      <td>Евгений</td>\n",
       "      <td>Абрамович</td>\n",
       "      <td>2018-06-17</td>\n",
       "      <td>smart</td>\n",
       "    </tr>\n",
       "    <tr>\n",
       "      <th>3</th>\n",
       "      <td>1003</td>\n",
       "      <td>23</td>\n",
       "      <td>NaT</td>\n",
       "      <td>Москва</td>\n",
       "      <td>Белла</td>\n",
       "      <td>Белякова</td>\n",
       "      <td>2018-08-17</td>\n",
       "      <td>ultra</td>\n",
       "    </tr>\n",
       "    <tr>\n",
       "      <th>4</th>\n",
       "      <td>1004</td>\n",
       "      <td>68</td>\n",
       "      <td>NaT</td>\n",
       "      <td>Новокузнецк</td>\n",
       "      <td>Татьяна</td>\n",
       "      <td>Авдеенко</td>\n",
       "      <td>2018-05-14</td>\n",
       "      <td>ultra</td>\n",
       "    </tr>\n",
       "    <tr>\n",
       "      <th>...</th>\n",
       "      <td>...</td>\n",
       "      <td>...</td>\n",
       "      <td>...</td>\n",
       "      <td>...</td>\n",
       "      <td>...</td>\n",
       "      <td>...</td>\n",
       "      <td>...</td>\n",
       "      <td>...</td>\n",
       "    </tr>\n",
       "    <tr>\n",
       "      <th>495</th>\n",
       "      <td>1495</td>\n",
       "      <td>65</td>\n",
       "      <td>NaT</td>\n",
       "      <td>Иркутск</td>\n",
       "      <td>Авксентий</td>\n",
       "      <td>Фокин</td>\n",
       "      <td>2018-08-28</td>\n",
       "      <td>ultra</td>\n",
       "    </tr>\n",
       "    <tr>\n",
       "      <th>496</th>\n",
       "      <td>1496</td>\n",
       "      <td>36</td>\n",
       "      <td>NaT</td>\n",
       "      <td>Вологда</td>\n",
       "      <td>Трифон</td>\n",
       "      <td>Блохин</td>\n",
       "      <td>2018-01-27</td>\n",
       "      <td>smart</td>\n",
       "    </tr>\n",
       "    <tr>\n",
       "      <th>497</th>\n",
       "      <td>1497</td>\n",
       "      <td>32</td>\n",
       "      <td>NaT</td>\n",
       "      <td>Челябинск</td>\n",
       "      <td>Каролина</td>\n",
       "      <td>Агеева</td>\n",
       "      <td>2018-10-09</td>\n",
       "      <td>smart</td>\n",
       "    </tr>\n",
       "    <tr>\n",
       "      <th>498</th>\n",
       "      <td>1498</td>\n",
       "      <td>68</td>\n",
       "      <td>2018-10-25</td>\n",
       "      <td>Владикавказ</td>\n",
       "      <td>Всеволод</td>\n",
       "      <td>Акимчин</td>\n",
       "      <td>2018-07-19</td>\n",
       "      <td>smart</td>\n",
       "    </tr>\n",
       "    <tr>\n",
       "      <th>499</th>\n",
       "      <td>1499</td>\n",
       "      <td>35</td>\n",
       "      <td>NaT</td>\n",
       "      <td>Пермь</td>\n",
       "      <td>Гектор</td>\n",
       "      <td>Корнилов</td>\n",
       "      <td>2018-09-27</td>\n",
       "      <td>smart</td>\n",
       "    </tr>\n",
       "  </tbody>\n",
       "</table>\n",
       "<p>500 rows × 8 columns</p>\n",
       "</div>"
      ],
      "text/plain": [
       "     user_id  age churn_date         city first_name  last_name   reg_date  \\\n",
       "0       1000   52        NaT    Краснодар     Рафаил  Верещагин 2018-05-25   \n",
       "1       1001   41        NaT       Москва       Иван       Ежов 2018-11-01   \n",
       "2       1002   59        NaT  Стерлитамак    Евгений  Абрамович 2018-06-17   \n",
       "3       1003   23        NaT       Москва      Белла   Белякова 2018-08-17   \n",
       "4       1004   68        NaT  Новокузнецк    Татьяна   Авдеенко 2018-05-14   \n",
       "..       ...  ...        ...          ...        ...        ...        ...   \n",
       "495     1495   65        NaT      Иркутск  Авксентий      Фокин 2018-08-28   \n",
       "496     1496   36        NaT      Вологда     Трифон     Блохин 2018-01-27   \n",
       "497     1497   32        NaT    Челябинск   Каролина     Агеева 2018-10-09   \n",
       "498     1498   68 2018-10-25  Владикавказ   Всеволод    Акимчин 2018-07-19   \n",
       "499     1499   35        NaT        Пермь     Гектор   Корнилов 2018-09-27   \n",
       "\n",
       "    tariff  \n",
       "0    ultra  \n",
       "1    smart  \n",
       "2    smart  \n",
       "3    ultra  \n",
       "4    ultra  \n",
       "..     ...  \n",
       "495  ultra  \n",
       "496  smart  \n",
       "497  smart  \n",
       "498  smart  \n",
       "499  smart  \n",
       "\n",
       "[500 rows x 8 columns]"
      ]
     },
     "execution_count": 10,
     "metadata": {},
     "output_type": "execute_result"
    }
   ],
   "source": [
    "# churn_date - дата прекращения пользования тарифом(если значение пропущено, то тариф ещё действовал на момент выгрузки данных)\n",
    "\n",
    "#Пропущенные значения в churn_date. Неверный формат данных в churn_date, reg_date.\n",
    "df_users['reg_date'] = pd.to_datetime(df_users['reg_date'], format = '%Y-%m-%d')\n",
    "df_users['churn_date'] = pd.to_datetime(df_users['churn_date'], format = '%Y-%m-%d')\n",
    "\n",
    "df_users"
   ]
  },
  {
   "cell_type": "markdown",
   "metadata": {},
   "source": [
    "Вывод :\n",
    "\n",
    "В данном блоке мы изучили данные, у нас есть 5 таблиц с данными по звонкам, интернету, пользователям, тарифам и сообщениям. Мы изменили типы данных, а также добавили столбцы с месяцами, чтобы далее можно было заняться предобработкой и объединить все таблицы в одну, удобную для работы. Из общей таблицы мы и будем рассчитывать дальнейшие данные и работать с ними."
   ]
  },
  {
   "cell_type": "markdown",
   "metadata": {},
   "source": [
    "## Предобработка данных"
   ]
  },
  {
   "cell_type": "code",
   "execution_count": 11,
   "metadata": {},
   "outputs": [
    {
     "data": {
      "text/html": [
       "<div>\n",
       "<style scoped>\n",
       "    .dataframe tbody tr th:only-of-type {\n",
       "        vertical-align: middle;\n",
       "    }\n",
       "\n",
       "    .dataframe tbody tr th {\n",
       "        vertical-align: top;\n",
       "    }\n",
       "\n",
       "    .dataframe thead th {\n",
       "        text-align: right;\n",
       "    }\n",
       "</style>\n",
       "<table border=\"1\" class=\"dataframe\">\n",
       "  <thead>\n",
       "    <tr style=\"text-align: right;\">\n",
       "      <th></th>\n",
       "      <th>user_id</th>\n",
       "      <th>age</th>\n",
       "      <th>churn_date</th>\n",
       "      <th>city</th>\n",
       "      <th>first_name</th>\n",
       "      <th>last_name</th>\n",
       "      <th>reg_date</th>\n",
       "      <th>tariff</th>\n",
       "      <th>messages_included</th>\n",
       "      <th>mb_per_month_included</th>\n",
       "      <th>minutes_included</th>\n",
       "      <th>rub_monthly_fee</th>\n",
       "      <th>rub_per_gb</th>\n",
       "      <th>rub_per_message</th>\n",
       "      <th>rub_per_minute</th>\n",
       "    </tr>\n",
       "  </thead>\n",
       "  <tbody>\n",
       "    <tr>\n",
       "      <th>0</th>\n",
       "      <td>1000</td>\n",
       "      <td>52</td>\n",
       "      <td>NaT</td>\n",
       "      <td>Краснодар</td>\n",
       "      <td>Рафаил</td>\n",
       "      <td>Верещагин</td>\n",
       "      <td>2018-05-25</td>\n",
       "      <td>ultra</td>\n",
       "      <td>1000</td>\n",
       "      <td>30720</td>\n",
       "      <td>3000</td>\n",
       "      <td>1950</td>\n",
       "      <td>150</td>\n",
       "      <td>1</td>\n",
       "      <td>1</td>\n",
       "    </tr>\n",
       "    <tr>\n",
       "      <th>1</th>\n",
       "      <td>1001</td>\n",
       "      <td>41</td>\n",
       "      <td>NaT</td>\n",
       "      <td>Москва</td>\n",
       "      <td>Иван</td>\n",
       "      <td>Ежов</td>\n",
       "      <td>2018-11-01</td>\n",
       "      <td>smart</td>\n",
       "      <td>50</td>\n",
       "      <td>15360</td>\n",
       "      <td>500</td>\n",
       "      <td>550</td>\n",
       "      <td>200</td>\n",
       "      <td>3</td>\n",
       "      <td>3</td>\n",
       "    </tr>\n",
       "    <tr>\n",
       "      <th>2</th>\n",
       "      <td>1002</td>\n",
       "      <td>59</td>\n",
       "      <td>NaT</td>\n",
       "      <td>Стерлитамак</td>\n",
       "      <td>Евгений</td>\n",
       "      <td>Абрамович</td>\n",
       "      <td>2018-06-17</td>\n",
       "      <td>smart</td>\n",
       "      <td>50</td>\n",
       "      <td>15360</td>\n",
       "      <td>500</td>\n",
       "      <td>550</td>\n",
       "      <td>200</td>\n",
       "      <td>3</td>\n",
       "      <td>3</td>\n",
       "    </tr>\n",
       "    <tr>\n",
       "      <th>3</th>\n",
       "      <td>1003</td>\n",
       "      <td>23</td>\n",
       "      <td>NaT</td>\n",
       "      <td>Москва</td>\n",
       "      <td>Белла</td>\n",
       "      <td>Белякова</td>\n",
       "      <td>2018-08-17</td>\n",
       "      <td>ultra</td>\n",
       "      <td>1000</td>\n",
       "      <td>30720</td>\n",
       "      <td>3000</td>\n",
       "      <td>1950</td>\n",
       "      <td>150</td>\n",
       "      <td>1</td>\n",
       "      <td>1</td>\n",
       "    </tr>\n",
       "    <tr>\n",
       "      <th>4</th>\n",
       "      <td>1004</td>\n",
       "      <td>68</td>\n",
       "      <td>NaT</td>\n",
       "      <td>Новокузнецк</td>\n",
       "      <td>Татьяна</td>\n",
       "      <td>Авдеенко</td>\n",
       "      <td>2018-05-14</td>\n",
       "      <td>ultra</td>\n",
       "      <td>1000</td>\n",
       "      <td>30720</td>\n",
       "      <td>3000</td>\n",
       "      <td>1950</td>\n",
       "      <td>150</td>\n",
       "      <td>1</td>\n",
       "      <td>1</td>\n",
       "    </tr>\n",
       "  </tbody>\n",
       "</table>\n",
       "</div>"
      ],
      "text/plain": [
       "   user_id  age churn_date         city first_name  last_name   reg_date  \\\n",
       "0     1000   52        NaT    Краснодар     Рафаил  Верещагин 2018-05-25   \n",
       "1     1001   41        NaT       Москва       Иван       Ежов 2018-11-01   \n",
       "2     1002   59        NaT  Стерлитамак    Евгений  Абрамович 2018-06-17   \n",
       "3     1003   23        NaT       Москва      Белла   Белякова 2018-08-17   \n",
       "4     1004   68        NaT  Новокузнецк    Татьяна   Авдеенко 2018-05-14   \n",
       "\n",
       "  tariff  messages_included  mb_per_month_included  minutes_included  \\\n",
       "0  ultra               1000                  30720              3000   \n",
       "1  smart                 50                  15360               500   \n",
       "2  smart                 50                  15360               500   \n",
       "3  ultra               1000                  30720              3000   \n",
       "4  ultra               1000                  30720              3000   \n",
       "\n",
       "   rub_monthly_fee  rub_per_gb  rub_per_message  rub_per_minute  \n",
       "0             1950         150                1               1  \n",
       "1              550         200                3               3  \n",
       "2              550         200                3               3  \n",
       "3             1950         150                1               1  \n",
       "4             1950         150                1               1  "
      ]
     },
     "execution_count": 11,
     "metadata": {},
     "output_type": "execute_result"
    }
   ],
   "source": [
    "df_users = df_users.merge(df_tariffs, on = 'tariff', how = 'left')\n",
    "df_users.head(5)\n",
    "# начальная общая таблица"
   ]
  },
  {
   "cell_type": "code",
   "execution_count": 12,
   "metadata": {},
   "outputs": [
    {
     "data": {
      "text/html": [
       "<div>\n",
       "<style scoped>\n",
       "    .dataframe tbody tr th:only-of-type {\n",
       "        vertical-align: middle;\n",
       "    }\n",
       "\n",
       "    .dataframe tbody tr th {\n",
       "        vertical-align: top;\n",
       "    }\n",
       "\n",
       "    .dataframe thead th {\n",
       "        text-align: right;\n",
       "    }\n",
       "</style>\n",
       "<table border=\"1\" class=\"dataframe\">\n",
       "  <thead>\n",
       "    <tr style=\"text-align: right;\">\n",
       "      <th></th>\n",
       "      <th>user_id</th>\n",
       "      <th>month</th>\n",
       "      <th>duration</th>\n",
       "    </tr>\n",
       "  </thead>\n",
       "  <tbody>\n",
       "    <tr>\n",
       "      <th>0</th>\n",
       "      <td>1000</td>\n",
       "      <td>5</td>\n",
       "      <td>150.06</td>\n",
       "    </tr>\n",
       "    <tr>\n",
       "      <th>1</th>\n",
       "      <td>1000</td>\n",
       "      <td>6</td>\n",
       "      <td>158.90</td>\n",
       "    </tr>\n",
       "    <tr>\n",
       "      <th>2</th>\n",
       "      <td>1000</td>\n",
       "      <td>7</td>\n",
       "      <td>318.80</td>\n",
       "    </tr>\n",
       "    <tr>\n",
       "      <th>3</th>\n",
       "      <td>1000</td>\n",
       "      <td>8</td>\n",
       "      <td>389.87</td>\n",
       "    </tr>\n",
       "    <tr>\n",
       "      <th>4</th>\n",
       "      <td>1000</td>\n",
       "      <td>9</td>\n",
       "      <td>440.14</td>\n",
       "    </tr>\n",
       "  </tbody>\n",
       "</table>\n",
       "</div>"
      ],
      "text/plain": [
       "   user_id  month  duration\n",
       "0     1000      5    150.06\n",
       "1     1000      6    158.90\n",
       "2     1000      7    318.80\n",
       "3     1000      8    389.87\n",
       "4     1000      9    440.14"
      ]
     },
     "metadata": {},
     "output_type": "display_data"
    }
   ],
   "source": [
    "calls_grouped = df_calls.pivot_table(index = ['user_id','month'], values = 'duration', aggfunc = 'sum').reset_index()\n",
    "calls_grouped.columns = ['user_id', 'month', 'duration']\n",
    "display(calls_grouped.head(5))\n",
    "# группируем данные по звонкам по месяцам"
   ]
  },
  {
   "cell_type": "code",
   "execution_count": 13,
   "metadata": {},
   "outputs": [
    {
     "data": {
      "text/html": [
       "<div>\n",
       "<style scoped>\n",
       "    .dataframe tbody tr th:only-of-type {\n",
       "        vertical-align: middle;\n",
       "    }\n",
       "\n",
       "    .dataframe tbody tr th {\n",
       "        vertical-align: top;\n",
       "    }\n",
       "\n",
       "    .dataframe thead th {\n",
       "        text-align: right;\n",
       "    }\n",
       "</style>\n",
       "<table border=\"1\" class=\"dataframe\">\n",
       "  <thead>\n",
       "    <tr style=\"text-align: right;\">\n",
       "      <th></th>\n",
       "      <th>user_id</th>\n",
       "      <th>month</th>\n",
       "      <th>mb_used</th>\n",
       "    </tr>\n",
       "  </thead>\n",
       "  <tbody>\n",
       "    <tr>\n",
       "      <th>0</th>\n",
       "      <td>1000</td>\n",
       "      <td>5</td>\n",
       "      <td>2253.49</td>\n",
       "    </tr>\n",
       "    <tr>\n",
       "      <th>1</th>\n",
       "      <td>1000</td>\n",
       "      <td>6</td>\n",
       "      <td>23233.77</td>\n",
       "    </tr>\n",
       "    <tr>\n",
       "      <th>2</th>\n",
       "      <td>1000</td>\n",
       "      <td>7</td>\n",
       "      <td>14003.64</td>\n",
       "    </tr>\n",
       "    <tr>\n",
       "      <th>3</th>\n",
       "      <td>1000</td>\n",
       "      <td>8</td>\n",
       "      <td>14055.93</td>\n",
       "    </tr>\n",
       "    <tr>\n",
       "      <th>4</th>\n",
       "      <td>1000</td>\n",
       "      <td>9</td>\n",
       "      <td>14568.91</td>\n",
       "    </tr>\n",
       "  </tbody>\n",
       "</table>\n",
       "</div>"
      ],
      "text/plain": [
       "   user_id  month   mb_used\n",
       "0     1000      5   2253.49\n",
       "1     1000      6  23233.77\n",
       "2     1000      7  14003.64\n",
       "3     1000      8  14055.93\n",
       "4     1000      9  14568.91"
      ]
     },
     "metadata": {},
     "output_type": "display_data"
    }
   ],
   "source": [
    "internet_grouped = df_internet.pivot_table(index = ['user_id','month'], values = 'mb_used', aggfunc = 'sum').reset_index()\n",
    "internet_grouped.columns = ['user_id', 'month', 'mb_used']\n",
    "display(internet_grouped.head(5))\n",
    "# группируем данные по интернету по месяцам"
   ]
  },
  {
   "cell_type": "code",
   "execution_count": 14,
   "metadata": {},
   "outputs": [
    {
     "data": {
      "text/html": [
       "<div>\n",
       "<style scoped>\n",
       "    .dataframe tbody tr th:only-of-type {\n",
       "        vertical-align: middle;\n",
       "    }\n",
       "\n",
       "    .dataframe tbody tr th {\n",
       "        vertical-align: top;\n",
       "    }\n",
       "\n",
       "    .dataframe thead th {\n",
       "        text-align: right;\n",
       "    }\n",
       "</style>\n",
       "<table border=\"1\" class=\"dataframe\">\n",
       "  <thead>\n",
       "    <tr style=\"text-align: right;\">\n",
       "      <th></th>\n",
       "      <th>user_id</th>\n",
       "      <th>month</th>\n",
       "      <th>messages</th>\n",
       "    </tr>\n",
       "  </thead>\n",
       "  <tbody>\n",
       "    <tr>\n",
       "      <th>0</th>\n",
       "      <td>1000</td>\n",
       "      <td>5</td>\n",
       "      <td>22</td>\n",
       "    </tr>\n",
       "    <tr>\n",
       "      <th>1</th>\n",
       "      <td>1000</td>\n",
       "      <td>6</td>\n",
       "      <td>60</td>\n",
       "    </tr>\n",
       "    <tr>\n",
       "      <th>2</th>\n",
       "      <td>1000</td>\n",
       "      <td>7</td>\n",
       "      <td>75</td>\n",
       "    </tr>\n",
       "    <tr>\n",
       "      <th>3</th>\n",
       "      <td>1000</td>\n",
       "      <td>8</td>\n",
       "      <td>81</td>\n",
       "    </tr>\n",
       "    <tr>\n",
       "      <th>4</th>\n",
       "      <td>1000</td>\n",
       "      <td>9</td>\n",
       "      <td>57</td>\n",
       "    </tr>\n",
       "  </tbody>\n",
       "</table>\n",
       "</div>"
      ],
      "text/plain": [
       "   user_id  month  messages\n",
       "0     1000      5        22\n",
       "1     1000      6        60\n",
       "2     1000      7        75\n",
       "3     1000      8        81\n",
       "4     1000      9        57"
      ]
     },
     "metadata": {},
     "output_type": "display_data"
    }
   ],
   "source": [
    "messages_grouped = df_messages.pivot_table(index = ['user_id','month'], values = 'message_date', aggfunc = 'count').reset_index()\n",
    "messages_grouped.columns = ['user_id', 'month', 'messages']\n",
    "display(messages_grouped.head(5))\n",
    "# группируем данные по sms по месяцам"
   ]
  },
  {
   "cell_type": "code",
   "execution_count": 15,
   "metadata": {},
   "outputs": [
    {
     "data": {
      "text/html": [
       "<div>\n",
       "<style scoped>\n",
       "    .dataframe tbody tr th:only-of-type {\n",
       "        vertical-align: middle;\n",
       "    }\n",
       "\n",
       "    .dataframe tbody tr th {\n",
       "        vertical-align: top;\n",
       "    }\n",
       "\n",
       "    .dataframe thead th {\n",
       "        text-align: right;\n",
       "    }\n",
       "</style>\n",
       "<table border=\"1\" class=\"dataframe\">\n",
       "  <thead>\n",
       "    <tr style=\"text-align: right;\">\n",
       "      <th></th>\n",
       "      <th>user_id</th>\n",
       "      <th>month</th>\n",
       "      <th>mb_used</th>\n",
       "      <th>messages</th>\n",
       "      <th>duration</th>\n",
       "      <th>age</th>\n",
       "      <th>churn_date</th>\n",
       "      <th>city</th>\n",
       "      <th>first_name</th>\n",
       "      <th>last_name</th>\n",
       "      <th>reg_date</th>\n",
       "      <th>tariff</th>\n",
       "      <th>messages_included</th>\n",
       "      <th>mb_per_month_included</th>\n",
       "      <th>minutes_included</th>\n",
       "      <th>rub_monthly_fee</th>\n",
       "      <th>rub_per_gb</th>\n",
       "      <th>rub_per_message</th>\n",
       "      <th>rub_per_minute</th>\n",
       "    </tr>\n",
       "  </thead>\n",
       "  <tbody>\n",
       "    <tr>\n",
       "      <th>0</th>\n",
       "      <td>1000</td>\n",
       "      <td>5.0</td>\n",
       "      <td>2253.49</td>\n",
       "      <td>22.0</td>\n",
       "      <td>150.06</td>\n",
       "      <td>52</td>\n",
       "      <td>NaT</td>\n",
       "      <td>Краснодар</td>\n",
       "      <td>Рафаил</td>\n",
       "      <td>Верещагин</td>\n",
       "      <td>2018-05-25</td>\n",
       "      <td>ultra</td>\n",
       "      <td>1000</td>\n",
       "      <td>30720</td>\n",
       "      <td>3000</td>\n",
       "      <td>1950</td>\n",
       "      <td>150</td>\n",
       "      <td>1</td>\n",
       "      <td>1</td>\n",
       "    </tr>\n",
       "    <tr>\n",
       "      <th>1</th>\n",
       "      <td>1000</td>\n",
       "      <td>6.0</td>\n",
       "      <td>23233.77</td>\n",
       "      <td>60.0</td>\n",
       "      <td>158.90</td>\n",
       "      <td>52</td>\n",
       "      <td>NaT</td>\n",
       "      <td>Краснодар</td>\n",
       "      <td>Рафаил</td>\n",
       "      <td>Верещагин</td>\n",
       "      <td>2018-05-25</td>\n",
       "      <td>ultra</td>\n",
       "      <td>1000</td>\n",
       "      <td>30720</td>\n",
       "      <td>3000</td>\n",
       "      <td>1950</td>\n",
       "      <td>150</td>\n",
       "      <td>1</td>\n",
       "      <td>1</td>\n",
       "    </tr>\n",
       "    <tr>\n",
       "      <th>2</th>\n",
       "      <td>1000</td>\n",
       "      <td>7.0</td>\n",
       "      <td>14003.64</td>\n",
       "      <td>75.0</td>\n",
       "      <td>318.80</td>\n",
       "      <td>52</td>\n",
       "      <td>NaT</td>\n",
       "      <td>Краснодар</td>\n",
       "      <td>Рафаил</td>\n",
       "      <td>Верещагин</td>\n",
       "      <td>2018-05-25</td>\n",
       "      <td>ultra</td>\n",
       "      <td>1000</td>\n",
       "      <td>30720</td>\n",
       "      <td>3000</td>\n",
       "      <td>1950</td>\n",
       "      <td>150</td>\n",
       "      <td>1</td>\n",
       "      <td>1</td>\n",
       "    </tr>\n",
       "    <tr>\n",
       "      <th>3</th>\n",
       "      <td>1000</td>\n",
       "      <td>8.0</td>\n",
       "      <td>14055.93</td>\n",
       "      <td>81.0</td>\n",
       "      <td>389.87</td>\n",
       "      <td>52</td>\n",
       "      <td>NaT</td>\n",
       "      <td>Краснодар</td>\n",
       "      <td>Рафаил</td>\n",
       "      <td>Верещагин</td>\n",
       "      <td>2018-05-25</td>\n",
       "      <td>ultra</td>\n",
       "      <td>1000</td>\n",
       "      <td>30720</td>\n",
       "      <td>3000</td>\n",
       "      <td>1950</td>\n",
       "      <td>150</td>\n",
       "      <td>1</td>\n",
       "      <td>1</td>\n",
       "    </tr>\n",
       "    <tr>\n",
       "      <th>4</th>\n",
       "      <td>1000</td>\n",
       "      <td>9.0</td>\n",
       "      <td>14568.91</td>\n",
       "      <td>57.0</td>\n",
       "      <td>440.14</td>\n",
       "      <td>52</td>\n",
       "      <td>NaT</td>\n",
       "      <td>Краснодар</td>\n",
       "      <td>Рафаил</td>\n",
       "      <td>Верещагин</td>\n",
       "      <td>2018-05-25</td>\n",
       "      <td>ultra</td>\n",
       "      <td>1000</td>\n",
       "      <td>30720</td>\n",
       "      <td>3000</td>\n",
       "      <td>1950</td>\n",
       "      <td>150</td>\n",
       "      <td>1</td>\n",
       "      <td>1</td>\n",
       "    </tr>\n",
       "  </tbody>\n",
       "</table>\n",
       "</div>"
      ],
      "text/plain": [
       "   user_id  month   mb_used  messages  duration  age churn_date       city  \\\n",
       "0     1000    5.0   2253.49      22.0    150.06   52        NaT  Краснодар   \n",
       "1     1000    6.0  23233.77      60.0    158.90   52        NaT  Краснодар   \n",
       "2     1000    7.0  14003.64      75.0    318.80   52        NaT  Краснодар   \n",
       "3     1000    8.0  14055.93      81.0    389.87   52        NaT  Краснодар   \n",
       "4     1000    9.0  14568.91      57.0    440.14   52        NaT  Краснодар   \n",
       "\n",
       "  first_name  last_name   reg_date tariff  messages_included  \\\n",
       "0     Рафаил  Верещагин 2018-05-25  ultra               1000   \n",
       "1     Рафаил  Верещагин 2018-05-25  ultra               1000   \n",
       "2     Рафаил  Верещагин 2018-05-25  ultra               1000   \n",
       "3     Рафаил  Верещагин 2018-05-25  ultra               1000   \n",
       "4     Рафаил  Верещагин 2018-05-25  ultra               1000   \n",
       "\n",
       "   mb_per_month_included  minutes_included  rub_monthly_fee  rub_per_gb  \\\n",
       "0                  30720              3000             1950         150   \n",
       "1                  30720              3000             1950         150   \n",
       "2                  30720              3000             1950         150   \n",
       "3                  30720              3000             1950         150   \n",
       "4                  30720              3000             1950         150   \n",
       "\n",
       "   rub_per_message  rub_per_minute  \n",
       "0                1               1  \n",
       "1                1               1  \n",
       "2                1               1  \n",
       "3                1               1  \n",
       "4                1               1  "
      ]
     },
     "execution_count": 15,
     "metadata": {},
     "output_type": "execute_result"
    }
   ],
   "source": [
    "df = internet_grouped.merge(messages_grouped, on = ['user_id', 'month'], how = 'outer')\n",
    "df = df.merge(calls_grouped, on = ['user_id', 'month'], how = 'outer')\n",
    "df = df.merge(df_users, on = 'user_id', how = 'outer')\n",
    "df.head(5)\n",
    "#соединили все таблицы в одну"
   ]
  },
  {
   "cell_type": "code",
   "execution_count": 16,
   "metadata": {
    "scrolled": true
   },
   "outputs": [],
   "source": [
    "# есть пропущенные значения, заменим их на 0, также заменим месяц и смс на тип int()\n",
    "#удалим строки, где в месяце пропущееное значение\n",
    "df = df.dropna(subset = ['month'])\n",
    "df['mb_used'] = df['mb_used'].fillna(0)\n",
    "df['messages'] = df['messages'].fillna(0).astype('int')\n",
    "df['duration'] = df['duration'].fillna(0)\n",
    "df['month']=df['month'].astype('int')\n",
    "#df.info()"
   ]
  },
  {
   "cell_type": "code",
   "execution_count": 17,
   "metadata": {},
   "outputs": [
    {
     "data": {
      "text/html": [
       "<div>\n",
       "<style scoped>\n",
       "    .dataframe tbody tr th:only-of-type {\n",
       "        vertical-align: middle;\n",
       "    }\n",
       "\n",
       "    .dataframe tbody tr th {\n",
       "        vertical-align: top;\n",
       "    }\n",
       "\n",
       "    .dataframe thead th {\n",
       "        text-align: right;\n",
       "    }\n",
       "</style>\n",
       "<table border=\"1\" class=\"dataframe\">\n",
       "  <thead>\n",
       "    <tr style=\"text-align: right;\">\n",
       "      <th></th>\n",
       "      <th>user_id</th>\n",
       "      <th>month</th>\n",
       "      <th>gb_used</th>\n",
       "      <th>messages</th>\n",
       "      <th>duration</th>\n",
       "      <th>age</th>\n",
       "      <th>churn_date</th>\n",
       "      <th>city</th>\n",
       "      <th>first_name</th>\n",
       "      <th>last_name</th>\n",
       "      <th>reg_date</th>\n",
       "      <th>tariff</th>\n",
       "      <th>messages_included</th>\n",
       "      <th>gb_per_month_included</th>\n",
       "      <th>minutes_included</th>\n",
       "      <th>rub_monthly_fee</th>\n",
       "      <th>rub_per_gb</th>\n",
       "      <th>rub_per_message</th>\n",
       "      <th>rub_per_minute</th>\n",
       "    </tr>\n",
       "  </thead>\n",
       "  <tbody>\n",
       "    <tr>\n",
       "      <th>0</th>\n",
       "      <td>1000</td>\n",
       "      <td>5</td>\n",
       "      <td>2.200674</td>\n",
       "      <td>22</td>\n",
       "      <td>150.06</td>\n",
       "      <td>52</td>\n",
       "      <td>NaT</td>\n",
       "      <td>Краснодар</td>\n",
       "      <td>Рафаил</td>\n",
       "      <td>Верещагин</td>\n",
       "      <td>2018-05-25</td>\n",
       "      <td>ultra</td>\n",
       "      <td>1000</td>\n",
       "      <td>30.0</td>\n",
       "      <td>3000</td>\n",
       "      <td>1950</td>\n",
       "      <td>150</td>\n",
       "      <td>1</td>\n",
       "      <td>1</td>\n",
       "    </tr>\n",
       "    <tr>\n",
       "      <th>1</th>\n",
       "      <td>1000</td>\n",
       "      <td>6</td>\n",
       "      <td>22.689229</td>\n",
       "      <td>60</td>\n",
       "      <td>158.90</td>\n",
       "      <td>52</td>\n",
       "      <td>NaT</td>\n",
       "      <td>Краснодар</td>\n",
       "      <td>Рафаил</td>\n",
       "      <td>Верещагин</td>\n",
       "      <td>2018-05-25</td>\n",
       "      <td>ultra</td>\n",
       "      <td>1000</td>\n",
       "      <td>30.0</td>\n",
       "      <td>3000</td>\n",
       "      <td>1950</td>\n",
       "      <td>150</td>\n",
       "      <td>1</td>\n",
       "      <td>1</td>\n",
       "    </tr>\n",
       "    <tr>\n",
       "      <th>2</th>\n",
       "      <td>1000</td>\n",
       "      <td>7</td>\n",
       "      <td>13.675430</td>\n",
       "      <td>75</td>\n",
       "      <td>318.80</td>\n",
       "      <td>52</td>\n",
       "      <td>NaT</td>\n",
       "      <td>Краснодар</td>\n",
       "      <td>Рафаил</td>\n",
       "      <td>Верещагин</td>\n",
       "      <td>2018-05-25</td>\n",
       "      <td>ultra</td>\n",
       "      <td>1000</td>\n",
       "      <td>30.0</td>\n",
       "      <td>3000</td>\n",
       "      <td>1950</td>\n",
       "      <td>150</td>\n",
       "      <td>1</td>\n",
       "      <td>1</td>\n",
       "    </tr>\n",
       "    <tr>\n",
       "      <th>3</th>\n",
       "      <td>1000</td>\n",
       "      <td>8</td>\n",
       "      <td>13.726494</td>\n",
       "      <td>81</td>\n",
       "      <td>389.87</td>\n",
       "      <td>52</td>\n",
       "      <td>NaT</td>\n",
       "      <td>Краснодар</td>\n",
       "      <td>Рафаил</td>\n",
       "      <td>Верещагин</td>\n",
       "      <td>2018-05-25</td>\n",
       "      <td>ultra</td>\n",
       "      <td>1000</td>\n",
       "      <td>30.0</td>\n",
       "      <td>3000</td>\n",
       "      <td>1950</td>\n",
       "      <td>150</td>\n",
       "      <td>1</td>\n",
       "      <td>1</td>\n",
       "    </tr>\n",
       "    <tr>\n",
       "      <th>4</th>\n",
       "      <td>1000</td>\n",
       "      <td>9</td>\n",
       "      <td>14.227451</td>\n",
       "      <td>57</td>\n",
       "      <td>440.14</td>\n",
       "      <td>52</td>\n",
       "      <td>NaT</td>\n",
       "      <td>Краснодар</td>\n",
       "      <td>Рафаил</td>\n",
       "      <td>Верещагин</td>\n",
       "      <td>2018-05-25</td>\n",
       "      <td>ultra</td>\n",
       "      <td>1000</td>\n",
       "      <td>30.0</td>\n",
       "      <td>3000</td>\n",
       "      <td>1950</td>\n",
       "      <td>150</td>\n",
       "      <td>1</td>\n",
       "      <td>1</td>\n",
       "    </tr>\n",
       "  </tbody>\n",
       "</table>\n",
       "</div>"
      ],
      "text/plain": [
       "   user_id  month    gb_used  messages  duration  age churn_date       city  \\\n",
       "0     1000      5   2.200674        22    150.06   52        NaT  Краснодар   \n",
       "1     1000      6  22.689229        60    158.90   52        NaT  Краснодар   \n",
       "2     1000      7  13.675430        75    318.80   52        NaT  Краснодар   \n",
       "3     1000      8  13.726494        81    389.87   52        NaT  Краснодар   \n",
       "4     1000      9  14.227451        57    440.14   52        NaT  Краснодар   \n",
       "\n",
       "  first_name  last_name   reg_date tariff  messages_included  \\\n",
       "0     Рафаил  Верещагин 2018-05-25  ultra               1000   \n",
       "1     Рафаил  Верещагин 2018-05-25  ultra               1000   \n",
       "2     Рафаил  Верещагин 2018-05-25  ultra               1000   \n",
       "3     Рафаил  Верещагин 2018-05-25  ultra               1000   \n",
       "4     Рафаил  Верещагин 2018-05-25  ultra               1000   \n",
       "\n",
       "   gb_per_month_included  minutes_included  rub_monthly_fee  rub_per_gb  \\\n",
       "0                   30.0              3000             1950         150   \n",
       "1                   30.0              3000             1950         150   \n",
       "2                   30.0              3000             1950         150   \n",
       "3                   30.0              3000             1950         150   \n",
       "4                   30.0              3000             1950         150   \n",
       "\n",
       "   rub_per_message  rub_per_minute  \n",
       "0                1               1  \n",
       "1                1               1  \n",
       "2                1               1  \n",
       "3                1               1  \n",
       "4                1               1  "
      ]
     },
     "execution_count": 17,
     "metadata": {},
     "output_type": "execute_result"
    }
   ],
   "source": [
    "#для расчетов нам удобней перевести мб в гб, так как будет удобней считать.\n",
    "#в 1 ГБ 1024 мб, разделим столбец на 1024\n",
    "df['mb_used']= df['mb_used']/1024\n",
    "df = df.rename(columns = {'mb_used' : 'gb_used'})\n",
    "df['mb_per_month_included']= df['mb_per_month_included']/1024\n",
    "df = df.rename(columns = {'mb_per_month_included' : 'gb_per_month_included'})\n",
    "\n",
    "df.head(5)"
   ]
  },
  {
   "cell_type": "code",
   "execution_count": 18,
   "metadata": {},
   "outputs": [
    {
     "data": {
      "text/html": [
       "<div>\n",
       "<style scoped>\n",
       "    .dataframe tbody tr th:only-of-type {\n",
       "        vertical-align: middle;\n",
       "    }\n",
       "\n",
       "    .dataframe tbody tr th {\n",
       "        vertical-align: top;\n",
       "    }\n",
       "\n",
       "    .dataframe thead th {\n",
       "        text-align: right;\n",
       "    }\n",
       "</style>\n",
       "<table border=\"1\" class=\"dataframe\">\n",
       "  <thead>\n",
       "    <tr style=\"text-align: right;\">\n",
       "      <th></th>\n",
       "      <th>user_id</th>\n",
       "      <th>month</th>\n",
       "      <th>gb_used</th>\n",
       "      <th>messages</th>\n",
       "      <th>duration</th>\n",
       "      <th>age</th>\n",
       "      <th>churn_date</th>\n",
       "      <th>city</th>\n",
       "      <th>first_name</th>\n",
       "      <th>last_name</th>\n",
       "      <th>...</th>\n",
       "      <th>gb_per_month_included</th>\n",
       "      <th>minutes_included</th>\n",
       "      <th>rub_monthly_fee</th>\n",
       "      <th>rub_per_gb</th>\n",
       "      <th>rub_per_message</th>\n",
       "      <th>rub_per_minute</th>\n",
       "      <th>revenue_calls</th>\n",
       "      <th>revenue_internet</th>\n",
       "      <th>revenue_messages</th>\n",
       "      <th>revenue_month</th>\n",
       "    </tr>\n",
       "  </thead>\n",
       "  <tbody>\n",
       "    <tr>\n",
       "      <th>0</th>\n",
       "      <td>1000</td>\n",
       "      <td>5</td>\n",
       "      <td>3</td>\n",
       "      <td>22</td>\n",
       "      <td>151</td>\n",
       "      <td>52</td>\n",
       "      <td>NaT</td>\n",
       "      <td>Краснодар</td>\n",
       "      <td>Рафаил</td>\n",
       "      <td>Верещагин</td>\n",
       "      <td>...</td>\n",
       "      <td>30.0</td>\n",
       "      <td>3000</td>\n",
       "      <td>1950</td>\n",
       "      <td>150</td>\n",
       "      <td>1</td>\n",
       "      <td>1</td>\n",
       "      <td>0</td>\n",
       "      <td>0.0</td>\n",
       "      <td>0</td>\n",
       "      <td>1950.0</td>\n",
       "    </tr>\n",
       "    <tr>\n",
       "      <th>1</th>\n",
       "      <td>1000</td>\n",
       "      <td>6</td>\n",
       "      <td>23</td>\n",
       "      <td>60</td>\n",
       "      <td>159</td>\n",
       "      <td>52</td>\n",
       "      <td>NaT</td>\n",
       "      <td>Краснодар</td>\n",
       "      <td>Рафаил</td>\n",
       "      <td>Верещагин</td>\n",
       "      <td>...</td>\n",
       "      <td>30.0</td>\n",
       "      <td>3000</td>\n",
       "      <td>1950</td>\n",
       "      <td>150</td>\n",
       "      <td>1</td>\n",
       "      <td>1</td>\n",
       "      <td>0</td>\n",
       "      <td>0.0</td>\n",
       "      <td>0</td>\n",
       "      <td>1950.0</td>\n",
       "    </tr>\n",
       "    <tr>\n",
       "      <th>2</th>\n",
       "      <td>1000</td>\n",
       "      <td>7</td>\n",
       "      <td>14</td>\n",
       "      <td>75</td>\n",
       "      <td>319</td>\n",
       "      <td>52</td>\n",
       "      <td>NaT</td>\n",
       "      <td>Краснодар</td>\n",
       "      <td>Рафаил</td>\n",
       "      <td>Верещагин</td>\n",
       "      <td>...</td>\n",
       "      <td>30.0</td>\n",
       "      <td>3000</td>\n",
       "      <td>1950</td>\n",
       "      <td>150</td>\n",
       "      <td>1</td>\n",
       "      <td>1</td>\n",
       "      <td>0</td>\n",
       "      <td>0.0</td>\n",
       "      <td>0</td>\n",
       "      <td>1950.0</td>\n",
       "    </tr>\n",
       "    <tr>\n",
       "      <th>3</th>\n",
       "      <td>1000</td>\n",
       "      <td>8</td>\n",
       "      <td>14</td>\n",
       "      <td>81</td>\n",
       "      <td>390</td>\n",
       "      <td>52</td>\n",
       "      <td>NaT</td>\n",
       "      <td>Краснодар</td>\n",
       "      <td>Рафаил</td>\n",
       "      <td>Верещагин</td>\n",
       "      <td>...</td>\n",
       "      <td>30.0</td>\n",
       "      <td>3000</td>\n",
       "      <td>1950</td>\n",
       "      <td>150</td>\n",
       "      <td>1</td>\n",
       "      <td>1</td>\n",
       "      <td>0</td>\n",
       "      <td>0.0</td>\n",
       "      <td>0</td>\n",
       "      <td>1950.0</td>\n",
       "    </tr>\n",
       "    <tr>\n",
       "      <th>4</th>\n",
       "      <td>1000</td>\n",
       "      <td>9</td>\n",
       "      <td>15</td>\n",
       "      <td>57</td>\n",
       "      <td>441</td>\n",
       "      <td>52</td>\n",
       "      <td>NaT</td>\n",
       "      <td>Краснодар</td>\n",
       "      <td>Рафаил</td>\n",
       "      <td>Верещагин</td>\n",
       "      <td>...</td>\n",
       "      <td>30.0</td>\n",
       "      <td>3000</td>\n",
       "      <td>1950</td>\n",
       "      <td>150</td>\n",
       "      <td>1</td>\n",
       "      <td>1</td>\n",
       "      <td>0</td>\n",
       "      <td>0.0</td>\n",
       "      <td>0</td>\n",
       "      <td>1950.0</td>\n",
       "    </tr>\n",
       "  </tbody>\n",
       "</table>\n",
       "<p>5 rows × 23 columns</p>\n",
       "</div>"
      ],
      "text/plain": [
       "   user_id  month  gb_used  messages  duration  age churn_date       city  \\\n",
       "0     1000      5        3        22       151   52        NaT  Краснодар   \n",
       "1     1000      6       23        60       159   52        NaT  Краснодар   \n",
       "2     1000      7       14        75       319   52        NaT  Краснодар   \n",
       "3     1000      8       14        81       390   52        NaT  Краснодар   \n",
       "4     1000      9       15        57       441   52        NaT  Краснодар   \n",
       "\n",
       "  first_name  last_name  ... gb_per_month_included minutes_included  \\\n",
       "0     Рафаил  Верещагин  ...                  30.0             3000   \n",
       "1     Рафаил  Верещагин  ...                  30.0             3000   \n",
       "2     Рафаил  Верещагин  ...                  30.0             3000   \n",
       "3     Рафаил  Верещагин  ...                  30.0             3000   \n",
       "4     Рафаил  Верещагин  ...                  30.0             3000   \n",
       "\n",
       "   rub_monthly_fee  rub_per_gb  rub_per_message  rub_per_minute  \\\n",
       "0             1950         150                1               1   \n",
       "1             1950         150                1               1   \n",
       "2             1950         150                1               1   \n",
       "3             1950         150                1               1   \n",
       "4             1950         150                1               1   \n",
       "\n",
       "   revenue_calls  revenue_internet  revenue_messages  revenue_month  \n",
       "0              0               0.0                 0         1950.0  \n",
       "1              0               0.0                 0         1950.0  \n",
       "2              0               0.0                 0         1950.0  \n",
       "3              0               0.0                 0         1950.0  \n",
       "4              0               0.0                 0         1950.0  \n",
       "\n",
       "[5 rows x 23 columns]"
      ]
     },
     "execution_count": 18,
     "metadata": {},
     "output_type": "execute_result"
    }
   ],
   "source": [
    "#округлим столбцы с длительностью звонков и гб в большую сторону.\n",
    "df['duration'] = np.ceil(df['duration']).astype('int')\n",
    "df['gb_used'] = np.ceil(df['gb_used']).astype('int')\n",
    "\n",
    "#Создаем столбцы, в которые попадёт сумма выручки компании при превышении клиентом трафика:\n",
    "df['revenue_calls'] = (df['duration'] - df['minutes_included']) * df['rub_per_minute']\n",
    "df['revenue_internet'] = (df['gb_used'] - df['gb_per_month_included']) * df['rub_per_gb'] \n",
    "df['revenue_messages'] = (df['messages'] - df['messages_included']) * df['rub_per_message']\n",
    "# Если превышения нет, оставим в этих столбцах нули:\n",
    "df.loc[df['revenue_calls'] < 0, 'revenue_calls'] = 0\n",
    "df.loc[df['revenue_internet'] < 0, 'revenue_internet'] = 0\n",
    "df.loc[df['revenue_messages'] < 0, 'revenue_messages'] = 0\n",
    "#Итоговая выручка:\n",
    "df['revenue_month'] = df['rub_monthly_fee'] + df['revenue_calls'] + df['revenue_internet'] + df['revenue_messages']\n",
    "df.head(5)"
   ]
  },
  {
   "cell_type": "markdown",
   "metadata": {},
   "source": [
    " Итоги:\n",
    " \n",
    " Сгруппирована таблица по прибыли компании от превышения пользвателями тарифного плана. \n",
    " Высчитана прибыль отдельно за каждый месяц по смс, звонкам и интернету, а также общая прибыль."
   ]
  },
  {
   "cell_type": "markdown",
   "metadata": {},
   "source": [
    "## Исследовательский анализ данных"
   ]
  },
  {
   "cell_type": "markdown",
   "metadata": {},
   "source": [
    "Задача : Выяснить сколько минут разговора, сколько сообщений и какой объём интернет-трафика требуется пользователям каждого тарифа в месяц. Посчитать среднее количество, дисперсию и стандартное отклонение. Построить гистограммы. Опишите распределения."
   ]
  },
  {
   "cell_type": "code",
   "execution_count": 19,
   "metadata": {},
   "outputs": [
    {
     "name": "stdout",
     "output_type": "stream",
     "text": [
      "smart    2229\n",
      "ultra     985\n",
      "Name: tariff, dtype: int64\n"
     ]
    },
    {
     "data": {
      "text/plain": [
       "<AxesSubplot:title={'center':'Соотношение тарифов'}, ylabel='tariff'>"
      ]
     },
     "execution_count": 19,
     "metadata": {},
     "output_type": "execute_result"
    },
    {
     "data": {
      "image/png": "[encoded data removed]",
      "text/plain": [
       "<Figure size 432x288 with 1 Axes>"
      ]
     },
     "metadata": {},
     "output_type": "display_data"
    }
   ],
   "source": [
    "#Посмотрим сколько человек каким тарифом пользуются.\n",
    "print(df['tariff'].value_counts())\n",
    "df['tariff'].value_counts().plot(kind = 'pie', title = 'Соотношение тарифов',autopct='%1.2f%%')"
   ]
  },
  {
   "cell_type": "markdown",
   "metadata": {},
   "source": [
    "Исходя из данных, люди предпочитают пользоваться тарифом Smart, почти 70% из общей выборки."
   ]
  },
  {
   "cell_type": "code",
   "execution_count": 20,
   "metadata": {},
   "outputs": [
    {
     "data": {
      "text/html": [
       "<div>\n",
       "<style scoped>\n",
       "    .dataframe tbody tr th:only-of-type {\n",
       "        vertical-align: middle;\n",
       "    }\n",
       "\n",
       "    .dataframe tbody tr th {\n",
       "        vertical-align: top;\n",
       "    }\n",
       "\n",
       "    .dataframe thead th {\n",
       "        text-align: right;\n",
       "    }\n",
       "</style>\n",
       "<table border=\"1\" class=\"dataframe\">\n",
       "  <thead>\n",
       "    <tr style=\"text-align: right;\">\n",
       "      <th></th>\n",
       "      <th>user_id</th>\n",
       "      <th>month</th>\n",
       "      <th>gb_used</th>\n",
       "      <th>messages</th>\n",
       "      <th>duration</th>\n",
       "      <th>age</th>\n",
       "      <th>churn_date</th>\n",
       "      <th>city</th>\n",
       "      <th>first_name</th>\n",
       "      <th>last_name</th>\n",
       "      <th>...</th>\n",
       "      <th>gb_per_month_included</th>\n",
       "      <th>minutes_included</th>\n",
       "      <th>rub_monthly_fee</th>\n",
       "      <th>rub_per_gb</th>\n",
       "      <th>rub_per_message</th>\n",
       "      <th>rub_per_minute</th>\n",
       "      <th>revenue_calls</th>\n",
       "      <th>revenue_internet</th>\n",
       "      <th>revenue_messages</th>\n",
       "      <th>revenue_month</th>\n",
       "    </tr>\n",
       "  </thead>\n",
       "  <tbody>\n",
       "    <tr>\n",
       "      <th>8</th>\n",
       "      <td>1001</td>\n",
       "      <td>11</td>\n",
       "      <td>18</td>\n",
       "      <td>0</td>\n",
       "      <td>409</td>\n",
       "      <td>41</td>\n",
       "      <td>NaT</td>\n",
       "      <td>Москва</td>\n",
       "      <td>Иван</td>\n",
       "      <td>Ежов</td>\n",
       "      <td>...</td>\n",
       "      <td>15.0</td>\n",
       "      <td>500</td>\n",
       "      <td>550</td>\n",
       "      <td>200</td>\n",
       "      <td>3</td>\n",
       "      <td>3</td>\n",
       "      <td>0</td>\n",
       "      <td>600.0</td>\n",
       "      <td>0</td>\n",
       "      <td>1150.0</td>\n",
       "    </tr>\n",
       "    <tr>\n",
       "      <th>9</th>\n",
       "      <td>1001</td>\n",
       "      <td>12</td>\n",
       "      <td>14</td>\n",
       "      <td>0</td>\n",
       "      <td>392</td>\n",
       "      <td>41</td>\n",
       "      <td>NaT</td>\n",
       "      <td>Москва</td>\n",
       "      <td>Иван</td>\n",
       "      <td>Ежов</td>\n",
       "      <td>...</td>\n",
       "      <td>15.0</td>\n",
       "      <td>500</td>\n",
       "      <td>550</td>\n",
       "      <td>200</td>\n",
       "      <td>3</td>\n",
       "      <td>3</td>\n",
       "      <td>0</td>\n",
       "      <td>0.0</td>\n",
       "      <td>0</td>\n",
       "      <td>550.0</td>\n",
       "    </tr>\n",
       "    <tr>\n",
       "      <th>10</th>\n",
       "      <td>1002</td>\n",
       "      <td>6</td>\n",
       "      <td>11</td>\n",
       "      <td>4</td>\n",
       "      <td>111</td>\n",
       "      <td>59</td>\n",
       "      <td>NaT</td>\n",
       "      <td>Стерлитамак</td>\n",
       "      <td>Евгений</td>\n",
       "      <td>Абрамович</td>\n",
       "      <td>...</td>\n",
       "      <td>15.0</td>\n",
       "      <td>500</td>\n",
       "      <td>550</td>\n",
       "      <td>200</td>\n",
       "      <td>3</td>\n",
       "      <td>3</td>\n",
       "      <td>0</td>\n",
       "      <td>0.0</td>\n",
       "      <td>0</td>\n",
       "      <td>550.0</td>\n",
       "    </tr>\n",
       "    <tr>\n",
       "      <th>11</th>\n",
       "      <td>1002</td>\n",
       "      <td>7</td>\n",
       "      <td>18</td>\n",
       "      <td>11</td>\n",
       "      <td>205</td>\n",
       "      <td>59</td>\n",
       "      <td>NaT</td>\n",
       "      <td>Стерлитамак</td>\n",
       "      <td>Евгений</td>\n",
       "      <td>Абрамович</td>\n",
       "      <td>...</td>\n",
       "      <td>15.0</td>\n",
       "      <td>500</td>\n",
       "      <td>550</td>\n",
       "      <td>200</td>\n",
       "      <td>3</td>\n",
       "      <td>3</td>\n",
       "      <td>0</td>\n",
       "      <td>600.0</td>\n",
       "      <td>0</td>\n",
       "      <td>1150.0</td>\n",
       "    </tr>\n",
       "    <tr>\n",
       "      <th>12</th>\n",
       "      <td>1002</td>\n",
       "      <td>8</td>\n",
       "      <td>20</td>\n",
       "      <td>13</td>\n",
       "      <td>270</td>\n",
       "      <td>59</td>\n",
       "      <td>NaT</td>\n",
       "      <td>Стерлитамак</td>\n",
       "      <td>Евгений</td>\n",
       "      <td>Абрамович</td>\n",
       "      <td>...</td>\n",
       "      <td>15.0</td>\n",
       "      <td>500</td>\n",
       "      <td>550</td>\n",
       "      <td>200</td>\n",
       "      <td>3</td>\n",
       "      <td>3</td>\n",
       "      <td>0</td>\n",
       "      <td>1000.0</td>\n",
       "      <td>0</td>\n",
       "      <td>1550.0</td>\n",
       "    </tr>\n",
       "  </tbody>\n",
       "</table>\n",
       "<p>5 rows × 23 columns</p>\n",
       "</div>"
      ],
      "text/plain": [
       "    user_id  month  gb_used  messages  duration  age churn_date         city  \\\n",
       "8      1001     11       18         0       409   41        NaT       Москва   \n",
       "9      1001     12       14         0       392   41        NaT       Москва   \n",
       "10     1002      6       11         4       111   59        NaT  Стерлитамак   \n",
       "11     1002      7       18        11       205   59        NaT  Стерлитамак   \n",
       "12     1002      8       20        13       270   59        NaT  Стерлитамак   \n",
       "\n",
       "   first_name  last_name  ... gb_per_month_included minutes_included  \\\n",
       "8        Иван       Ежов  ...                  15.0              500   \n",
       "9        Иван       Ежов  ...                  15.0              500   \n",
       "10    Евгений  Абрамович  ...                  15.0              500   \n",
       "11    Евгений  Абрамович  ...                  15.0              500   \n",
       "12    Евгений  Абрамович  ...                  15.0              500   \n",
       "\n",
       "    rub_monthly_fee  rub_per_gb  rub_per_message  rub_per_minute  \\\n",
       "8               550         200                3               3   \n",
       "9               550         200                3               3   \n",
       "10              550         200                3               3   \n",
       "11              550         200                3               3   \n",
       "12              550         200                3               3   \n",
       "\n",
       "    revenue_calls  revenue_internet  revenue_messages  revenue_month  \n",
       "8               0             600.0                 0         1150.0  \n",
       "9               0               0.0                 0          550.0  \n",
       "10              0               0.0                 0          550.0  \n",
       "11              0             600.0                 0         1150.0  \n",
       "12              0            1000.0                 0         1550.0  \n",
       "\n",
       "[5 rows x 23 columns]"
      ]
     },
     "execution_count": 20,
     "metadata": {},
     "output_type": "execute_result"
    }
   ],
   "source": [
    "# возьмем два среза по тарифам\n",
    "smart = df[df['tariff'] == 'smart']\n",
    "ultra = df[df['tariff'] == 'ultra']\n",
    "smart.head(5)\n"
   ]
  },
  {
   "cell_type": "code",
   "execution_count": 21,
   "metadata": {},
   "outputs": [
    {
     "name": "stdout",
     "output_type": "stream",
     "text": [
      "1257.5886047554957\n",
      "2070.1522842639592\n"
     ]
    }
   ],
   "source": [
    "#средний доход с 1 пользователя по тарифам\n",
    "print(smart['revenue_month'].mean())\n",
    "print(ultra['revenue_month'].mean())\n"
   ]
  },
  {
   "cell_type": "code",
   "execution_count": 22,
   "metadata": {},
   "outputs": [
    {
     "name": "stdout",
     "output_type": "stream",
     "text": [
      "962.0\n",
      "1950.0\n"
     ]
    }
   ],
   "source": [
    "#медианные значения доходности по тарифам\n",
    "print(smart['revenue_month'].median())\n",
    "print(ultra['revenue_month'].median())\n"
   ]
  },
  {
   "cell_type": "code",
   "execution_count": 23,
   "metadata": {},
   "outputs": [
    {
     "data": {
      "text/html": [
       "<div>\n",
       "<style scoped>\n",
       "    .dataframe tbody tr th:only-of-type {\n",
       "        vertical-align: middle;\n",
       "    }\n",
       "\n",
       "    .dataframe tbody tr th {\n",
       "        vertical-align: top;\n",
       "    }\n",
       "\n",
       "    .dataframe thead th {\n",
       "        text-align: right;\n",
       "    }\n",
       "</style>\n",
       "<table border=\"1\" class=\"dataframe\">\n",
       "  <thead>\n",
       "    <tr style=\"text-align: right;\">\n",
       "      <th></th>\n",
       "      <th>duration</th>\n",
       "      <th>messages</th>\n",
       "      <th>gb_used</th>\n",
       "    </tr>\n",
       "  </thead>\n",
       "  <tbody>\n",
       "    <tr>\n",
       "      <th>count</th>\n",
       "      <td>2229.000000</td>\n",
       "      <td>2229.000000</td>\n",
       "      <td>2229.000000</td>\n",
       "    </tr>\n",
       "    <tr>\n",
       "      <th>mean</th>\n",
       "      <td>394.922387</td>\n",
       "      <td>33.384029</td>\n",
       "      <td>16.328847</td>\n",
       "    </tr>\n",
       "    <tr>\n",
       "      <th>std</th>\n",
       "      <td>179.980292</td>\n",
       "      <td>28.227876</td>\n",
       "      <td>5.747061</td>\n",
       "    </tr>\n",
       "    <tr>\n",
       "      <th>min</th>\n",
       "      <td>0.000000</td>\n",
       "      <td>0.000000</td>\n",
       "      <td>0.000000</td>\n",
       "    </tr>\n",
       "    <tr>\n",
       "      <th>25%</th>\n",
       "      <td>268.000000</td>\n",
       "      <td>10.000000</td>\n",
       "      <td>13.000000</td>\n",
       "    </tr>\n",
       "    <tr>\n",
       "      <th>50%</th>\n",
       "      <td>398.000000</td>\n",
       "      <td>28.000000</td>\n",
       "      <td>17.000000</td>\n",
       "    </tr>\n",
       "    <tr>\n",
       "      <th>75%</th>\n",
       "      <td>516.000000</td>\n",
       "      <td>51.000000</td>\n",
       "      <td>20.000000</td>\n",
       "    </tr>\n",
       "    <tr>\n",
       "      <th>max</th>\n",
       "      <td>1355.000000</td>\n",
       "      <td>143.000000</td>\n",
       "      <td>38.000000</td>\n",
       "    </tr>\n",
       "  </tbody>\n",
       "</table>\n",
       "</div>"
      ],
      "text/plain": [
       "          duration     messages      gb_used\n",
       "count  2229.000000  2229.000000  2229.000000\n",
       "mean    394.922387    33.384029    16.328847\n",
       "std     179.980292    28.227876     5.747061\n",
       "min       0.000000     0.000000     0.000000\n",
       "25%     268.000000    10.000000    13.000000\n",
       "50%     398.000000    28.000000    17.000000\n",
       "75%     516.000000    51.000000    20.000000\n",
       "max    1355.000000   143.000000    38.000000"
      ]
     },
     "metadata": {},
     "output_type": "display_data"
    },
    {
     "data": {
      "text/html": [
       "<div>\n",
       "<style scoped>\n",
       "    .dataframe tbody tr th:only-of-type {\n",
       "        vertical-align: middle;\n",
       "    }\n",
       "\n",
       "    .dataframe tbody tr th {\n",
       "        vertical-align: top;\n",
       "    }\n",
       "\n",
       "    .dataframe thead th {\n",
       "        text-align: right;\n",
       "    }\n",
       "</style>\n",
       "<table border=\"1\" class=\"dataframe\">\n",
       "  <thead>\n",
       "    <tr style=\"text-align: right;\">\n",
       "      <th></th>\n",
       "      <th>duration</th>\n",
       "      <th>messages</th>\n",
       "      <th>gb_used</th>\n",
       "    </tr>\n",
       "  </thead>\n",
       "  <tbody>\n",
       "    <tr>\n",
       "      <th>count</th>\n",
       "      <td>985.000000</td>\n",
       "      <td>985.000000</td>\n",
       "      <td>985.000000</td>\n",
       "    </tr>\n",
       "    <tr>\n",
       "      <th>mean</th>\n",
       "      <td>497.547208</td>\n",
       "      <td>49.363452</td>\n",
       "      <td>19.494416</td>\n",
       "    </tr>\n",
       "    <tr>\n",
       "      <th>std</th>\n",
       "      <td>299.929524</td>\n",
       "      <td>47.804457</td>\n",
       "      <td>9.853511</td>\n",
       "    </tr>\n",
       "    <tr>\n",
       "      <th>min</th>\n",
       "      <td>0.000000</td>\n",
       "      <td>0.000000</td>\n",
       "      <td>0.000000</td>\n",
       "    </tr>\n",
       "    <tr>\n",
       "      <th>25%</th>\n",
       "      <td>268.000000</td>\n",
       "      <td>6.000000</td>\n",
       "      <td>12.000000</td>\n",
       "    </tr>\n",
       "    <tr>\n",
       "      <th>50%</th>\n",
       "      <td>489.000000</td>\n",
       "      <td>38.000000</td>\n",
       "      <td>19.000000</td>\n",
       "    </tr>\n",
       "    <tr>\n",
       "      <th>75%</th>\n",
       "      <td>712.000000</td>\n",
       "      <td>79.000000</td>\n",
       "      <td>27.000000</td>\n",
       "    </tr>\n",
       "    <tr>\n",
       "      <th>max</th>\n",
       "      <td>1579.000000</td>\n",
       "      <td>224.000000</td>\n",
       "      <td>49.000000</td>\n",
       "    </tr>\n",
       "  </tbody>\n",
       "</table>\n",
       "</div>"
      ],
      "text/plain": [
       "          duration    messages     gb_used\n",
       "count   985.000000  985.000000  985.000000\n",
       "mean    497.547208   49.363452   19.494416\n",
       "std     299.929524   47.804457    9.853511\n",
       "min       0.000000    0.000000    0.000000\n",
       "25%     268.000000    6.000000   12.000000\n",
       "50%     489.000000   38.000000   19.000000\n",
       "75%     712.000000   79.000000   27.000000\n",
       "max    1579.000000  224.000000   49.000000"
      ]
     },
     "metadata": {},
     "output_type": "display_data"
    },
    {
     "name": "stdout",
     "output_type": "stream",
     "text": [
      "Дисперсия тарифа  smart :\n",
      " duration    32378.373070\n",
      "messages      796.455483\n",
      "gb_used        33.013887\n",
      "dtype: float64 .\n",
      "Дисперсия тарифа  ultra :\n",
      " duration    89866.391934\n",
      "messages     2282.946075\n",
      "gb_used        96.993116\n",
      "dtype: float64 .\n"
     ]
    }
   ],
   "source": [
    "#посмотрим значения для тарифа smart \n",
    "display(smart[['duration', 'messages', 'gb_used']].describe())\n",
    "\n",
    "#посмотрим значения для тарифа ultra \n",
    "display(ultra[['duration', 'messages', 'gb_used']].describe())\n",
    "# также просчитаем дисперсию по каждому пункту тарифа\n",
    "print('Дисперсия тарифа  smart :\\n',\n",
    "      np.var(smart[['duration', 'messages', 'gb_used']]),'.')\n",
    "print('Дисперсия тарифа  ultra :\\n', \n",
    "      np.var(ultra[['duration', 'messages', 'gb_used']]),'.')\n"
   ]
  },
  {
   "cell_type": "markdown",
   "metadata": {},
   "source": [
    "Можно сделать вывод.\n",
    "\n",
    "По тарифу smart в среднем за месяц пользователи тратят:\n",
    "\n",
    "1) 395 минут разговора\n",
    "\n",
    "2) 33 смс\n",
    "\n",
    "3) 16 ГБ интернета\n",
    "\n",
    "Стандартное отклонение :\n",
    "\n",
    "1) Минут разговора - 180\n",
    "\n",
    "2) Смс - 28\n",
    "\n",
    "3) Интернет - 5,7 ГБ\n",
    "\n",
    "Дисперсия тарифа  smart по минутам : 32378.373070 . \n",
    "\n",
    "Дисперсия тарифа  smart по смс : 796.455483 .\n",
    "\n",
    "Дисперсия тарифа  smart по ГБ : 33.013887 .\n",
    "\n",
    "По тарифу ultra в среднем за месяц пользователи тратят:\n",
    "\n",
    "1) 498 минут разговора\n",
    "\n",
    "2) 49 смс\n",
    "\n",
    "3) 20 ГБ интернета\n",
    "\n",
    "Стандартное отклонение :\n",
    "\n",
    "1) Минут разговора - 300\n",
    "\n",
    "2) Смс - 48\n",
    "\n",
    "3) Интернет - 10 ГБ\n",
    "\n",
    "Дисперсия тарифа  ultra по минутам : 89866.391934 . \n",
    "\n",
    "Дисперсия тарифа  ultra по смс : 2282.946075 . \n",
    "\n",
    "Дисперсия тарифа  ultra по ГБ : 96.993116 .\n",
    "\n"
   ]
  },
  {
   "cell_type": "code",
   "execution_count": 24,
   "metadata": {},
   "outputs": [
    {
     "data": {
      "image/png": "[encoded data removed]",
      "text/plain": [
       "<Figure size 432x288 with 1 Axes>"
      ]
     },
     "metadata": {
      "needs_background": "light"
     },
     "output_type": "display_data"
    },
    {
     "data": {
      "image/png": "[encoded data removed]",
      "text/plain": [
       "<Figure size 432x288 with 1 Axes>"
      ]
     },
     "metadata": {
      "needs_background": "light"
     },
     "output_type": "display_data"
    },
    {
     "data": {
      "image/png": "[encoded data removed]",
      "text/plain": [
       "<Figure size 432x288 with 1 Axes>"
      ]
     },
     "metadata": {
      "needs_background": "light"
     },
     "output_type": "display_data"
    }
   ],
   "source": [
    "#Построим гистограммы и посмотрим на распределения. Тариф smart.\n",
    "smart['duration'].plot(kind = 'hist',bins=40, title = 'Длительность звонков')\n",
    "plt.show()\n",
    "smart['messages'].plot(kind = 'hist',bins=20, title = 'Смс')\n",
    "plt.show()\n",
    "smart['gb_used'].plot(kind = 'hist',bins=50, title = 'Интернет')\n",
    "plt.show()"
   ]
  },
  {
   "cell_type": "markdown",
   "metadata": {},
   "source": [
    "На графике длительности минут нормальное распределение. \n",
    "\n",
    "На графике смс распределение Пуассона.\n",
    "\n",
    "На графике интернета нормальное распределение."
   ]
  },
  {
   "cell_type": "code",
   "execution_count": 25,
   "metadata": {},
   "outputs": [
    {
     "data": {
      "image/png": "[encoded data removed]",
      "text/plain": [
       "<Figure size 432x288 with 1 Axes>"
      ]
     },
     "metadata": {
      "needs_background": "light"
     },
     "output_type": "display_data"
    },
    {
     "data": {
      "image/png": "[encoded data removed]",
      "text/plain": [
       "<Figure size 432x288 with 1 Axes>"
      ]
     },
     "metadata": {
      "needs_background": "light"
     },
     "output_type": "display_data"
    },
    {
     "data": {
      "image/png": "[encoded data removed]",
      "text/plain": [
       "<Figure size 432x288 with 1 Axes>"
      ]
     },
     "metadata": {
      "needs_background": "light"
     },
     "output_type": "display_data"
    }
   ],
   "source": [
    "#Построим гистограммы и посмотрим на распределения. Тариф ultra.\n",
    "ultra['duration'].plot(kind = 'hist',bins=40, title = 'Длительность звонков')\n",
    "plt.show()\n",
    "ultra['messages'].plot(kind = 'hist',bins=20, title = 'Смс')\n",
    "plt.show()\n",
    "ultra['gb_used'].plot(kind = 'hist',bins=50, title = 'Интернет')\n",
    "plt.show()"
   ]
  },
  {
   "cell_type": "markdown",
   "metadata": {},
   "source": [
    "На графике длительности минут нормальное распределение. \n",
    "\n",
    "На графике смс распределение Пуассона.\n",
    "\n",
    "На графике интернета нормальное распределение."
   ]
  },
  {
   "cell_type": "markdown",
   "metadata": {},
   "source": [
    "Вывод :\n",
    "\n",
    "Люди больше предпочитают пользоваться тарифом Smart, почти 70% из общей выборки.\n",
    "Мы сделали срезы по тарифам и нашли сколько в среднем люди тратят по каждому тарифу в месяц. Также рассчитали дисперсию по каждому тарифу.\n",
    "Можно заметить, что пользователи тарифа ultra не тратят весь базовый пакет минут и количества смс, в отличие от тарифа smart.\n",
    "А также пользователи тарифа Ultra в основном переплачивают за интернет.\n",
    "В среднем разница медианных значений дохода с разных тарифов отличается ~1000 в пользу тарифа ultra.\n",
    "То есть медианное и среднее значение дохода у абонентов тарифа ultra выше, что дает нам понять о прибыльности тарифа.\n"
   ]
  },
  {
   "cell_type": "markdown",
   "metadata": {},
   "source": [
    "## Проверка гипотез"
   ]
  },
  {
   "cell_type": "markdown",
   "metadata": {},
   "source": [
    "1 Гипотеза. \n",
    "\n",
    "H0 = Средняя выручка пользователей тарифов «Ультра» и «Смарт» равна.\n",
    "\n",
    "H1 = Средняя выручка пользователей тарифов «Ультра» и «Смарт» различаются.\n",
    "\n",
    "Будем использовать метод для проверки гипотезы о равенстве среднего двух генеральных совокупностей по взятым из них выборкам.(ttest Стьюдента)\n"
   ]
  },
  {
   "cell_type": "code",
   "execution_count": 26,
   "metadata": {},
   "outputs": [
    {
     "name": "stdout",
     "output_type": "stream",
     "text": [
      "p-значение: 6.179723168444486e-274\n",
      "Отвергаем нулевую гипотезу\n"
     ]
    }
   ],
   "source": [
    "#проверяем гипотезу\n",
    "alpha = 0.05\n",
    "result_one = st.ttest_ind (smart['revenue_month'], ultra['revenue_month'], equal_var = False)\n",
    "print('p-значение:',result_one.pvalue)\n",
    "if result_one.pvalue < alpha:\n",
    "    print('Отвергаем нулевую гипотезу')\n",
    "else:\n",
    "    print('Не получилось отвергнуть гипотезу')"
   ]
  },
  {
   "cell_type": "markdown",
   "metadata": {},
   "source": [
    "p-значение очень маленькое, получается, что нулевая гипотеза отвергается, а альтернативная гипотеза не отвергается. \n",
    "Вероятность случайного совпадения средних наших выборок очень маленькое.\n",
    "\n",
    "Вывод : Средняя выручка пользователей тарифов «Ультра» и «Смарт» различаются."
   ]
  },
  {
   "cell_type": "markdown",
   "metadata": {},
   "source": [
    "2 Гипотеза. \n",
    "\n",
    "H0 = Средняя выручка пользователей из Москвы равна выручке пользователей из других регионов.\n",
    "\n",
    "H1 = Средняя выручка пользователей из Москвы отличается от выручки пользователей из других регионов.\n",
    "\n",
    "Будем также использовать метод для проверки гипотезы о равенстве среднего двух генеральных совокупностей по взятым из них выборкам.(ttest Стьюдента)."
   ]
  },
  {
   "cell_type": "code",
   "execution_count": 27,
   "metadata": {},
   "outputs": [
    {
     "name": "stdout",
     "output_type": "stream",
     "text": [
      "p-значение: 0.46532858228722906\n",
      "Не получилось отвергнуть гипотезу\n"
     ]
    }
   ],
   "source": [
    "#создадим таблицы для пользователей из Москвы и из других регионов\n",
    "city_msk = df[df['city'] == 'Москва']\n",
    "city_other =  df[df['city'] != 'Москва']\n",
    "#проверяем гипотезу\n",
    "result_two = st.ttest_ind (city_msk['revenue_month'], city_other['revenue_month'], equal_var = False)\n",
    "print('p-значение:',result_two.pvalue)\n",
    "if result_two.pvalue < alpha:\n",
    "    print('Отвергаем нулевую гипотезу')\n",
    "else:\n",
    "    print('Не получилось отвергнуть гипотезу')"
   ]
  },
  {
   "cell_type": "markdown",
   "metadata": {},
   "source": [
    "Значение pvalue почти 0,5, вероятность случайного совпадения средних наших выборок вполне вероятно. Поэтому нулевая гипотеза не отвергается.\n",
    "\n",
    "Вывод : Средняя выручка пользователей из Москвы равна выручке пользователей из других регионов."
   ]
  },
  {
   "cell_type": "markdown",
   "metadata": {},
   "source": [
    "## Общий вывод"
   ]
  },
  {
   "cell_type": "markdown",
   "metadata": {},
   "source": [
    "Мы рассчитали из таблиц все необходимые средние значения израсходованных минут, мегабайт и сообщений, а также прибыль по ним по каждому месяцу и посчитали среднюю прибыль для компании по тарифам с 1 человека. Далее мы разделили всех клиентов по тарифным группам и проверили правильность наших гипотез.\n",
    "\n",
    "\n",
    "# Проанализировав выборку по абонентам можно сделать вывод :\n",
    "\n",
    "1) Пользователи тарифа Smart часто не укладываются в лимиты тарифа, но на доп услуги тратят в среднем меньше суммы абонентской платы тарифа Ultra.\n",
    "\n",
    "2) Пользователи тарифа Ultra в основном переплачивают за интернет.\n",
    "\n",
    "3) Люди предпочитают пользоваться тарифом Smart, почти 70% из общей выборки.\n",
    "\n",
    "4) Проверяя гипотезы, мы обнаружили, что средняя выручка пользователей тарифов Ultra и Smart различаются.\n",
    "\n",
    "5) Проверяя гипотезы, мы обнаружили, что средняя выручка пользователей из Москвы равна выручке пользователей из других регионов.\n",
    "\n",
    "Рекламный бюджет выгоднее всего перераспределить в пользу тарифа ultra, так как медианное и среднее значение дохода у абонентов тарифа ultra выше.\n",
    "\n",
    "В среднем «Мегалайн» от одного пользователя в месяц получает 2070 рублей(ultra) и 1258 рублей (smart).\n",
    "\n",
    "\n"
   ]
  }
 ],
 "metadata": {
  "ExecuteTimeLog": [
   {
    "duration": 1453,
    "start_time": "2022-03-14T10:24:09.417Z"
   },
   {
    "duration": 378,
    "start_time": "2022-03-14T10:26:58.357Z"
   },
   {
    "duration": 30,
    "start_time": "2022-03-14T10:26:58.737Z"
   },
   {
    "duration": 24,
    "start_time": "2022-03-14T10:26:58.769Z"
   },
   {
    "duration": 20,
    "start_time": "2022-03-14T10:26:58.795Z"
   },
   {
    "duration": 11,
    "start_time": "2022-03-14T10:26:58.817Z"
   },
   {
    "duration": 14,
    "start_time": "2022-03-14T10:26:58.831Z"
   },
   {
    "duration": 47,
    "start_time": "2022-03-14T10:35:39.617Z"
   },
   {
    "duration": 47,
    "start_time": "2022-03-14T10:35:53.336Z"
   },
   {
    "duration": 27,
    "start_time": "2022-03-14T10:37:49.845Z"
   },
   {
    "duration": 36,
    "start_time": "2022-03-14T10:45:53.736Z"
   },
   {
    "duration": 44,
    "start_time": "2022-03-14T10:46:07.136Z"
   },
   {
    "duration": 48,
    "start_time": "2022-03-14T10:46:28.075Z"
   },
   {
    "duration": 391,
    "start_time": "2022-03-14T10:46:51.815Z"
   },
   {
    "duration": 312,
    "start_time": "2022-03-14T10:47:01.796Z"
   },
   {
    "duration": 21,
    "start_time": "2022-03-14T10:47:11.197Z"
   },
   {
    "duration": 30,
    "start_time": "2022-03-14T10:47:16.976Z"
   },
   {
    "duration": 19,
    "start_time": "2022-03-14T10:47:32.976Z"
   },
   {
    "duration": 24,
    "start_time": "2022-03-14T10:47:37.876Z"
   },
   {
    "duration": 17,
    "start_time": "2022-03-14T10:47:41.856Z"
   },
   {
    "duration": 8018,
    "start_time": "2022-03-14T10:50:43.697Z"
   },
   {
    "duration": 29,
    "start_time": "2022-03-14T10:51:38.536Z"
   },
   {
    "duration": 362,
    "start_time": "2022-03-14T10:51:50.037Z"
   },
   {
    "duration": 26,
    "start_time": "2022-03-14T10:51:50.400Z"
   },
   {
    "duration": 43,
    "start_time": "2022-03-14T10:51:50.428Z"
   },
   {
    "duration": 45,
    "start_time": "2022-03-14T10:51:50.472Z"
   },
   {
    "duration": 31,
    "start_time": "2022-03-14T10:51:50.519Z"
   },
   {
    "duration": 18,
    "start_time": "2022-03-14T10:51:50.552Z"
   },
   {
    "duration": 44,
    "start_time": "2022-03-14T10:51:50.571Z"
   },
   {
    "duration": 9,
    "start_time": "2022-03-14T10:51:50.617Z"
   },
   {
    "duration": 11,
    "start_time": "2022-03-14T10:51:50.628Z"
   },
   {
    "duration": 5,
    "start_time": "2022-03-14T10:57:49.057Z"
   },
   {
    "duration": 346,
    "start_time": "2022-03-14T10:59:44.756Z"
   },
   {
    "duration": 337,
    "start_time": "2022-03-14T11:00:07.839Z"
   },
   {
    "duration": 346,
    "start_time": "2022-03-14T11:00:43.517Z"
   },
   {
    "duration": 1900,
    "start_time": "2022-03-14T11:00:41.966Z"
   },
   {
    "duration": 1898,
    "start_time": "2022-03-14T11:00:41.969Z"
   },
   {
    "duration": 1860,
    "start_time": "2022-03-14T11:00:42.008Z"
   },
   {
    "duration": 1856,
    "start_time": "2022-03-14T11:00:42.014Z"
   },
   {
    "duration": 1855,
    "start_time": "2022-03-14T11:00:42.016Z"
   },
   {
    "duration": 1853,
    "start_time": "2022-03-14T11:00:42.019Z"
   },
   {
    "duration": 1852,
    "start_time": "2022-03-14T11:00:42.022Z"
   },
   {
    "duration": 1851,
    "start_time": "2022-03-14T11:00:42.024Z"
   },
   {
    "duration": 1851,
    "start_time": "2022-03-14T11:00:42.026Z"
   },
   {
    "duration": 384,
    "start_time": "2022-03-14T11:01:02.745Z"
   },
   {
    "duration": 25,
    "start_time": "2022-03-14T11:01:03.131Z"
   },
   {
    "duration": 44,
    "start_time": "2022-03-14T11:01:03.158Z"
   },
   {
    "duration": 21,
    "start_time": "2022-03-14T11:01:03.204Z"
   },
   {
    "duration": 32,
    "start_time": "2022-03-14T11:01:03.226Z"
   },
   {
    "duration": 16,
    "start_time": "2022-03-14T11:01:03.260Z"
   },
   {
    "duration": 47,
    "start_time": "2022-03-14T11:01:03.278Z"
   },
   {
    "duration": 10,
    "start_time": "2022-03-14T11:01:03.326Z"
   },
   {
    "duration": 12,
    "start_time": "2022-03-14T11:01:03.338Z"
   },
   {
    "duration": 303,
    "start_time": "2022-03-14T11:01:03.352Z"
   },
   {
    "duration": 7,
    "start_time": "2022-03-14T11:01:23.047Z"
   },
   {
    "duration": 7,
    "start_time": "2022-03-14T11:01:38.796Z"
   },
   {
    "duration": 19,
    "start_time": "2022-03-14T11:01:46.096Z"
   },
   {
    "duration": 20,
    "start_time": "2022-03-14T11:02:18.817Z"
   },
   {
    "duration": 21,
    "start_time": "2022-03-14T11:02:47.697Z"
   },
   {
    "duration": 110,
    "start_time": "2022-03-14T11:03:53.677Z"
   },
   {
    "duration": 100,
    "start_time": "2022-03-14T11:04:02.556Z"
   },
   {
    "duration": 96,
    "start_time": "2022-03-14T11:04:10.017Z"
   },
   {
    "duration": 113,
    "start_time": "2022-03-14T11:04:50.077Z"
   },
   {
    "duration": 18,
    "start_time": "2022-03-14T11:05:03.898Z"
   },
   {
    "duration": 321,
    "start_time": "2022-03-14T11:05:11.917Z"
   },
   {
    "duration": 19,
    "start_time": "2022-03-14T11:05:24.818Z"
   },
   {
    "duration": 47,
    "start_time": "2022-03-14T11:17:54.628Z"
   },
   {
    "duration": 16,
    "start_time": "2022-03-14T11:18:02.000Z"
   },
   {
    "duration": 97,
    "start_time": "2022-03-14T11:28:11.436Z"
   },
   {
    "duration": 388,
    "start_time": "2022-03-14T11:28:18.155Z"
   },
   {
    "duration": 570,
    "start_time": "2022-03-14T11:28:28.235Z"
   },
   {
    "duration": 341,
    "start_time": "2022-03-14T11:28:51.595Z"
   },
   {
    "duration": 87,
    "start_time": "2022-03-14T11:30:12.715Z"
   },
   {
    "duration": 113,
    "start_time": "2022-03-14T11:32:05.995Z"
   },
   {
    "duration": 87,
    "start_time": "2022-03-14T11:33:32.395Z"
   },
   {
    "duration": 67,
    "start_time": "2022-03-14T11:34:14.675Z"
   },
   {
    "duration": 14,
    "start_time": "2022-03-14T11:34:25.814Z"
   },
   {
    "duration": 447,
    "start_time": "2022-03-14T11:34:38.276Z"
   },
   {
    "duration": 22,
    "start_time": "2022-03-14T11:34:38.725Z"
   },
   {
    "duration": 42,
    "start_time": "2022-03-14T11:34:38.749Z"
   },
   {
    "duration": 20,
    "start_time": "2022-03-14T11:34:38.793Z"
   },
   {
    "duration": 31,
    "start_time": "2022-03-14T11:34:38.815Z"
   },
   {
    "duration": 16,
    "start_time": "2022-03-14T11:34:38.848Z"
   },
   {
    "duration": 39,
    "start_time": "2022-03-14T11:34:38.866Z"
   },
   {
    "duration": 11,
    "start_time": "2022-03-14T11:34:38.906Z"
   },
   {
    "duration": 14,
    "start_time": "2022-03-14T11:34:38.919Z"
   },
   {
    "duration": 17,
    "start_time": "2022-03-14T11:34:38.935Z"
   },
   {
    "duration": 97,
    "start_time": "2022-03-14T11:34:38.953Z"
   },
   {
    "duration": 32,
    "start_time": "2022-03-14T11:34:39.051Z"
   },
   {
    "duration": 12,
    "start_time": "2022-03-14T11:34:39.084Z"
   },
   {
    "duration": 14,
    "start_time": "2022-03-14T11:34:39.098Z"
   },
   {
    "duration": 92,
    "start_time": "2022-03-14T11:42:03.716Z"
   },
   {
    "duration": 14,
    "start_time": "2022-03-14T11:42:43.195Z"
   },
   {
    "duration": 14,
    "start_time": "2022-03-14T11:42:48.455Z"
   },
   {
    "duration": 24,
    "start_time": "2022-03-14T11:42:54.067Z"
   },
   {
    "duration": 69,
    "start_time": "2022-03-14T11:42:55.843Z"
   },
   {
    "duration": 25,
    "start_time": "2022-03-14T11:42:59.555Z"
   },
   {
    "duration": 26,
    "start_time": "2022-03-14T11:43:13.894Z"
   },
   {
    "duration": 14,
    "start_time": "2022-03-14T11:43:22.284Z"
   },
   {
    "duration": 28,
    "start_time": "2022-03-14T11:43:26.916Z"
   },
   {
    "duration": 16,
    "start_time": "2022-03-14T11:44:06.675Z"
   },
   {
    "duration": 3,
    "start_time": "2022-03-14T11:47:39.255Z"
   },
   {
    "duration": 3,
    "start_time": "2022-03-14T11:53:50.826Z"
   },
   {
    "duration": 526,
    "start_time": "2022-03-14T11:55:44.315Z"
   },
   {
    "duration": 531,
    "start_time": "2022-03-14T11:56:00.955Z"
   },
   {
    "duration": 7821,
    "start_time": "2022-03-14T11:56:09.395Z"
   },
   {
    "duration": 522,
    "start_time": "2022-03-14T11:56:30.083Z"
   },
   {
    "duration": 42,
    "start_time": "2022-03-14T11:57:11.655Z"
   },
   {
    "duration": 69,
    "start_time": "2022-03-14T11:58:09.316Z"
   },
   {
    "duration": 16,
    "start_time": "2022-03-14T11:59:13.223Z"
   },
   {
    "duration": 14,
    "start_time": "2022-03-14T11:59:18.635Z"
   },
   {
    "duration": 385,
    "start_time": "2022-03-14T11:59:24.397Z"
   },
   {
    "duration": 25,
    "start_time": "2022-03-14T11:59:24.783Z"
   },
   {
    "duration": 44,
    "start_time": "2022-03-14T11:59:24.810Z"
   },
   {
    "duration": 40,
    "start_time": "2022-03-14T11:59:24.855Z"
   },
   {
    "duration": 34,
    "start_time": "2022-03-14T11:59:24.897Z"
   },
   {
    "duration": 18,
    "start_time": "2022-03-14T11:59:24.933Z"
   },
   {
    "duration": 48,
    "start_time": "2022-03-14T11:59:24.952Z"
   },
   {
    "duration": 11,
    "start_time": "2022-03-14T11:59:25.001Z"
   },
   {
    "duration": 16,
    "start_time": "2022-03-14T11:59:25.014Z"
   },
   {
    "duration": 19,
    "start_time": "2022-03-14T11:59:25.032Z"
   },
   {
    "duration": 102,
    "start_time": "2022-03-14T11:59:25.053Z"
   },
   {
    "duration": 14,
    "start_time": "2022-03-14T11:59:25.157Z"
   },
   {
    "duration": 14,
    "start_time": "2022-03-14T11:59:25.181Z"
   },
   {
    "duration": 16,
    "start_time": "2022-03-14T11:59:25.197Z"
   },
   {
    "duration": 19,
    "start_time": "2022-03-14T11:59:25.215Z"
   },
   {
    "duration": 29,
    "start_time": "2022-03-14T11:59:25.236Z"
   },
   {
    "duration": 330,
    "start_time": "2022-03-14T11:59:52.956Z"
   },
   {
    "duration": 30,
    "start_time": "2022-03-14T12:00:00.915Z"
   },
   {
    "duration": 386,
    "start_time": "2022-03-14T12:00:35.555Z"
   },
   {
    "duration": 32,
    "start_time": "2022-03-14T12:00:45.675Z"
   },
   {
    "duration": 18,
    "start_time": "2022-03-14T12:00:56.035Z"
   },
   {
    "duration": 58,
    "start_time": "2022-03-14T12:01:41.995Z"
   },
   {
    "duration": 365,
    "start_time": "2022-03-14T12:17:28.576Z"
   },
   {
    "duration": 23,
    "start_time": "2022-03-14T12:17:28.943Z"
   },
   {
    "duration": 40,
    "start_time": "2022-03-14T12:17:28.968Z"
   },
   {
    "duration": 20,
    "start_time": "2022-03-14T12:17:29.010Z"
   },
   {
    "duration": 31,
    "start_time": "2022-03-14T12:17:29.031Z"
   },
   {
    "duration": 25,
    "start_time": "2022-03-14T12:17:29.063Z"
   },
   {
    "duration": 25,
    "start_time": "2022-03-14T12:17:29.090Z"
   },
   {
    "duration": 9,
    "start_time": "2022-03-14T12:17:29.117Z"
   },
   {
    "duration": 11,
    "start_time": "2022-03-14T12:17:29.128Z"
   },
   {
    "duration": 46,
    "start_time": "2022-03-14T12:17:29.141Z"
   },
   {
    "duration": 71,
    "start_time": "2022-03-14T12:17:29.188Z"
   },
   {
    "duration": 21,
    "start_time": "2022-03-14T12:17:29.261Z"
   },
   {
    "duration": 14,
    "start_time": "2022-03-14T12:17:29.283Z"
   },
   {
    "duration": 18,
    "start_time": "2022-03-14T12:17:29.298Z"
   },
   {
    "duration": 13,
    "start_time": "2022-03-14T12:17:29.318Z"
   },
   {
    "duration": 18,
    "start_time": "2022-03-14T12:17:29.332Z"
   },
   {
    "duration": 64,
    "start_time": "2022-03-14T12:17:29.352Z"
   },
   {
    "duration": 313,
    "start_time": "2022-03-14T12:57:03.202Z"
   },
   {
    "duration": 325,
    "start_time": "2022-03-14T12:57:55.741Z"
   },
   {
    "duration": 462,
    "start_time": "2022-03-14T12:58:19.741Z"
   },
   {
    "duration": 94,
    "start_time": "2022-03-14T12:58:46.382Z"
   },
   {
    "duration": 93,
    "start_time": "2022-03-14T12:58:52.100Z"
   },
   {
    "duration": 19,
    "start_time": "2022-03-14T12:58:54.780Z"
   },
   {
    "duration": 18,
    "start_time": "2022-03-14T12:59:29.600Z"
   },
   {
    "duration": 17,
    "start_time": "2022-03-14T13:00:00.921Z"
   },
   {
    "duration": 16,
    "start_time": "2022-03-14T13:00:05.750Z"
   },
   {
    "duration": 1899,
    "start_time": "2022-03-14T13:00:08.420Z"
   },
   {
    "duration": 23,
    "start_time": "2022-03-14T13:00:10.321Z"
   },
   {
    "duration": 42,
    "start_time": "2022-03-14T13:00:10.346Z"
   },
   {
    "duration": 21,
    "start_time": "2022-03-14T13:00:10.391Z"
   },
   {
    "duration": 32,
    "start_time": "2022-03-14T13:00:10.414Z"
   },
   {
    "duration": 33,
    "start_time": "2022-03-14T13:00:10.448Z"
   },
   {
    "duration": 29,
    "start_time": "2022-03-14T13:00:10.482Z"
   },
   {
    "duration": 9,
    "start_time": "2022-03-14T13:00:10.513Z"
   },
   {
    "duration": 16,
    "start_time": "2022-03-14T13:00:10.524Z"
   },
   {
    "duration": 42,
    "start_time": "2022-03-14T13:00:10.542Z"
   },
   {
    "duration": 206,
    "start_time": "2022-03-14T13:00:10.586Z"
   },
   {
    "duration": 14,
    "start_time": "2022-03-14T13:00:10.793Z"
   },
   {
    "duration": 21,
    "start_time": "2022-03-14T13:00:10.808Z"
   },
   {
    "duration": 15,
    "start_time": "2022-03-14T13:00:10.830Z"
   },
   {
    "duration": 14,
    "start_time": "2022-03-14T13:00:10.847Z"
   },
   {
    "duration": 35,
    "start_time": "2022-03-14T13:00:10.863Z"
   },
   {
    "duration": 44,
    "start_time": "2022-03-14T13:00:10.899Z"
   },
   {
    "duration": 36,
    "start_time": "2022-03-14T13:00:10.945Z"
   },
   {
    "duration": 142,
    "start_time": "2022-03-14T13:00:46.562Z"
   },
   {
    "duration": 50,
    "start_time": "2022-03-14T13:00:48.637Z"
   },
   {
    "duration": 49,
    "start_time": "2022-03-14T13:02:00.701Z"
   },
   {
    "duration": 17,
    "start_time": "2022-03-14T13:02:11.061Z"
   },
   {
    "duration": 15,
    "start_time": "2022-03-14T13:22:06.322Z"
   },
   {
    "duration": 366,
    "start_time": "2022-03-14T13:22:49.597Z"
   },
   {
    "duration": 25,
    "start_time": "2022-03-14T13:22:49.965Z"
   },
   {
    "duration": 42,
    "start_time": "2022-03-14T13:22:49.992Z"
   },
   {
    "duration": 21,
    "start_time": "2022-03-14T13:22:50.036Z"
   },
   {
    "duration": 48,
    "start_time": "2022-03-14T13:22:50.058Z"
   },
   {
    "duration": 17,
    "start_time": "2022-03-14T13:22:50.108Z"
   },
   {
    "duration": 27,
    "start_time": "2022-03-14T13:22:50.127Z"
   },
   {
    "duration": 26,
    "start_time": "2022-03-14T13:22:50.155Z"
   },
   {
    "duration": 13,
    "start_time": "2022-03-14T13:22:50.183Z"
   },
   {
    "duration": 94,
    "start_time": "2022-03-14T13:22:50.197Z"
   },
   {
    "duration": 20,
    "start_time": "2022-03-14T13:23:19.776Z"
   },
   {
    "duration": 364,
    "start_time": "2022-03-14T13:23:29.362Z"
   },
   {
    "duration": 24,
    "start_time": "2022-03-14T13:23:29.728Z"
   },
   {
    "duration": 42,
    "start_time": "2022-03-14T13:23:29.753Z"
   },
   {
    "duration": 19,
    "start_time": "2022-03-14T13:23:29.797Z"
   },
   {
    "duration": 32,
    "start_time": "2022-03-14T13:23:29.818Z"
   },
   {
    "duration": 30,
    "start_time": "2022-03-14T13:23:29.851Z"
   },
   {
    "duration": 28,
    "start_time": "2022-03-14T13:23:29.882Z"
   },
   {
    "duration": 9,
    "start_time": "2022-03-14T13:23:29.911Z"
   },
   {
    "duration": 12,
    "start_time": "2022-03-14T13:23:29.922Z"
   },
   {
    "duration": 45,
    "start_time": "2022-03-14T13:23:29.936Z"
   },
   {
    "duration": 1183,
    "start_time": "2022-03-14T13:25:38.220Z"
   },
   {
    "duration": 13,
    "start_time": "2022-03-14T13:28:09.541Z"
   },
   {
    "duration": 9,
    "start_time": "2022-03-14T13:28:27.121Z"
   },
   {
    "duration": 8,
    "start_time": "2022-03-14T13:28:45.061Z"
   },
   {
    "duration": 9,
    "start_time": "2022-03-14T13:29:02.681Z"
   },
   {
    "duration": 343,
    "start_time": "2022-03-14T13:30:11.549Z"
   },
   {
    "duration": 12,
    "start_time": "2022-03-14T13:30:21.942Z"
   },
   {
    "duration": 323,
    "start_time": "2022-03-14T13:30:31.281Z"
   },
   {
    "duration": 23,
    "start_time": "2022-03-14T13:30:34.781Z"
   },
   {
    "duration": 13,
    "start_time": "2022-03-14T13:30:57.441Z"
   },
   {
    "duration": 22,
    "start_time": "2022-03-14T13:31:03.868Z"
   },
   {
    "duration": 26,
    "start_time": "2022-03-14T13:34:07.088Z"
   },
   {
    "duration": 22,
    "start_time": "2022-03-14T13:34:20.650Z"
   },
   {
    "duration": 22,
    "start_time": "2022-03-14T13:36:03.082Z"
   },
   {
    "duration": 22,
    "start_time": "2022-03-14T13:38:07.761Z"
   },
   {
    "duration": 19,
    "start_time": "2022-03-14T13:39:57.841Z"
   },
   {
    "duration": 6363,
    "start_time": "2022-03-14T13:40:10.861Z"
   },
   {
    "duration": 19,
    "start_time": "2022-03-14T13:40:31.581Z"
   },
   {
    "duration": 19,
    "start_time": "2022-03-14T13:40:45.461Z"
   },
   {
    "duration": 330,
    "start_time": "2022-03-14T13:41:11.521Z"
   },
   {
    "duration": 24,
    "start_time": "2022-03-14T13:41:21.582Z"
   },
   {
    "duration": 18,
    "start_time": "2022-03-14T13:41:33.621Z"
   },
   {
    "duration": 295,
    "start_time": "2022-03-14T13:43:03.320Z"
   },
   {
    "duration": 20,
    "start_time": "2022-03-14T13:43:17.681Z"
   },
   {
    "duration": 46,
    "start_time": "2022-03-14T13:43:23.441Z"
   },
   {
    "duration": 37,
    "start_time": "2022-03-14T13:44:09.981Z"
   },
   {
    "duration": 311,
    "start_time": "2022-03-14T13:44:19.421Z"
   },
   {
    "duration": 32,
    "start_time": "2022-03-14T13:44:23.362Z"
   },
   {
    "duration": 13,
    "start_time": "2022-03-14T13:45:07.425Z"
   },
   {
    "duration": 31,
    "start_time": "2022-03-14T13:45:45.206Z"
   },
   {
    "duration": 10,
    "start_time": "2022-03-14T13:46:04.289Z"
   },
   {
    "duration": 10,
    "start_time": "2022-03-14T13:48:07.921Z"
   },
   {
    "duration": 20,
    "start_time": "2022-03-14T13:48:13.422Z"
   },
   {
    "duration": 324,
    "start_time": "2022-03-14T13:48:20.341Z"
   },
   {
    "duration": 9,
    "start_time": "2022-03-14T13:48:50.123Z"
   },
   {
    "duration": 337,
    "start_time": "2022-03-14T13:50:48.321Z"
   },
   {
    "duration": 11,
    "start_time": "2022-03-14T13:53:12.421Z"
   },
   {
    "duration": 11,
    "start_time": "2022-03-14T13:53:28.922Z"
   },
   {
    "duration": 14,
    "start_time": "2022-03-14T13:53:32.162Z"
   },
   {
    "duration": 3827,
    "start_time": "2022-03-14T13:54:02.522Z"
   },
   {
    "duration": 386,
    "start_time": "2022-03-14T13:54:38.651Z"
   },
   {
    "duration": 25,
    "start_time": "2022-03-14T13:54:39.039Z"
   },
   {
    "duration": 45,
    "start_time": "2022-03-14T13:54:39.066Z"
   },
   {
    "duration": 23,
    "start_time": "2022-03-14T13:54:39.113Z"
   },
   {
    "duration": 49,
    "start_time": "2022-03-14T13:54:39.137Z"
   },
   {
    "duration": 17,
    "start_time": "2022-03-14T13:54:39.187Z"
   },
   {
    "duration": 26,
    "start_time": "2022-03-14T13:54:39.206Z"
   },
   {
    "duration": 8,
    "start_time": "2022-03-14T13:54:39.233Z"
   },
   {
    "duration": 14,
    "start_time": "2022-03-14T13:54:39.243Z"
   },
   {
    "duration": 38,
    "start_time": "2022-03-14T13:54:39.258Z"
   },
   {
    "duration": 16,
    "start_time": "2022-03-14T13:54:39.297Z"
   },
   {
    "duration": 26,
    "start_time": "2022-03-14T13:54:39.314Z"
   },
   {
    "duration": 40,
    "start_time": "2022-03-14T13:54:39.342Z"
   },
   {
    "duration": 18,
    "start_time": "2022-03-14T13:54:39.383Z"
   },
   {
    "duration": 27,
    "start_time": "2022-03-14T13:54:39.402Z"
   },
   {
    "duration": 3897,
    "start_time": "2022-03-14T13:54:39.431Z"
   },
   {
    "duration": 3887,
    "start_time": "2022-03-14T13:55:02.121Z"
   },
   {
    "duration": 300,
    "start_time": "2022-03-14T13:57:21.001Z"
   },
   {
    "duration": 379,
    "start_time": "2022-03-14T13:57:34.724Z"
   },
   {
    "duration": 23,
    "start_time": "2022-03-14T13:57:35.104Z"
   },
   {
    "duration": 41,
    "start_time": "2022-03-14T13:57:35.129Z"
   },
   {
    "duration": 22,
    "start_time": "2022-03-14T13:57:35.172Z"
   },
   {
    "duration": 31,
    "start_time": "2022-03-14T13:57:35.195Z"
   },
   {
    "duration": 17,
    "start_time": "2022-03-14T13:57:35.228Z"
   },
   {
    "duration": 48,
    "start_time": "2022-03-14T13:57:35.247Z"
   },
   {
    "duration": 8,
    "start_time": "2022-03-14T13:57:35.296Z"
   },
   {
    "duration": 13,
    "start_time": "2022-03-14T13:57:35.306Z"
   },
   {
    "duration": 18,
    "start_time": "2022-03-14T13:57:35.321Z"
   },
   {
    "duration": 16,
    "start_time": "2022-03-14T13:57:35.341Z"
   },
   {
    "duration": 24,
    "start_time": "2022-03-14T13:57:35.381Z"
   },
   {
    "duration": 20,
    "start_time": "2022-03-14T13:57:35.407Z"
   },
   {
    "duration": 19,
    "start_time": "2022-03-14T13:57:35.429Z"
   },
   {
    "duration": 48,
    "start_time": "2022-03-14T13:57:35.449Z"
   },
   {
    "duration": 320,
    "start_time": "2022-03-14T13:57:35.498Z"
   },
   {
    "duration": 319,
    "start_time": "2022-03-14T13:58:00.783Z"
   },
   {
    "duration": 298,
    "start_time": "2022-03-14T13:58:23.601Z"
   },
   {
    "duration": 291,
    "start_time": "2022-03-14T13:58:49.047Z"
   },
   {
    "duration": 282,
    "start_time": "2022-03-14T13:59:22.443Z"
   },
   {
    "duration": 294,
    "start_time": "2022-03-14T13:59:52.482Z"
   },
   {
    "duration": 321,
    "start_time": "2022-03-14T14:00:06.782Z"
   },
   {
    "duration": 3850,
    "start_time": "2022-03-14T14:00:37.310Z"
   },
   {
    "duration": 37,
    "start_time": "2022-03-14T14:00:49.784Z"
   },
   {
    "duration": 3935,
    "start_time": "2022-03-14T14:00:51.642Z"
   },
   {
    "duration": 4101,
    "start_time": "2022-03-14T14:01:09.701Z"
   },
   {
    "duration": 3854,
    "start_time": "2022-03-14T14:01:23.541Z"
   },
   {
    "duration": 286,
    "start_time": "2022-03-14T14:01:52.421Z"
   },
   {
    "duration": 387,
    "start_time": "2022-03-14T14:02:06.522Z"
   },
   {
    "duration": 23,
    "start_time": "2022-03-14T14:02:06.911Z"
   },
   {
    "duration": 43,
    "start_time": "2022-03-14T14:02:06.936Z"
   },
   {
    "duration": 26,
    "start_time": "2022-03-14T14:02:06.982Z"
   },
   {
    "duration": 33,
    "start_time": "2022-03-14T14:02:07.009Z"
   },
   {
    "duration": 38,
    "start_time": "2022-03-14T14:02:07.043Z"
   },
   {
    "duration": 31,
    "start_time": "2022-03-14T14:02:07.084Z"
   },
   {
    "duration": 8,
    "start_time": "2022-03-14T14:02:07.117Z"
   },
   {
    "duration": 17,
    "start_time": "2022-03-14T14:02:07.127Z"
   },
   {
    "duration": 20,
    "start_time": "2022-03-14T14:02:07.145Z"
   },
   {
    "duration": 21,
    "start_time": "2022-03-14T14:02:07.181Z"
   },
   {
    "duration": 23,
    "start_time": "2022-03-14T14:02:07.204Z"
   },
   {
    "duration": 21,
    "start_time": "2022-03-14T14:02:07.229Z"
   },
   {
    "duration": 52,
    "start_time": "2022-03-14T14:02:07.251Z"
   },
   {
    "duration": 28,
    "start_time": "2022-03-14T14:02:07.305Z"
   },
   {
    "duration": 8,
    "start_time": "2022-03-14T14:02:07.334Z"
   },
   {
    "duration": 10,
    "start_time": "2022-03-14T14:03:12.802Z"
   },
   {
    "duration": 14,
    "start_time": "2022-03-14T14:03:24.964Z"
   },
   {
    "duration": 10,
    "start_time": "2022-03-14T14:04:28.561Z"
   },
   {
    "duration": 11,
    "start_time": "2022-03-14T14:04:46.904Z"
   },
   {
    "duration": 13,
    "start_time": "2022-03-14T14:05:28.682Z"
   },
   {
    "duration": 12,
    "start_time": "2022-03-14T14:05:54.201Z"
   },
   {
    "duration": 299,
    "start_time": "2022-03-14T14:06:16.781Z"
   },
   {
    "duration": 13,
    "start_time": "2022-03-14T14:06:30.922Z"
   },
   {
    "duration": 10,
    "start_time": "2022-03-14T14:08:52.080Z"
   },
   {
    "duration": 5,
    "start_time": "2022-03-14T14:17:23.562Z"
   },
   {
    "duration": 19,
    "start_time": "2022-03-14T14:17:33.269Z"
   },
   {
    "duration": 90,
    "start_time": "2022-03-14T14:20:47.501Z"
   },
   {
    "duration": 18,
    "start_time": "2022-03-14T14:20:54.441Z"
   },
   {
    "duration": 7438,
    "start_time": "2022-03-14T14:21:05.401Z"
   },
   {
    "duration": 356,
    "start_time": "2022-03-14T14:21:18.162Z"
   },
   {
    "duration": 24,
    "start_time": "2022-03-14T14:21:18.520Z"
   },
   {
    "duration": 43,
    "start_time": "2022-03-14T14:21:18.546Z"
   },
   {
    "duration": 20,
    "start_time": "2022-03-14T14:21:18.591Z"
   },
   {
    "duration": 32,
    "start_time": "2022-03-14T14:21:18.613Z"
   },
   {
    "duration": 35,
    "start_time": "2022-03-14T14:21:18.646Z"
   },
   {
    "duration": 28,
    "start_time": "2022-03-14T14:21:18.682Z"
   },
   {
    "duration": 8,
    "start_time": "2022-03-14T14:21:18.711Z"
   },
   {
    "duration": 22,
    "start_time": "2022-03-14T14:21:18.721Z"
   },
   {
    "duration": 23,
    "start_time": "2022-03-14T14:21:18.745Z"
   },
   {
    "duration": 35,
    "start_time": "2022-03-14T14:21:18.769Z"
   },
   {
    "duration": 32,
    "start_time": "2022-03-14T14:21:18.805Z"
   },
   {
    "duration": 21,
    "start_time": "2022-03-14T14:21:18.839Z"
   },
   {
    "duration": 23,
    "start_time": "2022-03-14T14:21:18.861Z"
   },
   {
    "duration": 28,
    "start_time": "2022-03-14T14:21:18.886Z"
   },
   {
    "duration": 8,
    "start_time": "2022-03-14T14:21:18.915Z"
   },
   {
    "duration": 17,
    "start_time": "2022-03-14T14:21:18.924Z"
   },
   {
    "duration": 322,
    "start_time": "2022-03-14T14:21:18.942Z"
   },
   {
    "duration": 364,
    "start_time": "2022-03-14T14:22:12.022Z"
   },
   {
    "duration": 23,
    "start_time": "2022-03-14T14:22:12.388Z"
   },
   {
    "duration": 42,
    "start_time": "2022-03-14T14:22:12.414Z"
   },
   {
    "duration": 34,
    "start_time": "2022-03-14T14:22:12.458Z"
   },
   {
    "duration": 33,
    "start_time": "2022-03-14T14:22:12.494Z"
   },
   {
    "duration": 17,
    "start_time": "2022-03-14T14:22:12.529Z"
   },
   {
    "duration": 49,
    "start_time": "2022-03-14T14:22:12.548Z"
   },
   {
    "duration": 7,
    "start_time": "2022-03-14T14:22:12.599Z"
   },
   {
    "duration": 25,
    "start_time": "2022-03-14T14:22:12.608Z"
   },
   {
    "duration": 26,
    "start_time": "2022-03-14T14:22:12.634Z"
   },
   {
    "duration": 36,
    "start_time": "2022-03-14T14:22:12.662Z"
   },
   {
    "duration": 39,
    "start_time": "2022-03-14T14:22:12.699Z"
   },
   {
    "duration": 20,
    "start_time": "2022-03-14T14:22:12.740Z"
   },
   {
    "duration": 23,
    "start_time": "2022-03-14T14:22:12.762Z"
   },
   {
    "duration": 28,
    "start_time": "2022-03-14T14:22:12.786Z"
   },
   {
    "duration": 9,
    "start_time": "2022-03-14T14:22:12.816Z"
   },
   {
    "duration": 24,
    "start_time": "2022-03-14T14:22:12.826Z"
   },
   {
    "duration": 314,
    "start_time": "2022-03-14T14:22:12.852Z"
   },
   {
    "duration": 308,
    "start_time": "2022-03-14T14:24:08.077Z"
   },
   {
    "duration": 13,
    "start_time": "2022-03-14T14:24:31.681Z"
   },
   {
    "duration": 36,
    "start_time": "2022-03-14T14:24:37.048Z"
   },
   {
    "duration": 50,
    "start_time": "2022-03-14T14:27:28.981Z"
   },
   {
    "duration": 7942,
    "start_time": "2022-03-14T14:31:56.401Z"
   },
   {
    "duration": 376,
    "start_time": "2022-03-14T14:32:08.001Z"
   },
   {
    "duration": 47,
    "start_time": "2022-03-14T14:32:08.379Z"
   },
   {
    "duration": 538,
    "start_time": "2022-03-14T14:32:08.428Z"
   },
   {
    "duration": 347,
    "start_time": "2022-03-14T14:32:08.968Z"
   },
   {
    "duration": 412,
    "start_time": "2022-03-14T14:32:09.317Z"
   },
   {
    "duration": 596,
    "start_time": "2022-03-14T14:32:09.731Z"
   },
   {
    "duration": 189,
    "start_time": "2022-03-14T14:32:10.328Z"
   },
   {
    "duration": 372,
    "start_time": "2022-03-14T14:32:10.519Z"
   },
   {
    "duration": 393,
    "start_time": "2022-03-14T14:32:10.893Z"
   },
   {
    "duration": 479,
    "start_time": "2022-03-14T14:32:11.288Z"
   },
   {
    "duration": 533,
    "start_time": "2022-03-14T14:32:11.769Z"
   },
   {
    "duration": 416,
    "start_time": "2022-03-14T14:32:12.303Z"
   },
   {
    "duration": 369,
    "start_time": "2022-03-14T14:32:12.721Z"
   },
   {
    "duration": 493,
    "start_time": "2022-03-14T14:32:13.092Z"
   },
   {
    "duration": 294,
    "start_time": "2022-03-14T14:32:13.587Z"
   },
   {
    "duration": 195,
    "start_time": "2022-03-14T14:32:13.882Z"
   },
   {
    "duration": 684,
    "start_time": "2022-03-14T14:32:14.078Z"
   },
   {
    "duration": 8481,
    "start_time": "2022-03-14T14:32:14.764Z"
   },
   {
    "duration": 33,
    "start_time": "2022-03-14T14:32:38.122Z"
   },
   {
    "duration": 23,
    "start_time": "2022-03-14T14:36:42.405Z"
   },
   {
    "duration": 343,
    "start_time": "2022-03-14T14:41:20.542Z"
   },
   {
    "duration": 363,
    "start_time": "2022-03-14T14:41:31.143Z"
   },
   {
    "duration": 232,
    "start_time": "2022-03-14T14:41:31.507Z"
   },
   {
    "duration": 317,
    "start_time": "2022-03-14T14:41:31.741Z"
   },
   {
    "duration": 217,
    "start_time": "2022-03-14T14:41:32.060Z"
   },
   {
    "duration": 282,
    "start_time": "2022-03-14T14:41:32.279Z"
   },
   {
    "duration": 316,
    "start_time": "2022-03-14T14:41:32.562Z"
   },
   {
    "duration": 238,
    "start_time": "2022-03-14T14:41:32.879Z"
   },
   {
    "duration": 397,
    "start_time": "2022-03-14T14:41:33.119Z"
   },
   {
    "duration": 450,
    "start_time": "2022-03-14T14:41:33.518Z"
   },
   {
    "duration": 575,
    "start_time": "2022-03-14T14:41:33.970Z"
   },
   {
    "duration": 2315,
    "start_time": "2022-03-14T14:41:32.232Z"
   },
   {
    "duration": 2312,
    "start_time": "2022-03-14T14:41:32.236Z"
   },
   {
    "duration": 2306,
    "start_time": "2022-03-14T14:41:32.244Z"
   },
   {
    "duration": 2305,
    "start_time": "2022-03-14T14:41:32.246Z"
   },
   {
    "duration": 2303,
    "start_time": "2022-03-14T14:41:32.248Z"
   },
   {
    "duration": 2301,
    "start_time": "2022-03-14T14:41:32.251Z"
   },
   {
    "duration": 2297,
    "start_time": "2022-03-14T14:41:32.256Z"
   },
   {
    "duration": 2292,
    "start_time": "2022-03-14T14:41:32.262Z"
   },
   {
    "duration": 18,
    "start_time": "2022-03-14T14:41:45.098Z"
   },
   {
    "duration": 311,
    "start_time": "2022-03-14T14:42:35.032Z"
   },
   {
    "duration": 301,
    "start_time": "2022-03-14T14:43:22.674Z"
   },
   {
    "duration": 333,
    "start_time": "2022-03-14T14:44:00.574Z"
   },
   {
    "duration": 19,
    "start_time": "2022-03-14T14:44:06.794Z"
   },
   {
    "duration": 380,
    "start_time": "2022-03-14T14:44:14.722Z"
   },
   {
    "duration": 370,
    "start_time": "2022-03-14T14:44:21.394Z"
   },
   {
    "duration": 590,
    "start_time": "2022-03-14T14:44:21.766Z"
   },
   {
    "duration": 576,
    "start_time": "2022-03-14T14:44:22.358Z"
   },
   {
    "duration": 403,
    "start_time": "2022-03-14T14:44:22.935Z"
   },
   {
    "duration": 609,
    "start_time": "2022-03-14T14:44:23.340Z"
   },
   {
    "duration": 473,
    "start_time": "2022-03-14T14:44:23.951Z"
   },
   {
    "duration": 630,
    "start_time": "2022-03-14T14:44:24.426Z"
   },
   {
    "duration": 1729,
    "start_time": "2022-03-14T14:44:25.058Z"
   },
   {
    "duration": 1460,
    "start_time": "2022-03-14T14:44:26.790Z"
   },
   {
    "duration": 1688,
    "start_time": "2022-03-14T14:44:28.253Z"
   },
   {
    "duration": 2190,
    "start_time": "2022-03-14T14:44:27.753Z"
   },
   {
    "duration": 2189,
    "start_time": "2022-03-14T14:44:27.755Z"
   },
   {
    "duration": 2187,
    "start_time": "2022-03-14T14:44:27.758Z"
   },
   {
    "duration": 2186,
    "start_time": "2022-03-14T14:44:27.760Z"
   },
   {
    "duration": 2186,
    "start_time": "2022-03-14T14:44:27.761Z"
   },
   {
    "duration": 2186,
    "start_time": "2022-03-14T14:44:27.763Z"
   },
   {
    "duration": 2179,
    "start_time": "2022-03-14T14:44:27.770Z"
   },
   {
    "duration": 2178,
    "start_time": "2022-03-14T14:44:27.772Z"
   },
   {
    "duration": 332,
    "start_time": "2022-03-14T14:44:35.335Z"
   },
   {
    "duration": 367,
    "start_time": "2022-03-14T14:44:38.495Z"
   },
   {
    "duration": 473,
    "start_time": "2022-03-14T14:44:38.864Z"
   },
   {
    "duration": 473,
    "start_time": "2022-03-14T14:44:39.340Z"
   },
   {
    "duration": 238,
    "start_time": "2022-03-14T14:44:39.815Z"
   },
   {
    "duration": 286,
    "start_time": "2022-03-14T14:44:40.055Z"
   },
   {
    "duration": 368,
    "start_time": "2022-03-14T14:44:40.343Z"
   },
   {
    "duration": 253,
    "start_time": "2022-03-14T14:44:40.713Z"
   },
   {
    "duration": 261,
    "start_time": "2022-03-14T14:44:40.967Z"
   },
   {
    "duration": 252,
    "start_time": "2022-03-14T14:44:41.231Z"
   },
   {
    "duration": 784,
    "start_time": "2022-03-14T14:44:41.485Z"
   },
   {
    "duration": 2194,
    "start_time": "2022-03-14T14:44:40.077Z"
   },
   {
    "duration": 2185,
    "start_time": "2022-03-14T14:44:40.087Z"
   },
   {
    "duration": 2184,
    "start_time": "2022-03-14T14:44:40.089Z"
   },
   {
    "duration": 2184,
    "start_time": "2022-03-14T14:44:40.091Z"
   },
   {
    "duration": 2183,
    "start_time": "2022-03-14T14:44:40.093Z"
   },
   {
    "duration": 2182,
    "start_time": "2022-03-14T14:44:40.095Z"
   },
   {
    "duration": 2178,
    "start_time": "2022-03-14T14:44:40.100Z"
   },
   {
    "duration": 2128,
    "start_time": "2022-03-14T14:44:40.151Z"
   },
   {
    "duration": 28,
    "start_time": "2022-03-14T14:45:09.914Z"
   },
   {
    "duration": 540,
    "start_time": "2022-03-14T14:45:18.534Z"
   },
   {
    "duration": 41,
    "start_time": "2022-03-14T14:45:19.076Z"
   },
   {
    "duration": 1365,
    "start_time": "2022-03-14T14:45:19.120Z"
   },
   {
    "duration": 1242,
    "start_time": "2022-03-14T14:45:20.487Z"
   },
   {
    "duration": 930,
    "start_time": "2022-03-14T14:45:21.731Z"
   },
   {
    "duration": 1203,
    "start_time": "2022-03-14T14:45:22.664Z"
   },
   {
    "duration": 1110,
    "start_time": "2022-03-14T14:45:23.869Z"
   },
   {
    "duration": 563,
    "start_time": "2022-03-14T14:45:24.980Z"
   },
   {
    "duration": 387,
    "start_time": "2022-03-14T14:45:25.546Z"
   },
   {
    "duration": 378,
    "start_time": "2022-03-14T14:45:25.935Z"
   },
   {
    "duration": 326,
    "start_time": "2022-03-14T14:45:26.315Z"
   },
   {
    "duration": 280,
    "start_time": "2022-03-14T14:45:26.642Z"
   },
   {
    "duration": 332,
    "start_time": "2022-03-14T14:45:26.924Z"
   },
   {
    "duration": 695,
    "start_time": "2022-03-14T14:45:27.258Z"
   },
   {
    "duration": 412,
    "start_time": "2022-03-14T14:45:27.954Z"
   },
   {
    "duration": 195,
    "start_time": "2022-03-14T14:45:28.368Z"
   },
   {
    "duration": 337,
    "start_time": "2022-03-14T14:45:28.565Z"
   },
   {
    "duration": 274,
    "start_time": "2022-03-14T14:45:28.904Z"
   },
   {
    "duration": 280,
    "start_time": "2022-03-15T10:23:28.076Z"
   },
   {
    "duration": 1526,
    "start_time": "2022-03-15T10:23:34.573Z"
   },
   {
    "duration": 32,
    "start_time": "2022-03-15T10:23:36.101Z"
   },
   {
    "duration": 54,
    "start_time": "2022-03-15T10:23:36.136Z"
   },
   {
    "duration": 21,
    "start_time": "2022-03-15T10:23:36.192Z"
   },
   {
    "duration": 52,
    "start_time": "2022-03-15T10:23:36.215Z"
   },
   {
    "duration": 27,
    "start_time": "2022-03-15T10:23:36.269Z"
   },
   {
    "duration": 31,
    "start_time": "2022-03-15T10:23:36.298Z"
   },
   {
    "duration": 8,
    "start_time": "2022-03-15T10:23:36.331Z"
   },
   {
    "duration": 39,
    "start_time": "2022-03-15T10:23:36.342Z"
   },
   {
    "duration": 20,
    "start_time": "2022-03-15T10:23:36.383Z"
   },
   {
    "duration": 21,
    "start_time": "2022-03-15T10:23:36.404Z"
   },
   {
    "duration": 69,
    "start_time": "2022-03-15T10:23:36.427Z"
   },
   {
    "duration": 29,
    "start_time": "2022-03-15T10:23:36.497Z"
   },
   {
    "duration": 20,
    "start_time": "2022-03-15T10:23:36.528Z"
   },
   {
    "duration": 45,
    "start_time": "2022-03-15T10:23:36.550Z"
   },
   {
    "duration": 10,
    "start_time": "2022-03-15T10:23:36.597Z"
   },
   {
    "duration": 24,
    "start_time": "2022-03-15T10:23:36.609Z"
   },
   {
    "duration": 75,
    "start_time": "2022-03-15T10:23:36.635Z"
   },
   {
    "duration": 36,
    "start_time": "2022-03-15T10:23:56.090Z"
   },
   {
    "duration": 38,
    "start_time": "2022-03-15T10:24:24.408Z"
   },
   {
    "duration": 56,
    "start_time": "2022-03-15T10:25:13.160Z"
   },
   {
    "duration": 48,
    "start_time": "2022-03-15T10:25:23.730Z"
   },
   {
    "duration": 41,
    "start_time": "2022-03-15T10:25:42.450Z"
   },
   {
    "duration": 28,
    "start_time": "2022-03-15T10:28:32.141Z"
   },
   {
    "duration": 291,
    "start_time": "2022-03-15T10:28:57.850Z"
   },
   {
    "duration": 6,
    "start_time": "2022-03-15T10:29:15.480Z"
   },
   {
    "duration": 80,
    "start_time": "2022-03-15T10:29:50.950Z"
   },
   {
    "duration": 76,
    "start_time": "2022-03-15T10:30:15.981Z"
   },
   {
    "duration": 109,
    "start_time": "2022-03-15T10:30:58.653Z"
   },
   {
    "duration": 306,
    "start_time": "2022-03-15T10:35:51.160Z"
   },
   {
    "duration": 428,
    "start_time": "2022-03-15T10:36:15.951Z"
   },
   {
    "duration": 28,
    "start_time": "2022-03-15T10:36:16.381Z"
   },
   {
    "duration": 59,
    "start_time": "2022-03-15T10:36:16.411Z"
   },
   {
    "duration": 26,
    "start_time": "2022-03-15T10:36:16.473Z"
   },
   {
    "duration": 38,
    "start_time": "2022-03-15T10:36:16.501Z"
   },
   {
    "duration": 37,
    "start_time": "2022-03-15T10:36:16.541Z"
   },
   {
    "duration": 43,
    "start_time": "2022-03-15T10:36:16.580Z"
   },
   {
    "duration": 13,
    "start_time": "2022-03-15T10:36:16.625Z"
   },
   {
    "duration": 38,
    "start_time": "2022-03-15T10:36:16.641Z"
   },
   {
    "duration": 33,
    "start_time": "2022-03-15T10:36:16.681Z"
   },
   {
    "duration": 50,
    "start_time": "2022-03-15T10:36:16.716Z"
   },
   {
    "duration": 51,
    "start_time": "2022-03-15T10:36:16.768Z"
   },
   {
    "duration": 47,
    "start_time": "2022-03-15T10:36:16.821Z"
   },
   {
    "duration": 31,
    "start_time": "2022-03-15T10:36:16.870Z"
   },
   {
    "duration": 33,
    "start_time": "2022-03-15T10:36:16.903Z"
   },
   {
    "duration": 35,
    "start_time": "2022-03-15T10:36:16.937Z"
   },
   {
    "duration": 47,
    "start_time": "2022-03-15T10:36:16.974Z"
   },
   {
    "duration": 44,
    "start_time": "2022-03-15T10:36:17.023Z"
   },
   {
    "duration": 76,
    "start_time": "2022-03-15T10:36:17.069Z"
   },
   {
    "duration": 262,
    "start_time": "2022-03-15T10:36:17.147Z"
   },
   {
    "duration": 237,
    "start_time": "2022-03-15T10:36:28.830Z"
   },
   {
    "duration": 211,
    "start_time": "2022-03-15T10:37:40.210Z"
   },
   {
    "duration": 282,
    "start_time": "2022-03-15T10:37:48.337Z"
   },
   {
    "duration": 7,
    "start_time": "2022-03-15T10:38:04.050Z"
   },
   {
    "duration": 30,
    "start_time": "2022-03-15T10:38:10.775Z"
   },
   {
    "duration": 7,
    "start_time": "2022-03-15T10:38:57.810Z"
   },
   {
    "duration": 23,
    "start_time": "2022-03-15T10:40:27.413Z"
   },
   {
    "duration": 19,
    "start_time": "2022-03-15T10:42:10.749Z"
   },
   {
    "duration": 27,
    "start_time": "2022-03-15T10:43:52.190Z"
   },
   {
    "duration": 38,
    "start_time": "2022-03-15T10:43:58.472Z"
   },
   {
    "duration": 31,
    "start_time": "2022-03-15T10:44:26.882Z"
   },
   {
    "duration": 31,
    "start_time": "2022-03-15T10:51:35.961Z"
   },
   {
    "duration": 36,
    "start_time": "2022-03-15T10:51:43.745Z"
   },
   {
    "duration": 43,
    "start_time": "2022-03-15T10:53:05.234Z"
   },
   {
    "duration": 34,
    "start_time": "2022-03-15T10:53:39.490Z"
   },
   {
    "duration": 35,
    "start_time": "2022-03-15T10:54:57.792Z"
   },
   {
    "duration": 43,
    "start_time": "2022-03-15T10:55:36.950Z"
   },
   {
    "duration": 190,
    "start_time": "2022-03-15T11:01:50.720Z"
   },
   {
    "duration": 389,
    "start_time": "2022-03-15T11:02:10.980Z"
   },
   {
    "duration": 261,
    "start_time": "2022-03-15T11:02:31.931Z"
   },
   {
    "duration": 265,
    "start_time": "2022-03-15T11:02:50.919Z"
   },
   {
    "duration": 261,
    "start_time": "2022-03-15T11:03:27.529Z"
   },
   {
    "duration": 485,
    "start_time": "2022-03-15T11:04:26.951Z"
   },
   {
    "duration": 731,
    "start_time": "2022-03-15T11:04:46.121Z"
   },
   {
    "duration": 682,
    "start_time": "2022-03-15T11:05:07.310Z"
   },
   {
    "duration": 704,
    "start_time": "2022-03-15T11:05:11.891Z"
   },
   {
    "duration": 762,
    "start_time": "2022-03-15T11:05:19.501Z"
   },
   {
    "duration": 704,
    "start_time": "2022-03-15T11:05:29.991Z"
   },
   {
    "duration": 729,
    "start_time": "2022-03-15T11:05:42.822Z"
   },
   {
    "duration": 781,
    "start_time": "2022-03-15T11:05:47.782Z"
   },
   {
    "duration": 629,
    "start_time": "2022-03-15T11:06:00.511Z"
   },
   {
    "duration": 696,
    "start_time": "2022-03-15T11:06:16.652Z"
   },
   {
    "duration": 713,
    "start_time": "2022-03-15T11:06:21.831Z"
   },
   {
    "duration": 814,
    "start_time": "2022-03-15T11:12:14.181Z"
   },
   {
    "duration": 226,
    "start_time": "2022-03-15T14:08:54.682Z"
   },
   {
    "duration": 5,
    "start_time": "2022-03-15T14:09:39.017Z"
   },
   {
    "duration": 217,
    "start_time": "2022-03-16T09:49:56.867Z"
   },
   {
    "duration": 1409,
    "start_time": "2022-03-16T09:50:01.160Z"
   },
   {
    "duration": 45,
    "start_time": "2022-03-16T09:50:02.571Z"
   },
   {
    "duration": 70,
    "start_time": "2022-03-16T09:50:02.619Z"
   },
   {
    "duration": 41,
    "start_time": "2022-03-16T09:50:02.692Z"
   },
   {
    "duration": 57,
    "start_time": "2022-03-16T09:50:02.735Z"
   },
   {
    "duration": 46,
    "start_time": "2022-03-16T09:50:02.794Z"
   },
   {
    "duration": 43,
    "start_time": "2022-03-16T09:50:02.842Z"
   },
   {
    "duration": 11,
    "start_time": "2022-03-16T09:50:02.887Z"
   },
   {
    "duration": 43,
    "start_time": "2022-03-16T09:50:02.902Z"
   },
   {
    "duration": 28,
    "start_time": "2022-03-16T09:50:02.948Z"
   },
   {
    "duration": 25,
    "start_time": "2022-03-16T09:50:02.978Z"
   },
   {
    "duration": 76,
    "start_time": "2022-03-16T09:50:03.005Z"
   },
   {
    "duration": 59,
    "start_time": "2022-03-16T09:50:03.083Z"
   },
   {
    "duration": 29,
    "start_time": "2022-03-16T09:50:03.144Z"
   },
   {
    "duration": 62,
    "start_time": "2022-03-16T09:50:03.175Z"
   },
   {
    "duration": 12,
    "start_time": "2022-03-16T09:50:03.239Z"
   },
   {
    "duration": 34,
    "start_time": "2022-03-16T09:50:03.253Z"
   },
   {
    "duration": 91,
    "start_time": "2022-03-16T09:50:03.290Z"
   },
   {
    "duration": 159,
    "start_time": "2022-03-16T09:50:03.384Z"
   },
   {
    "duration": 38,
    "start_time": "2022-03-16T09:50:03.545Z"
   },
   {
    "duration": 69,
    "start_time": "2022-03-16T09:50:03.585Z"
   },
   {
    "duration": 719,
    "start_time": "2022-03-16T09:50:03.656Z"
   },
   {
    "duration": 618,
    "start_time": "2022-03-16T09:50:04.377Z"
   },
   {
    "duration": 6,
    "start_time": "2022-03-16T09:50:04.997Z"
   },
   {
    "duration": 17,
    "start_time": "2022-03-16T09:50:05.005Z"
   },
   {
    "duration": 9,
    "start_time": "2022-03-16T09:52:48.592Z"
   },
   {
    "duration": 339,
    "start_time": "2022-03-16T10:09:19.549Z"
   },
   {
    "duration": 24,
    "start_time": "2022-03-16T10:09:19.890Z"
   },
   {
    "duration": 45,
    "start_time": "2022-03-16T10:09:19.916Z"
   },
   {
    "duration": 22,
    "start_time": "2022-03-16T10:09:19.962Z"
   },
   {
    "duration": 55,
    "start_time": "2022-03-16T10:09:19.986Z"
   },
   {
    "duration": 20,
    "start_time": "2022-03-16T10:09:20.043Z"
   },
   {
    "duration": 29,
    "start_time": "2022-03-16T10:09:20.064Z"
   },
   {
    "duration": 9,
    "start_time": "2022-03-16T10:09:20.095Z"
   },
   {
    "duration": 38,
    "start_time": "2022-03-16T10:09:20.105Z"
   },
   {
    "duration": 19,
    "start_time": "2022-03-16T10:09:20.145Z"
   },
   {
    "duration": 16,
    "start_time": "2022-03-16T10:09:20.166Z"
   },
   {
    "duration": 67,
    "start_time": "2022-03-16T10:09:20.184Z"
   },
   {
    "duration": 26,
    "start_time": "2022-03-16T10:09:20.252Z"
   },
   {
    "duration": 20,
    "start_time": "2022-03-16T10:09:20.279Z"
   },
   {
    "duration": 48,
    "start_time": "2022-03-16T10:09:20.300Z"
   },
   {
    "duration": 8,
    "start_time": "2022-03-16T10:09:20.350Z"
   },
   {
    "duration": 21,
    "start_time": "2022-03-16T10:09:20.360Z"
   },
   {
    "duration": 54,
    "start_time": "2022-03-16T10:09:20.382Z"
   },
   {
    "duration": 69,
    "start_time": "2022-03-16T10:09:20.438Z"
   },
   {
    "duration": 40,
    "start_time": "2022-03-16T10:09:20.508Z"
   },
   {
    "duration": 31,
    "start_time": "2022-03-16T10:09:20.550Z"
   },
   {
    "duration": 724,
    "start_time": "2022-03-16T10:09:20.583Z"
   },
   {
    "duration": 598,
    "start_time": "2022-03-16T10:09:21.310Z"
   },
   {
    "duration": 5,
    "start_time": "2022-03-16T10:09:21.910Z"
   },
   {
    "duration": 20,
    "start_time": "2022-03-16T10:09:21.917Z"
   },
   {
    "duration": 1638,
    "start_time": "2022-03-27T06:16:13.046Z"
   },
   {
    "duration": 35,
    "start_time": "2022-03-27T06:16:14.687Z"
   },
   {
    "duration": 53,
    "start_time": "2022-03-27T06:16:14.724Z"
   },
   {
    "duration": 27,
    "start_time": "2022-03-27T06:16:14.779Z"
   },
   {
    "duration": 39,
    "start_time": "2022-03-27T06:16:14.808Z"
   },
   {
    "duration": 22,
    "start_time": "2022-03-27T06:16:14.862Z"
   },
   {
    "duration": 32,
    "start_time": "2022-03-27T06:16:14.885Z"
   },
   {
    "duration": 8,
    "start_time": "2022-03-27T06:16:14.919Z"
   },
   {
    "duration": 44,
    "start_time": "2022-03-27T06:16:14.928Z"
   },
   {
    "duration": 19,
    "start_time": "2022-03-27T06:16:14.974Z"
   },
   {
    "duration": 18,
    "start_time": "2022-03-27T06:16:14.994Z"
   },
   {
    "duration": 63,
    "start_time": "2022-03-27T06:16:15.013Z"
   },
   {
    "duration": 32,
    "start_time": "2022-03-27T06:16:15.077Z"
   },
   {
    "duration": 22,
    "start_time": "2022-03-27T06:16:15.110Z"
   },
   {
    "duration": 51,
    "start_time": "2022-03-27T06:16:15.133Z"
   },
   {
    "duration": 7,
    "start_time": "2022-03-27T06:16:34.747Z"
   },
   {
    "duration": 15,
    "start_time": "2022-03-27T06:16:50.906Z"
   },
   {
    "duration": 2293,
    "start_time": "2022-03-27T10:08:56.184Z"
   },
   {
    "duration": 70,
    "start_time": "2022-03-27T10:08:58.480Z"
   },
   {
    "duration": 138,
    "start_time": "2022-03-27T10:08:58.552Z"
   },
   {
    "duration": 61,
    "start_time": "2022-03-27T10:08:58.694Z"
   },
   {
    "duration": 98,
    "start_time": "2022-03-27T10:08:58.757Z"
   },
   {
    "duration": 62,
    "start_time": "2022-03-27T10:08:58.858Z"
   },
   {
    "duration": 89,
    "start_time": "2022-03-27T10:08:58.923Z"
   },
   {
    "duration": 18,
    "start_time": "2022-03-27T10:08:59.014Z"
   },
   {
    "duration": 53,
    "start_time": "2022-03-27T10:08:59.035Z"
   },
   {
    "duration": 30,
    "start_time": "2022-03-27T10:08:59.092Z"
   },
   {
    "duration": 37,
    "start_time": "2022-03-27T10:08:59.124Z"
   },
   {
    "duration": 70,
    "start_time": "2022-03-27T10:08:59.163Z"
   },
   {
    "duration": 64,
    "start_time": "2022-03-27T10:08:59.235Z"
   },
   {
    "duration": 29,
    "start_time": "2022-03-27T10:08:59.301Z"
   },
   {
    "duration": 66,
    "start_time": "2022-03-27T10:08:59.332Z"
   },
   {
    "duration": 13,
    "start_time": "2022-03-27T10:08:59.400Z"
   },
   {
    "duration": 33,
    "start_time": "2022-03-27T10:08:59.415Z"
   },
   {
    "duration": 85,
    "start_time": "2022-03-27T10:08:59.450Z"
   },
   {
    "duration": 176,
    "start_time": "2022-03-27T10:08:59.537Z"
   },
   {
    "duration": 40,
    "start_time": "2022-03-27T10:08:59.716Z"
   },
   {
    "duration": 75,
    "start_time": "2022-03-27T10:08:59.759Z"
   },
   {
    "duration": 865,
    "start_time": "2022-03-27T10:08:59.837Z"
   },
   {
    "duration": 797,
    "start_time": "2022-03-27T10:09:00.704Z"
   },
   {
    "duration": 7,
    "start_time": "2022-03-27T10:09:01.504Z"
   },
   {
    "duration": 26,
    "start_time": "2022-03-27T10:09:01.513Z"
   },
   {
    "duration": 353,
    "start_time": "2022-03-27T10:30:26.106Z"
   },
   {
    "duration": 2038,
    "start_time": "2022-03-27T10:30:30.526Z"
   },
   {
    "duration": 47,
    "start_time": "2022-03-27T10:30:32.567Z"
   },
   {
    "duration": 78,
    "start_time": "2022-03-27T10:30:32.616Z"
   },
   {
    "duration": 36,
    "start_time": "2022-03-27T10:30:32.696Z"
   },
   {
    "duration": 74,
    "start_time": "2022-03-27T10:30:32.736Z"
   },
   {
    "duration": 31,
    "start_time": "2022-03-27T10:30:32.812Z"
   },
   {
    "duration": 69,
    "start_time": "2022-03-27T10:30:32.845Z"
   },
   {
    "duration": 12,
    "start_time": "2022-03-27T10:30:32.916Z"
   },
   {
    "duration": 58,
    "start_time": "2022-03-27T10:30:32.930Z"
   },
   {
    "duration": 44,
    "start_time": "2022-03-27T10:30:32.990Z"
   },
   {
    "duration": 27,
    "start_time": "2022-03-27T10:30:33.036Z"
   },
   {
    "duration": 67,
    "start_time": "2022-03-27T10:30:33.065Z"
   },
   {
    "duration": 54,
    "start_time": "2022-03-27T10:30:33.134Z"
   },
   {
    "duration": 28,
    "start_time": "2022-03-27T10:30:33.192Z"
   },
   {
    "duration": 65,
    "start_time": "2022-03-27T10:30:33.223Z"
   },
   {
    "duration": 12,
    "start_time": "2022-03-27T10:30:33.291Z"
   },
   {
    "duration": 39,
    "start_time": "2022-03-27T10:30:33.305Z"
   },
   {
    "duration": 77,
    "start_time": "2022-03-27T10:30:33.346Z"
   },
   {
    "duration": 146,
    "start_time": "2022-03-27T10:30:33.426Z"
   },
   {
    "duration": 36,
    "start_time": "2022-03-27T10:30:33.583Z"
   },
   {
    "duration": 138,
    "start_time": "2022-03-27T10:30:33.621Z"
   },
   {
    "duration": 0,
    "start_time": "2022-03-27T10:30:33.761Z"
   },
   {
    "duration": 0,
    "start_time": "2022-03-27T10:30:33.762Z"
   },
   {
    "duration": 0,
    "start_time": "2022-03-27T10:30:33.764Z"
   },
   {
    "duration": 0,
    "start_time": "2022-03-27T10:30:33.766Z"
   },
   {
    "duration": 244,
    "start_time": "2022-03-27T10:31:41.187Z"
   },
   {
    "duration": 177,
    "start_time": "2022-03-27T10:32:06.843Z"
   },
   {
    "duration": 52,
    "start_time": "2022-03-27T10:32:39.656Z"
   },
   {
    "duration": 35,
    "start_time": "2022-03-27T10:36:48.443Z"
   },
   {
    "duration": 49,
    "start_time": "2022-03-27T10:38:33.030Z"
   },
   {
    "duration": 54,
    "start_time": "2022-03-27T10:38:39.036Z"
   },
   {
    "duration": 70,
    "start_time": "2022-03-27T10:39:41.679Z"
   },
   {
    "duration": 53,
    "start_time": "2022-03-27T10:40:20.208Z"
   },
   {
    "duration": 48,
    "start_time": "2022-03-27T10:41:32.623Z"
   },
   {
    "duration": 52,
    "start_time": "2022-03-27T10:41:57.073Z"
   },
   {
    "duration": 57,
    "start_time": "2022-03-27T10:42:11.197Z"
   },
   {
    "duration": 52,
    "start_time": "2022-03-27T10:42:33.123Z"
   },
   {
    "duration": 52,
    "start_time": "2022-03-27T10:43:07.127Z"
   },
   {
    "duration": 55,
    "start_time": "2022-03-27T10:44:40.420Z"
   },
   {
    "duration": 139,
    "start_time": "2022-03-27T10:45:04.324Z"
   },
   {
    "duration": 147,
    "start_time": "2022-03-27T10:45:09.656Z"
   },
   {
    "duration": 150,
    "start_time": "2022-03-27T10:45:14.958Z"
   },
   {
    "duration": 51,
    "start_time": "2022-03-27T10:45:17.060Z"
   },
   {
    "duration": 49,
    "start_time": "2022-03-27T10:45:57.630Z"
   },
   {
    "duration": 54,
    "start_time": "2022-03-27T10:46:15.752Z"
   },
   {
    "duration": 52,
    "start_time": "2022-03-27T10:46:28.893Z"
   },
   {
    "duration": 6,
    "start_time": "2022-03-27T11:01:39.617Z"
   },
   {
    "duration": 7,
    "start_time": "2022-03-27T11:02:02.751Z"
   },
   {
    "duration": 6,
    "start_time": "2022-03-27T11:02:33.238Z"
   },
   {
    "duration": 6,
    "start_time": "2022-03-27T11:03:15.286Z"
   },
   {
    "duration": 6,
    "start_time": "2022-03-27T11:06:43.208Z"
   },
   {
    "duration": 6,
    "start_time": "2022-03-27T11:07:10.914Z"
   },
   {
    "duration": 445,
    "start_time": "2022-03-27T11:08:56.946Z"
   },
   {
    "duration": 41,
    "start_time": "2022-03-27T11:08:57.393Z"
   },
   {
    "duration": 84,
    "start_time": "2022-03-27T11:08:57.436Z"
   },
   {
    "duration": 36,
    "start_time": "2022-03-27T11:08:57.523Z"
   },
   {
    "duration": 62,
    "start_time": "2022-03-27T11:08:57.561Z"
   },
   {
    "duration": 31,
    "start_time": "2022-03-27T11:08:57.625Z"
   },
   {
    "duration": 63,
    "start_time": "2022-03-27T11:08:57.658Z"
   },
   {
    "duration": 13,
    "start_time": "2022-03-27T11:08:57.723Z"
   },
   {
    "duration": 54,
    "start_time": "2022-03-27T11:08:57.738Z"
   },
   {
    "duration": 29,
    "start_time": "2022-03-27T11:08:57.795Z"
   },
   {
    "duration": 40,
    "start_time": "2022-03-27T11:08:57.827Z"
   },
   {
    "duration": 56,
    "start_time": "2022-03-27T11:08:57.882Z"
   },
   {
    "duration": 51,
    "start_time": "2022-03-27T11:08:57.941Z"
   },
   {
    "duration": 28,
    "start_time": "2022-03-27T11:08:57.995Z"
   },
   {
    "duration": 69,
    "start_time": "2022-03-27T11:08:58.025Z"
   },
   {
    "duration": 12,
    "start_time": "2022-03-27T11:08:58.097Z"
   },
   {
    "duration": 48,
    "start_time": "2022-03-27T11:08:58.111Z"
   },
   {
    "duration": 70,
    "start_time": "2022-03-27T11:08:58.161Z"
   },
   {
    "duration": 196,
    "start_time": "2022-03-27T11:08:58.234Z"
   },
   {
    "duration": 35,
    "start_time": "2022-03-27T11:08:58.433Z"
   },
   {
    "duration": 8,
    "start_time": "2022-03-27T11:08:58.483Z"
   },
   {
    "duration": 23,
    "start_time": "2022-03-27T11:08:58.493Z"
   },
   {
    "duration": 76,
    "start_time": "2022-03-27T11:08:58.518Z"
   },
   {
    "duration": 760,
    "start_time": "2022-03-27T11:08:58.596Z"
   },
   {
    "duration": 782,
    "start_time": "2022-03-27T11:08:59.358Z"
   },
   {
    "duration": 8,
    "start_time": "2022-03-27T11:09:00.142Z"
   },
   {
    "duration": 48,
    "start_time": "2022-03-27T11:09:00.152Z"
   }
  ],
  "kernelspec": {
   "display_name": "Python 3 (ipykernel)",
   "language": "python",
   "name": "python3"
  },
  "language_info": {
   "codemirror_mode": {
    "name": "ipython",
    "version": 3
   },
   "file_extension": ".py",
   "mimetype": "text/x-python",
   "name": "python",
   "nbconvert_exporter": "python",
   "pygments_lexer": "ipython3",
   "version": "3.9.5"
  },
  "toc": {
   "base_numbering": 1,
   "nav_menu": {},
   "number_sections": true,
   "sideBar": true,
   "skip_h1_title": true,
   "title_cell": "Table of Contents",
   "title_sidebar": "Contents",
   "toc_cell": false,
   "toc_position": {},
   "toc_section_display": true,
   "toc_window_display": true
  }
 },
 "nbformat": 4,
 "nbformat_minor": 2
}
