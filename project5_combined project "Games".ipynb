{
 "cells": [
  {
   "cell_type": "markdown",
   "metadata": {},
   "source": [
    "# Сборный проект \"Games\""
   ]
  },
  {
   "cell_type": "markdown",
   "metadata": {},
   "source": [
    "# Описание проекта\n",
    "Вы работаете в интернет-магазине «Стримчик», который продаёт по всему миру компьютерные игры. Из открытых источников доступны исторические данные о продажах игр, оценки пользователей и экспертов, жанры и платформы (например, Xbox или PlayStation). Вам нужно выявить определяющие успешность игры закономерности. Это позволит сделать ставку на потенциально популярный продукт и спланировать рекламные кампании.\n",
    "Перед вами данные до 2016 года. Представим, что сейчас декабрь 2016 г., и вы планируете кампанию на 2017-й. Нужно отработать принцип работы с данными. Неважно, прогнозируете ли вы продажи на 2017 год по данным 2016-го или же 2027-й — по данным 2026 года.\n",
    "В наборе данных попадается аббревиатура ESRB (Entertainment Software Rating Board) — это ассоциация, определяющая возрастной рейтинг компьютерных игр. ESRB оценивает игровой контент и присваивает ему подходящую возрастную категорию, например, «Для взрослых», «Для детей младшего возраста» или «Для подростков»."
   ]
  },
  {
   "cell_type": "markdown",
   "metadata": {},
   "source": [
    "## Описание данных\n",
    "\n",
    "Name — название игры\n",
    "\n",
    "Platform — платформа\n",
    "\n",
    "Year_of_Release — год выпуска\n",
    "\n",
    "Genre — жанр игры\n",
    "\n",
    "NA_sales — продажи в Северной Америке (миллионы проданных копий)\n",
    "\n",
    "EU_sales — продажи в Европе (миллионы проданных копий)\n",
    "\n",
    "JP_sales — продажи в Японии (миллионы проданных копий)\n",
    "\n",
    "Other_sales — продажи в других странах (миллионы проданных копий)\n",
    "\n",
    "Critic_Score — оценка критиков (максимум 100)\n",
    "\n",
    "User_Score — оценка пользователей (максимум 10)\n",
    "\n",
    "\n",
    "Rating — рейтинг от организации ESRB (англ. Entertainment Software Rating Board). Эта ассоциация определяет рейтинг компьютерных игр и присваивает им подходящую возрастную категорию.\n",
    "\n",
    "Данные за 2016 год могут быть неполными."
   ]
  },
  {
   "cell_type": "markdown",
   "metadata": {},
   "source": [
    "## Изучение общей информации."
   ]
  },
  {
   "cell_type": "code",
   "execution_count": 1,
   "metadata": {},
   "outputs": [],
   "source": [
    "import pandas as pd\n",
    "import matplotlib.pyplot as plt\n",
    "import seaborn as sns\n",
    "import numpy as np\n",
    "from scipy import stats as st"
   ]
  },
  {
   "cell_type": "code",
   "execution_count": 2,
   "metadata": {},
   "outputs": [],
   "source": [
    "data = pd.read_csv('/datasets/games.csv')"
   ]
  },
  {
   "cell_type": "code",
   "execution_count": 3,
   "metadata": {},
   "outputs": [
    {
     "data": {
      "text/html": [
       "<div>\n",
       "<style scoped>\n",
       "    .dataframe tbody tr th:only-of-type {\n",
       "        vertical-align: middle;\n",
       "    }\n",
       "\n",
       "    .dataframe tbody tr th {\n",
       "        vertical-align: top;\n",
       "    }\n",
       "\n",
       "    .dataframe thead th {\n",
       "        text-align: right;\n",
       "    }\n",
       "</style>\n",
       "<table border=\"1\" class=\"dataframe\">\n",
       "  <thead>\n",
       "    <tr style=\"text-align: right;\">\n",
       "      <th></th>\n",
       "      <th>Name</th>\n",
       "      <th>Platform</th>\n",
       "      <th>Year_of_Release</th>\n",
       "      <th>Genre</th>\n",
       "      <th>NA_sales</th>\n",
       "      <th>EU_sales</th>\n",
       "      <th>JP_sales</th>\n",
       "      <th>Other_sales</th>\n",
       "      <th>Critic_Score</th>\n",
       "      <th>User_Score</th>\n",
       "      <th>Rating</th>\n",
       "    </tr>\n",
       "  </thead>\n",
       "  <tbody>\n",
       "    <tr>\n",
       "      <th>0</th>\n",
       "      <td>Wii Sports</td>\n",
       "      <td>Wii</td>\n",
       "      <td>2006.0</td>\n",
       "      <td>Sports</td>\n",
       "      <td>41.36</td>\n",
       "      <td>28.96</td>\n",
       "      <td>3.77</td>\n",
       "      <td>8.45</td>\n",
       "      <td>76.0</td>\n",
       "      <td>8</td>\n",
       "      <td>E</td>\n",
       "    </tr>\n",
       "    <tr>\n",
       "      <th>1</th>\n",
       "      <td>Super Mario Bros.</td>\n",
       "      <td>NES</td>\n",
       "      <td>1985.0</td>\n",
       "      <td>Platform</td>\n",
       "      <td>29.08</td>\n",
       "      <td>3.58</td>\n",
       "      <td>6.81</td>\n",
       "      <td>0.77</td>\n",
       "      <td>NaN</td>\n",
       "      <td>NaN</td>\n",
       "      <td>NaN</td>\n",
       "    </tr>\n",
       "    <tr>\n",
       "      <th>2</th>\n",
       "      <td>Mario Kart Wii</td>\n",
       "      <td>Wii</td>\n",
       "      <td>2008.0</td>\n",
       "      <td>Racing</td>\n",
       "      <td>15.68</td>\n",
       "      <td>12.76</td>\n",
       "      <td>3.79</td>\n",
       "      <td>3.29</td>\n",
       "      <td>82.0</td>\n",
       "      <td>8.3</td>\n",
       "      <td>E</td>\n",
       "    </tr>\n",
       "    <tr>\n",
       "      <th>3</th>\n",
       "      <td>Wii Sports Resort</td>\n",
       "      <td>Wii</td>\n",
       "      <td>2009.0</td>\n",
       "      <td>Sports</td>\n",
       "      <td>15.61</td>\n",
       "      <td>10.93</td>\n",
       "      <td>3.28</td>\n",
       "      <td>2.95</td>\n",
       "      <td>80.0</td>\n",
       "      <td>8</td>\n",
       "      <td>E</td>\n",
       "    </tr>\n",
       "    <tr>\n",
       "      <th>4</th>\n",
       "      <td>Pokemon Red/Pokemon Blue</td>\n",
       "      <td>GB</td>\n",
       "      <td>1996.0</td>\n",
       "      <td>Role-Playing</td>\n",
       "      <td>11.27</td>\n",
       "      <td>8.89</td>\n",
       "      <td>10.22</td>\n",
       "      <td>1.00</td>\n",
       "      <td>NaN</td>\n",
       "      <td>NaN</td>\n",
       "      <td>NaN</td>\n",
       "    </tr>\n",
       "  </tbody>\n",
       "</table>\n",
       "</div>"
      ],
      "text/plain": [
       "                       Name Platform  Year_of_Release         Genre  NA_sales  \\\n",
       "0                Wii Sports      Wii           2006.0        Sports     41.36   \n",
       "1         Super Mario Bros.      NES           1985.0      Platform     29.08   \n",
       "2            Mario Kart Wii      Wii           2008.0        Racing     15.68   \n",
       "3         Wii Sports Resort      Wii           2009.0        Sports     15.61   \n",
       "4  Pokemon Red/Pokemon Blue       GB           1996.0  Role-Playing     11.27   \n",
       "\n",
       "   EU_sales  JP_sales  Other_sales  Critic_Score User_Score Rating  \n",
       "0     28.96      3.77         8.45          76.0          8      E  \n",
       "1      3.58      6.81         0.77           NaN        NaN    NaN  \n",
       "2     12.76      3.79         3.29          82.0        8.3      E  \n",
       "3     10.93      3.28         2.95          80.0          8      E  \n",
       "4      8.89     10.22         1.00           NaN        NaN    NaN  "
      ]
     },
     "execution_count": 3,
     "metadata": {},
     "output_type": "execute_result"
    }
   ],
   "source": [
    "data.head(5)"
   ]
  },
  {
   "cell_type": "code",
   "execution_count": 4,
   "metadata": {
    "scrolled": true
   },
   "outputs": [
    {
     "name": "stdout",
     "output_type": "stream",
     "text": [
      "<class 'pandas.core.frame.DataFrame'>\n",
      "RangeIndex: 16715 entries, 0 to 16714\n",
      "Data columns (total 11 columns):\n",
      " #   Column           Non-Null Count  Dtype  \n",
      "---  ------           --------------  -----  \n",
      " 0   Name             16713 non-null  object \n",
      " 1   Platform         16715 non-null  object \n",
      " 2   Year_of_Release  16446 non-null  float64\n",
      " 3   Genre            16713 non-null  object \n",
      " 4   NA_sales         16715 non-null  float64\n",
      " 5   EU_sales         16715 non-null  float64\n",
      " 6   JP_sales         16715 non-null  float64\n",
      " 7   Other_sales      16715 non-null  float64\n",
      " 8   Critic_Score     8137 non-null   float64\n",
      " 9   User_Score       10014 non-null  object \n",
      " 10  Rating           9949 non-null   object \n",
      "dtypes: float64(6), object(5)\n",
      "memory usage: 1.4+ MB\n",
      "None\n"
     ]
    }
   ],
   "source": [
    "print(data.info())"
   ]
  },
  {
   "cell_type": "code",
   "execution_count": 5,
   "metadata": {},
   "outputs": [
    {
     "name": "stdout",
     "output_type": "stream",
     "text": [
      "Name                  2\n",
      "Platform              0\n",
      "Year_of_Release     269\n",
      "Genre                 2\n",
      "NA_sales              0\n",
      "EU_sales              0\n",
      "JP_sales              0\n",
      "Other_sales           0\n",
      "Critic_Score       8578\n",
      "User_Score         6701\n",
      "Rating             6766\n",
      "dtype: int64\n"
     ]
    }
   ],
   "source": [
    "print(data.isna().sum())"
   ]
  },
  {
   "cell_type": "code",
   "execution_count": 6,
   "metadata": {},
   "outputs": [
    {
     "name": "stdout",
     "output_type": "stream",
     "text": [
      "Index(['Name', 'Platform', 'Year_of_Release', 'Genre', 'NA_sales', 'EU_sales',\n",
      "       'JP_sales', 'Other_sales', 'Critic_Score', 'User_Score', 'Rating'],\n",
      "      dtype='object')\n"
     ]
    }
   ],
   "source": [
    "print(data.columns)"
   ]
  },
  {
   "cell_type": "markdown",
   "metadata": {},
   "source": [
    "Пропущенные значения в столбцах Year_of_Release, Critic_Score, User_Score, Rating. \n",
    "\n",
    "Year_of_Release - отсутствует информация о дате выхода игры, пропущенных значений не так много, оставим их как есть.\n",
    "\n",
    "Critic_Score - игра не была оценена критиками, пропущенных значений много, их заполнение какимо-либо данными приведет к искажению общей информации, оставим как есть.\n",
    "\n",
    "User_Score - такая же ситуация как с Critic_Score, оставляем как есть.\n",
    "\n",
    "Rating - у игр не определен рейтинг, возможно, организация появилась не так давно и некоторые игры просто не оценены. Заменим на \"нет рейтинга\".\n",
    "\n",
    "Типы данных : \n",
    "\n",
    "Year_of_Release нужно привести к типу данных int, так как это целые числа.\n",
    "\n",
    "User_Score приведем к типу данных float, так как это рейтинг.\n",
    "\n",
    "Также в столбце Critic_Score  можно заметить, что чила целые, проверим точно ли это и приведем к типу int. Возможно критики высталвют оценки только в целых числах.\n",
    "\n",
    "Приведем названия столбцов к нижнему регистру. "
   ]
  },
  {
   "cell_type": "markdown",
   "metadata": {},
   "source": [
    "## Предобработка данных"
   ]
  },
  {
   "cell_type": "code",
   "execution_count": 7,
   "metadata": {},
   "outputs": [
    {
     "data": {
      "text/plain": [
       "Index(['name', 'platform', 'year_of_release', 'genre', 'na_sales', 'eu_sales',\n",
       "       'jp_sales', 'other_sales', 'critic_score', 'user_score', 'rating'],\n",
       "      dtype='object')"
      ]
     },
     "execution_count": 7,
     "metadata": {},
     "output_type": "execute_result"
    }
   ],
   "source": [
    "data.columns = data.columns.str.lower()\n",
    "data.columns\n",
    "# привели столбцы к нижнему регистру"
   ]
  },
  {
   "cell_type": "code",
   "execution_count": 8,
   "metadata": {},
   "outputs": [],
   "source": [
    "data['user_score'].unique()\n",
    "# видим значение tbd, оно не дает перевести стобец в float, посмотрим что оно означает\n",
    "# tbd  пишется тогда, когда игра имеет недостаточное количество отзывов (менее 4) для подсчета рейтинга пользователей и его публикации.\n",
    "# Заменим tbd на Nan\n",
    "data['user_score'] = data['user_score'].replace('tbd',  np.NaN)\n",
    "data['user_score'] = data['user_score'].astype('float64')"
   ]
  },
  {
   "cell_type": "code",
   "execution_count": 9,
   "metadata": {},
   "outputs": [],
   "source": [
    "#заменим Nan на 'нет рейтинга', чтобы не потерять данные\n",
    "data['rating'] = data['rating'].fillna('нет рейтинга')"
   ]
  },
  {
   "cell_type": "code",
   "execution_count": 10,
   "metadata": {},
   "outputs": [],
   "source": [
    "data['critic_score'].unique()\n",
    "# Догадки подтвердились, заменям на int\n",
    "data['critic_score'] = data['critic_score'].astype('Int64')\n",
    "data['year_of_release'] = data['year_of_release'].astype('Int64')"
   ]
  },
  {
   "cell_type": "code",
   "execution_count": 11,
   "metadata": {},
   "outputs": [
    {
     "data": {
      "text/html": [
       "<div>\n",
       "<style scoped>\n",
       "    .dataframe tbody tr th:only-of-type {\n",
       "        vertical-align: middle;\n",
       "    }\n",
       "\n",
       "    .dataframe tbody tr th {\n",
       "        vertical-align: top;\n",
       "    }\n",
       "\n",
       "    .dataframe thead th {\n",
       "        text-align: right;\n",
       "    }\n",
       "</style>\n",
       "<table border=\"1\" class=\"dataframe\">\n",
       "  <thead>\n",
       "    <tr style=\"text-align: right;\">\n",
       "      <th></th>\n",
       "      <th>name</th>\n",
       "      <th>platform</th>\n",
       "      <th>year_of_release</th>\n",
       "      <th>genre</th>\n",
       "      <th>na_sales</th>\n",
       "      <th>eu_sales</th>\n",
       "      <th>jp_sales</th>\n",
       "      <th>other_sales</th>\n",
       "      <th>critic_score</th>\n",
       "      <th>user_score</th>\n",
       "      <th>rating</th>\n",
       "      <th>total_sales</th>\n",
       "    </tr>\n",
       "  </thead>\n",
       "  <tbody>\n",
       "    <tr>\n",
       "      <th>0</th>\n",
       "      <td>Wii Sports</td>\n",
       "      <td>Wii</td>\n",
       "      <td>2006</td>\n",
       "      <td>Sports</td>\n",
       "      <td>41.36</td>\n",
       "      <td>28.96</td>\n",
       "      <td>3.77</td>\n",
       "      <td>8.45</td>\n",
       "      <td>76</td>\n",
       "      <td>8.0</td>\n",
       "      <td>E</td>\n",
       "      <td>82.54</td>\n",
       "    </tr>\n",
       "    <tr>\n",
       "      <th>1</th>\n",
       "      <td>Super Mario Bros.</td>\n",
       "      <td>NES</td>\n",
       "      <td>1985</td>\n",
       "      <td>Platform</td>\n",
       "      <td>29.08</td>\n",
       "      <td>3.58</td>\n",
       "      <td>6.81</td>\n",
       "      <td>0.77</td>\n",
       "      <td>&lt;NA&gt;</td>\n",
       "      <td>NaN</td>\n",
       "      <td>нет рейтинга</td>\n",
       "      <td>40.24</td>\n",
       "    </tr>\n",
       "    <tr>\n",
       "      <th>2</th>\n",
       "      <td>Mario Kart Wii</td>\n",
       "      <td>Wii</td>\n",
       "      <td>2008</td>\n",
       "      <td>Racing</td>\n",
       "      <td>15.68</td>\n",
       "      <td>12.76</td>\n",
       "      <td>3.79</td>\n",
       "      <td>3.29</td>\n",
       "      <td>82</td>\n",
       "      <td>8.3</td>\n",
       "      <td>E</td>\n",
       "      <td>35.52</td>\n",
       "    </tr>\n",
       "    <tr>\n",
       "      <th>3</th>\n",
       "      <td>Wii Sports Resort</td>\n",
       "      <td>Wii</td>\n",
       "      <td>2009</td>\n",
       "      <td>Sports</td>\n",
       "      <td>15.61</td>\n",
       "      <td>10.93</td>\n",
       "      <td>3.28</td>\n",
       "      <td>2.95</td>\n",
       "      <td>80</td>\n",
       "      <td>8.0</td>\n",
       "      <td>E</td>\n",
       "      <td>32.77</td>\n",
       "    </tr>\n",
       "    <tr>\n",
       "      <th>4</th>\n",
       "      <td>Pokemon Red/Pokemon Blue</td>\n",
       "      <td>GB</td>\n",
       "      <td>1996</td>\n",
       "      <td>Role-Playing</td>\n",
       "      <td>11.27</td>\n",
       "      <td>8.89</td>\n",
       "      <td>10.22</td>\n",
       "      <td>1.00</td>\n",
       "      <td>&lt;NA&gt;</td>\n",
       "      <td>NaN</td>\n",
       "      <td>нет рейтинга</td>\n",
       "      <td>31.38</td>\n",
       "    </tr>\n",
       "  </tbody>\n",
       "</table>\n",
       "</div>"
      ],
      "text/plain": [
       "                       name platform  year_of_release         genre  na_sales  \\\n",
       "0                Wii Sports      Wii             2006        Sports     41.36   \n",
       "1         Super Mario Bros.      NES             1985      Platform     29.08   \n",
       "2            Mario Kart Wii      Wii             2008        Racing     15.68   \n",
       "3         Wii Sports Resort      Wii             2009        Sports     15.61   \n",
       "4  Pokemon Red/Pokemon Blue       GB             1996  Role-Playing     11.27   \n",
       "\n",
       "   eu_sales  jp_sales  other_sales  critic_score  user_score        rating  \\\n",
       "0     28.96      3.77         8.45            76         8.0             E   \n",
       "1      3.58      6.81         0.77          <NA>         NaN  нет рейтинга   \n",
       "2     12.76      3.79         3.29            82         8.3             E   \n",
       "3     10.93      3.28         2.95            80         8.0             E   \n",
       "4      8.89     10.22         1.00          <NA>         NaN  нет рейтинга   \n",
       "\n",
       "   total_sales  \n",
       "0        82.54  \n",
       "1        40.24  \n",
       "2        35.52  \n",
       "3        32.77  \n",
       "4        31.38  "
      ]
     },
     "execution_count": 11,
     "metadata": {},
     "output_type": "execute_result"
    }
   ],
   "source": [
    "#Посчитаем суммарные продажи во всех регионах и запишем их в отдельный столбец.\n",
    "data['total_sales'] = data['na_sales'] + data['eu_sales'] + data['jp_sales'] + data['other_sales']\n",
    "data.head(5)"
   ]
  },
  {
   "cell_type": "markdown",
   "metadata": {},
   "source": [
    "## Исследовательский анализ данных"
   ]
  },
  {
   "cell_type": "markdown",
   "metadata": {},
   "source": [
    "### Посмотрим сколько игр выпускалось в разные годы. "
   ]
  },
  {
   "cell_type": "code",
   "execution_count": 12,
   "metadata": {},
   "outputs": [
    {
     "data": {
      "text/plain": [
       "<AxesSubplot:title={'center':'Cколько игр выпускалось в разные годы'}, xlabel='Год выпуска', ylabel='Количество выпущенных игр'>"
      ]
     },
     "execution_count": 12,
     "metadata": {},
     "output_type": "execute_result"
    },
    {
     "data": {
      "image/png": "[encoded data removed]",
      "text/plain": [
       "<Figure size 432x288 with 1 Axes>"
      ]
     },
     "metadata": {
      "needs_background": "light"
     },
     "output_type": "display_data"
    }
   ],
   "source": [
    "data_years = data.pivot_table(index = 'year_of_release', values = 'name', aggfunc = 'count')\n",
    "\n",
    "data_years.plot(title = 'Cколько игр выпускалось в разные годы', grid = True,\n",
    "                xlabel = 'Год выпуска', ylabel = 'Количество выпущенных игр')"
   ]
  },
  {
   "cell_type": "markdown",
   "metadata": {},
   "source": [
    "Вывод : \n",
    "\n",
    "Исходя из графика количество выпущенных игр  начало расти с 1990х годов до 2008 года, пик приходится на 2008 год.\n",
    "\n",
    "С 2008 года, на графике резкий спад выпущенных игр, возможно это связано с популярностью игр на телефонах."
   ]
  },
  {
   "cell_type": "markdown",
   "metadata": {},
   "source": [
    "### Посмотрим как менялись продажи по платформам."
   ]
  },
  {
   "cell_type": "code",
   "execution_count": 13,
   "metadata": {},
   "outputs": [
    {
     "data": {
      "text/plain": [
       "<AxesSubplot:xlabel='platform'>"
      ]
     },
     "execution_count": 13,
     "metadata": {},
     "output_type": "execute_result"
    },
    {
     "data": {
      "image/png": "[encoded data removed]",
      "text/plain": [
       "<Figure size 936x432 with 1 Axes>"
      ]
     },
     "metadata": {
      "needs_background": "light"
     },
     "output_type": "display_data"
    }
   ],
   "source": [
    "data_platform = data.pivot_table(index = 'platform', values = 'total_sales',\n",
    "                                 aggfunc = 'sum').sort_values(by='total_sales', ascending=False)\n",
    "\n",
    "data_platform.plot(kind='bar', figsize=(13,6))"
   ]
  },
  {
   "cell_type": "markdown",
   "metadata": {},
   "source": [
    "Из графика видно, что самые популярные игровые платформы за весь период это PS2, X360, PS3, WII, DS, PS\n",
    "\n",
    "Их продажи составляют более 600 миллионов.|\n"
   ]
  },
  {
   "cell_type": "markdown",
   "metadata": {},
   "source": [
    "### Составим таблицу, где будут только популярные платформы и посмотрим их рапсредление по годам."
   ]
  },
  {
   "cell_type": "code",
   "execution_count": 14,
   "metadata": {},
   "outputs": [
    {
     "data": {
      "text/html": [
       "<div>\n",
       "<style scoped>\n",
       "    .dataframe tbody tr th:only-of-type {\n",
       "        vertical-align: middle;\n",
       "    }\n",
       "\n",
       "    .dataframe tbody tr th {\n",
       "        vertical-align: top;\n",
       "    }\n",
       "\n",
       "    .dataframe thead th {\n",
       "        text-align: right;\n",
       "    }\n",
       "</style>\n",
       "<table border=\"1\" class=\"dataframe\">\n",
       "  <thead>\n",
       "    <tr style=\"text-align: right;\">\n",
       "      <th></th>\n",
       "      <th>name</th>\n",
       "      <th>platform</th>\n",
       "      <th>year_of_release</th>\n",
       "      <th>genre</th>\n",
       "      <th>na_sales</th>\n",
       "      <th>eu_sales</th>\n",
       "      <th>jp_sales</th>\n",
       "      <th>other_sales</th>\n",
       "      <th>critic_score</th>\n",
       "      <th>user_score</th>\n",
       "      <th>rating</th>\n",
       "      <th>total_sales</th>\n",
       "    </tr>\n",
       "  </thead>\n",
       "  <tbody>\n",
       "    <tr>\n",
       "      <th>0</th>\n",
       "      <td>Wii Sports</td>\n",
       "      <td>Wii</td>\n",
       "      <td>2006</td>\n",
       "      <td>Sports</td>\n",
       "      <td>41.36</td>\n",
       "      <td>28.96</td>\n",
       "      <td>3.77</td>\n",
       "      <td>8.45</td>\n",
       "      <td>76</td>\n",
       "      <td>8.0</td>\n",
       "      <td>E</td>\n",
       "      <td>82.54</td>\n",
       "    </tr>\n",
       "    <tr>\n",
       "      <th>2</th>\n",
       "      <td>Mario Kart Wii</td>\n",
       "      <td>Wii</td>\n",
       "      <td>2008</td>\n",
       "      <td>Racing</td>\n",
       "      <td>15.68</td>\n",
       "      <td>12.76</td>\n",
       "      <td>3.79</td>\n",
       "      <td>3.29</td>\n",
       "      <td>82</td>\n",
       "      <td>8.3</td>\n",
       "      <td>E</td>\n",
       "      <td>35.52</td>\n",
       "    </tr>\n",
       "    <tr>\n",
       "      <th>3</th>\n",
       "      <td>Wii Sports Resort</td>\n",
       "      <td>Wii</td>\n",
       "      <td>2009</td>\n",
       "      <td>Sports</td>\n",
       "      <td>15.61</td>\n",
       "      <td>10.93</td>\n",
       "      <td>3.28</td>\n",
       "      <td>2.95</td>\n",
       "      <td>80</td>\n",
       "      <td>8.0</td>\n",
       "      <td>E</td>\n",
       "      <td>32.77</td>\n",
       "    </tr>\n",
       "    <tr>\n",
       "      <th>6</th>\n",
       "      <td>New Super Mario Bros.</td>\n",
       "      <td>DS</td>\n",
       "      <td>2006</td>\n",
       "      <td>Platform</td>\n",
       "      <td>11.28</td>\n",
       "      <td>9.14</td>\n",
       "      <td>6.50</td>\n",
       "      <td>2.88</td>\n",
       "      <td>89</td>\n",
       "      <td>8.5</td>\n",
       "      <td>E</td>\n",
       "      <td>29.80</td>\n",
       "    </tr>\n",
       "    <tr>\n",
       "      <th>7</th>\n",
       "      <td>Wii Play</td>\n",
       "      <td>Wii</td>\n",
       "      <td>2006</td>\n",
       "      <td>Misc</td>\n",
       "      <td>13.96</td>\n",
       "      <td>9.18</td>\n",
       "      <td>2.93</td>\n",
       "      <td>2.84</td>\n",
       "      <td>58</td>\n",
       "      <td>6.6</td>\n",
       "      <td>E</td>\n",
       "      <td>28.91</td>\n",
       "    </tr>\n",
       "  </tbody>\n",
       "</table>\n",
       "</div>"
      ],
      "text/plain": [
       "                    name platform  year_of_release     genre  na_sales  \\\n",
       "0             Wii Sports      Wii             2006    Sports     41.36   \n",
       "2         Mario Kart Wii      Wii             2008    Racing     15.68   \n",
       "3      Wii Sports Resort      Wii             2009    Sports     15.61   \n",
       "6  New Super Mario Bros.       DS             2006  Platform     11.28   \n",
       "7               Wii Play      Wii             2006      Misc     13.96   \n",
       "\n",
       "   eu_sales  jp_sales  other_sales  critic_score  user_score rating  \\\n",
       "0     28.96      3.77         8.45            76         8.0      E   \n",
       "2     12.76      3.79         3.29            82         8.3      E   \n",
       "3     10.93      3.28         2.95            80         8.0      E   \n",
       "6      9.14      6.50         2.88            89         8.5      E   \n",
       "7      9.18      2.93         2.84            58         6.6      E   \n",
       "\n",
       "   total_sales  \n",
       "0        82.54  \n",
       "2        35.52  \n",
       "3        32.77  \n",
       "6        29.80  \n",
       "7        28.91  "
      ]
     },
     "execution_count": 14,
     "metadata": {},
     "output_type": "execute_result"
    }
   ],
   "source": [
    "data_top = data.query('platform in [\"PS2\", \"X360\", \"PS3\", \"Wii\", \"DS\", \"PS\"]')\n",
    "data_top.head(5)\n",
    "#таблица с топ-6 платформами"
   ]
  },
  {
   "cell_type": "code",
   "execution_count": 15,
   "metadata": {},
   "outputs": [],
   "source": [
    "list_games =[\"PS2\", \"X360\", \"PS3\", \"Wii\", \"DS\", \"PS\"]"
   ]
  },
  {
   "cell_type": "code",
   "execution_count": 16,
   "metadata": {},
   "outputs": [],
   "source": [
    "data_platform_top = data_top.pivot_table(index = ['platform', 'year_of_release'], values = 'total_sales', aggfunc = 'sum')"
   ]
  },
  {
   "cell_type": "code",
   "execution_count": 17,
   "metadata": {},
   "outputs": [],
   "source": [
    "#функция для составляения графиков по срезам\n",
    "def games (data,title):\n",
    "    data.plot(kind = 'bar', figsize=(15,8), title=title)"
   ]
  },
  {
   "cell_type": "code",
   "execution_count": 18,
   "metadata": {},
   "outputs": [
    {
     "data": {
      "image/png": "[encoded data removed]",
      "text/plain": [
       "<Figure size 1080x576 with 1 Axes>"
      ]
     },
     "metadata": {
      "needs_background": "light"
     },
     "output_type": "display_data"
    },
    {
     "data": {
      "image/png": "[encoded data removed]",
      "text/plain": [
       "<Figure size 1080x576 with 1 Axes>"
      ]
     },
     "metadata": {
      "needs_background": "light"
     },
     "output_type": "display_data"
    },
    {
     "data": {
      "image/png": "[encoded data removed]",
      "text/plain": [
       "<Figure size 1080x576 with 1 Axes>"
      ]
     },
     "metadata": {
      "needs_background": "light"
     },
     "output_type": "display_data"
    },
    {
     "data": {
      "image/png": "[encoded data removed]",
      "text/plain": [
       "<Figure size 1080x576 with 1 Axes>"
      ]
     },
     "metadata": {
      "needs_background": "light"
     },
     "output_type": "display_data"
    },
    {
     "data": {
      "image/png": "[encoded data removed]",
      "text/plain": [
       "<Figure size 1080x576 with 1 Axes>"
      ]
     },
     "metadata": {
      "needs_background": "light"
     },
     "output_type": "display_data"
    },
    {
     "data": {
      "image/png": "[encoded data removed]",
      "text/plain": [
       "<Figure size 1080x576 with 1 Axes>"
      ]
     },
     "metadata": {
      "needs_background": "light"
     },
     "output_type": "display_data"
    }
   ],
   "source": [
    "games(data_platform_top.query('platform == \"DS\"'), 'платформа \"DS\"')\n",
    "games(data_platform_top.query('platform == \"X360\"'), 'платформа \"X360\"')\n",
    "games(data_platform_top.query('platform == \"PS3\"'), 'платформа \"PS3\"')\n",
    "games(data_platform_top.query('platform == \"PS2\"'), 'платформа \"PS2\"')\n",
    "games(data_platform_top.query('platform == \"PS\"'), 'платформа \"PS\"')\n",
    "games(data_platform_top.query('platform == \"Wii\"'), 'платформа \"Wii\"')"
   ]
  },
  {
   "cell_type": "code",
   "execution_count": 19,
   "metadata": {
    "scrolled": false
   },
   "outputs": [
    {
     "name": "stdout",
     "output_type": "stream",
     "text": [
      "PS2\n"
     ]
    },
    {
     "data": {
      "image/png": "[encoded data removed]",
      "text/plain": [
       "<Figure size 432x288 with 1 Axes>"
      ]
     },
     "metadata": {
      "needs_background": "light"
     },
     "output_type": "display_data"
    },
    {
     "name": "stdout",
     "output_type": "stream",
     "text": [
      "X360\n"
     ]
    },
    {
     "data": {
      "image/png": "[encoded data removed]",
      "text/plain": [
       "<Figure size 432x288 with 1 Axes>"
      ]
     },
     "metadata": {
      "needs_background": "light"
     },
     "output_type": "display_data"
    },
    {
     "name": "stdout",
     "output_type": "stream",
     "text": [
      "PS3\n"
     ]
    },
    {
     "data": {
      "image/png": "[encoded data removed]",
      "text/plain": [
       "<Figure size 432x288 with 1 Axes>"
      ]
     },
     "metadata": {
      "needs_background": "light"
     },
     "output_type": "display_data"
    },
    {
     "name": "stdout",
     "output_type": "stream",
     "text": [
      "Wii\n"
     ]
    },
    {
     "data": {
      "image/png": "[encoded data removed]",
      "text/plain": [
       "<Figure size 432x288 with 1 Axes>"
      ]
     },
     "metadata": {
      "needs_background": "light"
     },
     "output_type": "display_data"
    },
    {
     "name": "stdout",
     "output_type": "stream",
     "text": [
      "DS\n"
     ]
    },
    {
     "data": {
      "image/png": "[encoded data removed]",
      "text/plain": [
       "<Figure size 432x288 with 1 Axes>"
      ]
     },
     "metadata": {
      "needs_background": "light"
     },
     "output_type": "display_data"
    },
    {
     "name": "stdout",
     "output_type": "stream",
     "text": [
      "PS\n"
     ]
    },
    {
     "data": {
      "image/png": "[encoded data removed]",
      "text/plain": [
       "<Figure size 432x288 with 1 Axes>"
      ]
     },
     "metadata": {
      "needs_background": "light"
     },
     "output_type": "display_data"
    }
   ],
   "source": [
    "# я не стал формировать список платформ из датафрейма, а для простаты взял твой список (из ячейки на 3 шт. выше этой)\n",
    "\n",
    "list_games =[\"PS2\", \"X360\", \"PS3\", \"Wii\", \"DS\", \"PS\"]\n",
    "\n",
    "# \"for platform_name in list_games\" - бежим (итерируемся) по элементам списка и для каждого наименования платформы - вначале \n",
    "# печатаем его (как имя графика), а затем же график строим, затем переходим к следующему элементу списка (фактически \n",
    "# следующей платформе). Это кусочек проверял - графики ниже от него:\n",
    "\n",
    "for platform_name in list_games:\n",
    "    print(platform_name)\n",
    "    (data_top\n",
    "     .query('platform == @platform_name')\n",
    "     .pivot_table(index='year_of_release', values='total_sales', aggfunc='sum')\n",
    "     .plot(kind='bar')\n",
    "    )\n",
    "    plt.show()\n",
    "    \n",
    "# в твоем случае, когда ты строишь график используя свою функцию games - вот **примерный** псевдокод (не проверял его \n",
    "# на запуск и корректность, но доработать его проблем думаю не будет если он не будет работать):\n",
    "\n",
    "# for platform_name in list_games:\n",
    "#     (games(data_platform_top.query('platform == @platform_name'), 'платформа' + platform_name')\n",
    "#     )\n",
    "#     plt.show()"
   ]
  },
  {
   "cell_type": "markdown",
   "metadata": {},
   "source": [
    "Вывод : \n",
    "Из графиков мы видим, что каждая из платформ 'прожила'в среднем по 10 лет.\n",
    "\n",
    "DS с 2004 по 2013 (9 лет)\n",
    "\n",
    "X360 с 2005 по 2015 (10 лет)\n",
    "\n",
    "PS3 с 2006 по 2016 (10 лет)\n",
    "\n",
    "PS2 с 2000 по 2010 (10 лет)\n",
    "\n",
    "PS с 1994 по 2002 (8 лет)\n",
    "\n",
    "Wii с 2006 по 2013 (7 лет)\n"
   ]
  },
  {
   "cell_type": "markdown",
   "metadata": {},
   "source": [
    "Также, проанализировав графики, можно увидеть, что основной период развития игр - 2005 - 2016 год.\n",
    "За актуальный период возьмем 2014-2016 год для дальнейших расчетов."
   ]
  },
  {
   "cell_type": "code",
   "execution_count": 20,
   "metadata": {},
   "outputs": [],
   "source": [
    "data = data[data['year_of_release']>=2014]"
   ]
  },
  {
   "cell_type": "markdown",
   "metadata": {},
   "source": [
    "### Посмотрим, какие платформы лидируют по продажам, растут или падают? Выберем несколько потенциально прибыльных платформ."
   ]
  },
  {
   "cell_type": "code",
   "execution_count": 21,
   "metadata": {},
   "outputs": [],
   "source": [
    "data_platform_total = data.pivot_table(index = ['platform', 'year_of_release'], values = 'total_sales', aggfunc = 'sum')"
   ]
  },
  {
   "cell_type": "code",
   "execution_count": 22,
   "metadata": {},
   "outputs": [
    {
     "data": {
      "text/plain": [
       "<AxesSubplot:xlabel='platform,year_of_release'>"
      ]
     },
     "execution_count": 22,
     "metadata": {},
     "output_type": "execute_result"
    },
    {
     "data": {
      "image/png": "[encoded data removed]",
      "text/plain": [
       "<Figure size 1800x1080 with 1 Axes>"
      ]
     },
     "metadata": {
      "needs_background": "light"
     },
     "output_type": "display_data"
    }
   ],
   "source": [
    "data_platform_total.plot(kind = 'bar', figsize=(25,15))"
   ]
  },
  {
   "cell_type": "markdown",
   "metadata": {},
   "source": [
    "Исходя из общего графика можно сделать вывод, что продажи у всех платформ падают.\n",
    "Самыми прибыльными остаются :\n",
    "\n",
    "1) PS4\n",
    "\n",
    "2) XOne\n",
    "\n",
    "3) 3DS"
   ]
  },
  {
   "cell_type": "markdown",
   "metadata": {},
   "source": [
    "### Построим график «ящик с усами» по глобальным продажам игр в разбивке по платформам."
   ]
  },
  {
   "cell_type": "code",
   "execution_count": 23,
   "metadata": {},
   "outputs": [
    {
     "data": {
      "text/plain": [
       "Text(0, 0.5, 'Глобальные продажи')"
      ]
     },
     "execution_count": 23,
     "metadata": {},
     "output_type": "execute_result"
    },
    {
     "data": {
      "image/png": "[encoded data removed]",
      "text/plain": [
       "<Figure size 1440x720 with 1 Axes>"
      ]
     },
     "metadata": {
      "needs_background": "light"
     },
     "output_type": "display_data"
    }
   ],
   "source": [
    "#Cтроим ящик с усами\n",
    "plt.figure(figsize=(20,10))\n",
    "plt.ylim(0,3)\n",
    "sns.boxplot(data=data, x='platform', y='total_sales')\n",
    "plt.title('Ящик с усами')\n",
    "plt.xlabel('Платформа')\n",
    "plt.ylabel('Глобальные продажи')\n"
   ]
  },
  {
   "cell_type": "code",
   "execution_count": 24,
   "metadata": {},
   "outputs": [
    {
     "data": {
      "text/plain": [
       "Text(0, 0.5, 'Глобальные продажи')"
      ]
     },
     "execution_count": 24,
     "metadata": {},
     "output_type": "execute_result"
    },
    {
     "data": {
      "image/png": "[encoded data removed]",
      "text/plain": [
       "<Figure size 1440x720 with 1 Axes>"
      ]
     },
     "metadata": {
      "needs_background": "light"
     },
     "output_type": "display_data"
    }
   ],
   "source": [
    "# рассмотрим поближе\n",
    "plt.figure(figsize=(20,10))\n",
    "plt.ylim(0,1)\n",
    "sns.boxplot(data=data, x='platform', y='total_sales')\n",
    "plt.title('Ящик с усами')\n",
    "plt.xlabel('Платформа')\n",
    "plt.ylabel('Глобальные продажи')"
   ]
  },
  {
   "cell_type": "markdown",
   "metadata": {},
   "source": [
    "Вывод:\n",
    "\n",
    "Наибольшие продажи у платформ X360, PS4, XOne, WiiU, Wii (их медиана больше остальных и примерно равны между собой).\n",
    "\n",
    "Почти у всех платформ есть много выбросов.\n",
    "\n",
    "У платформ PSP, PSV очень мало продаж."
   ]
  },
  {
   "cell_type": "markdown",
   "metadata": {},
   "source": [
    "### Посмотрим, как влияют на продажи внутри одной популярной платформы отзывы пользователей и критиков. Построим диаграмму рассеяния и посчитаем корреляцию между отзывами и продажами. "
   ]
  },
  {
   "cell_type": "code",
   "execution_count": 25,
   "metadata": {},
   "outputs": [
    {
     "data": {
      "image/png": "[encoded data removed]",
      "text/plain": [
       "<Figure size 540x540 with 12 Axes>"
      ]
     },
     "metadata": {
      "needs_background": "light"
     },
     "output_type": "display_data"
    }
   ],
   "source": [
    "# Будем смотреть на примере X360\n",
    "sns.pairplot(data[data.platform == \"X360\"][['total_sales', 'critic_score', 'user_score']])\n",
    "plt.show()"
   ]
  },
  {
   "cell_type": "code",
   "execution_count": 26,
   "metadata": {},
   "outputs": [
    {
     "data": {
      "text/html": [
       "<div>\n",
       "<style scoped>\n",
       "    .dataframe tbody tr th:only-of-type {\n",
       "        vertical-align: middle;\n",
       "    }\n",
       "\n",
       "    .dataframe tbody tr th {\n",
       "        vertical-align: top;\n",
       "    }\n",
       "\n",
       "    .dataframe thead th {\n",
       "        text-align: right;\n",
       "    }\n",
       "</style>\n",
       "<table border=\"1\" class=\"dataframe\">\n",
       "  <thead>\n",
       "    <tr style=\"text-align: right;\">\n",
       "      <th></th>\n",
       "      <th>total_sales</th>\n",
       "      <th>critic_score</th>\n",
       "      <th>user_score</th>\n",
       "    </tr>\n",
       "  </thead>\n",
       "  <tbody>\n",
       "    <tr>\n",
       "      <th>total_sales</th>\n",
       "      <td>1.000000</td>\n",
       "      <td>0.525723</td>\n",
       "      <td>-0.138445</td>\n",
       "    </tr>\n",
       "    <tr>\n",
       "      <th>critic_score</th>\n",
       "      <td>0.525723</td>\n",
       "      <td>1.000000</td>\n",
       "      <td>0.625309</td>\n",
       "    </tr>\n",
       "    <tr>\n",
       "      <th>user_score</th>\n",
       "      <td>-0.138445</td>\n",
       "      <td>0.625309</td>\n",
       "      <td>1.000000</td>\n",
       "    </tr>\n",
       "  </tbody>\n",
       "</table>\n",
       "</div>"
      ],
      "text/plain": [
       "              total_sales  critic_score  user_score\n",
       "total_sales      1.000000      0.525723   -0.138445\n",
       "critic_score     0.525723      1.000000    0.625309\n",
       "user_score      -0.138445      0.625309    1.000000"
      ]
     },
     "execution_count": 26,
     "metadata": {},
     "output_type": "execute_result"
    }
   ],
   "source": [
    "#Считаем корреляцию\n",
    "data[data.platform == \"X360\"][['total_sales', 'critic_score', 'user_score']].corr()\n"
   ]
  },
  {
   "cell_type": "markdown",
   "metadata": {},
   "source": [
    "Вывод:\n",
    "\n",
    "Из графика и матрицы мы можем увидеть, что корреляция между продажами и оценкой критиков больше 0.5, корреляция высокая. \n",
    "\n",
    "Оценки пользователей сильно не влияют на общие продажи.\n",
    "\n",
    "Также можно заметить, что есть зависимость между оценками пользоватей и оценками критиков. "
   ]
  },
  {
   "cell_type": "markdown",
   "metadata": {},
   "source": [
    "### Соотнесем выводы с продажами игр на других платформах."
   ]
  },
  {
   "cell_type": "code",
   "execution_count": 27,
   "metadata": {},
   "outputs": [],
   "source": [
    "def corr (platform, title):\n",
    "    print()\n",
    "    print(platform)\n",
    "    sns.pairplot(data[data.platform == platform][['total_sales', 'critic_score', 'user_score']])\n",
    "    plt.title(title)\n",
    "    plt.show()\n",
    "    \n",
    "    print(data[data.platform == platform][['total_sales', 'critic_score', 'user_score']].corr())"
   ]
  },
  {
   "cell_type": "code",
   "execution_count": 28,
   "metadata": {},
   "outputs": [
    {
     "name": "stdout",
     "output_type": "stream",
     "text": [
      "\n",
      "PS4\n"
     ]
    },
    {
     "data": {
      "image/png": "[encoded data removed]",
      "text/plain": [
       "<Figure size 540x540 with 12 Axes>"
      ]
     },
     "metadata": {
      "needs_background": "light"
     },
     "output_type": "display_data"
    },
    {
     "name": "stdout",
     "output_type": "stream",
     "text": [
      "              total_sales  critic_score  user_score\n",
      "total_sales      1.000000      0.402661   -0.040132\n",
      "critic_score     0.402661      1.000000    0.546434\n",
      "user_score      -0.040132      0.546434    1.000000\n",
      "\n",
      "3DS\n"
     ]
    },
    {
     "data": {
      "image/png": "[encoded data removed]",
      "text/plain": [
       "<Figure size 540x540 with 12 Axes>"
      ]
     },
     "metadata": {
      "needs_background": "light"
     },
     "output_type": "display_data"
    },
    {
     "name": "stdout",
     "output_type": "stream",
     "text": [
      "              total_sales  critic_score  user_score\n",
      "total_sales      1.000000      0.314117    0.215193\n",
      "critic_score     0.314117      1.000000    0.862485\n",
      "user_score       0.215193      0.862485    1.000000\n",
      "\n",
      "XOne\n"
     ]
    },
    {
     "data": {
      "image/png": "[encoded data removed]",
      "text/plain": [
       "<Figure size 540x540 with 12 Axes>"
      ]
     },
     "metadata": {
      "needs_background": "light"
     },
     "output_type": "display_data"
    },
    {
     "name": "stdout",
     "output_type": "stream",
     "text": [
      "              total_sales  critic_score  user_score\n",
      "total_sales      1.000000      0.428677   -0.070384\n",
      "critic_score     0.428677      1.000000    0.440977\n",
      "user_score      -0.070384      0.440977    1.000000\n",
      "\n",
      "WiiU\n"
     ]
    },
    {
     "data": {
      "image/png": "[encoded data removed]",
      "text/plain": [
       "<Figure size 540x540 with 12 Axes>"
      ]
     },
     "metadata": {
      "needs_background": "light"
     },
     "output_type": "display_data"
    },
    {
     "name": "stdout",
     "output_type": "stream",
     "text": [
      "              total_sales  critic_score  user_score\n",
      "total_sales      1.000000      0.370201    0.407926\n",
      "critic_score     0.370201      1.000000    0.763536\n",
      "user_score       0.407926      0.763536    1.000000\n",
      "\n",
      "PS3\n"
     ]
    },
    {
     "data": {
      "image/png": "[encoded data removed]",
      "text/plain": [
       "<Figure size 540x540 with 12 Axes>"
      ]
     },
     "metadata": {
      "needs_background": "light"
     },
     "output_type": "display_data"
    },
    {
     "name": "stdout",
     "output_type": "stream",
     "text": [
      "              total_sales  critic_score  user_score\n",
      "total_sales      1.000000      0.446575   -0.166761\n",
      "critic_score     0.446575      1.000000    0.693445\n",
      "user_score      -0.166761      0.693445    1.000000\n",
      "\n",
      "X360\n"
     ]
    },
    {
     "data": {
      "image/png": "[encoded data removed]",
      "text/plain": [
       "<Figure size 540x540 with 12 Axes>"
      ]
     },
     "metadata": {
      "needs_background": "light"
     },
     "output_type": "display_data"
    },
    {
     "name": "stdout",
     "output_type": "stream",
     "text": [
      "              total_sales  critic_score  user_score\n",
      "total_sales      1.000000      0.525723   -0.138445\n",
      "critic_score     0.525723      1.000000    0.625309\n",
      "user_score      -0.138445      0.625309    1.000000\n",
      "\n",
      "PC\n"
     ]
    },
    {
     "data": {
      "image/png": "[encoded data removed]",
      "text/plain": [
       "<Figure size 540x540 with 12 Axes>"
      ]
     },
     "metadata": {
      "needs_background": "light"
     },
     "output_type": "display_data"
    },
    {
     "name": "stdout",
     "output_type": "stream",
     "text": [
      "              total_sales  critic_score  user_score\n",
      "total_sales      1.000000      0.174634   -0.071597\n",
      "critic_score     0.174634      1.000000    0.466099\n",
      "user_score      -0.071597      0.466099    1.000000\n",
      "\n",
      "Wii\n"
     ]
    },
    {
     "data": {
      "image/png": "[encoded data removed]",
      "text/plain": [
       "<Figure size 540x540 with 12 Axes>"
      ]
     },
     "metadata": {
      "needs_background": "light"
     },
     "output_type": "display_data"
    },
    {
     "name": "stdout",
     "output_type": "stream",
     "text": [
      "              total_sales  critic_score  user_score\n",
      "total_sales           1.0           NaN         1.0\n",
      "critic_score          NaN           NaN         NaN\n",
      "user_score            1.0           NaN         1.0\n",
      "\n",
      "PSV\n"
     ]
    },
    {
     "data": {
      "image/png": "[encoded data removed]",
      "text/plain": [
       "<Figure size 540x540 with 12 Axes>"
      ]
     },
     "metadata": {
      "needs_background": "light"
     },
     "output_type": "display_data"
    },
    {
     "name": "stdout",
     "output_type": "stream",
     "text": [
      "              total_sales  critic_score  user_score\n",
      "total_sales      1.000000      0.042665   -0.168455\n",
      "critic_score     0.042665      1.000000    0.524066\n",
      "user_score      -0.168455      0.524066    1.000000\n",
      "\n",
      "PSP\n"
     ]
    },
    {
     "data": {
      "image/png": "[encoded data removed]",
      "text/plain": [
       "<Figure size 540x540 with 12 Axes>"
      ]
     },
     "metadata": {
      "needs_background": "light"
     },
     "output_type": "display_data"
    },
    {
     "name": "stdout",
     "output_type": "stream",
     "text": [
      "              total_sales  critic_score  user_score\n",
      "total_sales           1.0           NaN         NaN\n",
      "critic_score          NaN           NaN         NaN\n",
      "user_score            NaN           NaN         NaN\n"
     ]
    }
   ],
   "source": [
    "list_one = data['platform'].unique()\n",
    "for i in list_one:\n",
    "    corr(i,i)"
   ]
  },
  {
   "cell_type": "markdown",
   "metadata": {},
   "source": [
    "Вывод : \n",
    "\n",
    "Можно заметить, что у всех платформ средняя корреляция между продажами и оценкой критиков  0.4, умеренная.\n",
    "\n",
    "А связь между оценками пользователей и продажами слабая у всех платформ, либо её совсем нет.\n",
    "\n",
    "Это говорит о том, что покупатели прислушиваются больше к критикам, нежели к оценкам других пользователей. "
   ]
  },
  {
   "cell_type": "markdown",
   "metadata": {},
   "source": [
    "### Посмотрим на общее распределение игр по жанрам.\n"
   ]
  },
  {
   "cell_type": "code",
   "execution_count": 29,
   "metadata": {},
   "outputs": [
    {
     "data": {
      "text/plain": [
       "<AxesSubplot:xlabel='genre'>"
      ]
     },
     "execution_count": 29,
     "metadata": {},
     "output_type": "execute_result"
    },
    {
     "data": {
      "image/png": "[encoded data removed]",
      "text/plain": [
       "<Figure size 1800x1080 with 1 Axes>"
      ]
     },
     "metadata": {
      "needs_background": "light"
     },
     "output_type": "display_data"
    }
   ],
   "source": [
    "#создадим сводную таблицу по жанрам и посомтрим топ\n",
    "data_genre_total = data.pivot_table(index = ['genre'], values = 'total_sales', aggfunc = 'mean').sort_values(by ='total_sales', ascending = False)\n",
    "data_genre_total.plot(kind = 'bar', figsize=(25,15))"
   ]
  },
  {
   "cell_type": "markdown",
   "metadata": {},
   "source": [
    "Вывод: \n",
    "\n",
    "По графику видно, что самые прибыльный жанр это Shooter, самый непопулярный жанр Adventure . "
   ]
  },
  {
   "cell_type": "markdown",
   "metadata": {},
   "source": [
    "### Общий вывод "
   ]
  },
  {
   "cell_type": "markdown",
   "metadata": {},
   "source": [
    "Количество игр на игровые приставки и компьютеры начало расти с 1990х годов до 2008 года. В 2008 году произошел резкий спад в производстве игр.\n",
    "\n",
    "Самые популярные игровые платформы за весь период : PS2, X360, PS3, WII, DS, PS\n",
    "\n",
    "Средняя жизнь игровой платформы составляет 10 лет.\n",
    "\n",
    "Наибольшие продажи у платформ X360, PS4, XOne.\n",
    "\n",
    "У всех платформ наблюдается взаимосвязь между продажами и оценками критиков. \n",
    "\n",
    "Самый популярный жанр - Shooter."
   ]
  },
  {
   "cell_type": "markdown",
   "metadata": {},
   "source": [
    "## Составим портрет пользователя каждого региона (Определим для пользователя каждого региона (NA, EU, JP))"
   ]
  },
  {
   "cell_type": "markdown",
   "metadata": {},
   "source": [
    "### Самые популярные платформы (топ-5). "
   ]
  },
  {
   "cell_type": "code",
   "execution_count": 30,
   "metadata": {},
   "outputs": [],
   "source": [
    "# функция для построения графиков по сводным таблицам\n",
    "def regions(groupby, sales, title):\n",
    "    data.groupby(groupby).agg({sales: 'sum'}).sort_values(by=sales, ascending=False)[:5].plot(kind='bar', figsize = (10,5), title = title)\n",
    "    "
   ]
  },
  {
   "cell_type": "code",
   "execution_count": 31,
   "metadata": {},
   "outputs": [
    {
     "data": {
      "image/png": "[encoded data removed]",
      "text/plain": [
       "<Figure size 720x360 with 1 Axes>"
      ]
     },
     "metadata": {
      "needs_background": "light"
     },
     "output_type": "display_data"
    },
    {
     "data": {
      "image/png": "[encoded data removed]",
      "text/plain": [
       "<Figure size 720x360 with 1 Axes>"
      ]
     },
     "metadata": {
      "needs_background": "light"
     },
     "output_type": "display_data"
    },
    {
     "data": {
      "image/png": "[encoded data removed]",
      "text/plain": [
       "<Figure size 720x360 with 1 Axes>"
      ]
     },
     "metadata": {
      "needs_background": "light"
     },
     "output_type": "display_data"
    }
   ],
   "source": [
    "regions('platform', 'na_sales', 'Топ-5 платформ в Северной Америке')\n",
    "regions('platform', 'eu_sales', 'Топ-5 платформ в Европе')\n",
    "regions('platform', 'jp_sales', 'Топ-5 платформ в Японии')"
   ]
  },
  {
   "cell_type": "markdown",
   "metadata": {},
   "source": [
    "Вывод:\n",
    "\n",
    "В Северной Америке самые популярные приставки PS4 и  XOne. На 3 месте X360.\n",
    "\n",
    "В Европе популярны PS4 и XOne. За ними идет PS3.\n",
    "\n",
    "В Японии  на первом месте 3DS. За ним PS4. Далее PSV.\n",
    "\n",
    "Заметим, что платформа PS4 входит в топ-3 во всех регионах."
   ]
  },
  {
   "cell_type": "markdown",
   "metadata": {},
   "source": [
    "### Самые популярные жанры (топ-5). "
   ]
  },
  {
   "cell_type": "code",
   "execution_count": 32,
   "metadata": {},
   "outputs": [
    {
     "data": {
      "image/png": "[encoded data removed]",
      "text/plain": [
       "<Figure size 720x360 with 1 Axes>"
      ]
     },
     "metadata": {
      "needs_background": "light"
     },
     "output_type": "display_data"
    },
    {
     "data": {
      "image/png": "[encoded data removed]",
      "text/plain": [
       "<Figure size 720x360 with 1 Axes>"
      ]
     },
     "metadata": {
      "needs_background": "light"
     },
     "output_type": "display_data"
    },
    {
     "data": {
      "image/png": "[encoded data removed]",
      "text/plain": [
       "<Figure size 720x360 with 1 Axes>"
      ]
     },
     "metadata": {
      "needs_background": "light"
     },
     "output_type": "display_data"
    }
   ],
   "source": [
    "regions('genre', 'na_sales', 'Топ-5 жанров в Северной Америке')\n",
    "regions('genre', 'eu_sales', 'Топ-5 жанров в Европе')\n",
    "regions('genre', 'jp_sales', 'Топ-5 жанров в Японии')"
   ]
  },
  {
   "cell_type": "markdown",
   "metadata": {},
   "source": [
    "Вывод:\n",
    "\n",
    "В Северной Америке и Европе наиболее популярны игры жанра Action, Shooter, Sports.\n",
    "\n",
    "В Японии  Action на втором месте по популярности, на первом Role-Plaing."
   ]
  },
  {
   "cell_type": "markdown",
   "metadata": {},
   "source": [
    "### Влияет ли рейтинг ESRB на продажи в отдельном регионе?"
   ]
  },
  {
   "cell_type": "code",
   "execution_count": 33,
   "metadata": {},
   "outputs": [
    {
     "data": {
      "image/png": "[encoded data removed]",
      "text/plain": [
       "<Figure size 720x360 with 1 Axes>"
      ]
     },
     "metadata": {
      "needs_background": "light"
     },
     "output_type": "display_data"
    },
    {
     "data": {
      "image/png": "[encoded data removed]",
      "text/plain": [
       "<Figure size 720x360 with 1 Axes>"
      ]
     },
     "metadata": {
      "needs_background": "light"
     },
     "output_type": "display_data"
    },
    {
     "data": {
      "image/png": "[encoded data removed]",
      "text/plain": [
       "<Figure size 720x360 with 1 Axes>"
      ]
     },
     "metadata": {
      "needs_background": "light"
     },
     "output_type": "display_data"
    }
   ],
   "source": [
    "regions('rating', 'na_sales', 'Рейтинг в Северной Америке')\n",
    "regions('rating', 'eu_sales', 'Рейтинг в Европе')\n",
    "regions('rating', 'jp_sales', 'Рейтинг в Японии')"
   ]
  },
  {
   "cell_type": "markdown",
   "metadata": {},
   "source": [
    "Вывод:\n",
    "\n",
    "В Европе и Америке игры с рейтингом E - \"для всех\" имеют больше всего продаж, далее идут игры без рейтинга.\n",
    "\n",
    "В Японии на первом месте по продажам игры без рейтинга, а на втором игры с рейтингом T - «подросткам»."
   ]
  },
  {
   "cell_type": "markdown",
   "metadata": {},
   "source": [
    "### Общий вывод"
   ]
  },
  {
   "cell_type": "markdown",
   "metadata": {},
   "source": [
    "Портеры пользователей:\n",
    "\n",
    "Пользователи в Cеверной Америке пользуются Xone, PS4, X360.\n",
    "\n",
    "Самый популярный жанр в северной америке : shooter\n",
    "\n",
    "По графику видно, что больше всего продаж у игр с рейтингом  E - \"для всех\".\n",
    "\n",
    "----------------------\n",
    "\n",
    "Пользователи в Европе пользуются PS4, PS3, Xone.\n",
    "\n",
    "Самый популярный жанр в Европе : action\n",
    "\n",
    "По графику видно, что больше всего продаж у игр с рейтингом E -\"для всех\".\n",
    "\n",
    "---------------------\n",
    "\n",
    "Пользователи в Японии пользуются 3DS, PS4, PSV.\n",
    "\n",
    "Самый популярный жанр в Японии : Role-Playing\n",
    "\n",
    "По графику видно, что больше всего продаж у игр без рейтинга.\n",
    "\n"
   ]
  },
  {
   "cell_type": "markdown",
   "metadata": {},
   "source": [
    "## Проверка гипотез"
   ]
  },
  {
   "cell_type": "markdown",
   "metadata": {},
   "source": [
    "### Гипотеза 1. Средние пользовательские рейтинги платформ Xbox One и PC одинаковые"
   ]
  },
  {
   "cell_type": "markdown",
   "metadata": {},
   "source": [
    "1 Гипотеза. \n",
    "\n",
    "H0 = Средние пользовательские рейтинги платформ Xbox One и PC одинаковые\n",
    "\n",
    "H1 = Средние пользовательские рейтинги платформ Xbox One и PC  различаются.\n",
    "\n",
    "Будем использовать метод для проверки гипотезы о равенстве среднего двух генеральных совокупностей по взятым из них выборкам.(ttest Стьюдента)\n"
   ]
  },
  {
   "cell_type": "code",
   "execution_count": 34,
   "metadata": {},
   "outputs": [
    {
     "name": "stdout",
     "output_type": "stream",
     "text": [
      "Cредние пользовательские рейтинги платформы Xbox One : 6.620529801324504\n",
      "Cредние пользовательские рейтинги платформы PC : 6.3417391304347825\n"
     ]
    }
   ],
   "source": [
    "# посчитаем средние пользовательские рейтинги платформы Xbox One \n",
    "xone = data.query('platform == \"XOne\"').dropna()\n",
    "mean_xone = xone['user_score'].mean()\n",
    "print('Cредние пользовательские рейтинги платформы Xbox One :',mean_xone)\n",
    "# посчитаем средние пользовательские рейтинги платформы PC \n",
    "pc = data.query('platform == \"PC\"').dropna()\n",
    "mean_pc = pc['user_score'].mean()\n",
    "print('Cредние пользовательские рейтинги платформы PC :', mean_pc)"
   ]
  },
  {
   "cell_type": "code",
   "execution_count": 35,
   "metadata": {},
   "outputs": [
    {
     "name": "stdout",
     "output_type": "stream",
     "text": [
      "p-значение: 0.1403785186826978\n",
      "Не получилось отвергнуть гипотезу\n"
     ]
    }
   ],
   "source": [
    "alpha = 0.05\n",
    "result_one = st.ttest_ind (xone['user_score'], pc['user_score'], equal_var = False)\n",
    "print('p-значение:',result_one.pvalue)\n",
    "if result_one.pvalue < alpha:\n",
    "    print('Отвергаем нулевую гипотезу')\n",
    "else:\n",
    "    print('Не получилось отвергнуть гипотезу')"
   ]
  },
  {
   "cell_type": "markdown",
   "metadata": {},
   "source": [
    "Вывод :\n",
    "\n",
    "Значение р-value 0,14. Не получилось отвергнуть гипотезу.\n",
    "\n",
    "Значит средняя оценка пользователей платформы XBox One не сильно отличается или не отличается от средней оценки пользователей платформы PC.\n"
   ]
  },
  {
   "cell_type": "markdown",
   "metadata": {},
   "source": [
    "###  Гипотеза 2. Средние пользовательские рейтинги жанров Action и Sports разные."
   ]
  },
  {
   "cell_type": "markdown",
   "metadata": {},
   "source": [
    "2 Гипотеза.\n",
    "\n",
    "Ho = средние оценки пользователей жанров Action и Sports равны;\n",
    "\n",
    "H1 = средние оценки отличаются."
   ]
  },
  {
   "cell_type": "code",
   "execution_count": 36,
   "metadata": {},
   "outputs": [
    {
     "name": "stdout",
     "output_type": "stream",
     "text": [
      "Cредние пользовательские рейтинги жанра Action  : 6.832599118942731\n",
      "Cредние пользовательские рейтинги жанра Sports  : 5.68433734939759\n"
     ]
    }
   ],
   "source": [
    "# посчитаем средние пользовательские рейтинги жанра Action  \n",
    "action = data.query('genre == \"Action\"').dropna()\n",
    "mean_action = action['user_score'].mean()\n",
    "print('Cредние пользовательские рейтинги жанра Action  :', mean_action)\n",
    "# посчитаем средние пользовательские рейтинги жанра Sports \n",
    "sports = data.query('genre == \"Sports\"').dropna()\n",
    "mean_sports = sports['user_score'].mean()\n",
    "print('Cредние пользовательские рейтинги жанра Sports  :', mean_sports)"
   ]
  },
  {
   "cell_type": "code",
   "execution_count": 37,
   "metadata": {},
   "outputs": [
    {
     "name": "stdout",
     "output_type": "stream",
     "text": [
      "p-значение: 8.327612976032047e-09\n",
      "Отвергаем нулевую гипотезу\n"
     ]
    }
   ],
   "source": [
    "alpha = 0.05\n",
    "result_one = st.ttest_ind (action['user_score'], sports['user_score'], equal_var = False)\n",
    "print('p-значение:',result_one.pvalue)\n",
    "if result_one.pvalue < alpha:\n",
    "    print('Отвергаем нулевую гипотезу')\n",
    "else:\n",
    "    print('Не получилось отвергнуть гипотезу')"
   ]
  },
  {
   "cell_type": "markdown",
   "metadata": {},
   "source": [
    "Вывод :\n",
    "\n",
    "Значение р-value очень мало. Отвергаем нулевую гипотезу.\n",
    "\n",
    "Значит cредние пользовательские рейтинги жанров Action и Sports разные.\n",
    "\n",
    "Из расчета средних, можно сказать, что игры жанра Action получают оценки выше, чем игры жанра Sports.\n"
   ]
  },
  {
   "cell_type": "markdown",
   "metadata": {},
   "source": [
    "## Общий вывод"
   ]
  },
  {
   "cell_type": "markdown",
   "metadata": {},
   "source": [
    "Количество игр на игровые приставки и компьютеры начало расти с 1990х годов до 2008 года. \n",
    "\n",
    "В 2008 году произошел резкий спад в производстве игр.\n",
    "\n",
    "Самые популярные игровые платформы за весь период : PS2, X360, PS3, WII, DS, PS \n",
    "\n",
    "Средняя жизнь игровой платформы составляет 10 лет.\n",
    "\n",
    "Наибольшие продажи у платформ X360, PS4, XOne, WiiU, Wii. \n",
    "\n",
    "Оценки критиков влияют на общие продажи, оценки пользователей не влияют.\n",
    "\n",
    "Самый прибыльный жанр - Shooter.\n",
    "\n",
    "---------\n",
    "В Cеверной Америке самая популярная платформа PS4.\n",
    "\n",
    "Европейцы предпочитают PS4. \n",
    "\n",
    "В Японии популярны 3DS.\n",
    "\n",
    "В NA и EU самые популярные жанры практически совпадают - action, shooter. \n",
    "\n",
    "В JP вкусы сильно отличаются - Role-Playing\n",
    "\n",
    "Во Америке и Европе лидируют игры с рейтингом E - \"для всех\". В японии игры без рейтинга.\n",
    "\n",
    "-------\n",
    "Cредняя оценка пользователей платформы XBox One не сильно отличается от средней оценки пользователей платформы PC.\n",
    "\n",
    "Cредние пользовательские рейтинги жанров Action и Sports разные.\n",
    "\n"
   ]
  }
 ],
 "metadata": {
  "ExecuteTimeLog": [
   {
    "duration": 1473,
    "start_time": "2022-03-29T10:05:01.329Z"
   },
   {
    "duration": 21,
    "start_time": "2022-03-29T10:05:13.128Z"
   },
   {
    "duration": 17,
    "start_time": "2022-03-29T10:05:51.812Z"
   },
   {
    "duration": 19,
    "start_time": "2022-03-29T10:07:00.329Z"
   },
   {
    "duration": 105,
    "start_time": "2022-03-29T10:21:34.128Z"
   },
   {
    "duration": 17,
    "start_time": "2022-03-29T10:22:14.449Z"
   },
   {
    "duration": 17,
    "start_time": "2022-03-29T10:22:54.409Z"
   },
   {
    "duration": 19,
    "start_time": "2022-03-29T10:23:19.128Z"
   },
   {
    "duration": 3,
    "start_time": "2022-03-29T10:26:40.969Z"
   },
   {
    "duration": 5,
    "start_time": "2022-03-29T10:26:47.530Z"
   },
   {
    "duration": 16,
    "start_time": "2022-03-29T10:28:54.012Z"
   },
   {
    "duration": 13,
    "start_time": "2022-03-29T10:29:35.808Z"
   },
   {
    "duration": 14,
    "start_time": "2022-03-29T10:30:32.968Z"
   },
   {
    "duration": 14,
    "start_time": "2022-03-29T10:30:39.848Z"
   },
   {
    "duration": 5,
    "start_time": "2022-03-29T10:32:06.329Z"
   },
   {
    "duration": 5,
    "start_time": "2022-03-29T10:32:23.218Z"
   },
   {
    "duration": 6,
    "start_time": "2022-03-29T10:35:45.450Z"
   },
   {
    "duration": 8,
    "start_time": "2022-03-29T10:35:58.961Z"
   },
   {
    "duration": 12,
    "start_time": "2022-03-29T10:36:31.249Z"
   },
   {
    "duration": 7,
    "start_time": "2022-03-29T10:36:52.849Z"
   },
   {
    "duration": 147,
    "start_time": "2022-03-29T10:37:37.217Z"
   },
   {
    "duration": 13,
    "start_time": "2022-03-29T10:37:46.129Z"
   },
   {
    "duration": 5,
    "start_time": "2022-03-29T10:37:53.770Z"
   },
   {
    "duration": 8,
    "start_time": "2022-03-29T10:38:40.377Z"
   },
   {
    "duration": 10,
    "start_time": "2022-03-29T10:38:55.810Z"
   },
   {
    "duration": 16,
    "start_time": "2022-03-29T10:39:15.371Z"
   },
   {
    "duration": 9,
    "start_time": "2022-03-29T10:42:37.328Z"
   },
   {
    "duration": 23,
    "start_time": "2022-03-29T10:42:44.929Z"
   },
   {
    "duration": 66,
    "start_time": "2022-03-29T12:14:00.256Z"
   },
   {
    "duration": 1705,
    "start_time": "2022-03-29T12:14:02.819Z"
   },
   {
    "duration": 32,
    "start_time": "2022-03-29T12:14:04.527Z"
   },
   {
    "duration": 38,
    "start_time": "2022-03-29T12:14:04.561Z"
   },
   {
    "duration": 6,
    "start_time": "2022-03-29T12:14:04.602Z"
   },
   {
    "duration": 16,
    "start_time": "2022-03-29T12:14:04.610Z"
   },
   {
    "duration": 26,
    "start_time": "2022-03-29T12:14:04.628Z"
   },
   {
    "duration": 57,
    "start_time": "2022-03-29T12:14:04.656Z"
   },
   {
    "duration": 99,
    "start_time": "2022-03-29T12:14:04.715Z"
   },
   {
    "duration": 261,
    "start_time": "2022-03-29T12:14:13.857Z"
   },
   {
    "duration": 184,
    "start_time": "2022-03-29T12:14:39.496Z"
   },
   {
    "duration": 255,
    "start_time": "2022-03-29T12:14:52.096Z"
   },
   {
    "duration": 361,
    "start_time": "2022-03-29T12:15:44.138Z"
   },
   {
    "duration": 276,
    "start_time": "2022-03-29T12:16:42.257Z"
   },
   {
    "duration": 160,
    "start_time": "2022-03-29T12:17:12.563Z"
   },
   {
    "duration": 262,
    "start_time": "2022-03-29T12:17:19.083Z"
   },
   {
    "duration": 345,
    "start_time": "2022-03-29T12:31:16.644Z"
   },
   {
    "duration": 243,
    "start_time": "2022-03-29T12:31:27.763Z"
   },
   {
    "duration": 141,
    "start_time": "2022-03-29T12:31:49.163Z"
   },
   {
    "duration": 303,
    "start_time": "2022-03-29T12:31:54.105Z"
   },
   {
    "duration": 33,
    "start_time": "2022-03-29T12:34:28.522Z"
   },
   {
    "duration": 209,
    "start_time": "2022-03-29T12:34:46.242Z"
   },
   {
    "duration": 206,
    "start_time": "2022-03-29T12:35:37.606Z"
   },
   {
    "duration": 34,
    "start_time": "2022-03-29T12:36:53.601Z"
   },
   {
    "duration": 454,
    "start_time": "2022-03-29T12:38:01.531Z"
   },
   {
    "duration": 451,
    "start_time": "2022-03-29T12:38:17.802Z"
   },
   {
    "duration": 15,
    "start_time": "2022-03-29T12:38:44.215Z"
   },
   {
    "duration": 218,
    "start_time": "2022-03-29T12:38:53.641Z"
   },
   {
    "duration": 246,
    "start_time": "2022-03-29T12:39:15.362Z"
   },
   {
    "duration": 2472,
    "start_time": "2022-03-29T12:39:38.601Z"
   },
   {
    "duration": 17,
    "start_time": "2022-03-29T12:39:46.329Z"
   },
   {
    "duration": 219,
    "start_time": "2022-03-29T13:45:47.997Z"
   },
   {
    "duration": 2445,
    "start_time": "2022-03-29T13:46:05.318Z"
   },
   {
    "duration": 0,
    "start_time": "2022-03-29T13:46:37.508Z"
   },
   {
    "duration": 0,
    "start_time": "2022-03-29T13:46:37.510Z"
   },
   {
    "duration": 0,
    "start_time": "2022-03-29T13:46:37.511Z"
   },
   {
    "duration": 0,
    "start_time": "2022-03-29T13:46:37.512Z"
   },
   {
    "duration": 0,
    "start_time": "2022-03-29T13:46:37.514Z"
   },
   {
    "duration": 0,
    "start_time": "2022-03-29T13:46:37.515Z"
   },
   {
    "duration": 0,
    "start_time": "2022-03-29T13:46:37.516Z"
   },
   {
    "duration": 0,
    "start_time": "2022-03-29T13:46:37.518Z"
   },
   {
    "duration": 0,
    "start_time": "2022-03-29T13:46:37.520Z"
   },
   {
    "duration": 49,
    "start_time": "2022-03-29T13:47:00.371Z"
   },
   {
    "duration": 25,
    "start_time": "2022-03-29T13:47:00.423Z"
   },
   {
    "duration": 43,
    "start_time": "2022-03-29T13:47:00.450Z"
   },
   {
    "duration": 7,
    "start_time": "2022-03-29T13:47:00.495Z"
   },
   {
    "duration": 26,
    "start_time": "2022-03-29T13:47:00.505Z"
   },
   {
    "duration": 28,
    "start_time": "2022-03-29T13:47:00.534Z"
   },
   {
    "duration": 41,
    "start_time": "2022-03-29T13:47:00.564Z"
   },
   {
    "duration": 327,
    "start_time": "2022-03-29T13:47:00.607Z"
   },
   {
    "duration": 2701,
    "start_time": "2022-03-29T13:47:00.937Z"
   },
   {
    "duration": 514,
    "start_time": "2022-03-29T13:48:02.907Z"
   },
   {
    "duration": 194,
    "start_time": "2022-03-29T13:48:16.115Z"
   },
   {
    "duration": 436,
    "start_time": "2022-03-29T13:48:57.154Z"
   },
   {
    "duration": 24,
    "start_time": "2022-03-29T13:53:00.475Z"
   },
   {
    "duration": 23,
    "start_time": "2022-03-29T13:53:32.440Z"
   },
   {
    "duration": 94,
    "start_time": "2022-03-29T13:55:29.047Z"
   },
   {
    "duration": 2253,
    "start_time": "2022-03-29T13:55:55.544Z"
   },
   {
    "duration": 23,
    "start_time": "2022-03-29T13:56:20.995Z"
   },
   {
    "duration": 94,
    "start_time": "2022-03-29T13:57:21.154Z"
   },
   {
    "duration": 27,
    "start_time": "2022-03-29T13:57:41.275Z"
   },
   {
    "duration": 256,
    "start_time": "2022-03-29T13:57:53.675Z"
   },
   {
    "duration": 2762,
    "start_time": "2022-03-29T13:59:18.994Z"
   },
   {
    "duration": 2710,
    "start_time": "2022-03-29T13:59:57.154Z"
   },
   {
    "duration": 13,
    "start_time": "2022-03-29T14:00:07.715Z"
   },
   {
    "duration": 2367,
    "start_time": "2022-03-29T14:00:23.075Z"
   },
   {
    "duration": 2291,
    "start_time": "2022-03-29T14:00:28.098Z"
   },
   {
    "duration": 2457,
    "start_time": "2022-03-29T14:00:33.515Z"
   },
   {
    "duration": 7,
    "start_time": "2022-03-29T14:00:57.835Z"
   },
   {
    "duration": 2324,
    "start_time": "2022-03-29T14:01:18.955Z"
   },
   {
    "duration": 129,
    "start_time": "2022-03-29T14:09:03.859Z"
   },
   {
    "duration": 2021,
    "start_time": "2022-03-29T14:09:06.946Z"
   },
   {
    "duration": 48,
    "start_time": "2022-03-29T14:09:08.970Z"
   },
   {
    "duration": 53,
    "start_time": "2022-03-29T14:09:09.021Z"
   },
   {
    "duration": 7,
    "start_time": "2022-03-29T14:09:09.076Z"
   },
   {
    "duration": 13,
    "start_time": "2022-03-29T14:09:09.086Z"
   },
   {
    "duration": 14,
    "start_time": "2022-03-29T14:09:09.101Z"
   },
   {
    "duration": 73,
    "start_time": "2022-03-29T14:09:09.118Z"
   },
   {
    "duration": 343,
    "start_time": "2022-03-29T14:09:09.193Z"
   },
   {
    "duration": 599,
    "start_time": "2022-03-29T14:09:09.539Z"
   },
   {
    "duration": 94,
    "start_time": "2022-03-29T14:12:37.861Z"
   },
   {
    "duration": 17,
    "start_time": "2022-03-29T14:12:45.342Z"
   },
   {
    "duration": 16,
    "start_time": "2022-03-29T14:13:11.503Z"
   },
   {
    "duration": 51,
    "start_time": "2022-03-29T14:15:52.304Z"
   },
   {
    "duration": 49,
    "start_time": "2022-03-29T14:17:08.704Z"
   },
   {
    "duration": 41,
    "start_time": "2022-03-29T14:18:18.866Z"
   },
   {
    "duration": 5,
    "start_time": "2022-03-29T14:44:23.847Z"
   },
   {
    "duration": 16,
    "start_time": "2022-03-29T14:52:48.326Z"
   },
   {
    "duration": 29,
    "start_time": "2022-03-29T14:53:00.567Z"
   },
   {
    "duration": 27,
    "start_time": "2022-03-29T14:53:51.727Z"
   },
   {
    "duration": 31,
    "start_time": "2022-03-29T14:54:07.766Z"
   },
   {
    "duration": 102,
    "start_time": "2022-03-29T14:56:04.232Z"
   },
   {
    "duration": 91,
    "start_time": "2022-03-29T14:56:14.847Z"
   },
   {
    "duration": 84,
    "start_time": "2022-03-29T14:56:19.367Z"
   },
   {
    "duration": 112,
    "start_time": "2022-03-29T14:56:27.246Z"
   },
   {
    "duration": 18,
    "start_time": "2022-03-29T14:56:50.409Z"
   },
   {
    "duration": 34,
    "start_time": "2022-03-29T14:56:58.047Z"
   },
   {
    "duration": 240,
    "start_time": "2022-03-29T14:57:12.606Z"
   },
   {
    "duration": 213,
    "start_time": "2022-03-29T14:57:27.286Z"
   },
   {
    "duration": 30,
    "start_time": "2022-03-29T14:57:48.367Z"
   },
   {
    "duration": 1462,
    "start_time": "2022-03-29T14:57:56.085Z"
   },
   {
    "duration": 1548,
    "start_time": "2022-03-29T14:58:23.686Z"
   },
   {
    "duration": 1440,
    "start_time": "2022-03-29T14:58:39.688Z"
   },
   {
    "duration": 1485,
    "start_time": "2022-03-29T14:58:45.647Z"
   },
   {
    "duration": 18,
    "start_time": "2022-03-29T15:00:18.926Z"
   },
   {
    "duration": 44,
    "start_time": "2022-03-29T15:00:47.566Z"
   },
   {
    "duration": 14,
    "start_time": "2022-03-29T15:00:57.807Z"
   },
   {
    "duration": 91,
    "start_time": "2022-03-29T15:01:20.261Z"
   },
   {
    "duration": 373,
    "start_time": "2022-03-29T15:01:26.446Z"
   },
   {
    "duration": 17,
    "start_time": "2022-03-29T15:01:57.885Z"
   },
   {
    "duration": 7,
    "start_time": "2022-03-30T09:06:35.374Z"
   },
   {
    "duration": 1353,
    "start_time": "2022-03-30T09:06:38.434Z"
   },
   {
    "duration": 20,
    "start_time": "2022-03-30T09:06:39.789Z"
   },
   {
    "duration": 27,
    "start_time": "2022-03-30T09:06:39.811Z"
   },
   {
    "duration": 10,
    "start_time": "2022-03-30T09:06:39.840Z"
   },
   {
    "duration": 20,
    "start_time": "2022-03-30T09:06:39.852Z"
   },
   {
    "duration": 15,
    "start_time": "2022-03-30T09:06:39.873Z"
   },
   {
    "duration": 37,
    "start_time": "2022-03-30T09:06:39.890Z"
   },
   {
    "duration": 169,
    "start_time": "2022-03-30T09:06:39.929Z"
   },
   {
    "duration": 258,
    "start_time": "2022-03-30T09:06:40.100Z"
   },
   {
    "duration": 24,
    "start_time": "2022-03-30T09:06:40.362Z"
   },
   {
    "duration": 10,
    "start_time": "2022-03-30T09:06:40.387Z"
   },
   {
    "duration": 204,
    "start_time": "2022-03-30T09:06:40.398Z"
   },
   {
    "duration": 14,
    "start_time": "2022-03-30T09:06:40.604Z"
   },
   {
    "duration": 2446,
    "start_time": "2022-03-30T09:07:57.994Z"
   },
   {
    "duration": 2813,
    "start_time": "2022-03-30T09:08:30.756Z"
   },
   {
    "duration": 8,
    "start_time": "2022-03-30T09:09:24.774Z"
   },
   {
    "duration": 8,
    "start_time": "2022-03-30T09:09:48.795Z"
   },
   {
    "duration": 9,
    "start_time": "2022-03-30T09:10:01.975Z"
   },
   {
    "duration": 8,
    "start_time": "2022-03-30T09:10:05.933Z"
   },
   {
    "duration": 3,
    "start_time": "2022-03-30T09:13:19.634Z"
   },
   {
    "duration": 205,
    "start_time": "2022-03-30T09:13:33.154Z"
   },
   {
    "duration": 3,
    "start_time": "2022-03-30T09:14:07.494Z"
   },
   {
    "duration": 179,
    "start_time": "2022-03-30T09:14:35.414Z"
   },
   {
    "duration": 293,
    "start_time": "2022-03-30T09:15:21.815Z"
   },
   {
    "duration": 153,
    "start_time": "2022-03-30T09:18:43.776Z"
   },
   {
    "duration": 238,
    "start_time": "2022-03-30T09:18:51.057Z"
   },
   {
    "duration": 130,
    "start_time": "2022-03-30T09:19:05.695Z"
   },
   {
    "duration": 15,
    "start_time": "2022-03-30T09:19:22.275Z"
   },
   {
    "duration": 136,
    "start_time": "2022-03-30T09:19:28.697Z"
   },
   {
    "duration": 225,
    "start_time": "2022-03-30T09:19:30.756Z"
   },
   {
    "duration": 143,
    "start_time": "2022-03-30T09:20:21.595Z"
   },
   {
    "duration": 11,
    "start_time": "2022-03-30T09:20:27.716Z"
   },
   {
    "duration": 182,
    "start_time": "2022-03-30T09:20:45.035Z"
   },
   {
    "duration": 849,
    "start_time": "2022-03-30T09:22:48.034Z"
   },
   {
    "duration": 854,
    "start_time": "2022-03-30T09:23:41.014Z"
   },
   {
    "duration": 1196,
    "start_time": "2022-03-30T09:24:03.134Z"
   },
   {
    "duration": 1156,
    "start_time": "2022-03-30T09:25:14.054Z"
   },
   {
    "duration": 2225,
    "start_time": "2022-03-30T09:26:45.411Z"
   },
   {
    "duration": 2292,
    "start_time": "2022-03-30T09:26:55.251Z"
   },
   {
    "duration": 9,
    "start_time": "2022-03-30T09:27:09.690Z"
   },
   {
    "duration": 11,
    "start_time": "2022-03-30T09:27:16.630Z"
   },
   {
    "duration": 6,
    "start_time": "2022-03-30T09:27:50.772Z"
   },
   {
    "duration": 9,
    "start_time": "2022-03-30T09:27:56.951Z"
   },
   {
    "duration": 6,
    "start_time": "2022-03-30T09:27:59.355Z"
   },
   {
    "duration": 4,
    "start_time": "2022-03-30T09:28:07.212Z"
   },
   {
    "duration": 26,
    "start_time": "2022-03-30T09:28:20.359Z"
   },
   {
    "duration": 38,
    "start_time": "2022-03-30T09:28:25.853Z"
   },
   {
    "duration": 17,
    "start_time": "2022-03-30T09:28:25.893Z"
   },
   {
    "duration": 22,
    "start_time": "2022-03-30T09:28:25.911Z"
   },
   {
    "duration": 5,
    "start_time": "2022-03-30T09:28:25.935Z"
   },
   {
    "duration": 16,
    "start_time": "2022-03-30T09:28:25.962Z"
   },
   {
    "duration": 17,
    "start_time": "2022-03-30T09:28:25.980Z"
   },
   {
    "duration": 36,
    "start_time": "2022-03-30T09:28:25.999Z"
   },
   {
    "duration": 171,
    "start_time": "2022-03-30T09:28:26.037Z"
   },
   {
    "duration": 275,
    "start_time": "2022-03-30T09:28:26.210Z"
   },
   {
    "duration": 27,
    "start_time": "2022-03-30T09:28:26.488Z"
   },
   {
    "duration": 5,
    "start_time": "2022-03-30T09:28:26.517Z"
   },
   {
    "duration": 13,
    "start_time": "2022-03-30T09:28:26.524Z"
   },
   {
    "duration": 14,
    "start_time": "2022-03-30T09:28:26.562Z"
   },
   {
    "duration": 3,
    "start_time": "2022-03-30T09:28:26.579Z"
   },
   {
    "duration": 1304,
    "start_time": "2022-03-30T09:28:26.584Z"
   },
   {
    "duration": 34,
    "start_time": "2022-03-30T09:28:42.892Z"
   },
   {
    "duration": 17,
    "start_time": "2022-03-30T09:28:42.929Z"
   },
   {
    "duration": 22,
    "start_time": "2022-03-30T09:28:42.948Z"
   },
   {
    "duration": 15,
    "start_time": "2022-03-30T09:28:42.972Z"
   },
   {
    "duration": 11,
    "start_time": "2022-03-30T09:28:42.990Z"
   },
   {
    "duration": 11,
    "start_time": "2022-03-30T09:28:43.002Z"
   },
   {
    "duration": 26,
    "start_time": "2022-03-30T09:28:43.014Z"
   },
   {
    "duration": 174,
    "start_time": "2022-03-30T09:28:43.041Z"
   },
   {
    "duration": 272,
    "start_time": "2022-03-30T09:28:43.216Z"
   },
   {
    "duration": 40,
    "start_time": "2022-03-30T09:28:43.490Z"
   },
   {
    "duration": 6,
    "start_time": "2022-03-30T09:28:43.532Z"
   },
   {
    "duration": 15,
    "start_time": "2022-03-30T09:28:43.564Z"
   },
   {
    "duration": 15,
    "start_time": "2022-03-30T09:28:43.581Z"
   },
   {
    "duration": 5,
    "start_time": "2022-03-30T09:28:43.598Z"
   },
   {
    "duration": 1171,
    "start_time": "2022-03-30T09:28:43.605Z"
   },
   {
    "duration": 1238,
    "start_time": "2022-03-30T09:29:10.440Z"
   },
   {
    "duration": 7,
    "start_time": "2022-03-30T09:41:04.473Z"
   },
   {
    "duration": 11,
    "start_time": "2022-03-30T09:45:23.840Z"
   },
   {
    "duration": 12,
    "start_time": "2022-03-30T09:45:30.730Z"
   },
   {
    "duration": 119,
    "start_time": "2022-03-30T09:46:19.070Z"
   },
   {
    "duration": 2520,
    "start_time": "2022-03-30T09:47:57.391Z"
   },
   {
    "duration": 1686,
    "start_time": "2022-03-30T09:50:05.290Z"
   },
   {
    "duration": 1694,
    "start_time": "2022-03-30T09:50:21.920Z"
   },
   {
    "duration": 6,
    "start_time": "2022-03-30T09:51:20.111Z"
   },
   {
    "duration": 17,
    "start_time": "2022-03-30T09:51:21.931Z"
   },
   {
    "duration": 1669,
    "start_time": "2022-03-30T09:51:22.090Z"
   },
   {
    "duration": 1548,
    "start_time": "2022-03-30T09:51:41.030Z"
   },
   {
    "duration": 1979,
    "start_time": "2022-03-30T09:51:55.411Z"
   },
   {
    "duration": 3,
    "start_time": "2022-03-30T09:59:03.432Z"
   },
   {
    "duration": 16,
    "start_time": "2022-03-30T10:02:48.290Z"
   },
   {
    "duration": 435,
    "start_time": "2022-03-30T10:03:07.931Z"
   },
   {
    "duration": 336,
    "start_time": "2022-03-30T10:03:18.610Z"
   },
   {
    "duration": 335,
    "start_time": "2022-03-30T10:03:46.230Z"
   },
   {
    "duration": 105,
    "start_time": "2022-03-30T10:04:32.453Z"
   },
   {
    "duration": 202,
    "start_time": "2022-03-30T10:05:47.470Z"
   },
   {
    "duration": 201,
    "start_time": "2022-03-30T10:05:55.750Z"
   },
   {
    "duration": 206,
    "start_time": "2022-03-30T10:06:00.551Z"
   },
   {
    "duration": 224,
    "start_time": "2022-03-30T10:06:07.910Z"
   },
   {
    "duration": 195,
    "start_time": "2022-03-30T10:06:11.951Z"
   },
   {
    "duration": 524,
    "start_time": "2022-03-30T10:06:43.592Z"
   },
   {
    "duration": 363,
    "start_time": "2022-03-30T10:06:56.738Z"
   },
   {
    "duration": 201,
    "start_time": "2022-03-30T10:07:16.031Z"
   },
   {
    "duration": 242,
    "start_time": "2022-03-30T10:07:22.630Z"
   },
   {
    "duration": 308,
    "start_time": "2022-03-30T10:07:57.891Z"
   },
   {
    "duration": 310,
    "start_time": "2022-03-30T10:08:23.492Z"
   },
   {
    "duration": 323,
    "start_time": "2022-03-30T10:08:35.291Z"
   },
   {
    "duration": 348,
    "start_time": "2022-03-30T10:08:45.190Z"
   },
   {
    "duration": 489,
    "start_time": "2022-03-30T10:09:02.611Z"
   },
   {
    "duration": 279,
    "start_time": "2022-03-30T10:09:29.790Z"
   },
   {
    "duration": 118,
    "start_time": "2022-03-30T10:11:29.518Z"
   },
   {
    "duration": 415,
    "start_time": "2022-03-30T10:11:53.911Z"
   },
   {
    "duration": 14,
    "start_time": "2022-03-30T10:12:29.252Z"
   },
   {
    "duration": 12,
    "start_time": "2022-03-30T10:12:43.930Z"
   },
   {
    "duration": 278,
    "start_time": "2022-03-30T10:12:53.491Z"
   },
   {
    "duration": 281,
    "start_time": "2022-03-30T10:13:10.091Z"
   },
   {
    "duration": 279,
    "start_time": "2022-03-30T10:13:32.379Z"
   },
   {
    "duration": 308,
    "start_time": "2022-03-30T10:13:57.891Z"
   },
   {
    "duration": 508,
    "start_time": "2022-03-30T10:14:03.231Z"
   },
   {
    "duration": 13,
    "start_time": "2022-03-30T11:13:56.294Z"
   },
   {
    "duration": 2509,
    "start_time": "2022-03-30T11:14:08.631Z"
   },
   {
    "duration": 10,
    "start_time": "2022-03-30T11:20:31.710Z"
   },
   {
    "duration": 13,
    "start_time": "2022-03-30T11:20:39.430Z"
   },
   {
    "duration": 97,
    "start_time": "2022-03-30T11:40:20.358Z"
   },
   {
    "duration": 1732,
    "start_time": "2022-03-30T11:40:23.719Z"
   },
   {
    "duration": 34,
    "start_time": "2022-03-30T11:40:25.454Z"
   },
   {
    "duration": 28,
    "start_time": "2022-03-30T11:40:25.491Z"
   },
   {
    "duration": 6,
    "start_time": "2022-03-30T11:40:25.522Z"
   },
   {
    "duration": 14,
    "start_time": "2022-03-30T11:40:25.531Z"
   },
   {
    "duration": 37,
    "start_time": "2022-03-30T11:40:25.547Z"
   },
   {
    "duration": 49,
    "start_time": "2022-03-30T11:40:25.586Z"
   },
   {
    "duration": 290,
    "start_time": "2022-03-30T11:40:25.637Z"
   },
   {
    "duration": 507,
    "start_time": "2022-03-30T11:40:25.931Z"
   },
   {
    "duration": 63,
    "start_time": "2022-03-30T11:40:26.441Z"
   },
   {
    "duration": 14,
    "start_time": "2022-03-30T11:40:26.507Z"
   },
   {
    "duration": 46,
    "start_time": "2022-03-30T11:40:26.524Z"
   },
   {
    "duration": 2482,
    "start_time": "2022-03-30T11:40:26.572Z"
   },
   {
    "duration": 8,
    "start_time": "2022-03-30T11:40:29.059Z"
   },
   {
    "duration": 34,
    "start_time": "2022-03-30T11:40:29.070Z"
   },
   {
    "duration": 2892,
    "start_time": "2022-03-30T11:40:29.106Z"
   },
   {
    "duration": 742,
    "start_time": "2022-03-30T11:40:32.000Z"
   },
   {
    "duration": 3082,
    "start_time": "2022-03-30T11:40:32.745Z"
   },
   {
    "duration": 16,
    "start_time": "2022-03-30T11:40:35.830Z"
   },
   {
    "duration": 22,
    "start_time": "2022-03-30T11:40:35.848Z"
   },
   {
    "duration": 525,
    "start_time": "2022-03-30T11:41:03.979Z"
   },
   {
    "duration": 102,
    "start_time": "2022-03-30T11:41:29.757Z"
   },
   {
    "duration": 22,
    "start_time": "2022-03-30T11:43:07.297Z"
   },
   {
    "duration": 527,
    "start_time": "2022-03-30T11:43:33.580Z"
   },
   {
    "duration": 22,
    "start_time": "2022-03-30T11:44:22.538Z"
   },
   {
    "duration": 513,
    "start_time": "2022-03-30T11:44:46.357Z"
   },
   {
    "duration": 190,
    "start_time": "2022-03-31T11:09:59.820Z"
   },
   {
    "duration": 5,
    "start_time": "2022-03-31T11:10:11.224Z"
   },
   {
    "duration": 1752,
    "start_time": "2022-03-31T11:10:16.931Z"
   },
   {
    "duration": 33,
    "start_time": "2022-03-31T11:10:18.686Z"
   },
   {
    "duration": 31,
    "start_time": "2022-03-31T11:10:18.721Z"
   },
   {
    "duration": 29,
    "start_time": "2022-03-31T11:10:18.755Z"
   },
   {
    "duration": 11,
    "start_time": "2022-03-31T11:10:18.786Z"
   },
   {
    "duration": 10,
    "start_time": "2022-03-31T11:10:18.799Z"
   },
   {
    "duration": 39,
    "start_time": "2022-03-31T11:10:18.811Z"
   },
   {
    "duration": 324,
    "start_time": "2022-03-31T11:10:18.852Z"
   },
   {
    "duration": 472,
    "start_time": "2022-03-31T11:10:19.178Z"
   },
   {
    "duration": 52,
    "start_time": "2022-03-31T11:10:19.654Z"
   },
   {
    "duration": 16,
    "start_time": "2022-03-31T11:10:19.709Z"
   },
   {
    "duration": 4,
    "start_time": "2022-03-31T11:10:19.727Z"
   },
   {
    "duration": 2168,
    "start_time": "2022-03-31T11:10:19.734Z"
   },
   {
    "duration": 7,
    "start_time": "2022-03-31T11:10:21.904Z"
   },
   {
    "duration": 20,
    "start_time": "2022-03-31T11:10:21.914Z"
   },
   {
    "duration": 3021,
    "start_time": "2022-03-31T11:10:21.936Z"
   },
   {
    "duration": 663,
    "start_time": "2022-03-31T11:10:24.959Z"
   },
   {
    "duration": 2744,
    "start_time": "2022-03-31T11:10:25.625Z"
   },
   {
    "duration": 19,
    "start_time": "2022-03-31T11:10:28.372Z"
   },
   {
    "duration": 570,
    "start_time": "2022-03-31T11:10:28.393Z"
   },
   {
    "duration": 18,
    "start_time": "2022-03-31T11:10:28.966Z"
   },
   {
    "duration": 151,
    "start_time": "2022-03-31T11:18:56.144Z"
   },
   {
    "duration": 16,
    "start_time": "2022-03-31T11:19:21.288Z"
   },
   {
    "duration": 48,
    "start_time": "2022-03-31T11:19:42.044Z"
   },
   {
    "duration": 29,
    "start_time": "2022-03-31T11:19:42.095Z"
   },
   {
    "duration": 29,
    "start_time": "2022-03-31T11:19:42.127Z"
   },
   {
    "duration": 8,
    "start_time": "2022-03-31T11:19:42.185Z"
   },
   {
    "duration": 12,
    "start_time": "2022-03-31T11:19:42.196Z"
   },
   {
    "duration": 9,
    "start_time": "2022-03-31T11:19:42.210Z"
   },
   {
    "duration": 66,
    "start_time": "2022-03-31T11:19:42.222Z"
   },
   {
    "duration": 294,
    "start_time": "2022-03-31T11:19:42.290Z"
   },
   {
    "duration": 484,
    "start_time": "2022-03-31T11:19:42.587Z"
   },
   {
    "duration": 46,
    "start_time": "2022-03-31T11:19:43.074Z"
   },
   {
    "duration": 18,
    "start_time": "2022-03-31T11:19:43.122Z"
   },
   {
    "duration": 11,
    "start_time": "2022-03-31T11:19:43.143Z"
   },
   {
    "duration": 2200,
    "start_time": "2022-03-31T11:19:43.156Z"
   },
   {
    "duration": 7,
    "start_time": "2022-03-31T11:19:45.358Z"
   },
   {
    "duration": 27,
    "start_time": "2022-03-31T11:19:45.367Z"
   },
   {
    "duration": 2877,
    "start_time": "2022-03-31T11:19:45.396Z"
   },
   {
    "duration": 661,
    "start_time": "2022-03-31T11:19:48.275Z"
   },
   {
    "duration": 2523,
    "start_time": "2022-03-31T11:19:48.938Z"
   },
   {
    "duration": 29,
    "start_time": "2022-03-31T11:19:51.463Z"
   },
   {
    "duration": 716,
    "start_time": "2022-03-31T11:19:51.494Z"
   },
   {
    "duration": 4,
    "start_time": "2022-03-31T11:19:52.212Z"
   },
   {
    "duration": 56,
    "start_time": "2022-03-31T11:19:52.218Z"
   },
   {
    "duration": 5,
    "start_time": "2022-03-31T11:27:50.055Z"
   },
   {
    "duration": 265,
    "start_time": "2022-03-31T11:28:16.026Z"
   },
   {
    "duration": 291,
    "start_time": "2022-03-31T11:28:40.831Z"
   },
   {
    "duration": 5,
    "start_time": "2022-03-31T11:29:27.642Z"
   },
   {
    "duration": 200,
    "start_time": "2022-03-31T11:29:29.063Z"
   },
   {
    "duration": 99,
    "start_time": "2022-03-31T11:29:52.850Z"
   },
   {
    "duration": 5,
    "start_time": "2022-03-31T11:30:23.794Z"
   },
   {
    "duration": 289,
    "start_time": "2022-03-31T11:30:24.644Z"
   },
   {
    "duration": 5,
    "start_time": "2022-03-31T11:30:29.370Z"
   },
   {
    "duration": 252,
    "start_time": "2022-03-31T11:30:30.885Z"
   },
   {
    "duration": 5,
    "start_time": "2022-03-31T11:30:35.625Z"
   },
   {
    "duration": 215,
    "start_time": "2022-03-31T11:30:37.730Z"
   },
   {
    "duration": 4,
    "start_time": "2022-03-31T11:30:54.971Z"
   },
   {
    "duration": 225,
    "start_time": "2022-03-31T11:31:29.479Z"
   },
   {
    "duration": 450,
    "start_time": "2022-03-31T11:32:15.993Z"
   },
   {
    "duration": 695,
    "start_time": "2022-03-31T11:32:58.109Z"
   },
   {
    "duration": 648,
    "start_time": "2022-03-31T11:33:59.674Z"
   },
   {
    "duration": 683,
    "start_time": "2022-03-31T11:34:33.730Z"
   },
   {
    "duration": 5,
    "start_time": "2022-03-31T11:35:13.692Z"
   },
   {
    "duration": 692,
    "start_time": "2022-03-31T11:35:14.427Z"
   },
   {
    "duration": 7,
    "start_time": "2022-03-31T11:36:24.860Z"
   },
   {
    "duration": 5,
    "start_time": "2022-03-31T11:36:26.843Z"
   },
   {
    "duration": 720,
    "start_time": "2022-03-31T11:44:16.614Z"
   },
   {
    "duration": 664,
    "start_time": "2022-03-31T11:46:28.724Z"
   },
   {
    "duration": 41,
    "start_time": "2022-04-01T11:23:51.924Z"
   },
   {
    "duration": 1337,
    "start_time": "2022-04-01T11:23:54.871Z"
   },
   {
    "duration": 21,
    "start_time": "2022-04-01T11:23:56.210Z"
   },
   {
    "duration": 18,
    "start_time": "2022-04-01T11:23:56.232Z"
   },
   {
    "duration": 4,
    "start_time": "2022-04-01T11:23:56.252Z"
   },
   {
    "duration": 27,
    "start_time": "2022-04-01T11:23:56.259Z"
   },
   {
    "duration": 7,
    "start_time": "2022-04-01T11:23:56.287Z"
   },
   {
    "duration": 23,
    "start_time": "2022-04-01T11:23:56.295Z"
   },
   {
    "duration": 169,
    "start_time": "2022-04-01T11:23:56.319Z"
   },
   {
    "duration": 252,
    "start_time": "2022-04-01T11:23:56.490Z"
   },
   {
    "duration": 24,
    "start_time": "2022-04-01T11:23:56.744Z"
   },
   {
    "duration": 19,
    "start_time": "2022-04-01T11:23:56.770Z"
   },
   {
    "duration": 3,
    "start_time": "2022-04-01T11:23:56.790Z"
   },
   {
    "duration": 1094,
    "start_time": "2022-04-01T11:23:56.795Z"
   },
   {
    "duration": 5,
    "start_time": "2022-04-01T11:23:57.892Z"
   },
   {
    "duration": 12,
    "start_time": "2022-04-01T11:23:57.898Z"
   },
   {
    "duration": 1640,
    "start_time": "2022-04-01T11:23:57.912Z"
   },
   {
    "duration": 334,
    "start_time": "2022-04-01T11:23:59.554Z"
   },
   {
    "duration": 1427,
    "start_time": "2022-04-01T11:23:59.890Z"
   },
   {
    "duration": 11,
    "start_time": "2022-04-01T11:24:01.319Z"
   },
   {
    "duration": 254,
    "start_time": "2022-04-01T11:24:01.331Z"
   },
   {
    "duration": 3,
    "start_time": "2022-04-01T11:24:01.587Z"
   },
   {
    "duration": 378,
    "start_time": "2022-04-01T11:24:01.592Z"
   },
   {
    "duration": 379,
    "start_time": "2022-04-01T11:24:01.972Z"
   },
   {
    "duration": 342,
    "start_time": "2022-04-01T11:24:02.352Z"
   },
   {
    "duration": 6,
    "start_time": "2022-04-01T11:24:02.696Z"
   },
   {
    "duration": 59,
    "start_time": "2022-04-01T11:24:02.703Z"
   },
   {
    "duration": 7,
    "start_time": "2022-04-01T11:24:13.943Z"
   },
   {
    "duration": 10,
    "start_time": "2022-04-01T11:26:41.543Z"
   },
   {
    "duration": 198,
    "start_time": "2022-04-01T11:27:04.064Z"
   },
   {
    "duration": 11,
    "start_time": "2022-04-01T11:27:10.111Z"
   },
   {
    "duration": 10,
    "start_time": "2022-04-01T11:27:43.343Z"
   },
   {
    "duration": 5,
    "start_time": "2022-04-01T11:28:27.564Z"
   },
   {
    "duration": 40,
    "start_time": "2022-04-01T11:30:08.705Z"
   },
   {
    "duration": 16,
    "start_time": "2022-04-01T11:30:08.746Z"
   },
   {
    "duration": 20,
    "start_time": "2022-04-01T11:30:08.764Z"
   },
   {
    "duration": 3,
    "start_time": "2022-04-01T11:30:08.786Z"
   },
   {
    "duration": 8,
    "start_time": "2022-04-01T11:30:08.791Z"
   },
   {
    "duration": 5,
    "start_time": "2022-04-01T11:30:08.801Z"
   },
   {
    "duration": 22,
    "start_time": "2022-04-01T11:30:08.807Z"
   },
   {
    "duration": 180,
    "start_time": "2022-04-01T11:30:08.831Z"
   },
   {
    "duration": 260,
    "start_time": "2022-04-01T11:30:09.013Z"
   },
   {
    "duration": 24,
    "start_time": "2022-04-01T11:30:09.280Z"
   },
   {
    "duration": 10,
    "start_time": "2022-04-01T11:30:09.306Z"
   },
   {
    "duration": 3,
    "start_time": "2022-04-01T11:30:09.317Z"
   },
   {
    "duration": 1377,
    "start_time": "2022-04-01T11:30:09.322Z"
   },
   {
    "duration": 5,
    "start_time": "2022-04-01T11:30:10.702Z"
   },
   {
    "duration": 14,
    "start_time": "2022-04-01T11:30:10.708Z"
   },
   {
    "duration": 1718,
    "start_time": "2022-04-01T11:30:10.723Z"
   },
   {
    "duration": 332,
    "start_time": "2022-04-01T11:30:12.443Z"
   },
   {
    "duration": 1412,
    "start_time": "2022-04-01T11:30:12.776Z"
   },
   {
    "duration": 10,
    "start_time": "2022-04-01T11:30:14.190Z"
   },
   {
    "duration": 261,
    "start_time": "2022-04-01T11:30:14.202Z"
   },
   {
    "duration": 3,
    "start_time": "2022-04-01T11:30:14.465Z"
   },
   {
    "duration": 381,
    "start_time": "2022-04-01T11:30:14.469Z"
   },
   {
    "duration": 381,
    "start_time": "2022-04-01T11:30:14.851Z"
   },
   {
    "duration": 481,
    "start_time": "2022-04-01T11:30:15.233Z"
   },
   {
    "duration": 10,
    "start_time": "2022-04-01T11:30:15.716Z"
   },
   {
    "duration": 13,
    "start_time": "2022-04-01T11:30:15.728Z"
   },
   {
    "duration": 4,
    "start_time": "2022-04-01T11:31:14.543Z"
   },
   {
    "duration": 5,
    "start_time": "2022-04-01T11:31:44.862Z"
   },
   {
    "duration": 11,
    "start_time": "2022-04-01T11:33:16.864Z"
   },
   {
    "duration": 11,
    "start_time": "2022-04-01T11:33:25.023Z"
   },
   {
    "duration": 4,
    "start_time": "2022-04-01T11:33:26.523Z"
   },
   {
    "duration": 36,
    "start_time": "2022-04-01T11:33:29.953Z"
   },
   {
    "duration": 16,
    "start_time": "2022-04-01T11:33:29.991Z"
   },
   {
    "duration": 24,
    "start_time": "2022-04-01T11:33:30.009Z"
   },
   {
    "duration": 4,
    "start_time": "2022-04-01T11:33:30.035Z"
   },
   {
    "duration": 10,
    "start_time": "2022-04-01T11:33:30.042Z"
   },
   {
    "duration": 9,
    "start_time": "2022-04-01T11:33:30.053Z"
   },
   {
    "duration": 35,
    "start_time": "2022-04-01T11:33:30.064Z"
   },
   {
    "duration": 154,
    "start_time": "2022-04-01T11:33:30.101Z"
   },
   {
    "duration": 261,
    "start_time": "2022-04-01T11:33:30.256Z"
   },
   {
    "duration": 23,
    "start_time": "2022-04-01T11:33:30.519Z"
   },
   {
    "duration": 12,
    "start_time": "2022-04-01T11:33:30.543Z"
   },
   {
    "duration": 20,
    "start_time": "2022-04-01T11:33:30.557Z"
   },
   {
    "duration": 1137,
    "start_time": "2022-04-01T11:33:30.578Z"
   },
   {
    "duration": 5,
    "start_time": "2022-04-01T11:33:31.719Z"
   },
   {
    "duration": 32,
    "start_time": "2022-04-01T11:33:31.726Z"
   },
   {
    "duration": 1675,
    "start_time": "2022-04-01T11:33:31.759Z"
   },
   {
    "duration": 345,
    "start_time": "2022-04-01T11:33:33.436Z"
   },
   {
    "duration": 1299,
    "start_time": "2022-04-01T11:33:33.782Z"
   },
   {
    "duration": 10,
    "start_time": "2022-04-01T11:33:35.083Z"
   },
   {
    "duration": 387,
    "start_time": "2022-04-01T11:33:35.094Z"
   },
   {
    "duration": 3,
    "start_time": "2022-04-01T11:33:35.482Z"
   },
   {
    "duration": 372,
    "start_time": "2022-04-01T11:33:35.486Z"
   },
   {
    "duration": 376,
    "start_time": "2022-04-01T11:33:35.860Z"
   },
   {
    "duration": 344,
    "start_time": "2022-04-01T11:33:36.238Z"
   },
   {
    "duration": 10,
    "start_time": "2022-04-01T11:33:36.583Z"
   },
   {
    "duration": 7,
    "start_time": "2022-04-01T11:33:36.595Z"
   },
   {
    "duration": 12,
    "start_time": "2022-04-01T11:34:14.363Z"
   },
   {
    "duration": 14,
    "start_time": "2022-04-01T11:34:23.225Z"
   },
   {
    "duration": 4,
    "start_time": "2022-04-01T11:34:24.723Z"
   },
   {
    "duration": 20,
    "start_time": "2022-04-01T11:34:53.603Z"
   },
   {
    "duration": 6,
    "start_time": "2022-04-01T11:35:12.003Z"
   },
   {
    "duration": 5,
    "start_time": "2022-04-01T11:35:19.463Z"
   },
   {
    "duration": 14,
    "start_time": "2022-04-01T11:35:33.483Z"
   },
   {
    "duration": 4,
    "start_time": "2022-04-01T11:35:34.403Z"
   },
   {
    "duration": 4,
    "start_time": "2022-04-01T11:35:36.303Z"
   },
   {
    "duration": 4,
    "start_time": "2022-04-01T11:35:49.783Z"
   },
   {
    "duration": 259,
    "start_time": "2022-04-01T11:37:20.743Z"
   },
   {
    "duration": 5,
    "start_time": "2022-04-01T11:38:59.403Z"
   },
   {
    "duration": 14,
    "start_time": "2022-04-01T11:47:35.168Z"
   },
   {
    "duration": 4,
    "start_time": "2022-04-01T11:48:05.143Z"
   },
   {
    "duration": 114,
    "start_time": "2022-04-01T14:16:52.130Z"
   },
   {
    "duration": 110,
    "start_time": "2022-04-01T14:18:40.250Z"
   },
   {
    "duration": 97,
    "start_time": "2022-04-01T14:19:50.440Z"
   },
   {
    "duration": 103,
    "start_time": "2022-04-01T14:28:11.711Z"
   },
   {
    "duration": 51,
    "start_time": "2022-04-04T16:57:18.128Z"
   },
   {
    "duration": 1404,
    "start_time": "2022-04-04T16:57:23.719Z"
   },
   {
    "duration": 40,
    "start_time": "2022-04-04T16:57:25.126Z"
   },
   {
    "duration": 33,
    "start_time": "2022-04-04T16:57:25.168Z"
   },
   {
    "duration": 24,
    "start_time": "2022-04-04T16:57:25.203Z"
   },
   {
    "duration": 6,
    "start_time": "2022-04-04T16:57:25.230Z"
   },
   {
    "duration": 12,
    "start_time": "2022-04-04T16:57:25.238Z"
   },
   {
    "duration": 9,
    "start_time": "2022-04-04T16:57:25.251Z"
   },
   {
    "duration": 61,
    "start_time": "2022-04-04T16:57:25.262Z"
   },
   {
    "duration": 190,
    "start_time": "2022-04-04T16:57:25.326Z"
   },
   {
    "duration": 296,
    "start_time": "2022-04-04T16:57:25.518Z"
   },
   {
    "duration": 27,
    "start_time": "2022-04-04T16:57:25.816Z"
   },
   {
    "duration": 12,
    "start_time": "2022-04-04T16:57:25.845Z"
   },
   {
    "duration": 4,
    "start_time": "2022-04-04T16:57:25.858Z"
   },
   {
    "duration": 1275,
    "start_time": "2022-04-04T16:57:25.865Z"
   },
   {
    "duration": 5,
    "start_time": "2022-04-04T16:57:27.143Z"
   },
   {
    "duration": 13,
    "start_time": "2022-04-04T16:57:27.149Z"
   },
   {
    "duration": 1819,
    "start_time": "2022-04-04T16:57:27.164Z"
   },
   {
    "duration": 397,
    "start_time": "2022-04-04T16:57:28.985Z"
   },
   {
    "duration": 1846,
    "start_time": "2022-04-04T16:57:29.384Z"
   },
   {
    "duration": 12,
    "start_time": "2022-04-04T16:57:31.232Z"
   },
   {
    "duration": 294,
    "start_time": "2022-04-04T16:57:31.246Z"
   },
   {
    "duration": 4,
    "start_time": "2022-04-04T16:57:31.542Z"
   },
   {
    "duration": 462,
    "start_time": "2022-04-04T16:57:31.547Z"
   },
   {
    "duration": 435,
    "start_time": "2022-04-04T16:57:32.011Z"
   },
   {
    "duration": 405,
    "start_time": "2022-04-04T16:57:32.448Z"
   },
   {
    "duration": 16,
    "start_time": "2022-04-04T16:57:32.855Z"
   },
   {
    "duration": 5,
    "start_time": "2022-04-04T16:57:32.873Z"
   },
   {
    "duration": 32,
    "start_time": "2022-04-04T16:57:32.880Z"
   },
   {
    "duration": 5,
    "start_time": "2022-04-04T16:57:32.915Z"
   },
   {
    "duration": 16,
    "start_time": "2022-04-04T17:01:42.927Z"
   },
   {
    "duration": 3,
    "start_time": "2022-04-04T17:01:55.209Z"
   },
   {
    "duration": 40,
    "start_time": "2022-04-04T17:01:55.214Z"
   },
   {
    "duration": 20,
    "start_time": "2022-04-04T17:01:55.256Z"
   },
   {
    "duration": 26,
    "start_time": "2022-04-04T17:01:55.278Z"
   },
   {
    "duration": 10,
    "start_time": "2022-04-04T17:01:55.307Z"
   },
   {
    "duration": 6,
    "start_time": "2022-04-04T17:01:55.323Z"
   },
   {
    "duration": 13,
    "start_time": "2022-04-04T17:01:55.332Z"
   },
   {
    "duration": 34,
    "start_time": "2022-04-04T17:01:55.347Z"
   },
   {
    "duration": 11,
    "start_time": "2022-04-04T17:01:55.384Z"
   },
   {
    "duration": 27,
    "start_time": "2022-04-04T17:01:55.559Z"
   },
   {
    "duration": 186,
    "start_time": "2022-04-04T17:01:55.588Z"
   },
   {
    "duration": 311,
    "start_time": "2022-04-04T17:01:55.777Z"
   },
   {
    "duration": 33,
    "start_time": "2022-04-04T17:01:56.090Z"
   },
   {
    "duration": 12,
    "start_time": "2022-04-04T17:01:56.126Z"
   },
   {
    "duration": 3,
    "start_time": "2022-04-04T17:01:56.140Z"
   },
   {
    "duration": 1432,
    "start_time": "2022-04-04T17:01:56.145Z"
   },
   {
    "duration": 6,
    "start_time": "2022-04-04T17:01:57.579Z"
   },
   {
    "duration": 24,
    "start_time": "2022-04-04T17:01:57.587Z"
   },
   {
    "duration": 1797,
    "start_time": "2022-04-04T17:01:57.614Z"
   },
   {
    "duration": 391,
    "start_time": "2022-04-04T17:01:59.413Z"
   },
   {
    "duration": 1664,
    "start_time": "2022-04-04T17:01:59.806Z"
   },
   {
    "duration": 30,
    "start_time": "2022-04-04T17:02:01.472Z"
   },
   {
    "duration": 310,
    "start_time": "2022-04-04T17:02:01.505Z"
   },
   {
    "duration": 4,
    "start_time": "2022-04-04T17:02:01.817Z"
   },
   {
    "duration": 455,
    "start_time": "2022-04-04T17:02:01.823Z"
   },
   {
    "duration": 454,
    "start_time": "2022-04-04T17:02:02.280Z"
   },
   {
    "duration": 583,
    "start_time": "2022-04-04T17:02:02.736Z"
   },
   {
    "duration": 17,
    "start_time": "2022-04-04T17:02:03.321Z"
   },
   {
    "duration": 6,
    "start_time": "2022-04-04T17:02:03.340Z"
   },
   {
    "duration": 21,
    "start_time": "2022-04-04T17:02:03.348Z"
   },
   {
    "duration": 35,
    "start_time": "2022-04-04T17:02:03.371Z"
   },
   {
    "duration": 25,
    "start_time": "2022-04-04T17:45:48.603Z"
   },
   {
    "duration": 142,
    "start_time": "2022-04-04T17:46:11.933Z"
   },
   {
    "duration": 145,
    "start_time": "2022-04-04T17:46:26.826Z"
   },
   {
    "duration": 3,
    "start_time": "2022-04-04T17:50:34.859Z"
   },
   {
    "duration": 3,
    "start_time": "2022-04-04T17:50:39.968Z"
   },
   {
    "duration": 49,
    "start_time": "2022-04-04T17:50:39.973Z"
   },
   {
    "duration": 15,
    "start_time": "2022-04-04T17:50:40.024Z"
   },
   {
    "duration": 25,
    "start_time": "2022-04-04T17:50:40.041Z"
   },
   {
    "duration": 12,
    "start_time": "2022-04-04T17:50:40.069Z"
   },
   {
    "duration": 27,
    "start_time": "2022-04-04T17:50:40.083Z"
   },
   {
    "duration": 13,
    "start_time": "2022-04-04T17:50:40.112Z"
   },
   {
    "duration": 15,
    "start_time": "2022-04-04T17:50:40.127Z"
   },
   {
    "duration": 9,
    "start_time": "2022-04-04T17:50:40.144Z"
   },
   {
    "duration": 21,
    "start_time": "2022-04-04T17:50:40.155Z"
   },
   {
    "duration": 198,
    "start_time": "2022-04-04T17:50:40.178Z"
   },
   {
    "duration": 302,
    "start_time": "2022-04-04T17:50:40.378Z"
   },
   {
    "duration": 40,
    "start_time": "2022-04-04T17:50:40.682Z"
   },
   {
    "duration": 4,
    "start_time": "2022-04-04T17:50:40.726Z"
   },
   {
    "duration": 34,
    "start_time": "2022-04-04T17:50:40.731Z"
   },
   {
    "duration": 6,
    "start_time": "2022-04-04T17:50:40.767Z"
   },
   {
    "duration": 1338,
    "start_time": "2022-04-04T17:50:40.776Z"
   },
   {
    "duration": 5,
    "start_time": "2022-04-04T17:50:42.116Z"
   },
   {
    "duration": 88,
    "start_time": "2022-04-04T17:50:42.123Z"
   },
   {
    "duration": 1861,
    "start_time": "2022-04-04T17:50:42.213Z"
   },
   {
    "duration": 369,
    "start_time": "2022-04-04T17:50:44.076Z"
   },
   {
    "duration": 1518,
    "start_time": "2022-04-04T17:50:44.447Z"
   },
   {
    "duration": 12,
    "start_time": "2022-04-04T17:50:45.967Z"
   },
   {
    "duration": 445,
    "start_time": "2022-04-04T17:50:45.981Z"
   },
   {
    "duration": 4,
    "start_time": "2022-04-04T17:50:46.428Z"
   },
   {
    "duration": 432,
    "start_time": "2022-04-04T17:50:46.434Z"
   },
   {
    "duration": 442,
    "start_time": "2022-04-04T17:50:46.867Z"
   },
   {
    "duration": 413,
    "start_time": "2022-04-04T17:50:47.311Z"
   },
   {
    "duration": 17,
    "start_time": "2022-04-04T17:50:47.726Z"
   },
   {
    "duration": 5,
    "start_time": "2022-04-04T17:50:47.745Z"
   },
   {
    "duration": 25,
    "start_time": "2022-04-04T17:50:47.752Z"
   },
   {
    "duration": 27,
    "start_time": "2022-04-04T17:50:47.778Z"
   },
   {
    "duration": 84,
    "start_time": "2022-04-04T17:52:00.096Z"
   },
   {
    "duration": 4,
    "start_time": "2022-04-04T17:52:19.656Z"
   },
   {
    "duration": 39,
    "start_time": "2022-04-04T17:52:19.668Z"
   },
   {
    "duration": 14,
    "start_time": "2022-04-04T17:52:19.710Z"
   },
   {
    "duration": 16,
    "start_time": "2022-04-04T17:52:19.726Z"
   },
   {
    "duration": 9,
    "start_time": "2022-04-04T17:52:19.743Z"
   },
   {
    "duration": 5,
    "start_time": "2022-04-04T17:52:19.755Z"
   },
   {
    "duration": 8,
    "start_time": "2022-04-04T17:52:19.761Z"
   },
   {
    "duration": 32,
    "start_time": "2022-04-04T17:52:19.771Z"
   },
   {
    "duration": 8,
    "start_time": "2022-04-04T17:52:19.805Z"
   },
   {
    "duration": 17,
    "start_time": "2022-04-04T17:52:19.815Z"
   },
   {
    "duration": 189,
    "start_time": "2022-04-04T17:52:19.834Z"
   },
   {
    "duration": 291,
    "start_time": "2022-04-04T17:52:20.025Z"
   },
   {
    "duration": 27,
    "start_time": "2022-04-04T17:52:20.318Z"
   },
   {
    "duration": 3,
    "start_time": "2022-04-04T17:52:20.347Z"
   },
   {
    "duration": 12,
    "start_time": "2022-04-04T17:52:20.353Z"
   },
   {
    "duration": 4,
    "start_time": "2022-04-04T17:52:20.367Z"
   },
   {
    "duration": 27,
    "start_time": "2022-04-04T17:52:20.401Z"
   },
   {
    "duration": 0,
    "start_time": "2022-04-04T17:52:20.430Z"
   },
   {
    "duration": 0,
    "start_time": "2022-04-04T17:52:20.432Z"
   },
   {
    "duration": 0,
    "start_time": "2022-04-04T17:52:20.433Z"
   },
   {
    "duration": 0,
    "start_time": "2022-04-04T17:52:20.434Z"
   },
   {
    "duration": 0,
    "start_time": "2022-04-04T17:52:20.435Z"
   },
   {
    "duration": 0,
    "start_time": "2022-04-04T17:52:20.436Z"
   },
   {
    "duration": 0,
    "start_time": "2022-04-04T17:52:20.437Z"
   },
   {
    "duration": 0,
    "start_time": "2022-04-04T17:52:20.439Z"
   },
   {
    "duration": 0,
    "start_time": "2022-04-04T17:52:20.440Z"
   },
   {
    "duration": 0,
    "start_time": "2022-04-04T17:52:20.441Z"
   },
   {
    "duration": 0,
    "start_time": "2022-04-04T17:52:20.442Z"
   },
   {
    "duration": 0,
    "start_time": "2022-04-04T17:52:20.443Z"
   },
   {
    "duration": 0,
    "start_time": "2022-04-04T17:52:20.444Z"
   },
   {
    "duration": 0,
    "start_time": "2022-04-04T17:52:20.445Z"
   },
   {
    "duration": 0,
    "start_time": "2022-04-04T17:52:20.446Z"
   },
   {
    "duration": 0,
    "start_time": "2022-04-04T17:52:20.447Z"
   },
   {
    "duration": 30,
    "start_time": "2022-04-04T17:53:13.027Z"
   },
   {
    "duration": 83,
    "start_time": "2022-04-04T17:54:33.965Z"
   },
   {
    "duration": 159,
    "start_time": "2022-04-04T17:55:20.966Z"
   },
   {
    "duration": 11,
    "start_time": "2022-04-04T17:55:26.879Z"
   },
   {
    "duration": 4,
    "start_time": "2022-04-04T17:55:45.757Z"
   },
   {
    "duration": 81,
    "start_time": "2022-04-04T17:56:15.010Z"
   },
   {
    "duration": 25,
    "start_time": "2022-04-04T17:56:30.403Z"
   },
   {
    "duration": 3,
    "start_time": "2022-04-04T18:01:31.600Z"
   },
   {
    "duration": 61,
    "start_time": "2022-04-04T18:01:31.606Z"
   },
   {
    "duration": 16,
    "start_time": "2022-04-04T18:01:31.669Z"
   },
   {
    "duration": 36,
    "start_time": "2022-04-04T18:01:31.687Z"
   },
   {
    "duration": 13,
    "start_time": "2022-04-04T18:01:31.726Z"
   },
   {
    "duration": 10,
    "start_time": "2022-04-04T18:01:31.741Z"
   },
   {
    "duration": 26,
    "start_time": "2022-04-04T18:01:31.753Z"
   },
   {
    "duration": 34,
    "start_time": "2022-04-04T18:01:31.782Z"
   },
   {
    "duration": 26,
    "start_time": "2022-04-04T18:01:31.818Z"
   },
   {
    "duration": 55,
    "start_time": "2022-04-04T18:01:31.847Z"
   },
   {
    "duration": 200,
    "start_time": "2022-04-04T18:01:31.907Z"
   },
   {
    "duration": 316,
    "start_time": "2022-04-04T18:01:32.110Z"
   },
   {
    "duration": 28,
    "start_time": "2022-04-04T18:01:32.428Z"
   },
   {
    "duration": 4,
    "start_time": "2022-04-04T18:01:32.458Z"
   },
   {
    "duration": 40,
    "start_time": "2022-04-04T18:01:32.464Z"
   },
   {
    "duration": 36,
    "start_time": "2022-04-04T18:01:32.506Z"
   },
   {
    "duration": 1536,
    "start_time": "2022-04-04T18:01:32.544Z"
   },
   {
    "duration": 5,
    "start_time": "2022-04-04T18:01:34.082Z"
   },
   {
    "duration": 11,
    "start_time": "2022-04-04T18:01:34.101Z"
   },
   {
    "duration": 413,
    "start_time": "2022-04-04T18:01:34.114Z"
   },
   {
    "duration": 321,
    "start_time": "2022-04-04T18:01:34.529Z"
   },
   {
    "duration": 1467,
    "start_time": "2022-04-04T18:01:34.852Z"
   },
   {
    "duration": 16,
    "start_time": "2022-04-04T18:01:36.322Z"
   },
   {
    "duration": 320,
    "start_time": "2022-04-04T18:01:36.340Z"
   },
   {
    "duration": 5,
    "start_time": "2022-04-04T18:01:36.662Z"
   },
   {
    "duration": 439,
    "start_time": "2022-04-04T18:01:36.669Z"
   },
   {
    "duration": 659,
    "start_time": "2022-04-04T18:01:37.110Z"
   },
   {
    "duration": 430,
    "start_time": "2022-04-04T18:01:37.771Z"
   },
   {
    "duration": 17,
    "start_time": "2022-04-04T18:01:38.205Z"
   },
   {
    "duration": 8,
    "start_time": "2022-04-04T18:01:38.224Z"
   },
   {
    "duration": 21,
    "start_time": "2022-04-04T18:01:38.234Z"
   },
   {
    "duration": 7,
    "start_time": "2022-04-04T18:01:38.257Z"
   },
   {
    "duration": 428,
    "start_time": "2022-04-04T18:04:58.346Z"
   },
   {
    "duration": 307,
    "start_time": "2022-04-04T18:06:12.151Z"
   },
   {
    "duration": 431,
    "start_time": "2022-04-04T18:15:22.634Z"
   },
   {
    "duration": 153,
    "start_time": "2022-04-04T18:19:30.145Z"
   },
   {
    "duration": 3,
    "start_time": "2022-04-04T18:19:40.497Z"
   },
   {
    "duration": 3,
    "start_time": "2022-04-04T18:20:27.356Z"
   },
   {
    "duration": 14482,
    "start_time": "2022-04-04T18:21:00.465Z"
   },
   {
    "duration": 11,
    "start_time": "2022-04-04T18:22:12.872Z"
   },
   {
    "duration": 5,
    "start_time": "2022-04-04T18:22:18.476Z"
   },
   {
    "duration": 1493,
    "start_time": "2022-04-04T18:22:19.498Z"
   },
   {
    "duration": 4,
    "start_time": "2022-04-04T18:22:49.079Z"
   },
   {
    "duration": 14634,
    "start_time": "2022-04-04T18:22:50.636Z"
   },
   {
    "duration": 7898,
    "start_time": "2022-04-04T18:25:16.797Z"
   },
   {
    "duration": 14668,
    "start_time": "2022-04-04T18:25:37.034Z"
   },
   {
    "duration": 4,
    "start_time": "2022-04-04T18:28:35.382Z"
   },
   {
    "duration": 14747,
    "start_time": "2022-04-04T18:28:37.418Z"
   },
   {
    "duration": 9,
    "start_time": "2022-04-04T18:35:30.159Z"
   },
   {
    "duration": 8,
    "start_time": "2022-04-04T18:37:57.766Z"
   },
   {
    "duration": 7,
    "start_time": "2022-04-04T18:38:03.604Z"
   },
   {
    "duration": 4,
    "start_time": "2022-04-04T18:38:08.817Z"
   },
   {
    "duration": 43,
    "start_time": "2022-04-04T18:38:08.824Z"
   },
   {
    "duration": 193,
    "start_time": "2022-04-04T18:38:08.869Z"
   },
   {
    "duration": 39,
    "start_time": "2022-04-04T18:38:09.064Z"
   },
   {
    "duration": 29,
    "start_time": "2022-04-04T18:38:09.106Z"
   },
   {
    "duration": 9,
    "start_time": "2022-04-04T18:38:09.137Z"
   },
   {
    "duration": 14,
    "start_time": "2022-04-04T18:38:09.148Z"
   },
   {
    "duration": 12,
    "start_time": "2022-04-04T18:38:09.164Z"
   },
   {
    "duration": 14,
    "start_time": "2022-04-04T18:38:09.178Z"
   },
   {
    "duration": 9,
    "start_time": "2022-04-04T18:38:09.195Z"
   },
   {
    "duration": 23,
    "start_time": "2022-04-04T18:38:09.206Z"
   },
   {
    "duration": 197,
    "start_time": "2022-04-04T18:38:09.230Z"
   },
   {
    "duration": 342,
    "start_time": "2022-04-04T18:38:09.429Z"
   },
   {
    "duration": 261,
    "start_time": "2022-04-04T18:38:09.776Z"
   },
   {
    "duration": 3,
    "start_time": "2022-04-04T18:38:10.039Z"
   },
   {
    "duration": 17,
    "start_time": "2022-04-04T18:38:10.044Z"
   },
   {
    "duration": 13,
    "start_time": "2022-04-04T18:38:10.063Z"
   },
   {
    "duration": 1326,
    "start_time": "2022-04-04T18:38:10.078Z"
   },
   {
    "duration": 6,
    "start_time": "2022-04-04T18:38:11.406Z"
   },
   {
    "duration": 14,
    "start_time": "2022-04-04T18:38:11.414Z"
   },
   {
    "duration": 425,
    "start_time": "2022-04-04T18:38:11.430Z"
   },
   {
    "duration": 295,
    "start_time": "2022-04-04T18:38:11.857Z"
   },
   {
    "duration": 303,
    "start_time": "2022-04-04T18:38:12.154Z"
   },
   {
    "duration": 1355,
    "start_time": "2022-04-04T18:38:12.459Z"
   },
   {
    "duration": 11,
    "start_time": "2022-04-04T18:38:13.816Z"
   },
   {
    "duration": 7,
    "start_time": "2022-04-04T18:38:13.829Z"
   },
   {
    "duration": 14703,
    "start_time": "2022-04-04T18:38:13.837Z"
   },
   {
    "duration": 291,
    "start_time": "2022-04-04T18:38:28.542Z"
   },
   {
    "duration": 3,
    "start_time": "2022-04-04T18:38:28.835Z"
   },
   {
    "duration": 409,
    "start_time": "2022-04-04T18:38:28.840Z"
   },
   {
    "duration": 440,
    "start_time": "2022-04-04T18:38:29.251Z"
   },
   {
    "duration": 409,
    "start_time": "2022-04-04T18:38:29.692Z"
   },
   {
    "duration": 6,
    "start_time": "2022-04-04T18:38:30.103Z"
   },
   {
    "duration": 17,
    "start_time": "2022-04-04T18:38:30.111Z"
   },
   {
    "duration": 13,
    "start_time": "2022-04-04T18:38:30.130Z"
   },
   {
    "duration": 22,
    "start_time": "2022-04-04T18:38:30.145Z"
   },
   {
    "duration": 6,
    "start_time": "2022-04-04T18:38:30.170Z"
   },
   {
    "duration": 6,
    "start_time": "2022-04-04T18:38:48.292Z"
   },
   {
    "duration": 5,
    "start_time": "2022-04-04T18:38:48.857Z"
   },
   {
    "duration": 18,
    "start_time": "2022-04-04T18:38:49.687Z"
   },
   {
    "duration": 5,
    "start_time": "2022-04-04T18:39:52.563Z"
   },
   {
    "duration": 3,
    "start_time": "2022-04-04T18:39:56.597Z"
   },
   {
    "duration": 38,
    "start_time": "2022-04-04T18:39:56.603Z"
   },
   {
    "duration": 15,
    "start_time": "2022-04-04T18:39:56.643Z"
   },
   {
    "duration": 20,
    "start_time": "2022-04-04T18:39:56.660Z"
   },
   {
    "duration": 10,
    "start_time": "2022-04-04T18:39:56.700Z"
   },
   {
    "duration": 10,
    "start_time": "2022-04-04T18:39:56.712Z"
   },
   {
    "duration": 8,
    "start_time": "2022-04-04T18:39:56.724Z"
   },
   {
    "duration": 9,
    "start_time": "2022-04-04T18:39:56.737Z"
   },
   {
    "duration": 10,
    "start_time": "2022-04-04T18:39:56.747Z"
   },
   {
    "duration": 8,
    "start_time": "2022-04-04T18:39:56.759Z"
   },
   {
    "duration": 44,
    "start_time": "2022-04-04T18:39:56.769Z"
   },
   {
    "duration": 177,
    "start_time": "2022-04-04T18:39:56.815Z"
   },
   {
    "duration": 288,
    "start_time": "2022-04-04T18:39:56.994Z"
   },
   {
    "duration": 37,
    "start_time": "2022-04-04T18:39:57.286Z"
   },
   {
    "duration": 3,
    "start_time": "2022-04-04T18:39:57.325Z"
   },
   {
    "duration": 17,
    "start_time": "2022-04-04T18:39:57.330Z"
   },
   {
    "duration": 3,
    "start_time": "2022-04-04T18:39:57.349Z"
   },
   {
    "duration": 1526,
    "start_time": "2022-04-04T18:39:57.354Z"
   },
   {
    "duration": 5,
    "start_time": "2022-04-04T18:39:58.882Z"
   },
   {
    "duration": 21,
    "start_time": "2022-04-04T18:39:58.889Z"
   },
   {
    "duration": 405,
    "start_time": "2022-04-04T18:39:58.913Z"
   },
   {
    "duration": 304,
    "start_time": "2022-04-04T18:39:59.320Z"
   },
   {
    "duration": 303,
    "start_time": "2022-04-04T18:39:59.626Z"
   },
   {
    "duration": 1370,
    "start_time": "2022-04-04T18:39:59.931Z"
   },
   {
    "duration": 12,
    "start_time": "2022-04-04T18:40:01.303Z"
   },
   {
    "duration": 22,
    "start_time": "2022-04-04T18:40:01.317Z"
   },
   {
    "duration": 14649,
    "start_time": "2022-04-04T18:40:01.341Z"
   },
   {
    "duration": 313,
    "start_time": "2022-04-04T18:40:15.992Z"
   },
   {
    "duration": 4,
    "start_time": "2022-04-04T18:40:16.307Z"
   },
   {
    "duration": 673,
    "start_time": "2022-04-04T18:40:16.313Z"
   },
   {
    "duration": 455,
    "start_time": "2022-04-04T18:40:16.987Z"
   },
   {
    "duration": 428,
    "start_time": "2022-04-04T18:40:17.444Z"
   },
   {
    "duration": 7,
    "start_time": "2022-04-04T18:40:17.874Z"
   },
   {
    "duration": 33,
    "start_time": "2022-04-04T18:40:17.883Z"
   },
   {
    "duration": 6,
    "start_time": "2022-04-04T18:40:17.919Z"
   },
   {
    "duration": 18,
    "start_time": "2022-04-04T18:40:17.927Z"
   },
   {
    "duration": 6,
    "start_time": "2022-04-04T18:40:17.947Z"
   },
   {
    "duration": 5,
    "start_time": "2022-04-04T18:41:04.326Z"
   },
   {
    "duration": 6,
    "start_time": "2022-04-04T18:41:06.049Z"
   },
   {
    "duration": 18,
    "start_time": "2022-04-04T18:41:06.429Z"
   },
   {
    "duration": 4,
    "start_time": "2022-04-04T18:41:10.875Z"
   },
   {
    "duration": 39,
    "start_time": "2022-04-04T18:41:10.881Z"
   },
   {
    "duration": 15,
    "start_time": "2022-04-04T18:41:10.922Z"
   },
   {
    "duration": 20,
    "start_time": "2022-04-04T18:41:10.939Z"
   },
   {
    "duration": 10,
    "start_time": "2022-04-04T18:41:10.962Z"
   },
   {
    "duration": 30,
    "start_time": "2022-04-04T18:41:10.973Z"
   },
   {
    "duration": 10,
    "start_time": "2022-04-04T18:41:11.006Z"
   },
   {
    "duration": 11,
    "start_time": "2022-04-04T18:41:11.018Z"
   },
   {
    "duration": 8,
    "start_time": "2022-04-04T18:41:11.032Z"
   },
   {
    "duration": 11,
    "start_time": "2022-04-04T18:41:11.042Z"
   },
   {
    "duration": 18,
    "start_time": "2022-04-04T18:41:11.055Z"
   },
   {
    "duration": 184,
    "start_time": "2022-04-04T18:41:11.101Z"
   },
   {
    "duration": 305,
    "start_time": "2022-04-04T18:41:11.287Z"
   },
   {
    "duration": 32,
    "start_time": "2022-04-04T18:41:11.595Z"
   },
   {
    "duration": 3,
    "start_time": "2022-04-04T18:41:11.629Z"
   },
   {
    "duration": 14,
    "start_time": "2022-04-04T18:41:11.634Z"
   },
   {
    "duration": 5,
    "start_time": "2022-04-04T18:41:11.651Z"
   },
   {
    "duration": 1275,
    "start_time": "2022-04-04T18:41:11.658Z"
   },
   {
    "duration": 5,
    "start_time": "2022-04-04T18:41:12.935Z"
   },
   {
    "duration": 16,
    "start_time": "2022-04-04T18:41:12.942Z"
   },
   {
    "duration": 414,
    "start_time": "2022-04-04T18:41:12.960Z"
   },
   {
    "duration": 290,
    "start_time": "2022-04-04T18:41:13.376Z"
   },
   {
    "duration": 282,
    "start_time": "2022-04-04T18:41:13.668Z"
   },
   {
    "duration": 1562,
    "start_time": "2022-04-04T18:41:13.952Z"
   },
   {
    "duration": 12,
    "start_time": "2022-04-04T18:41:15.516Z"
   },
   {
    "duration": 5,
    "start_time": "2022-04-04T18:41:15.530Z"
   },
   {
    "duration": 14619,
    "start_time": "2022-04-04T18:41:15.537Z"
   },
   {
    "duration": 310,
    "start_time": "2022-04-04T18:41:30.157Z"
   },
   {
    "duration": 4,
    "start_time": "2022-04-04T18:41:30.469Z"
   },
   {
    "duration": 411,
    "start_time": "2022-04-04T18:41:30.474Z"
   },
   {
    "duration": 464,
    "start_time": "2022-04-04T18:41:30.887Z"
   },
   {
    "duration": 423,
    "start_time": "2022-04-04T18:41:31.353Z"
   },
   {
    "duration": 7,
    "start_time": "2022-04-04T18:41:31.778Z"
   },
   {
    "duration": 17,
    "start_time": "2022-04-04T18:41:31.800Z"
   },
   {
    "duration": 11,
    "start_time": "2022-04-04T18:41:31.819Z"
   },
   {
    "duration": 27,
    "start_time": "2022-04-04T18:41:31.832Z"
   },
   {
    "duration": 11,
    "start_time": "2022-04-04T18:41:31.861Z"
   },
   {
    "duration": 4,
    "start_time": "2022-04-04T18:42:44.164Z"
   },
   {
    "duration": 46,
    "start_time": "2022-04-05T18:08:29.619Z"
   },
   {
    "duration": 1330,
    "start_time": "2022-04-05T18:08:33.506Z"
   },
   {
    "duration": 42,
    "start_time": "2022-04-05T18:08:34.839Z"
   },
   {
    "duration": 16,
    "start_time": "2022-04-05T18:08:34.883Z"
   },
   {
    "duration": 15,
    "start_time": "2022-04-05T18:08:34.901Z"
   },
   {
    "duration": 20,
    "start_time": "2022-04-05T18:08:34.918Z"
   },
   {
    "duration": 4,
    "start_time": "2022-04-05T18:08:34.940Z"
   },
   {
    "duration": 7,
    "start_time": "2022-04-05T18:08:34.945Z"
   },
   {
    "duration": 9,
    "start_time": "2022-04-05T18:08:34.954Z"
   },
   {
    "duration": 7,
    "start_time": "2022-04-05T18:08:34.964Z"
   },
   {
    "duration": 7,
    "start_time": "2022-04-05T18:08:34.973Z"
   },
   {
    "duration": 16,
    "start_time": "2022-04-05T18:08:34.982Z"
   },
   {
    "duration": 211,
    "start_time": "2022-04-05T18:08:34.999Z"
   },
   {
    "duration": 276,
    "start_time": "2022-04-05T18:08:35.212Z"
   },
   {
    "duration": 19,
    "start_time": "2022-04-05T18:08:35.492Z"
   },
   {
    "duration": 20,
    "start_time": "2022-04-05T18:08:35.513Z"
   },
   {
    "duration": 13,
    "start_time": "2022-04-05T18:08:35.535Z"
   },
   {
    "duration": 3,
    "start_time": "2022-04-05T18:08:35.549Z"
   },
   {
    "duration": 1187,
    "start_time": "2022-04-05T18:08:35.554Z"
   },
   {
    "duration": 4,
    "start_time": "2022-04-05T18:08:36.743Z"
   },
   {
    "duration": 14,
    "start_time": "2022-04-05T18:08:36.749Z"
   },
   {
    "duration": 380,
    "start_time": "2022-04-05T18:08:36.765Z"
   },
   {
    "duration": 352,
    "start_time": "2022-04-05T18:08:37.147Z"
   },
   {
    "duration": 267,
    "start_time": "2022-04-05T18:08:37.501Z"
   },
   {
    "duration": 1297,
    "start_time": "2022-04-05T18:08:37.770Z"
   },
   {
    "duration": 10,
    "start_time": "2022-04-05T18:08:39.068Z"
   },
   {
    "duration": 9,
    "start_time": "2022-04-05T18:08:39.080Z"
   },
   {
    "duration": 13569,
    "start_time": "2022-04-05T18:08:39.091Z"
   },
   {
    "duration": 280,
    "start_time": "2022-04-05T18:08:52.662Z"
   },
   {
    "duration": 3,
    "start_time": "2022-04-05T18:08:52.944Z"
   },
   {
    "duration": 388,
    "start_time": "2022-04-05T18:08:52.949Z"
   },
   {
    "duration": 425,
    "start_time": "2022-04-05T18:08:53.339Z"
   },
   {
    "duration": 431,
    "start_time": "2022-04-05T18:08:53.766Z"
   },
   {
    "duration": 15,
    "start_time": "2022-04-05T18:08:54.198Z"
   },
   {
    "duration": 21,
    "start_time": "2022-04-05T18:08:54.215Z"
   },
   {
    "duration": 21,
    "start_time": "2022-04-05T18:08:54.238Z"
   },
   {
    "duration": 5,
    "start_time": "2022-04-05T18:08:54.262Z"
   },
   {
    "duration": 1143,
    "start_time": "2022-04-05T18:30:25.742Z"
   },
   {
    "duration": 41,
    "start_time": "2022-04-05T18:30:26.887Z"
   },
   {
    "duration": 16,
    "start_time": "2022-04-05T18:30:26.930Z"
   },
   {
    "duration": 13,
    "start_time": "2022-04-05T18:30:26.948Z"
   },
   {
    "duration": 8,
    "start_time": "2022-04-05T18:30:26.963Z"
   },
   {
    "duration": 3,
    "start_time": "2022-04-05T18:30:26.973Z"
   },
   {
    "duration": 24,
    "start_time": "2022-04-05T18:30:26.978Z"
   },
   {
    "duration": 8,
    "start_time": "2022-04-05T18:30:27.004Z"
   },
   {
    "duration": 5,
    "start_time": "2022-04-05T18:30:27.014Z"
   },
   {
    "duration": 13,
    "start_time": "2022-04-05T18:30:27.021Z"
   },
   {
    "duration": 17,
    "start_time": "2022-04-05T18:30:27.036Z"
   },
   {
    "duration": 185,
    "start_time": "2022-04-05T18:30:27.054Z"
   },
   {
    "duration": 249,
    "start_time": "2022-04-05T18:30:27.240Z"
   },
   {
    "duration": 25,
    "start_time": "2022-04-05T18:30:27.492Z"
   },
   {
    "duration": 2,
    "start_time": "2022-04-05T18:30:27.519Z"
   },
   {
    "duration": 20,
    "start_time": "2022-04-05T18:30:27.523Z"
   },
   {
    "duration": 11,
    "start_time": "2022-04-05T18:30:49.281Z"
   },
   {
    "duration": 11,
    "start_time": "2022-04-05T18:31:11.920Z"
   },
   {
    "duration": 96,
    "start_time": "2022-04-05T18:31:37.481Z"
   },
   {
    "duration": 1418,
    "start_time": "2022-04-05T18:32:15.554Z"
   },
   {
    "duration": 213,
    "start_time": "2022-04-05T18:41:00.943Z"
   },
   {
    "duration": 3,
    "start_time": "2022-04-05T18:42:15.145Z"
   },
   {
    "duration": 46,
    "start_time": "2022-04-05T18:42:15.150Z"
   },
   {
    "duration": 13,
    "start_time": "2022-04-05T18:42:15.198Z"
   },
   {
    "duration": 15,
    "start_time": "2022-04-05T18:42:15.213Z"
   },
   {
    "duration": 8,
    "start_time": "2022-04-05T18:42:15.231Z"
   },
   {
    "duration": 4,
    "start_time": "2022-04-05T18:42:15.241Z"
   },
   {
    "duration": 6,
    "start_time": "2022-04-05T18:42:15.247Z"
   },
   {
    "duration": 8,
    "start_time": "2022-04-05T18:42:15.255Z"
   },
   {
    "duration": 36,
    "start_time": "2022-04-05T18:42:15.265Z"
   },
   {
    "duration": 9,
    "start_time": "2022-04-05T18:42:15.303Z"
   },
   {
    "duration": 16,
    "start_time": "2022-04-05T18:42:15.314Z"
   },
   {
    "duration": 161,
    "start_time": "2022-04-05T18:42:15.331Z"
   },
   {
    "duration": 263,
    "start_time": "2022-04-05T18:42:15.500Z"
   },
   {
    "duration": 19,
    "start_time": "2022-04-05T18:42:15.765Z"
   },
   {
    "duration": 17,
    "start_time": "2022-04-05T18:42:15.786Z"
   },
   {
    "duration": 18,
    "start_time": "2022-04-05T18:42:15.805Z"
   },
   {
    "duration": 12,
    "start_time": "2022-04-05T18:42:15.825Z"
   },
   {
    "duration": 1188,
    "start_time": "2022-04-05T18:42:15.838Z"
   },
   {
    "duration": 1022,
    "start_time": "2022-04-05T18:42:32.896Z"
   },
   {
    "duration": 222,
    "start_time": "2022-04-05T18:47:07.929Z"
   },
   {
    "duration": 3,
    "start_time": "2022-04-05T19:00:38.280Z"
   },
   {
    "duration": 48,
    "start_time": "2022-04-05T19:00:38.285Z"
   },
   {
    "duration": 13,
    "start_time": "2022-04-05T19:00:38.335Z"
   },
   {
    "duration": 22,
    "start_time": "2022-04-05T19:00:38.349Z"
   },
   {
    "duration": 10,
    "start_time": "2022-04-05T19:00:38.373Z"
   },
   {
    "duration": 18,
    "start_time": "2022-04-05T19:00:38.385Z"
   },
   {
    "duration": 10,
    "start_time": "2022-04-05T19:00:38.405Z"
   },
   {
    "duration": 21,
    "start_time": "2022-04-05T19:00:38.416Z"
   },
   {
    "duration": 21,
    "start_time": "2022-04-05T19:00:38.439Z"
   },
   {
    "duration": 28,
    "start_time": "2022-04-05T19:00:38.462Z"
   },
   {
    "duration": 31,
    "start_time": "2022-04-05T19:00:38.492Z"
   },
   {
    "duration": 165,
    "start_time": "2022-04-05T19:00:38.526Z"
   },
   {
    "duration": 267,
    "start_time": "2022-04-05T19:00:38.702Z"
   },
   {
    "duration": 18,
    "start_time": "2022-04-05T19:00:38.971Z"
   },
   {
    "duration": 3,
    "start_time": "2022-04-05T19:00:39.001Z"
   },
   {
    "duration": 23,
    "start_time": "2022-04-05T19:00:39.006Z"
   },
   {
    "duration": 5,
    "start_time": "2022-04-05T19:00:39.031Z"
   },
   {
    "duration": 1182,
    "start_time": "2022-04-05T19:00:39.038Z"
   },
   {
    "duration": 1005,
    "start_time": "2022-04-05T19:00:40.222Z"
   },
   {
    "duration": 5,
    "start_time": "2022-04-05T19:00:41.229Z"
   },
   {
    "duration": 10,
    "start_time": "2022-04-05T19:00:41.236Z"
   },
   {
    "duration": 376,
    "start_time": "2022-04-05T19:00:41.247Z"
   },
   {
    "duration": 270,
    "start_time": "2022-04-05T19:00:41.625Z"
   },
   {
    "duration": 254,
    "start_time": "2022-04-05T19:00:41.897Z"
   },
   {
    "duration": 1274,
    "start_time": "2022-04-05T19:00:42.152Z"
   },
   {
    "duration": 10,
    "start_time": "2022-04-05T19:00:43.427Z"
   },
   {
    "duration": 9,
    "start_time": "2022-04-05T19:01:08.477Z"
   },
   {
    "duration": 4,
    "start_time": "2022-04-05T19:01:11.157Z"
   },
   {
    "duration": 20968,
    "start_time": "2022-04-05T19:01:13.178Z"
   },
   {
    "duration": 4,
    "start_time": "2022-04-05T19:02:12.964Z"
   },
   {
    "duration": 12787,
    "start_time": "2022-04-05T19:02:14.683Z"
   },
   {
    "duration": 3,
    "start_time": "2022-04-05T19:02:28.136Z"
   },
   {
    "duration": 12669,
    "start_time": "2022-04-05T19:02:31.512Z"
   },
   {
    "duration": 190,
    "start_time": "2022-04-05T19:04:05.730Z"
   },
   {
    "duration": 192,
    "start_time": "2022-04-05T19:06:02.444Z"
   },
   {
    "duration": 3,
    "start_time": "2022-04-05T19:19:33.496Z"
   },
   {
    "duration": 37,
    "start_time": "2022-04-05T19:19:33.503Z"
   },
   {
    "duration": 12,
    "start_time": "2022-04-05T19:19:33.542Z"
   },
   {
    "duration": 15,
    "start_time": "2022-04-05T19:19:33.556Z"
   },
   {
    "duration": 7,
    "start_time": "2022-04-05T19:19:33.572Z"
   },
   {
    "duration": 20,
    "start_time": "2022-04-05T19:19:33.582Z"
   },
   {
    "duration": 5,
    "start_time": "2022-04-05T19:19:33.604Z"
   },
   {
    "duration": 7,
    "start_time": "2022-04-05T19:19:33.611Z"
   },
   {
    "duration": 5,
    "start_time": "2022-04-05T19:19:33.619Z"
   },
   {
    "duration": 7,
    "start_time": "2022-04-05T19:19:33.626Z"
   },
   {
    "duration": 20,
    "start_time": "2022-04-05T19:19:33.634Z"
   },
   {
    "duration": 149,
    "start_time": "2022-04-05T19:19:33.655Z"
   },
   {
    "duration": 254,
    "start_time": "2022-04-05T19:19:33.805Z"
   },
   {
    "duration": 18,
    "start_time": "2022-04-05T19:19:34.060Z"
   },
   {
    "duration": 2,
    "start_time": "2022-04-05T19:19:34.081Z"
   },
   {
    "duration": 17,
    "start_time": "2022-04-05T19:19:34.084Z"
   },
   {
    "duration": 3,
    "start_time": "2022-04-05T19:19:34.102Z"
   },
   {
    "duration": 1180,
    "start_time": "2022-04-05T19:19:34.106Z"
   },
   {
    "duration": 1018,
    "start_time": "2022-04-05T19:19:38.694Z"
   },
   {
    "duration": 194,
    "start_time": "2022-04-05T19:25:12.902Z"
   },
   {
    "duration": 204,
    "start_time": "2022-04-06T19:04:05.066Z"
   }
  ],
  "kernelspec": {
   "display_name": "Python 3 (ipykernel)",
   "language": "python",
   "name": "python3"
  },
  "language_info": {
   "codemirror_mode": {
    "name": "ipython",
    "version": 3
   },
   "file_extension": ".py",
   "mimetype": "text/x-python",
   "name": "python",
   "nbconvert_exporter": "python",
   "pygments_lexer": "ipython3",
   "version": "3.9.5"
  },
  "toc": {
   "base_numbering": 1,
   "nav_menu": {},
   "number_sections": true,
   "sideBar": true,
   "skip_h1_title": true,
   "title_cell": "Table of Contents",
   "title_sidebar": "Contents",
   "toc_cell": false,
   "toc_position": {},
   "toc_section_display": true,
   "toc_window_display": true
  }
 },
 "nbformat": 4,
 "nbformat_minor": 2
}
