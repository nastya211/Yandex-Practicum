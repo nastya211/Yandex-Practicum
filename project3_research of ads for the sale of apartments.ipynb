{
 "cells": [
  {
   "cell_type": "markdown",
   "metadata": {
    "toc": true
   },
   "source": [
    "<h1>Содержание<span class=\"tocSkip\"></span></h1>\n",
    "<div class=\"toc\"><ul class=\"toc-item\"><li><span><a href=\"#Изучение-данных-из-файла\" data-toc-modified-id=\"Изучение-данных-из-файла-1\"><span class=\"toc-item-num\">1&nbsp;&nbsp;</span>Изучение данных из файла</a></span><ul class=\"toc-item\"><li><span><a href=\"#Вывод\" data-toc-modified-id=\"Вывод-1.1\"><span class=\"toc-item-num\">1.1&nbsp;&nbsp;</span>Вывод</a></span></li></ul></li><li><span><a href=\"#Предобработка-данных\" data-toc-modified-id=\"Предобработка-данных-2\"><span class=\"toc-item-num\">2&nbsp;&nbsp;</span>Предобработка данных</a></span></li><li><span><a href=\"#Исследовательский-анализ-данных\" data-toc-modified-id=\"Исследовательский-анализ-данных-3\"><span class=\"toc-item-num\">3&nbsp;&nbsp;</span>Исследовательский анализ данных</a></span></li><li><span><a href=\"#Сравнение-центра-города-с-общей-выборкой-(площадь,-число-комнат,-высота-потолков)\" data-toc-modified-id=\"Сравнение-центра-города-с-общей-выборкой-(площадь,-число-комнат,-высота-потолков)-4\"><span class=\"toc-item-num\">4&nbsp;&nbsp;</span>Сравнение центра города с общей выборкой (площадь, число комнат, высота потолков)</a></span></li><li><span><a href=\"#Общий-вывод\" data-toc-modified-id=\"Общий-вывод-5\"><span class=\"toc-item-num\">5&nbsp;&nbsp;</span>Общий вывод</a></span></li></ul></div>"
   ]
  },
  {
   "cell_type": "markdown",
   "metadata": {},
   "source": [
    "# Исследование объявлений о продаже квартир\n",
    "\n",
    "В вашем распоряжении данные сервиса Яндекc Недвижимость — архив объявлений о продаже квартир в Санкт-Петербурге и соседних населённых пунктах за несколько лет. Нужно научиться определять рыночную стоимость объектов недвижимости. Ваша задача — установить параметры. Это позволит построить автоматизированную систему: она отследит аномалии и мошенническую деятельность. \n",
    "\n",
    "По каждой квартире на продажу доступны два вида данных. Первые вписаны пользователем, вторые получены автоматически на основе картографических данных. Например, расстояние до центра, аэропорта, ближайшего парка и водоёма. "
   ]
  },
  {
   "cell_type": "markdown",
   "metadata": {},
   "source": [
    "## Изучение данных из файла"
   ]
  },
  {
   "cell_type": "code",
   "execution_count": 1,
   "metadata": {},
   "outputs": [
    {
     "data": {
      "text/html": [
       "<div>\n",
       "<style scoped>\n",
       "    .dataframe tbody tr th:only-of-type {\n",
       "        vertical-align: middle;\n",
       "    }\n",
       "\n",
       "    .dataframe tbody tr th {\n",
       "        vertical-align: top;\n",
       "    }\n",
       "\n",
       "    .dataframe thead th {\n",
       "        text-align: right;\n",
       "    }\n",
       "</style>\n",
       "<table border=\"1\" class=\"dataframe\">\n",
       "  <thead>\n",
       "    <tr style=\"text-align: right;\">\n",
       "      <th></th>\n",
       "      <th>total_images</th>\n",
       "      <th>last_price</th>\n",
       "      <th>total_area</th>\n",
       "      <th>first_day_exposition</th>\n",
       "      <th>rooms</th>\n",
       "      <th>ceiling_height</th>\n",
       "      <th>floors_total</th>\n",
       "      <th>living_area</th>\n",
       "      <th>floor</th>\n",
       "      <th>is_apartment</th>\n",
       "      <th>...</th>\n",
       "      <th>kitchen_area</th>\n",
       "      <th>balcony</th>\n",
       "      <th>locality_name</th>\n",
       "      <th>airports_nearest</th>\n",
       "      <th>cityCenters_nearest</th>\n",
       "      <th>parks_around3000</th>\n",
       "      <th>parks_nearest</th>\n",
       "      <th>ponds_around3000</th>\n",
       "      <th>ponds_nearest</th>\n",
       "      <th>days_exposition</th>\n",
       "    </tr>\n",
       "  </thead>\n",
       "  <tbody>\n",
       "    <tr>\n",
       "      <th>0</th>\n",
       "      <td>20</td>\n",
       "      <td>13000000.0</td>\n",
       "      <td>108.00</td>\n",
       "      <td>2019-03-07T00:00:00</td>\n",
       "      <td>3</td>\n",
       "      <td>2.70</td>\n",
       "      <td>16.0</td>\n",
       "      <td>51.00</td>\n",
       "      <td>8</td>\n",
       "      <td>NaN</td>\n",
       "      <td>...</td>\n",
       "      <td>25.00</td>\n",
       "      <td>NaN</td>\n",
       "      <td>Санкт-Петербург</td>\n",
       "      <td>18863.0</td>\n",
       "      <td>16028.0</td>\n",
       "      <td>1.0</td>\n",
       "      <td>482.0</td>\n",
       "      <td>2.0</td>\n",
       "      <td>755.0</td>\n",
       "      <td>NaN</td>\n",
       "    </tr>\n",
       "    <tr>\n",
       "      <th>1</th>\n",
       "      <td>7</td>\n",
       "      <td>3350000.0</td>\n",
       "      <td>40.40</td>\n",
       "      <td>2018-12-04T00:00:00</td>\n",
       "      <td>1</td>\n",
       "      <td>NaN</td>\n",
       "      <td>11.0</td>\n",
       "      <td>18.60</td>\n",
       "      <td>1</td>\n",
       "      <td>NaN</td>\n",
       "      <td>...</td>\n",
       "      <td>11.00</td>\n",
       "      <td>2.0</td>\n",
       "      <td>посёлок Шушары</td>\n",
       "      <td>12817.0</td>\n",
       "      <td>18603.0</td>\n",
       "      <td>0.0</td>\n",
       "      <td>NaN</td>\n",
       "      <td>0.0</td>\n",
       "      <td>NaN</td>\n",
       "      <td>81.0</td>\n",
       "    </tr>\n",
       "    <tr>\n",
       "      <th>2</th>\n",
       "      <td>10</td>\n",
       "      <td>5196000.0</td>\n",
       "      <td>56.00</td>\n",
       "      <td>2015-08-20T00:00:00</td>\n",
       "      <td>2</td>\n",
       "      <td>NaN</td>\n",
       "      <td>5.0</td>\n",
       "      <td>34.30</td>\n",
       "      <td>4</td>\n",
       "      <td>NaN</td>\n",
       "      <td>...</td>\n",
       "      <td>8.30</td>\n",
       "      <td>0.0</td>\n",
       "      <td>Санкт-Петербург</td>\n",
       "      <td>21741.0</td>\n",
       "      <td>13933.0</td>\n",
       "      <td>1.0</td>\n",
       "      <td>90.0</td>\n",
       "      <td>2.0</td>\n",
       "      <td>574.0</td>\n",
       "      <td>558.0</td>\n",
       "    </tr>\n",
       "    <tr>\n",
       "      <th>3</th>\n",
       "      <td>0</td>\n",
       "      <td>64900000.0</td>\n",
       "      <td>159.00</td>\n",
       "      <td>2015-07-24T00:00:00</td>\n",
       "      <td>3</td>\n",
       "      <td>NaN</td>\n",
       "      <td>14.0</td>\n",
       "      <td>NaN</td>\n",
       "      <td>9</td>\n",
       "      <td>NaN</td>\n",
       "      <td>...</td>\n",
       "      <td>NaN</td>\n",
       "      <td>0.0</td>\n",
       "      <td>Санкт-Петербург</td>\n",
       "      <td>28098.0</td>\n",
       "      <td>6800.0</td>\n",
       "      <td>2.0</td>\n",
       "      <td>84.0</td>\n",
       "      <td>3.0</td>\n",
       "      <td>234.0</td>\n",
       "      <td>424.0</td>\n",
       "    </tr>\n",
       "    <tr>\n",
       "      <th>4</th>\n",
       "      <td>2</td>\n",
       "      <td>10000000.0</td>\n",
       "      <td>100.00</td>\n",
       "      <td>2018-06-19T00:00:00</td>\n",
       "      <td>2</td>\n",
       "      <td>3.03</td>\n",
       "      <td>14.0</td>\n",
       "      <td>32.00</td>\n",
       "      <td>13</td>\n",
       "      <td>NaN</td>\n",
       "      <td>...</td>\n",
       "      <td>41.00</td>\n",
       "      <td>NaN</td>\n",
       "      <td>Санкт-Петербург</td>\n",
       "      <td>31856.0</td>\n",
       "      <td>8098.0</td>\n",
       "      <td>2.0</td>\n",
       "      <td>112.0</td>\n",
       "      <td>1.0</td>\n",
       "      <td>48.0</td>\n",
       "      <td>121.0</td>\n",
       "    </tr>\n",
       "    <tr>\n",
       "      <th>5</th>\n",
       "      <td>10</td>\n",
       "      <td>2890000.0</td>\n",
       "      <td>30.40</td>\n",
       "      <td>2018-09-10T00:00:00</td>\n",
       "      <td>1</td>\n",
       "      <td>NaN</td>\n",
       "      <td>12.0</td>\n",
       "      <td>14.40</td>\n",
       "      <td>5</td>\n",
       "      <td>NaN</td>\n",
       "      <td>...</td>\n",
       "      <td>9.10</td>\n",
       "      <td>NaN</td>\n",
       "      <td>городской посёлок Янино-1</td>\n",
       "      <td>NaN</td>\n",
       "      <td>NaN</td>\n",
       "      <td>NaN</td>\n",
       "      <td>NaN</td>\n",
       "      <td>NaN</td>\n",
       "      <td>NaN</td>\n",
       "      <td>55.0</td>\n",
       "    </tr>\n",
       "    <tr>\n",
       "      <th>6</th>\n",
       "      <td>6</td>\n",
       "      <td>3700000.0</td>\n",
       "      <td>37.30</td>\n",
       "      <td>2017-11-02T00:00:00</td>\n",
       "      <td>1</td>\n",
       "      <td>NaN</td>\n",
       "      <td>26.0</td>\n",
       "      <td>10.60</td>\n",
       "      <td>6</td>\n",
       "      <td>NaN</td>\n",
       "      <td>...</td>\n",
       "      <td>14.40</td>\n",
       "      <td>1.0</td>\n",
       "      <td>посёлок Парголово</td>\n",
       "      <td>52996.0</td>\n",
       "      <td>19143.0</td>\n",
       "      <td>0.0</td>\n",
       "      <td>NaN</td>\n",
       "      <td>0.0</td>\n",
       "      <td>NaN</td>\n",
       "      <td>155.0</td>\n",
       "    </tr>\n",
       "    <tr>\n",
       "      <th>7</th>\n",
       "      <td>5</td>\n",
       "      <td>7915000.0</td>\n",
       "      <td>71.60</td>\n",
       "      <td>2019-04-18T00:00:00</td>\n",
       "      <td>2</td>\n",
       "      <td>NaN</td>\n",
       "      <td>24.0</td>\n",
       "      <td>NaN</td>\n",
       "      <td>22</td>\n",
       "      <td>NaN</td>\n",
       "      <td>...</td>\n",
       "      <td>18.90</td>\n",
       "      <td>2.0</td>\n",
       "      <td>Санкт-Петербург</td>\n",
       "      <td>23982.0</td>\n",
       "      <td>11634.0</td>\n",
       "      <td>0.0</td>\n",
       "      <td>NaN</td>\n",
       "      <td>0.0</td>\n",
       "      <td>NaN</td>\n",
       "      <td>NaN</td>\n",
       "    </tr>\n",
       "    <tr>\n",
       "      <th>8</th>\n",
       "      <td>20</td>\n",
       "      <td>2900000.0</td>\n",
       "      <td>33.16</td>\n",
       "      <td>2018-05-23T00:00:00</td>\n",
       "      <td>1</td>\n",
       "      <td>NaN</td>\n",
       "      <td>27.0</td>\n",
       "      <td>15.43</td>\n",
       "      <td>26</td>\n",
       "      <td>NaN</td>\n",
       "      <td>...</td>\n",
       "      <td>8.81</td>\n",
       "      <td>NaN</td>\n",
       "      <td>посёлок Мурино</td>\n",
       "      <td>NaN</td>\n",
       "      <td>NaN</td>\n",
       "      <td>NaN</td>\n",
       "      <td>NaN</td>\n",
       "      <td>NaN</td>\n",
       "      <td>NaN</td>\n",
       "      <td>189.0</td>\n",
       "    </tr>\n",
       "    <tr>\n",
       "      <th>9</th>\n",
       "      <td>18</td>\n",
       "      <td>5400000.0</td>\n",
       "      <td>61.00</td>\n",
       "      <td>2017-02-26T00:00:00</td>\n",
       "      <td>3</td>\n",
       "      <td>2.50</td>\n",
       "      <td>9.0</td>\n",
       "      <td>43.60</td>\n",
       "      <td>7</td>\n",
       "      <td>NaN</td>\n",
       "      <td>...</td>\n",
       "      <td>6.50</td>\n",
       "      <td>2.0</td>\n",
       "      <td>Санкт-Петербург</td>\n",
       "      <td>50898.0</td>\n",
       "      <td>15008.0</td>\n",
       "      <td>0.0</td>\n",
       "      <td>NaN</td>\n",
       "      <td>0.0</td>\n",
       "      <td>NaN</td>\n",
       "      <td>289.0</td>\n",
       "    </tr>\n",
       "  </tbody>\n",
       "</table>\n",
       "<p>10 rows × 22 columns</p>\n",
       "</div>"
      ],
      "text/plain": [
       "   total_images  last_price  total_area first_day_exposition  rooms  \\\n",
       "0            20  13000000.0      108.00  2019-03-07T00:00:00      3   \n",
       "1             7   3350000.0       40.40  2018-12-04T00:00:00      1   \n",
       "2            10   5196000.0       56.00  2015-08-20T00:00:00      2   \n",
       "3             0  64900000.0      159.00  2015-07-24T00:00:00      3   \n",
       "4             2  10000000.0      100.00  2018-06-19T00:00:00      2   \n",
       "5            10   2890000.0       30.40  2018-09-10T00:00:00      1   \n",
       "6             6   3700000.0       37.30  2017-11-02T00:00:00      1   \n",
       "7             5   7915000.0       71.60  2019-04-18T00:00:00      2   \n",
       "8            20   2900000.0       33.16  2018-05-23T00:00:00      1   \n",
       "9            18   5400000.0       61.00  2017-02-26T00:00:00      3   \n",
       "\n",
       "   ceiling_height  floors_total  living_area  floor is_apartment  ...  \\\n",
       "0            2.70          16.0        51.00      8          NaN  ...   \n",
       "1             NaN          11.0        18.60      1          NaN  ...   \n",
       "2             NaN           5.0        34.30      4          NaN  ...   \n",
       "3             NaN          14.0          NaN      9          NaN  ...   \n",
       "4            3.03          14.0        32.00     13          NaN  ...   \n",
       "5             NaN          12.0        14.40      5          NaN  ...   \n",
       "6             NaN          26.0        10.60      6          NaN  ...   \n",
       "7             NaN          24.0          NaN     22          NaN  ...   \n",
       "8             NaN          27.0        15.43     26          NaN  ...   \n",
       "9            2.50           9.0        43.60      7          NaN  ...   \n",
       "\n",
       "   kitchen_area  balcony              locality_name  airports_nearest  \\\n",
       "0         25.00      NaN            Санкт-Петербург           18863.0   \n",
       "1         11.00      2.0             посёлок Шушары           12817.0   \n",
       "2          8.30      0.0            Санкт-Петербург           21741.0   \n",
       "3           NaN      0.0            Санкт-Петербург           28098.0   \n",
       "4         41.00      NaN            Санкт-Петербург           31856.0   \n",
       "5          9.10      NaN  городской посёлок Янино-1               NaN   \n",
       "6         14.40      1.0          посёлок Парголово           52996.0   \n",
       "7         18.90      2.0            Санкт-Петербург           23982.0   \n",
       "8          8.81      NaN             посёлок Мурино               NaN   \n",
       "9          6.50      2.0            Санкт-Петербург           50898.0   \n",
       "\n",
       "  cityCenters_nearest  parks_around3000  parks_nearest  ponds_around3000  \\\n",
       "0             16028.0               1.0          482.0               2.0   \n",
       "1             18603.0               0.0            NaN               0.0   \n",
       "2             13933.0               1.0           90.0               2.0   \n",
       "3              6800.0               2.0           84.0               3.0   \n",
       "4              8098.0               2.0          112.0               1.0   \n",
       "5                 NaN               NaN            NaN               NaN   \n",
       "6             19143.0               0.0            NaN               0.0   \n",
       "7             11634.0               0.0            NaN               0.0   \n",
       "8                 NaN               NaN            NaN               NaN   \n",
       "9             15008.0               0.0            NaN               0.0   \n",
       "\n",
       "   ponds_nearest  days_exposition  \n",
       "0          755.0              NaN  \n",
       "1            NaN             81.0  \n",
       "2          574.0            558.0  \n",
       "3          234.0            424.0  \n",
       "4           48.0            121.0  \n",
       "5            NaN             55.0  \n",
       "6            NaN            155.0  \n",
       "7            NaN              NaN  \n",
       "8            NaN            189.0  \n",
       "9            NaN            289.0  \n",
       "\n",
       "[10 rows x 22 columns]"
      ]
     },
     "metadata": {},
     "output_type": "display_data"
    },
    {
     "name": "stdout",
     "output_type": "stream",
     "text": [
      "<class 'pandas.core.frame.DataFrame'>\n",
      "RangeIndex: 23699 entries, 0 to 23698\n",
      "Data columns (total 22 columns):\n",
      " #   Column                Non-Null Count  Dtype  \n",
      "---  ------                --------------  -----  \n",
      " 0   total_images          23699 non-null  int64  \n",
      " 1   last_price            23699 non-null  float64\n",
      " 2   total_area            23699 non-null  float64\n",
      " 3   first_day_exposition  23699 non-null  object \n",
      " 4   rooms                 23699 non-null  int64  \n",
      " 5   ceiling_height        14504 non-null  float64\n",
      " 6   floors_total          23613 non-null  float64\n",
      " 7   living_area           21796 non-null  float64\n",
      " 8   floor                 23699 non-null  int64  \n",
      " 9   is_apartment          2775 non-null   object \n",
      " 10  studio                23699 non-null  bool   \n",
      " 11  open_plan             23699 non-null  bool   \n",
      " 12  kitchen_area          21421 non-null  float64\n",
      " 13  balcony               12180 non-null  float64\n",
      " 14  locality_name         23650 non-null  object \n",
      " 15  airports_nearest      18157 non-null  float64\n",
      " 16  cityCenters_nearest   18180 non-null  float64\n",
      " 17  parks_around3000      18181 non-null  float64\n",
      " 18  parks_nearest         8079 non-null   float64\n",
      " 19  ponds_around3000      18181 non-null  float64\n",
      " 20  ponds_nearest         9110 non-null   float64\n",
      " 21  days_exposition       20518 non-null  float64\n",
      "dtypes: bool(2), float64(14), int64(3), object(3)\n",
      "memory usage: 3.7+ MB\n",
      "None\n"
     ]
    }
   ],
   "source": [
    "import pandas as pd\n",
    "import matplotlib.pyplot as plt\n",
    "data = pd.read_csv('/datasets/real_estate_data.csv',sep= '\\t')\n",
    "display(data.head(10))\n",
    "print(data.info())\n",
    "#посмотрели общую информацию по данным"
   ]
  },
  {
   "cell_type": "markdown",
   "metadata": {},
   "source": [
    "Описание данных\n",
    "\n",
    "airports_nearest — расстояние до ближайшего аэропорта в метрах (м)\n",
    "\n",
    "balcony — число балконов\n",
    "\n",
    "ceiling_height — высота потолков (м)\n",
    "\n",
    "cityCenters_nearest — расстояние до центра города (м)\n",
    "\n",
    "days_exposition — сколько дней было размещено объявление (от публикации до снятия)\n",
    "\n",
    "first_day_exposition — дата публикации\n",
    "\n",
    "floor — этаж\n",
    "\n",
    "floors_total — всего этажей в доме\n",
    "\n",
    "is_apartment — апартаменты (булев тип)\n",
    "\n",
    "kitchen_area — площадь кухни в квадратных метрах (м²)\n",
    "\n",
    "last_price — цена на момент снятия с публикации\n",
    "\n",
    "living_area — жилая площадь в квадратных метрах (м²)\n",
    "\n",
    "locality_name — название населённого пункта\n",
    "\n",
    "open_plan — свободная планировка (булев тип)\n",
    "\n",
    "parks_around3000 — число парков в радиусе 3 км\n",
    "\n",
    "parks_nearest — расстояние до ближайшего парка (м)\n",
    "\n",
    "ponds_around3000 — число водоёмов в радиусе 3 км\n",
    "\n",
    "ponds_nearest — расстояние до ближайшего водоёма (м)\n",
    "\n",
    "rooms — число комнат\n",
    "\n",
    "studio — квартира-студия (булев тип)\n",
    "\n",
    "total_area — площадь квартиры в квадратных метрах (м²)\n",
    "\n",
    "total_images — число фотографий квартиры в объявлении\n"
   ]
  },
  {
   "cell_type": "markdown",
   "metadata": {},
   "source": [
    "### Вывод"
   ]
  },
  {
   "cell_type": "markdown",
   "metadata": {},
   "source": [
    "1. Наблюдаем нулевые значения в столбцах :\n",
    "\n",
    "ceiling_height\n",
    "\n",
    "floors_total\n",
    "\n",
    "living_area \n",
    "\n",
    "is_apartment \n",
    "\n",
    "kitchen_area\n",
    "\n",
    "balcony\n",
    "\n",
    "locality_name  \n",
    "\n",
    "airports_nearest \n",
    "\n",
    "cityCenters_nearest \n",
    "\n",
    "parks_around3000 \n",
    "\n",
    "parks_nearest    \n",
    "\n",
    "ponds_around3000  \n",
    "\n",
    "ponds_nearest   \n",
    "\n",
    "days_exposition  \n",
    "\n",
    "2. Также неверный тип данных в :\n",
    "\n",
    "first_day_exposition - должен быть тип datatime\n",
    "\n",
    "floors_total - кол-во этажей, тип данных - int\n",
    "\n",
    "is_apartment - ответ да/нет, тип данных - bool\n",
    "\n",
    "balcony - кол-во балконов, тип данных - int\n",
    "\n",
    "parks_around3000,ponds_around3000 -  кол-во парков, водоёмов, тип данных - int\n",
    "\n",
    "days_exposition - кол-во дней, тип данных - int"
   ]
  },
  {
   "cell_type": "markdown",
   "metadata": {},
   "source": [
    "## Предобработка данных"
   ]
  },
  {
   "cell_type": "code",
   "execution_count": 2,
   "metadata": {},
   "outputs": [
    {
     "name": "stdout",
     "output_type": "stream",
     "text": [
      "Index(['total_images', 'last_price', 'total_area', 'first_day_exposition',\n",
      "       'rooms', 'ceiling_height', 'floors_total', 'living_area', 'floor',\n",
      "       'is_apartment', 'studio', 'open_plan', 'kitchen_area', 'balcony',\n",
      "       'locality_name', 'airports_nearest', 'cityCenters_nearest',\n",
      "       'parks_around3000', 'parks_nearest', 'ponds_around3000',\n",
      "       'ponds_nearest', 'days_exposition'],\n",
      "      dtype='object')\n"
     ]
    }
   ],
   "source": [
    "print(data.columns)"
   ]
  },
  {
   "cell_type": "markdown",
   "metadata": {},
   "source": [
    "Все столбцы записаны по правилам."
   ]
  },
  {
   "cell_type": "code",
   "execution_count": 3,
   "metadata": {},
   "outputs": [],
   "source": [
    "data['is_apartment'] = data['is_apartment'].fillna(False)\n",
    "# здесь возможен такой же вариант, как с балконами, человек просто не отмечает, что у него не апартаменты. \n",
    "#Также в Питере квартир преимущественно больше, чем апартаментов\n",
    "data['floors_total'] = data['floors_total'].fillna(data['floors_total'].median())\n",
    "# так как пропусков в данном столбце не так много можем заменить кол-во этажей на медианное значение\n",
    "data['locality_name'].value_counts()\n",
    "#оставим столбец без изменений, так как неизвестна причина отсутствия данных\n",
    "data['ceiling_height'].value_counts()\n",
    "data['floors_total'] = data['floors_total'].fillna(data['floors_total'].median())\n",
    "# Заменим высоту потолков на медианное значение, так как высота не сильно варьируется.\n",
    "data['living_area'].value_counts()\n",
    "data['kitchen_area'].value_counts()\n",
    "# Данные по площади я бы оставила неизменными, так как часто площадь играет очень важную роль при выборе квартиры.\n",
    "data['airports_nearest'].value_counts()\n",
    "data['airports_nearest'].describe()\n",
    "data['cityCenters_nearest'].value_counts()\n",
    "data['cityCenters_nearest'].describe()\n",
    "# Эти столбцы также оставим без изменений, так как значения сильно варьируются \n",
    "data['parks_around3000'].value_counts()\n",
    "data['ponds_around3000'].value_counts()\n",
    "\n",
    "columns_int = ['parks_around3000','ponds_around3000','floors_total','balcony','days_exposition']\n",
    "for x in columns_int:\n",
    "    data[x] = data[x].fillna(0)\n",
    "#cкорее всего человек не указал кол-во парков и водоёмов, так как рядом с квартирой их нет.\n",
    "# возможно объявление только выставлено\n",
    "#cкорее всего человек не указал кол-во балконов, так как в квартире их нет."
   ]
  },
  {
   "cell_type": "code",
   "execution_count": 4,
   "metadata": {},
   "outputs": [],
   "source": [
    "data['first_day_exposition'] = pd.to_datetime(data['first_day_exposition'], format = '%Y-%m-%d')\n",
    "# в датах в таблице нет времени\n",
    "\n",
    "data['is_apartment'] = data['is_apartment'].astype('bool')\n",
    "for x in columns_int:\n",
    "    data[x] = data[x].astype('int64')"
   ]
  },
  {
   "cell_type": "code",
   "execution_count": 5,
   "metadata": {},
   "outputs": [
    {
     "name": "stdout",
     "output_type": "stream",
     "text": [
      "<class 'pandas.core.frame.DataFrame'>\n",
      "RangeIndex: 23699 entries, 0 to 23698\n",
      "Data columns (total 22 columns):\n",
      " #   Column                Non-Null Count  Dtype         \n",
      "---  ------                --------------  -----         \n",
      " 0   total_images          23699 non-null  int64         \n",
      " 1   last_price            23699 non-null  float64       \n",
      " 2   total_area            23699 non-null  float64       \n",
      " 3   first_day_exposition  23699 non-null  datetime64[ns]\n",
      " 4   rooms                 23699 non-null  int64         \n",
      " 5   ceiling_height        14504 non-null  float64       \n",
      " 6   floors_total          23699 non-null  int64         \n",
      " 7   living_area           21796 non-null  float64       \n",
      " 8   floor                 23699 non-null  int64         \n",
      " 9   is_apartment          23699 non-null  bool          \n",
      " 10  studio                23699 non-null  bool          \n",
      " 11  open_plan             23699 non-null  bool          \n",
      " 12  kitchen_area          21421 non-null  float64       \n",
      " 13  balcony               23699 non-null  int64         \n",
      " 14  locality_name         23650 non-null  object        \n",
      " 15  airports_nearest      18157 non-null  float64       \n",
      " 16  cityCenters_nearest   18180 non-null  float64       \n",
      " 17  parks_around3000      23699 non-null  int64         \n",
      " 18  parks_nearest         8079 non-null   float64       \n",
      " 19  ponds_around3000      23699 non-null  int64         \n",
      " 20  ponds_nearest         9110 non-null   float64       \n",
      " 21  days_exposition       23699 non-null  int64         \n",
      "dtypes: bool(3), datetime64[ns](1), float64(9), int64(8), object(1)\n",
      "memory usage: 3.5+ MB\n",
      "None\n"
     ]
    }
   ],
   "source": [
    "print(data.info())"
   ]
  },
  {
   "cell_type": "markdown",
   "metadata": {},
   "source": [
    "Заполнены пропущенные значения там, где это не исказит данные.\n",
    "Исправлены ошибки в типах данных, которые были выявлены в начале предобработки."
   ]
  },
  {
   "cell_type": "markdown",
   "metadata": {},
   "source": [
    "## Исследовательский анализ данных"
   ]
  },
  {
   "cell_type": "code",
   "execution_count": 6,
   "metadata": {},
   "outputs": [
    {
     "data": {
      "text/html": [
       "<div>\n",
       "<style scoped>\n",
       "    .dataframe tbody tr th:only-of-type {\n",
       "        vertical-align: middle;\n",
       "    }\n",
       "\n",
       "    .dataframe tbody tr th {\n",
       "        vertical-align: top;\n",
       "    }\n",
       "\n",
       "    .dataframe thead th {\n",
       "        text-align: right;\n",
       "    }\n",
       "</style>\n",
       "<table border=\"1\" class=\"dataframe\">\n",
       "  <thead>\n",
       "    <tr style=\"text-align: right;\">\n",
       "      <th></th>\n",
       "      <th>total_images</th>\n",
       "      <th>last_price</th>\n",
       "      <th>total_area</th>\n",
       "      <th>first_day_exposition</th>\n",
       "      <th>rooms</th>\n",
       "      <th>ceiling_height</th>\n",
       "      <th>floors_total</th>\n",
       "      <th>living_area</th>\n",
       "      <th>floor</th>\n",
       "      <th>is_apartment</th>\n",
       "      <th>...</th>\n",
       "      <th>ponds_around3000</th>\n",
       "      <th>ponds_nearest</th>\n",
       "      <th>days_exposition</th>\n",
       "      <th>price_for_square_meter</th>\n",
       "      <th>day</th>\n",
       "      <th>month</th>\n",
       "      <th>year</th>\n",
       "      <th>floor_name</th>\n",
       "      <th>living_to_total</th>\n",
       "      <th>kitchen_to_total</th>\n",
       "    </tr>\n",
       "  </thead>\n",
       "  <tbody>\n",
       "    <tr>\n",
       "      <th>0</th>\n",
       "      <td>20</td>\n",
       "      <td>13000000.0</td>\n",
       "      <td>108.00</td>\n",
       "      <td>2019-03-07</td>\n",
       "      <td>3</td>\n",
       "      <td>2.70</td>\n",
       "      <td>16</td>\n",
       "      <td>51.00</td>\n",
       "      <td>8</td>\n",
       "      <td>False</td>\n",
       "      <td>...</td>\n",
       "      <td>2</td>\n",
       "      <td>755.0</td>\n",
       "      <td>0</td>\n",
       "      <td>120370.370370</td>\n",
       "      <td>3</td>\n",
       "      <td>3</td>\n",
       "      <td>2019</td>\n",
       "      <td>другой</td>\n",
       "      <td>0.472222</td>\n",
       "      <td>0.231481</td>\n",
       "    </tr>\n",
       "    <tr>\n",
       "      <th>1</th>\n",
       "      <td>7</td>\n",
       "      <td>3350000.0</td>\n",
       "      <td>40.40</td>\n",
       "      <td>2018-12-04</td>\n",
       "      <td>1</td>\n",
       "      <td>NaN</td>\n",
       "      <td>11</td>\n",
       "      <td>18.60</td>\n",
       "      <td>1</td>\n",
       "      <td>False</td>\n",
       "      <td>...</td>\n",
       "      <td>0</td>\n",
       "      <td>NaN</td>\n",
       "      <td>81</td>\n",
       "      <td>82920.792079</td>\n",
       "      <td>1</td>\n",
       "      <td>12</td>\n",
       "      <td>2018</td>\n",
       "      <td>первый</td>\n",
       "      <td>0.460396</td>\n",
       "      <td>0.272277</td>\n",
       "    </tr>\n",
       "    <tr>\n",
       "      <th>2</th>\n",
       "      <td>10</td>\n",
       "      <td>5196000.0</td>\n",
       "      <td>56.00</td>\n",
       "      <td>2015-08-20</td>\n",
       "      <td>2</td>\n",
       "      <td>NaN</td>\n",
       "      <td>5</td>\n",
       "      <td>34.30</td>\n",
       "      <td>4</td>\n",
       "      <td>False</td>\n",
       "      <td>...</td>\n",
       "      <td>2</td>\n",
       "      <td>574.0</td>\n",
       "      <td>558</td>\n",
       "      <td>92785.714286</td>\n",
       "      <td>3</td>\n",
       "      <td>8</td>\n",
       "      <td>2015</td>\n",
       "      <td>другой</td>\n",
       "      <td>0.612500</td>\n",
       "      <td>0.148214</td>\n",
       "    </tr>\n",
       "    <tr>\n",
       "      <th>3</th>\n",
       "      <td>0</td>\n",
       "      <td>64900000.0</td>\n",
       "      <td>159.00</td>\n",
       "      <td>2015-07-24</td>\n",
       "      <td>3</td>\n",
       "      <td>NaN</td>\n",
       "      <td>14</td>\n",
       "      <td>NaN</td>\n",
       "      <td>9</td>\n",
       "      <td>False</td>\n",
       "      <td>...</td>\n",
       "      <td>3</td>\n",
       "      <td>234.0</td>\n",
       "      <td>424</td>\n",
       "      <td>408176.100629</td>\n",
       "      <td>4</td>\n",
       "      <td>7</td>\n",
       "      <td>2015</td>\n",
       "      <td>другой</td>\n",
       "      <td>NaN</td>\n",
       "      <td>NaN</td>\n",
       "    </tr>\n",
       "    <tr>\n",
       "      <th>4</th>\n",
       "      <td>2</td>\n",
       "      <td>10000000.0</td>\n",
       "      <td>100.00</td>\n",
       "      <td>2018-06-19</td>\n",
       "      <td>2</td>\n",
       "      <td>3.03</td>\n",
       "      <td>14</td>\n",
       "      <td>32.00</td>\n",
       "      <td>13</td>\n",
       "      <td>False</td>\n",
       "      <td>...</td>\n",
       "      <td>1</td>\n",
       "      <td>48.0</td>\n",
       "      <td>121</td>\n",
       "      <td>100000.000000</td>\n",
       "      <td>1</td>\n",
       "      <td>6</td>\n",
       "      <td>2018</td>\n",
       "      <td>другой</td>\n",
       "      <td>0.320000</td>\n",
       "      <td>0.410000</td>\n",
       "    </tr>\n",
       "    <tr>\n",
       "      <th>5</th>\n",
       "      <td>10</td>\n",
       "      <td>2890000.0</td>\n",
       "      <td>30.40</td>\n",
       "      <td>2018-09-10</td>\n",
       "      <td>1</td>\n",
       "      <td>NaN</td>\n",
       "      <td>12</td>\n",
       "      <td>14.40</td>\n",
       "      <td>5</td>\n",
       "      <td>False</td>\n",
       "      <td>...</td>\n",
       "      <td>0</td>\n",
       "      <td>NaN</td>\n",
       "      <td>55</td>\n",
       "      <td>95065.789474</td>\n",
       "      <td>0</td>\n",
       "      <td>9</td>\n",
       "      <td>2018</td>\n",
       "      <td>другой</td>\n",
       "      <td>0.473684</td>\n",
       "      <td>0.299342</td>\n",
       "    </tr>\n",
       "    <tr>\n",
       "      <th>6</th>\n",
       "      <td>6</td>\n",
       "      <td>3700000.0</td>\n",
       "      <td>37.30</td>\n",
       "      <td>2017-11-02</td>\n",
       "      <td>1</td>\n",
       "      <td>NaN</td>\n",
       "      <td>26</td>\n",
       "      <td>10.60</td>\n",
       "      <td>6</td>\n",
       "      <td>False</td>\n",
       "      <td>...</td>\n",
       "      <td>0</td>\n",
       "      <td>NaN</td>\n",
       "      <td>155</td>\n",
       "      <td>99195.710456</td>\n",
       "      <td>3</td>\n",
       "      <td>11</td>\n",
       "      <td>2017</td>\n",
       "      <td>другой</td>\n",
       "      <td>0.284182</td>\n",
       "      <td>0.386059</td>\n",
       "    </tr>\n",
       "    <tr>\n",
       "      <th>7</th>\n",
       "      <td>5</td>\n",
       "      <td>7915000.0</td>\n",
       "      <td>71.60</td>\n",
       "      <td>2019-04-18</td>\n",
       "      <td>2</td>\n",
       "      <td>NaN</td>\n",
       "      <td>24</td>\n",
       "      <td>NaN</td>\n",
       "      <td>22</td>\n",
       "      <td>False</td>\n",
       "      <td>...</td>\n",
       "      <td>0</td>\n",
       "      <td>NaN</td>\n",
       "      <td>0</td>\n",
       "      <td>110544.692737</td>\n",
       "      <td>3</td>\n",
       "      <td>4</td>\n",
       "      <td>2019</td>\n",
       "      <td>другой</td>\n",
       "      <td>NaN</td>\n",
       "      <td>0.263966</td>\n",
       "    </tr>\n",
       "    <tr>\n",
       "      <th>8</th>\n",
       "      <td>20</td>\n",
       "      <td>2900000.0</td>\n",
       "      <td>33.16</td>\n",
       "      <td>2018-05-23</td>\n",
       "      <td>1</td>\n",
       "      <td>NaN</td>\n",
       "      <td>27</td>\n",
       "      <td>15.43</td>\n",
       "      <td>26</td>\n",
       "      <td>False</td>\n",
       "      <td>...</td>\n",
       "      <td>0</td>\n",
       "      <td>NaN</td>\n",
       "      <td>189</td>\n",
       "      <td>87454.764777</td>\n",
       "      <td>2</td>\n",
       "      <td>5</td>\n",
       "      <td>2018</td>\n",
       "      <td>другой</td>\n",
       "      <td>0.465320</td>\n",
       "      <td>0.265682</td>\n",
       "    </tr>\n",
       "    <tr>\n",
       "      <th>9</th>\n",
       "      <td>18</td>\n",
       "      <td>5400000.0</td>\n",
       "      <td>61.00</td>\n",
       "      <td>2017-02-26</td>\n",
       "      <td>3</td>\n",
       "      <td>2.50</td>\n",
       "      <td>9</td>\n",
       "      <td>43.60</td>\n",
       "      <td>7</td>\n",
       "      <td>False</td>\n",
       "      <td>...</td>\n",
       "      <td>0</td>\n",
       "      <td>NaN</td>\n",
       "      <td>289</td>\n",
       "      <td>88524.590164</td>\n",
       "      <td>6</td>\n",
       "      <td>2</td>\n",
       "      <td>2017</td>\n",
       "      <td>другой</td>\n",
       "      <td>0.714754</td>\n",
       "      <td>0.106557</td>\n",
       "    </tr>\n",
       "  </tbody>\n",
       "</table>\n",
       "<p>10 rows × 29 columns</p>\n",
       "</div>"
      ],
      "text/plain": [
       "   total_images  last_price  total_area first_day_exposition  rooms  \\\n",
       "0            20  13000000.0      108.00           2019-03-07      3   \n",
       "1             7   3350000.0       40.40           2018-12-04      1   \n",
       "2            10   5196000.0       56.00           2015-08-20      2   \n",
       "3             0  64900000.0      159.00           2015-07-24      3   \n",
       "4             2  10000000.0      100.00           2018-06-19      2   \n",
       "5            10   2890000.0       30.40           2018-09-10      1   \n",
       "6             6   3700000.0       37.30           2017-11-02      1   \n",
       "7             5   7915000.0       71.60           2019-04-18      2   \n",
       "8            20   2900000.0       33.16           2018-05-23      1   \n",
       "9            18   5400000.0       61.00           2017-02-26      3   \n",
       "\n",
       "   ceiling_height  floors_total  living_area  floor  is_apartment  ...  \\\n",
       "0            2.70            16        51.00      8         False  ...   \n",
       "1             NaN            11        18.60      1         False  ...   \n",
       "2             NaN             5        34.30      4         False  ...   \n",
       "3             NaN            14          NaN      9         False  ...   \n",
       "4            3.03            14        32.00     13         False  ...   \n",
       "5             NaN            12        14.40      5         False  ...   \n",
       "6             NaN            26        10.60      6         False  ...   \n",
       "7             NaN            24          NaN     22         False  ...   \n",
       "8             NaN            27        15.43     26         False  ...   \n",
       "9            2.50             9        43.60      7         False  ...   \n",
       "\n",
       "   ponds_around3000  ponds_nearest  days_exposition  price_for_square_meter  \\\n",
       "0                 2          755.0                0           120370.370370   \n",
       "1                 0            NaN               81            82920.792079   \n",
       "2                 2          574.0              558            92785.714286   \n",
       "3                 3          234.0              424           408176.100629   \n",
       "4                 1           48.0              121           100000.000000   \n",
       "5                 0            NaN               55            95065.789474   \n",
       "6                 0            NaN              155            99195.710456   \n",
       "7                 0            NaN                0           110544.692737   \n",
       "8                 0            NaN              189            87454.764777   \n",
       "9                 0            NaN              289            88524.590164   \n",
       "\n",
       "  day  month  year  floor_name  living_to_total  kitchen_to_total  \n",
       "0   3      3  2019      другой         0.472222          0.231481  \n",
       "1   1     12  2018      первый         0.460396          0.272277  \n",
       "2   3      8  2015      другой         0.612500          0.148214  \n",
       "3   4      7  2015      другой              NaN               NaN  \n",
       "4   1      6  2018      другой         0.320000          0.410000  \n",
       "5   0      9  2018      другой         0.473684          0.299342  \n",
       "6   3     11  2017      другой         0.284182          0.386059  \n",
       "7   3      4  2019      другой              NaN          0.263966  \n",
       "8   2      5  2018      другой         0.465320          0.265682  \n",
       "9   6      2  2017      другой         0.714754          0.106557  \n",
       "\n",
       "[10 rows x 29 columns]"
      ]
     },
     "metadata": {},
     "output_type": "display_data"
    }
   ],
   "source": [
    "data['price_for_square_meter'] = data['last_price'] / data['total_area']\n",
    "# цена квадратного метра\n",
    "data['day'] = data['first_day_exposition'].dt.weekday\n",
    "data['month'] = data['first_day_exposition'].dt.month\n",
    "data['year'] = data['first_day_exposition'].dt.year\n",
    "# добавили столбцы с днем недели, месяцем и годом размещения объявления\n",
    "def floor_name (x):\n",
    "    floor = x['floor']\n",
    "    floors_total  = x['floors_total']\n",
    "    if floor == floors_total:\n",
    "        return 'последний'\n",
    "    elif floor == 1:\n",
    "        return 'первый'\n",
    "    else:\n",
    "        return 'другой'\n",
    "data['floor_name'] = data.apply(floor_name, axis =1)\n",
    "#создали функцию которая будет определять категорию этажа квартиры\n",
    "data['living_to_total'] = data['living_area']/data['total_area']\n",
    "#соотношение жилой и общей площади\n",
    "data['kitchen_to_total'] = data['kitchen_area']/data['total_area']\n",
    "#отношение площади кухни к общей.\n",
    "display(data.head(10))"
   ]
  },
  {
   "cell_type": "markdown",
   "metadata": {},
   "source": [
    "Добавлены столбцы : \n",
    "\n",
    "с ценой квадратного метра;\n",
    "\n",
    "с днем недели, месяцем и годом публикации объявления;\n",
    "\n",
    "с категорией этажа квартиры; \n",
    "\n",
    "с соотношением жилой и общей площади, \n",
    "\n",
    "с соотношением площади кухни к общей."
   ]
  },
  {
   "cell_type": "code",
   "execution_count": 7,
   "metadata": {},
   "outputs": [
    {
     "data": {
      "text/plain": [
       "count    23699.000000\n",
       "mean        60.348651\n",
       "std         35.654083\n",
       "min         12.000000\n",
       "25%         40.000000\n",
       "50%         52.000000\n",
       "75%         69.900000\n",
       "max        900.000000\n",
       "Name: total_area, dtype: float64"
      ]
     },
     "execution_count": 7,
     "metadata": {},
     "output_type": "execute_result"
    },
    {
     "data": {
      "image/png": "[encoded data removed]",
      "text/plain": [
       "<Figure size 432x288 with 1 Axes>"
      ]
     },
     "metadata": {
      "needs_background": "light"
     },
     "output_type": "display_data"
    }
   ],
   "source": [
    "data['total_area'].plot(y='total_area',kind = 'hist', bins=100, grid=True, range = (0,500), title = ('Площадь квартир'))\n",
    "data['total_area'].describe()"
   ]
  },
  {
   "cell_type": "markdown",
   "metadata": {},
   "source": [
    " Площадь квартир варьируется от 12 кв.м до 900 кв. м. Среднее значение - 60 кв. м.\n",
    " Медиана приближена к среднему значению.\n",
    " Исходя из данных, больше всего квартир в диапазоне 40 -70 кв.м.\n",
    " Аномальных выбросов нет, далее втречаются редкие кв с площадью больше 190 кв.м."
   ]
  },
  {
   "cell_type": "code",
   "execution_count": 8,
   "metadata": {},
   "outputs": [
    {
     "data": {
      "text/plain": [
       "count    2.369900e+04\n",
       "mean     6.541549e+06\n",
       "std      1.088701e+07\n",
       "min      1.219000e+04\n",
       "25%      3.400000e+06\n",
       "50%      4.650000e+06\n",
       "75%      6.800000e+06\n",
       "max      7.630000e+08\n",
       "Name: last_price, dtype: float64"
      ]
     },
     "execution_count": 8,
     "metadata": {},
     "output_type": "execute_result"
    },
    {
     "data": {
      "image/png": "[encoded data removed]",
      "text/plain": [
       "<Figure size 432x288 with 1 Axes>"
      ]
     },
     "metadata": {
      "needs_background": "light"
     },
     "output_type": "display_data"
    }
   ],
   "source": [
    "data['last_price'].plot(y ='last_price', bins = 100, kind = 'hist', grid=True, range =(0,20000000), title = ('Цены на квартиры'))\n",
    "data['last_price'].describe()"
   ]
  },
  {
   "cell_type": "markdown",
   "metadata": {},
   "source": [
    "Цены на квартиры варьируются от 1,2 миллионов рублей до 7,6 миллионов рублей.\n",
    "Среднее значение - 6,5 млн руб, медиана - 4,6.\n",
    "В основном квартиры стоят более 3,5 млн рублей."
   ]
  },
  {
   "cell_type": "code",
   "execution_count": 9,
   "metadata": {},
   "outputs": [
    {
     "data": {
      "text/plain": [
       "count    23699.000000\n",
       "mean         2.070636\n",
       "std          1.078405\n",
       "min          0.000000\n",
       "25%          1.000000\n",
       "50%          2.000000\n",
       "75%          3.000000\n",
       "max         19.000000\n",
       "Name: rooms, dtype: float64"
      ]
     },
     "execution_count": 9,
     "metadata": {},
     "output_type": "execute_result"
    },
    {
     "data": {
      "image/png": "[encoded data removed]",
      "text/plain": [
       "<Figure size 432x288 with 1 Axes>"
      ]
     },
     "metadata": {
      "needs_background": "light"
     },
     "output_type": "display_data"
    }
   ],
   "source": [
    "data['rooms'].plot(y ='rooms', bins = 40, kind = 'hist', grid=True, range =(0,10), title = ('Количество комнат'))\n",
    "data['rooms'].describe()"
   ]
  },
  {
   "cell_type": "markdown",
   "metadata": {},
   "source": [
    "Количество комнат колеблется от 0 до 19. Больше всего однокомнатных и двукомнатных квартир."
   ]
  },
  {
   "cell_type": "code",
   "execution_count": 10,
   "metadata": {},
   "outputs": [
    {
     "data": {
      "text/plain": [
       "count    14504.000000\n",
       "mean         2.771499\n",
       "std          1.261056\n",
       "min          1.000000\n",
       "25%          2.520000\n",
       "50%          2.650000\n",
       "75%          2.800000\n",
       "max        100.000000\n",
       "Name: ceiling_height, dtype: float64"
      ]
     },
     "execution_count": 10,
     "metadata": {},
     "output_type": "execute_result"
    },
    {
     "data": {
      "image/png": "[encoded data removed]",
      "text/plain": [
       "<Figure size 432x288 with 1 Axes>"
      ]
     },
     "metadata": {
      "needs_background": "light"
     },
     "output_type": "display_data"
    }
   ],
   "source": [
    "data['ceiling_height'].plot(y ='ceiling_height', bins = 30, kind = 'hist', grid=True, range =(0,5),title = ('Высота потолков'))\n",
    "data['ceiling_height'].describe()"
   ]
  },
  {
   "cell_type": "markdown",
   "metadata": {},
   "source": [
    "Средняя высота потолков в квартирах 2,7 м."
   ]
  },
  {
   "cell_type": "code",
   "execution_count": 11,
   "metadata": {},
   "outputs": [
    {
     "data": {
      "text/plain": [
       "count    23699.000000\n",
       "mean       156.608844\n",
       "std        213.546873\n",
       "min          0.000000\n",
       "25%         22.000000\n",
       "50%         74.000000\n",
       "75%        199.000000\n",
       "max       1580.000000\n",
       "Name: days_exposition, dtype: float64"
      ]
     },
     "execution_count": 11,
     "metadata": {},
     "output_type": "execute_result"
    },
    {
     "data": {
      "image/png": "[encoded data removed]",
      "text/plain": [
       "<Figure size 720x504 with 1 Axes>"
      ]
     },
     "metadata": {
      "needs_background": "light"
     },
     "output_type": "display_data"
    }
   ],
   "source": [
    "data['days_exposition'].plot(y ='days_exposition', bins = 50, kind = 'hist', grid=True, range =(0,1000),title = ('Кол-во дней с момента публикации'),figsize=(10,7))\n",
    "data['days_exposition'].describe()\n",
    "# Можем заметить что в основном квартиры снимаются с публикации в первые 200 дней\n",
    "#Рассмотрим этот период времени"
   ]
  },
  {
   "cell_type": "code",
   "execution_count": 12,
   "metadata": {},
   "outputs": [
    {
     "name": "stdout",
     "output_type": "stream",
     "text": [
      "count    23699.000000\n",
      "mean       156.608844\n",
      "std        213.546873\n",
      "min          0.000000\n",
      "25%         22.000000\n",
      "50%         74.000000\n",
      "75%        199.000000\n",
      "max       1580.000000\n",
      "Name: days_exposition, dtype: float64\n"
     ]
    },
    {
     "data": {
      "text/plain": [
       "0       3181\n",
       "45       880\n",
       "60       538\n",
       "7        234\n",
       "30       208\n",
       "        ... \n",
       "1112       1\n",
       "1080       1\n",
       "1064       1\n",
       "1032       1\n",
       "1391       1\n",
       "Name: days_exposition, Length: 1142, dtype: int64"
      ]
     },
     "execution_count": 12,
     "metadata": {},
     "output_type": "execute_result"
    },
    {
     "data": {
      "image/png": "[encoded data removed]",
      "text/plain": [
       "<Figure size 432x288 with 1 Axes>"
      ]
     },
     "metadata": {
      "needs_background": "light"
     },
     "output_type": "display_data"
    }
   ],
   "source": [
    "data['days_exposition'].plot(y ='days_exposition', bins = 30, kind = 'hist', grid=True, range =(0,200),title = ('Кол-во дней с момента публикации'))\n",
    "print(data['days_exposition'].describe())\n",
    "data['days_exposition'].value_counts()"
   ]
  },
  {
   "cell_type": "markdown",
   "metadata": {},
   "source": [
    "Вывод :\n",
    "\n",
    "Исходя из данных средний период снятия публикации - 157 дней. Медиана - 74 дня. \n",
    "На гистограмме особо выделяются 45 дней, 60 дней и 90 дней.\n",
    "Также методом value_counts() определили выбросы в значениях 7 дней и 30 дней.\n",
    "Предположим, что данные являются аномальными, также как и значение в 0 дней.\n",
    "На первой гистограмме видно, что после 600 дней значения маленькие, можно считать это число ограничением по времени.\n",
    "Можно сделать вывод, что квартиры продаются от 1 дня до 600 дней в среднем, если значение больше 600, то оно необычно долгими."
   ]
  },
  {
   "cell_type": "code",
   "execution_count": 13,
   "metadata": {},
   "outputs": [
    {
     "data": {
      "text/plain": [
       "count    18454.000000\n",
       "mean       195.803349\n",
       "std        226.760010\n",
       "min          1.000000\n",
       "25%         44.000000\n",
       "50%        114.000000\n",
       "75%        259.000000\n",
       "max       1580.000000\n",
       "Name: days_exposition, dtype: float64"
      ]
     },
     "execution_count": 13,
     "metadata": {},
     "output_type": "execute_result"
    },
    {
     "data": {
      "image/png": "[encoded data removed]",
      "text/plain": [
       "<Figure size 432x288 with 1 Axes>"
      ]
     },
     "metadata": {
      "needs_background": "light"
     },
     "output_type": "display_data"
    }
   ],
   "source": [
    "new_data = data.query('days_exposition != 0 and days_exposition != 7 and days_exposition != 30 and days_exposition != 45 and days_exposition != 60 and days_exposition != 90')\n",
    "new_data['days_exposition'].plot(y = 'days_exposition', kind = 'hist', bins = 50, range =(1,600), title = ('Кол-во дней с момента публикации'))\n",
    "new_data['days_exposition'].describe()"
   ]
  },
  {
   "cell_type": "markdown",
   "metadata": {},
   "source": [
    "Значение медианы и среднего значения увеличились в большую сторону. Медиана стала 114 дней, среднее значение - 196 дней. На гистограмме нет аномальных выбросов."
   ]
  },
  {
   "cell_type": "markdown",
   "metadata": {},
   "source": [
    "# Зависимость цены от площади, кол-ва комнат, удаленности от центра, этажа, даты публикации."
   ]
  },
  {
   "cell_type": "code",
   "execution_count": 14,
   "metadata": {},
   "outputs": [
    {
     "data": {
      "text/plain": [
       "0.6536750579657242"
      ]
     },
     "execution_count": 14,
     "metadata": {},
     "output_type": "execute_result"
    },
    {
     "data": {
      "image/png": "[encoded data removed]",
      "text/plain": [
       "<Figure size 432x288 with 1 Axes>"
      ]
     },
     "metadata": {
      "needs_background": "light"
     },
     "output_type": "display_data"
    }
   ],
   "source": [
    "new_data.plot(x = 'last_price', y = 'total_area', style = 'o', grid = True,title = ('Зависисмость цены от площади квартиры'))\n",
    "data['last_price'].corr(data['total_area'])"
   ]
  },
  {
   "cell_type": "markdown",
   "metadata": {},
   "source": [
    "Коэффициент корреляции 0,65, достаточно весомый. Можно сделать вывод, что чем больше площадь квартиры, тем больше ее стоимость."
   ]
  },
  {
   "cell_type": "code",
   "execution_count": 15,
   "metadata": {},
   "outputs": [
    {
     "data": {
      "text/plain": [
       "0.3633428499648948"
      ]
     },
     "execution_count": 15,
     "metadata": {},
     "output_type": "execute_result"
    },
    {
     "data": {
      "image/png": "[encoded data removed]",
      "text/plain": [
       "<Figure size 432x288 with 1 Axes>"
      ]
     },
     "metadata": {
      "needs_background": "light"
     },
     "output_type": "display_data"
    }
   ],
   "source": [
    "new_data.plot(x = 'last_price', y = 'rooms', style = 'o', grid = True,title = ('Зависисмость цены от кол-ва комнат'))\n",
    "data['rooms'].corr(data['last_price'])"
   ]
  },
  {
   "cell_type": "markdown",
   "metadata": {},
   "source": [
    "Коэффициент корреляции 0,36. Можно сделать вывод, что кол-во комнат влияет на стоимость квартиры."
   ]
  },
  {
   "cell_type": "code",
   "execution_count": 16,
   "metadata": {},
   "outputs": [
    {
     "data": {
      "text/plain": [
       "-0.20674734874298373"
      ]
     },
     "execution_count": 16,
     "metadata": {},
     "output_type": "execute_result"
    },
    {
     "data": {
      "image/png": "[encoded data removed]",
      "text/plain": [
       "<Figure size 432x288 with 1 Axes>"
      ]
     },
     "metadata": {
      "needs_background": "light"
     },
     "output_type": "display_data"
    }
   ],
   "source": [
    "new_data.plot(x = 'last_price', y = 'cityCenters_nearest', style = 'o', grid = True,title = ('Зависисмость цены от удаленности от центра'))\n",
    "data['cityCenters_nearest'].corr(data['last_price'])"
   ]
  },
  {
   "cell_type": "markdown",
   "metadata": {},
   "source": [
    "Коэффициент корреляции -0.2. По графику можно сделать вывод, что удаленность от центра влияет на стоимость квартиры.Чем ближе - тем выше цена."
   ]
  },
  {
   "cell_type": "code",
   "execution_count": 17,
   "metadata": {},
   "outputs": [
    {
     "data": {
      "text/plain": [
       "<AxesSubplot:title={'center':'Зависисмость цены от этажа'}, xlabel='floor_name'>"
      ]
     },
     "execution_count": 17,
     "metadata": {},
     "output_type": "execute_result"
    },
    {
     "data": {
      "image/png": "[encoded data removed]",
      "text/plain": [
       "<Figure size 432x288 with 1 Axes>"
      ]
     },
     "metadata": {
      "needs_background": "light"
     },
     "output_type": "display_data"
    }
   ],
   "source": [
    "pivot_table_floor = new_data.pivot_table(index = 'floor_name', values = 'last_price', aggfunc = 'median')\n",
    "pivot_table_floor.plot(title = 'Зависисмость цены от этажа')"
   ]
  },
  {
   "cell_type": "markdown",
   "metadata": {},
   "source": [
    "Исходя из графика можно сделать вывод, что квартиры на первом и последнем этаже дешевле других."
   ]
  },
  {
   "cell_type": "code",
   "execution_count": 18,
   "metadata": {},
   "outputs": [
    {
     "data": {
      "text/plain": [
       "<AxesSubplot:title={'center':'Зависисмость цены от дня недели'}, xlabel='day'>"
      ]
     },
     "execution_count": 18,
     "metadata": {},
     "output_type": "execute_result"
    },
    {
     "data": {
      "image/png": "[encoded data removed]",
      "text/plain": [
       "<Figure size 432x288 with 1 Axes>"
      ]
     },
     "metadata": {
      "needs_background": "light"
     },
     "output_type": "display_data"
    }
   ],
   "source": [
    "pivot_table_day = new_data.pivot_table(index = 'day', values = 'last_price', aggfunc = 'median')\n",
    "pivot_table_day.plot(title = 'Зависисмость цены от дня недели')"
   ]
  },
  {
   "cell_type": "markdown",
   "metadata": {},
   "source": [
    "Зависимость между днем недели и ценой не видна, единственное, можно сказать, что во вторник выставляют некоторые объявления дороже, а к выходным цена в объявлениях падает."
   ]
  },
  {
   "cell_type": "code",
   "execution_count": 19,
   "metadata": {},
   "outputs": [
    {
     "data": {
      "text/plain": [
       "<AxesSubplot:title={'center':'Зависисмость цены от месяца'}, xlabel='month'>"
      ]
     },
     "execution_count": 19,
     "metadata": {},
     "output_type": "execute_result"
    },
    {
     "data": {
      "image/png": "[encoded data removed]",
      "text/plain": [
       "<Figure size 432x288 with 1 Axes>"
      ]
     },
     "metadata": {
      "needs_background": "light"
     },
     "output_type": "display_data"
    }
   ],
   "source": [
    "pivot_table_month = new_data.pivot_table(index = 'month', values = 'last_price', aggfunc = 'median')\n",
    "pivot_table_month.plot(title = 'Зависисмость цены от месяца')"
   ]
  },
  {
   "cell_type": "markdown",
   "metadata": {},
   "source": [
    "Пик стоимостей в период август-сентябрь. Самая низкая стоимость в июне. В период летнего сезона мы видим провал на графике. Возможно, много людей выезжает куда-то летом и не занимаются поиском квартиры. "
   ]
  },
  {
   "cell_type": "code",
   "execution_count": 20,
   "metadata": {},
   "outputs": [
    {
     "data": {
      "text/plain": [
       "<AxesSubplot:title={'center':'Зависисмость цены от года'}, xlabel='year'>"
      ]
     },
     "execution_count": 20,
     "metadata": {},
     "output_type": "execute_result"
    },
    {
     "data": {
      "image/png": "[encoded data removed]",
      "text/plain": [
       "<Figure size 432x288 with 1 Axes>"
      ]
     },
     "metadata": {
      "needs_background": "light"
     },
     "output_type": "display_data"
    }
   ],
   "source": [
    "pivot_table_year = new_data.pivot_table(index = 'year', values = 'last_price', aggfunc = 'median')\n",
    "pivot_table_year.plot(title = 'Зависисмость цены от года')"
   ]
  },
  {
   "cell_type": "markdown",
   "metadata": {},
   "source": [
    "В период с 2014 по 2016 цена на квартиры упала. С 2018 года цена начинает повышаться.\n",
    "Возможно, падение цен на квартиры связано с кризисом в 2014-15 году."
   ]
  },
  {
   "cell_type": "code",
   "execution_count": 21,
   "metadata": {},
   "outputs": [],
   "source": [
    "def agg_plot_dyn_price(df, index, title):\n",
    "    pivot_table_year = df.pivot_table(index = index, values = 'last_price', aggfunc = 'median')\n",
    "    pivot_table_year.plot(title = title)"
   ]
  },
  {
   "cell_type": "markdown",
   "metadata": {},
   "source": [
    "# Населённые пункты с самой высокой и низкой стоимостью жилья"
   ]
  },
  {
   "cell_type": "code",
   "execution_count": 22,
   "metadata": {},
   "outputs": [
    {
     "data": {
      "text/html": [
       "<div>\n",
       "<style scoped>\n",
       "    .dataframe tbody tr th:only-of-type {\n",
       "        vertical-align: middle;\n",
       "    }\n",
       "\n",
       "    .dataframe tbody tr th {\n",
       "        vertical-align: top;\n",
       "    }\n",
       "\n",
       "    .dataframe thead th {\n",
       "        text-align: right;\n",
       "    }\n",
       "</style>\n",
       "<table border=\"1\" class=\"dataframe\">\n",
       "  <thead>\n",
       "    <tr style=\"text-align: right;\">\n",
       "      <th></th>\n",
       "      <th>count</th>\n",
       "      <th>mean</th>\n",
       "    </tr>\n",
       "    <tr>\n",
       "      <th>locality_name</th>\n",
       "      <th></th>\n",
       "      <th></th>\n",
       "    </tr>\n",
       "  </thead>\n",
       "  <tbody>\n",
       "    <tr>\n",
       "      <th>Санкт-Петербург</th>\n",
       "      <td>12414</td>\n",
       "      <td>112342.026764</td>\n",
       "    </tr>\n",
       "    <tr>\n",
       "      <th>посёлок Мурино</th>\n",
       "      <td>470</td>\n",
       "      <td>85660.937666</td>\n",
       "    </tr>\n",
       "    <tr>\n",
       "      <th>посёлок Шушары</th>\n",
       "      <td>359</td>\n",
       "      <td>78209.189630</td>\n",
       "    </tr>\n",
       "    <tr>\n",
       "      <th>Всеволожск</th>\n",
       "      <td>305</td>\n",
       "      <td>68612.109173</td>\n",
       "    </tr>\n",
       "    <tr>\n",
       "      <th>Пушкин</th>\n",
       "      <td>283</td>\n",
       "      <td>102690.649073</td>\n",
       "    </tr>\n",
       "    <tr>\n",
       "      <th>Колпино</th>\n",
       "      <td>273</td>\n",
       "      <td>75145.099754</td>\n",
       "    </tr>\n",
       "    <tr>\n",
       "      <th>деревня Кудрово</th>\n",
       "      <td>265</td>\n",
       "      <td>92234.338086</td>\n",
       "    </tr>\n",
       "    <tr>\n",
       "      <th>посёлок Парголово</th>\n",
       "      <td>261</td>\n",
       "      <td>89777.774558</td>\n",
       "    </tr>\n",
       "    <tr>\n",
       "      <th>Гатчина</th>\n",
       "      <td>241</td>\n",
       "      <td>67323.267175</td>\n",
       "    </tr>\n",
       "    <tr>\n",
       "      <th>Выборг</th>\n",
       "      <td>178</td>\n",
       "      <td>56983.032233</td>\n",
       "    </tr>\n",
       "  </tbody>\n",
       "</table>\n",
       "</div>"
      ],
      "text/plain": [
       "                   count           mean\n",
       "locality_name                          \n",
       "Санкт-Петербург    12414  112342.026764\n",
       "посёлок Мурино       470   85660.937666\n",
       "посёлок Шушары       359   78209.189630\n",
       "Всеволожск           305   68612.109173\n",
       "Пушкин               283  102690.649073\n",
       "Колпино              273   75145.099754\n",
       "деревня Кудрово      265   92234.338086\n",
       "посёлок Парголово    261   89777.774558\n",
       "Гатчина              241   67323.267175\n",
       "Выборг               178   56983.032233"
      ]
     },
     "metadata": {},
     "output_type": "display_data"
    },
    {
     "name": "stdout",
     "output_type": "stream",
     "text": [
      "Средняя стоимость квадртаного метра в топ-10 населенных пунктов по кол-ву объявлений: 46953.011478045235\n"
     ]
    },
    {
     "data": {
      "text/plain": [
       "<AxesSubplot:title={'center':'Средняя стоимость квадртаного метра в топ-10 населенных пунктов'}, ylabel='Frequency'>"
      ]
     },
     "execution_count": 22,
     "metadata": {},
     "output_type": "execute_result"
    },
    {
     "data": {
      "image/png": "[encoded data removed]",
      "text/plain": [
       "<Figure size 432x288 with 1 Axes>"
      ]
     },
     "metadata": {
      "needs_background": "light"
     },
     "output_type": "display_data"
    }
   ],
   "source": [
    "locality_pivot_table = new_data.pivot_table(index = 'locality_name', values = 'price_for_square_meter', aggfunc = ['count','mean'])\n",
    "locality_pivot_table.columns = ['count', 'mean']\n",
    "display(locality_pivot_table.sort_values('count', ascending = False).head(10))\n",
    "print('Средняя стоимость квадртаного метра в топ-10 населенных пунктов по кол-ву объявлений:', locality_pivot_table['mean'].mean())\n",
    "locality_pivot_table.plot(y = 'mean', kind = 'hist', bins = 10, grid = True,title = ('Средняя стоимость квадртаного метра в топ-10 населенных пунктов'))"
   ]
  },
  {
   "cell_type": "markdown",
   "metadata": {},
   "source": [
    "Средняя стоимость квадртаного метра в топ-10 населенных пунктов по кол-ву объявлений: 46953. Населенный пункт с самой высокой стоимостью жилья - Санкт-Петербург, населенный пункт с самой низкой стоимостью жилья - Выборг."
   ]
  },
  {
   "cell_type": "markdown",
   "metadata": {},
   "source": [
    "# Какая область входит в центр?"
   ]
  },
  {
   "cell_type": "code",
   "execution_count": 23,
   "metadata": {},
   "outputs": [
    {
     "name": "stdout",
     "output_type": "stream",
     "text": [
      "Средняя цена за каждый км: 662137.5977664766\n"
     ]
    },
    {
     "name": "stderr",
     "output_type": "stream",
     "text": [
      "/tmp/ipykernel_72/2329787044.py:2: SettingWithCopyWarning: \n",
      "A value is trying to be set on a copy of a slice from a DataFrame.\n",
      "Try using .loc[row_indexer,col_indexer] = value instead\n",
      "\n",
      "See the caveats in the documentation: https://pandas.pydata.org/pandas-docs/stable/user_guide/indexing.html#returning-a-view-versus-a-copy\n",
      "  data_spb['center_km'] = round(new_data['cityCenters_nearest']/1000)\n"
     ]
    },
    {
     "data": {
      "image/png": "[encoded data removed]",
      "text/plain": [
       "<Figure size 432x288 with 1 Axes>"
      ]
     },
     "metadata": {
      "needs_background": "light"
     },
     "output_type": "display_data"
    }
   ],
   "source": [
    "data_spb = new_data.query('locality_name == \"Санкт-Петербург\"')\n",
    "data_spb['center_km'] = round(new_data['cityCenters_nearest']/1000)\n",
    "mean_km = data_spb['last_price'].mean() / data_spb['center_km'].mean()\n",
    "print('Средняя цена за каждый км:' ,mean_km)\n",
    "data_spb.pivot_table(index = 'center_km', values = 'last_price', aggfunc = 'mean').plot(title = ('Цены на квартиры'))\n",
    "\n",
    "import warnings\n",
    "\n",
    "warnings.simplefilter('ignore')"
   ]
  },
  {
   "cell_type": "markdown",
   "metadata": {},
   "source": [
    "\n",
    "Исходя из графика можно сделать вывод, что цена зависит от расстояния до центра, чем ближе тем выше цена. Особое падение цены по сравнения с кв в самом центре происходит после 10 км.\n",
    "Предположим, что 10 км и есть центральная зона."
   ]
  },
  {
   "cell_type": "markdown",
   "metadata": {},
   "source": [
    "# Площадь, число комнат, высота потолков в центре"
   ]
  },
  {
   "cell_type": "code",
   "execution_count": 24,
   "metadata": {},
   "outputs": [
    {
     "data": {
      "text/html": [
       "<div>\n",
       "<style scoped>\n",
       "    .dataframe tbody tr th:only-of-type {\n",
       "        vertical-align: middle;\n",
       "    }\n",
       "\n",
       "    .dataframe tbody tr th {\n",
       "        vertical-align: top;\n",
       "    }\n",
       "\n",
       "    .dataframe thead th {\n",
       "        text-align: right;\n",
       "    }\n",
       "</style>\n",
       "<table border=\"1\" class=\"dataframe\">\n",
       "  <thead>\n",
       "    <tr style=\"text-align: right;\">\n",
       "      <th></th>\n",
       "      <th>total_images</th>\n",
       "      <th>last_price</th>\n",
       "      <th>total_area</th>\n",
       "      <th>first_day_exposition</th>\n",
       "      <th>rooms</th>\n",
       "      <th>ceiling_height</th>\n",
       "      <th>floors_total</th>\n",
       "      <th>living_area</th>\n",
       "      <th>floor</th>\n",
       "      <th>is_apartment</th>\n",
       "      <th>...</th>\n",
       "      <th>ponds_nearest</th>\n",
       "      <th>days_exposition</th>\n",
       "      <th>price_for_square_meter</th>\n",
       "      <th>day</th>\n",
       "      <th>month</th>\n",
       "      <th>year</th>\n",
       "      <th>floor_name</th>\n",
       "      <th>living_to_total</th>\n",
       "      <th>kitchen_to_total</th>\n",
       "      <th>center_km</th>\n",
       "    </tr>\n",
       "  </thead>\n",
       "  <tbody>\n",
       "    <tr>\n",
       "      <th>3</th>\n",
       "      <td>0</td>\n",
       "      <td>64900000.0</td>\n",
       "      <td>159.00</td>\n",
       "      <td>2015-07-24</td>\n",
       "      <td>3</td>\n",
       "      <td>NaN</td>\n",
       "      <td>14</td>\n",
       "      <td>NaN</td>\n",
       "      <td>9</td>\n",
       "      <td>False</td>\n",
       "      <td>...</td>\n",
       "      <td>234.0</td>\n",
       "      <td>424</td>\n",
       "      <td>408176.100629</td>\n",
       "      <td>4</td>\n",
       "      <td>7</td>\n",
       "      <td>2015</td>\n",
       "      <td>другой</td>\n",
       "      <td>NaN</td>\n",
       "      <td>NaN</td>\n",
       "      <td>7.0</td>\n",
       "    </tr>\n",
       "    <tr>\n",
       "      <th>4</th>\n",
       "      <td>2</td>\n",
       "      <td>10000000.0</td>\n",
       "      <td>100.00</td>\n",
       "      <td>2018-06-19</td>\n",
       "      <td>2</td>\n",
       "      <td>3.03</td>\n",
       "      <td>14</td>\n",
       "      <td>32.0</td>\n",
       "      <td>13</td>\n",
       "      <td>False</td>\n",
       "      <td>...</td>\n",
       "      <td>48.0</td>\n",
       "      <td>121</td>\n",
       "      <td>100000.000000</td>\n",
       "      <td>1</td>\n",
       "      <td>6</td>\n",
       "      <td>2018</td>\n",
       "      <td>другой</td>\n",
       "      <td>0.320000</td>\n",
       "      <td>0.410000</td>\n",
       "      <td>8.0</td>\n",
       "    </tr>\n",
       "    <tr>\n",
       "      <th>21</th>\n",
       "      <td>13</td>\n",
       "      <td>3200000.0</td>\n",
       "      <td>31.60</td>\n",
       "      <td>2018-03-14</td>\n",
       "      <td>1</td>\n",
       "      <td>NaN</td>\n",
       "      <td>5</td>\n",
       "      <td>16.9</td>\n",
       "      <td>2</td>\n",
       "      <td>False</td>\n",
       "      <td>...</td>\n",
       "      <td>NaN</td>\n",
       "      <td>310</td>\n",
       "      <td>101265.822785</td>\n",
       "      <td>2</td>\n",
       "      <td>3</td>\n",
       "      <td>2018</td>\n",
       "      <td>другой</td>\n",
       "      <td>0.534810</td>\n",
       "      <td>0.180380</td>\n",
       "      <td>10.0</td>\n",
       "    </tr>\n",
       "    <tr>\n",
       "      <th>24</th>\n",
       "      <td>8</td>\n",
       "      <td>6500000.0</td>\n",
       "      <td>97.20</td>\n",
       "      <td>2015-10-31</td>\n",
       "      <td>2</td>\n",
       "      <td>NaN</td>\n",
       "      <td>3</td>\n",
       "      <td>46.5</td>\n",
       "      <td>1</td>\n",
       "      <td>False</td>\n",
       "      <td>...</td>\n",
       "      <td>124.0</td>\n",
       "      <td>265</td>\n",
       "      <td>66872.427984</td>\n",
       "      <td>5</td>\n",
       "      <td>10</td>\n",
       "      <td>2015</td>\n",
       "      <td>первый</td>\n",
       "      <td>0.478395</td>\n",
       "      <td>0.201646</td>\n",
       "      <td>2.0</td>\n",
       "    </tr>\n",
       "    <tr>\n",
       "      <th>35</th>\n",
       "      <td>6</td>\n",
       "      <td>15500000.0</td>\n",
       "      <td>149.00</td>\n",
       "      <td>2017-06-26</td>\n",
       "      <td>5</td>\n",
       "      <td>NaN</td>\n",
       "      <td>5</td>\n",
       "      <td>104.0</td>\n",
       "      <td>4</td>\n",
       "      <td>False</td>\n",
       "      <td>...</td>\n",
       "      <td>779.0</td>\n",
       "      <td>644</td>\n",
       "      <td>104026.845638</td>\n",
       "      <td>0</td>\n",
       "      <td>6</td>\n",
       "      <td>2017</td>\n",
       "      <td>другой</td>\n",
       "      <td>0.697987</td>\n",
       "      <td>0.114094</td>\n",
       "      <td>4.0</td>\n",
       "    </tr>\n",
       "    <tr>\n",
       "      <th>...</th>\n",
       "      <td>...</td>\n",
       "      <td>...</td>\n",
       "      <td>...</td>\n",
       "      <td>...</td>\n",
       "      <td>...</td>\n",
       "      <td>...</td>\n",
       "      <td>...</td>\n",
       "      <td>...</td>\n",
       "      <td>...</td>\n",
       "      <td>...</td>\n",
       "      <td>...</td>\n",
       "      <td>...</td>\n",
       "      <td>...</td>\n",
       "      <td>...</td>\n",
       "      <td>...</td>\n",
       "      <td>...</td>\n",
       "      <td>...</td>\n",
       "      <td>...</td>\n",
       "      <td>...</td>\n",
       "      <td>...</td>\n",
       "      <td>...</td>\n",
       "    </tr>\n",
       "    <tr>\n",
       "      <th>23668</th>\n",
       "      <td>13</td>\n",
       "      <td>6000000.0</td>\n",
       "      <td>47.00</td>\n",
       "      <td>2018-03-16</td>\n",
       "      <td>2</td>\n",
       "      <td>3.00</td>\n",
       "      <td>5</td>\n",
       "      <td>27.0</td>\n",
       "      <td>4</td>\n",
       "      <td>False</td>\n",
       "      <td>...</td>\n",
       "      <td>NaN</td>\n",
       "      <td>157</td>\n",
       "      <td>127659.574468</td>\n",
       "      <td>4</td>\n",
       "      <td>3</td>\n",
       "      <td>2018</td>\n",
       "      <td>другой</td>\n",
       "      <td>0.574468</td>\n",
       "      <td>0.191489</td>\n",
       "      <td>9.0</td>\n",
       "    </tr>\n",
       "    <tr>\n",
       "      <th>23681</th>\n",
       "      <td>13</td>\n",
       "      <td>5250000.0</td>\n",
       "      <td>43.00</td>\n",
       "      <td>2018-05-11</td>\n",
       "      <td>2</td>\n",
       "      <td>2.50</td>\n",
       "      <td>5</td>\n",
       "      <td>29.0</td>\n",
       "      <td>2</td>\n",
       "      <td>False</td>\n",
       "      <td>...</td>\n",
       "      <td>660.0</td>\n",
       "      <td>80</td>\n",
       "      <td>122093.023256</td>\n",
       "      <td>4</td>\n",
       "      <td>5</td>\n",
       "      <td>2018</td>\n",
       "      <td>другой</td>\n",
       "      <td>0.674419</td>\n",
       "      <td>0.139535</td>\n",
       "      <td>7.0</td>\n",
       "    </tr>\n",
       "    <tr>\n",
       "      <th>23690</th>\n",
       "      <td>3</td>\n",
       "      <td>5500000.0</td>\n",
       "      <td>52.00</td>\n",
       "      <td>2018-07-19</td>\n",
       "      <td>2</td>\n",
       "      <td>NaN</td>\n",
       "      <td>5</td>\n",
       "      <td>31.0</td>\n",
       "      <td>2</td>\n",
       "      <td>False</td>\n",
       "      <td>...</td>\n",
       "      <td>NaN</td>\n",
       "      <td>15</td>\n",
       "      <td>105769.230769</td>\n",
       "      <td>3</td>\n",
       "      <td>7</td>\n",
       "      <td>2018</td>\n",
       "      <td>другой</td>\n",
       "      <td>0.596154</td>\n",
       "      <td>0.115385</td>\n",
       "      <td>6.0</td>\n",
       "    </tr>\n",
       "    <tr>\n",
       "      <th>23691</th>\n",
       "      <td>11</td>\n",
       "      <td>9470000.0</td>\n",
       "      <td>72.90</td>\n",
       "      <td>2016-10-13</td>\n",
       "      <td>2</td>\n",
       "      <td>2.75</td>\n",
       "      <td>25</td>\n",
       "      <td>40.3</td>\n",
       "      <td>7</td>\n",
       "      <td>False</td>\n",
       "      <td>...</td>\n",
       "      <td>806.0</td>\n",
       "      <td>519</td>\n",
       "      <td>129903.978052</td>\n",
       "      <td>3</td>\n",
       "      <td>10</td>\n",
       "      <td>2016</td>\n",
       "      <td>другой</td>\n",
       "      <td>0.552812</td>\n",
       "      <td>0.145405</td>\n",
       "      <td>4.0</td>\n",
       "    </tr>\n",
       "    <tr>\n",
       "      <th>23697</th>\n",
       "      <td>13</td>\n",
       "      <td>11475000.0</td>\n",
       "      <td>76.75</td>\n",
       "      <td>2017-03-28</td>\n",
       "      <td>2</td>\n",
       "      <td>3.00</td>\n",
       "      <td>17</td>\n",
       "      <td>NaN</td>\n",
       "      <td>12</td>\n",
       "      <td>False</td>\n",
       "      <td>...</td>\n",
       "      <td>196.0</td>\n",
       "      <td>602</td>\n",
       "      <td>149511.400651</td>\n",
       "      <td>1</td>\n",
       "      <td>3</td>\n",
       "      <td>2017</td>\n",
       "      <td>другой</td>\n",
       "      <td>NaN</td>\n",
       "      <td>0.303583</td>\n",
       "      <td>10.0</td>\n",
       "    </tr>\n",
       "  </tbody>\n",
       "</table>\n",
       "<p>4212 rows × 30 columns</p>\n",
       "</div>"
      ],
      "text/plain": [
       "       total_images  last_price  total_area first_day_exposition  rooms  \\\n",
       "3                 0  64900000.0      159.00           2015-07-24      3   \n",
       "4                 2  10000000.0      100.00           2018-06-19      2   \n",
       "21               13   3200000.0       31.60           2018-03-14      1   \n",
       "24                8   6500000.0       97.20           2015-10-31      2   \n",
       "35                6  15500000.0      149.00           2017-06-26      5   \n",
       "...             ...         ...         ...                  ...    ...   \n",
       "23668            13   6000000.0       47.00           2018-03-16      2   \n",
       "23681            13   5250000.0       43.00           2018-05-11      2   \n",
       "23690             3   5500000.0       52.00           2018-07-19      2   \n",
       "23691            11   9470000.0       72.90           2016-10-13      2   \n",
       "23697            13  11475000.0       76.75           2017-03-28      2   \n",
       "\n",
       "       ceiling_height  floors_total  living_area  floor  is_apartment  ...  \\\n",
       "3                 NaN            14          NaN      9         False  ...   \n",
       "4                3.03            14         32.0     13         False  ...   \n",
       "21                NaN             5         16.9      2         False  ...   \n",
       "24                NaN             3         46.5      1         False  ...   \n",
       "35                NaN             5        104.0      4         False  ...   \n",
       "...               ...           ...          ...    ...           ...  ...   \n",
       "23668            3.00             5         27.0      4         False  ...   \n",
       "23681            2.50             5         29.0      2         False  ...   \n",
       "23690             NaN             5         31.0      2         False  ...   \n",
       "23691            2.75            25         40.3      7         False  ...   \n",
       "23697            3.00            17          NaN     12         False  ...   \n",
       "\n",
       "       ponds_nearest  days_exposition  price_for_square_meter  day month  \\\n",
       "3              234.0              424           408176.100629    4     7   \n",
       "4               48.0              121           100000.000000    1     6   \n",
       "21               NaN              310           101265.822785    2     3   \n",
       "24             124.0              265            66872.427984    5    10   \n",
       "35             779.0              644           104026.845638    0     6   \n",
       "...              ...              ...                     ...  ...   ...   \n",
       "23668            NaN              157           127659.574468    4     3   \n",
       "23681          660.0               80           122093.023256    4     5   \n",
       "23690            NaN               15           105769.230769    3     7   \n",
       "23691          806.0              519           129903.978052    3    10   \n",
       "23697          196.0              602           149511.400651    1     3   \n",
       "\n",
       "       year  floor_name  living_to_total  kitchen_to_total  center_km  \n",
       "3      2015      другой              NaN               NaN        7.0  \n",
       "4      2018      другой         0.320000          0.410000        8.0  \n",
       "21     2018      другой         0.534810          0.180380       10.0  \n",
       "24     2015      первый         0.478395          0.201646        2.0  \n",
       "35     2017      другой         0.697987          0.114094        4.0  \n",
       "...     ...         ...              ...               ...        ...  \n",
       "23668  2018      другой         0.574468          0.191489        9.0  \n",
       "23681  2018      другой         0.674419          0.139535        7.0  \n",
       "23690  2018      другой         0.596154          0.115385        6.0  \n",
       "23691  2016      другой         0.552812          0.145405        4.0  \n",
       "23697  2017      другой              NaN          0.303583       10.0  \n",
       "\n",
       "[4212 rows x 30 columns]"
      ]
     },
     "execution_count": 24,
     "metadata": {},
     "output_type": "execute_result"
    }
   ],
   "source": [
    "center_data = data_spb.query('center_km <= 10')\n",
    "center_data"
   ]
  },
  {
   "cell_type": "code",
   "execution_count": 25,
   "metadata": {},
   "outputs": [
    {
     "data": {
      "text/plain": [
       "count    4212.000000\n",
       "mean       80.293094\n",
       "std        53.948819\n",
       "min        12.000000\n",
       "25%        46.400000\n",
       "50%        67.700000\n",
       "75%        95.000000\n",
       "max       900.000000\n",
       "Name: total_area, dtype: float64"
      ]
     },
     "execution_count": 25,
     "metadata": {},
     "output_type": "execute_result"
    },
    {
     "data": {
      "image/png": "[encoded data removed]",
      "text/plain": [
       "<Figure size 432x288 with 1 Axes>"
      ]
     },
     "metadata": {
      "needs_background": "light"
     },
     "output_type": "display_data"
    }
   ],
   "source": [
    "center_data['total_area'].plot(kind ='hist',bins=40,title = ('Площадь квартир в центре'))\n",
    "center_data['total_area'].describe()"
   ]
  },
  {
   "cell_type": "markdown",
   "metadata": {},
   "source": [
    "Средняя плошадь квартир в центре - 80, медиана - 68. Данные отличаются от общей выборки (Среднее значение - 60 кв. м.). Плошадь квартир в центре в среднем больше."
   ]
  },
  {
   "cell_type": "code",
   "execution_count": 26,
   "metadata": {},
   "outputs": [
    {
     "data": {
      "text/plain": [
       "count    4212.000000\n",
       "mean        2.533713\n",
       "std         1.356113\n",
       "min         0.000000\n",
       "25%         2.000000\n",
       "50%         2.000000\n",
       "75%         3.000000\n",
       "max        19.000000\n",
       "Name: rooms, dtype: float64"
      ]
     },
     "execution_count": 26,
     "metadata": {},
     "output_type": "execute_result"
    },
    {
     "data": {
      "image/png": "[encoded data removed]",
      "text/plain": [
       "<Figure size 432x288 with 1 Axes>"
      ]
     },
     "metadata": {
      "needs_background": "light"
     },
     "output_type": "display_data"
    }
   ],
   "source": [
    "center_data['rooms'].plot(kind ='hist',bins=40,title = ('Число комнат в квартирах в центре'))\n",
    "center_data['rooms'].describe()"
   ]
  },
  {
   "cell_type": "markdown",
   "metadata": {},
   "source": [
    "В центре больше двухкомнатных квартир. Однокомнатных меньше, чем в общей выборке. "
   ]
  },
  {
   "cell_type": "code",
   "execution_count": 27,
   "metadata": {},
   "outputs": [
    {
     "data": {
      "text/plain": [
       "count    2669.000000\n",
       "mean        3.032057\n",
       "std         2.070772\n",
       "min         2.400000\n",
       "25%         2.700000\n",
       "50%         3.000000\n",
       "75%         3.200000\n",
       "max       100.000000\n",
       "Name: ceiling_height, dtype: float64"
      ]
     },
     "execution_count": 27,
     "metadata": {},
     "output_type": "execute_result"
    },
    {
     "data": {
      "image/png": "[encoded data removed]",
      "text/plain": [
       "<Figure size 432x288 with 1 Axes>"
      ]
     },
     "metadata": {
      "needs_background": "light"
     },
     "output_type": "display_data"
    }
   ],
   "source": [
    "center_data['ceiling_height'].plot(kind ='hist',bins=40,title = ('Высота потолков в квартирах в центре'), range = (0,6))\n",
    "center_data['ceiling_height'].describe()"
   ]
  },
  {
   "cell_type": "markdown",
   "metadata": {},
   "source": [
    "В квартирах в центре средняя высота потолков - 3 метра, в общей выборке средняя высота - 2,7 м."
   ]
  },
  {
   "cell_type": "markdown",
   "metadata": {},
   "source": [
    "# Зависимость цены квартиры в центре от числа комнат, этажа, удалённости от центра, даты размещения объявления"
   ]
  },
  {
   "cell_type": "code",
   "execution_count": 28,
   "metadata": {},
   "outputs": [
    {
     "data": {
      "text/plain": [
       "0.3624812852494068"
      ]
     },
     "execution_count": 28,
     "metadata": {},
     "output_type": "execute_result"
    },
    {
     "data": {
      "image/png": "[encoded data removed]",
      "text/plain": [
       "<Figure size 432x288 with 1 Axes>"
      ]
     },
     "metadata": {
      "needs_background": "light"
     },
     "output_type": "display_data"
    }
   ],
   "source": [
    "center_data.plot(x = 'last_price', y = 'rooms', style = 'o', grid = True,title = ('Зависимость цены квартиры в центре от числа комнат'))\n",
    "\n",
    "center_data['rooms'].corr(center_data['last_price'])"
   ]
  },
  {
   "cell_type": "markdown",
   "metadata": {},
   "source": [
    "Зависимость такая же как в общей выборке : цена поднимается в зависимости от кол-ва комнат, разница между однокомнатной и пятикомнатной существенная."
   ]
  },
  {
   "cell_type": "code",
   "execution_count": 29,
   "metadata": {},
   "outputs": [
    {
     "data": {
      "text/plain": [
       "<AxesSubplot:title={'center':'Зависимость цены квартиры в центре от этажа'}, xlabel='floor_name'>"
      ]
     },
     "execution_count": 29,
     "metadata": {},
     "output_type": "execute_result"
    },
    {
     "data": {
      "image/png": "[encoded data removed]",
      "text/plain": [
       "<Figure size 432x288 with 1 Axes>"
      ]
     },
     "metadata": {
      "needs_background": "light"
     },
     "output_type": "display_data"
    }
   ],
   "source": [
    "pivot_table_new_floor = center_data.pivot_table(index = 'floor_name', values = 'last_price', aggfunc = 'median')\n",
    "pivot_table_new_floor.plot(title = ('Зависимость цены квартиры в центре от этажа'))"
   ]
  },
  {
   "cell_type": "markdown",
   "metadata": {},
   "source": [
    "В отличие от общей выборки здесь последний этаж не уступает в цене квартирам на других этажах, однако на первом этаже квартиры также дешевле."
   ]
  },
  {
   "cell_type": "code",
   "execution_count": 30,
   "metadata": {},
   "outputs": [
    {
     "data": {
      "text/plain": [
       "-0.1535473560705494"
      ]
     },
     "execution_count": 30,
     "metadata": {},
     "output_type": "execute_result"
    },
    {
     "data": {
      "image/png": "[encoded data removed]",
      "text/plain": [
       "<Figure size 432x288 with 1 Axes>"
      ]
     },
     "metadata": {
      "needs_background": "light"
     },
     "output_type": "display_data"
    }
   ],
   "source": [
    "center_data.plot(x = 'last_price', y = 'cityCenters_nearest', style = 'o', grid = True, title = ('Зависимость цены квартиры в центре от удаленности от центра'))\n",
    "center_data['cityCenters_nearest'].corr(center_data['last_price'])"
   ]
  },
  {
   "cell_type": "markdown",
   "metadata": {},
   "source": [
    "Четкой зависимости нет, так как это все центр города."
   ]
  },
  {
   "cell_type": "code",
   "execution_count": 31,
   "metadata": {},
   "outputs": [
    {
     "data": {
      "image/png": "[encoded data removed]",
      "text/plain": [
       "<Figure size 432x288 with 1 Axes>"
      ]
     },
     "metadata": {
      "needs_background": "light"
     },
     "output_type": "display_data"
    },
    {
     "name": "stdout",
     "output_type": "stream",
     "text": [
      "AxesSubplot(0.125,0.125;0.775x0.755)\n"
     ]
    },
    {
     "data": {
      "text/plain": [
       "<AxesSubplot:title={'center':'Зависимость цены квартиры в центре от года публикации'}, xlabel='year'>"
      ]
     },
     "execution_count": 31,
     "metadata": {},
     "output_type": "execute_result"
    },
    {
     "data": {
      "image/png": "[encoded data removed]",
      "text/plain": [
       "<Figure size 432x288 with 1 Axes>"
      ]
     },
     "metadata": {
      "needs_background": "light"
     },
     "output_type": "display_data"
    },
    {
     "data": {
      "image/png": "[encoded data removed]",
      "text/plain": [
       "<Figure size 432x288 with 1 Axes>"
      ]
     },
     "metadata": {
      "needs_background": "light"
     },
     "output_type": "display_data"
    }
   ],
   "source": [
    "pivot_table_new_day = center_data.pivot_table(index = 'day', values = 'last_price', aggfunc = 'median')\n",
    "plt.plot(pivot_table_new_day)\n",
    "plt.title('Зависимость цены от даты публикации в центре')\n",
    "plt.show()\n",
    "\n",
    "\n",
    "pivot_table_new_month = center_data.pivot_table(index = 'month', values = 'last_price', aggfunc = 'median')\n",
    "print(pivot_table_new_month.plot(title = ('Зависимость цены квартиры в центре от месяца публикации ')))\n",
    "\n",
    "pivot_table_new_year = center_data.pivot_table(index = 'year', values = 'last_price', aggfunc = 'median')\n",
    "pivot_table_new_year.plot(title = ('Зависимость цены квартиры в центре от года публикации'))"
   ]
  },
  {
   "cell_type": "markdown",
   "metadata": {},
   "source": [
    "По сравнению с общей выборкой, в центре объявления, выставленные во вторник и пятницу, дешевле, а к выходным цена наоборот повышается.\n",
    "По месяцам - самые дорогие объявления выставлют также как и в общей выборке в августе-сентябре. Однако самая низкая стоимость в декабре, в летний сезон также наблюдается спад, но не такой как в общей выборке.\n",
    "По годам - Резкий спад, также как и в общей выборке, наблюдается в период 2014-2015 годов, но так и продолжает падать. "
   ]
  },
  {
   "cell_type": "markdown",
   "metadata": {},
   "source": [
    "## Сравнение центра города с общей выборкой (площадь, число комнат, высота потолков)"
   ]
  },
  {
   "cell_type": "code",
   "execution_count": 32,
   "metadata": {},
   "outputs": [
    {
     "data": {
      "image/png": "[encoded data removed]",
      "text/plain": [
       "<Figure size 432x288 with 1 Axes>"
      ]
     },
     "metadata": {
      "needs_background": "light"
     },
     "output_type": "display_data"
    }
   ],
   "source": [
    "data['total_area'].plot(y='total_area',kind = 'hist', bins=40, grid=True, range = (0,500), title = ('Площадь квартир'))\n",
    "center_data['total_area'].plot(kind ='hist',bins=30,title = ('Площадь квартир в центре'))\n",
    "plt.show()\n"
   ]
  },
  {
   "cell_type": "markdown",
   "metadata": {},
   "source": [
    "Можно заметить, что  гафик по площади квартир в центре смещен вправо, в центре находятся квартиры с большей площадью."
   ]
  },
  {
   "cell_type": "code",
   "execution_count": 33,
   "metadata": {},
   "outputs": [
    {
     "data": {
      "image/png": "[encoded data removed]",
      "text/plain": [
       "<Figure size 432x288 with 1 Axes>"
      ]
     },
     "metadata": {
      "needs_background": "light"
     },
     "output_type": "display_data"
    }
   ],
   "source": [
    "data['rooms'].plot(kind ='hist',bins=40,title = ('Число комнат в квартирах в центре'))\n",
    "center_data['rooms'].plot(kind ='hist',bins=40,title = ('Число комнат в квартирах в центре'))\n",
    "plt.show()"
   ]
  },
  {
   "cell_type": "markdown",
   "metadata": {},
   "source": [
    "В центре большое кол-во 3-х комнатных квартир из общей выборки."
   ]
  },
  {
   "cell_type": "code",
   "execution_count": 34,
   "metadata": {},
   "outputs": [
    {
     "data": {
      "image/png": "[encoded data removed]",
      "text/plain": [
       "<Figure size 432x288 with 1 Axes>"
      ]
     },
     "metadata": {
      "needs_background": "light"
     },
     "output_type": "display_data"
    }
   ],
   "source": [
    "data['ceiling_height'].plot(kind ='hist',bins=40,title = ('Высота потолков в квартирах в центре'), range = (0,6))\n",
    "center_data['ceiling_height'].plot(kind ='hist',bins=40,title = ('Высота потолков в квартирах в центре'), range = (0,6))\n",
    "plt.show()"
   ]
  },
  {
   "cell_type": "markdown",
   "metadata": {},
   "source": [
    "Высота потолков в центре в среднем - 3 м, основная часть квартир из общей выборки с такими потолками находится в центре."
   ]
  },
  {
   "cell_type": "markdown",
   "metadata": {},
   "source": [
    "## Общий вывод"
   ]
  },
  {
   "cell_type": "markdown",
   "metadata": {},
   "source": [
    "1) После получения и предобработки данных мы с помощью графиков выявили аномальные значения и отбросили их, далее проанализировали общий рынок квартир в Питере.\n",
    "Выводы по общей выборке : \n",
    "    \n",
    "Площадь квартир варьируется от 12 кв.м до 900 кв. м. Среднее значение - 60 кв. м\n",
    "\n",
    "Больше всего однокомнатных и двухкомнатных квартир.\n",
    "\n",
    "Средняя высота потолков в квартирах 2,7 м.\n",
    "\n",
    "Среднее значение продажи кв- 196 дней.\n",
    "\n",
    "Чем больше площадь квартиры, тем больше ее стоимость.\n",
    "\n",
    "Кол-во комнат влияет на стоимость квартиры. Чем бюольше комнат -  тем больше стоимость.\n",
    "\n",
    "Чем ближе к центру - тем выше цена.\n",
    "\n",
    "Квартиры на первом и последнем этаже дешевле других.\n",
    "\n",
    "Пик стоимости квартир в период август-сентябрь. Самая низкая стоимость в июне.\n",
    "\n",
    "Во вторник выставляют некоторые объявления дороже, а к выходным цена в объявлениях падает.\n",
    "\n",
    "В период с 2014 по 2016 цена на квартиры упала. С 2018 года цена начинает повышаться.\n",
    "\n",
    "2) Далее мы рассмотрели топ-10 населенных пунктов :\n",
    "\n",
    "Средняя стоимость квадртаного метра в топ-10 населенных пунктов по кол-ву объявлений: 46953. \n",
    "\n",
    "Населенный пункт с самой высокой стоимостью жилья - Санкт-Петербург, населенный пункт с самой низкой стоимостью жилья - Выборг.\n",
    "\n",
    "3) Далее мы проанализировали центр города и сделали вывод, что радиус центра Питера - 10 км.\n",
    "\n",
    "4) Исходя из вывода по центру города, мы сравнили показатели общей выборки и выборки по центру :\n",
    "\n",
    "Зависимость комнат от цены такая же как в общей выборке : цена поднимается в зависимости от кол-ва комнат.\n",
    "\n",
    "В отличие от общей выборки здесь последний этаж не уступает в цене квартирам на других этажах, однако на первом этаже квартиры также дешевле.\n",
    "\n",
    "По сравнению с общей выборкой, в центре объявления, выставленные во вторник и пятницу, дешевле, а к выходным цена наоборот повышается.\n",
    "По месяцам - самые дорогие объявления выставляют также как и в общей выборке в августе-сентябре. Однако самая низкая стоимость в декабре, в летний сезон также наблюдается спад, но не такой как в общей выборке.\n",
    "По годам - Резкий спад, также как и в общей выборке, наблюдается в период 2014-2015 годов, но так и продолжает падать.\n",
    "\n",
    "    \n"
   ]
  }
 ],
 "metadata": {
  "ExecuteTimeLog": [
   {
    "duration": 678,
    "start_time": "2022-02-28T09:55:40.167Z"
   },
   {
    "duration": 618,
    "start_time": "2022-02-28T09:55:52.816Z"
   },
   {
    "duration": 80,
    "start_time": "2022-02-28T09:56:05.862Z"
   },
   {
    "duration": 77,
    "start_time": "2022-02-28T09:57:08.815Z"
   },
   {
    "duration": 25,
    "start_time": "2022-02-28T11:32:16.572Z"
   },
   {
    "duration": 4,
    "start_time": "2022-02-28T11:32:51.310Z"
   },
   {
    "duration": 8,
    "start_time": "2022-02-28T11:34:07.410Z"
   },
   {
    "duration": 6,
    "start_time": "2022-02-28T11:35:33.413Z"
   },
   {
    "duration": 240,
    "start_time": "2022-02-28T11:37:53.321Z"
   },
   {
    "duration": 7,
    "start_time": "2022-02-28T11:38:04.382Z"
   },
   {
    "duration": 222,
    "start_time": "2022-02-28T11:38:07.953Z"
   },
   {
    "duration": 7,
    "start_time": "2022-02-28T11:38:09.954Z"
   },
   {
    "duration": 11,
    "start_time": "2022-02-28T11:41:30.823Z"
   },
   {
    "duration": 65,
    "start_time": "2022-02-28T11:43:27.524Z"
   },
   {
    "duration": 201,
    "start_time": "2022-02-28T11:49:53.041Z"
   },
   {
    "duration": 6,
    "start_time": "2022-02-28T11:53:38.304Z"
   },
   {
    "duration": 8,
    "start_time": "2022-02-28T11:56:39.293Z"
   },
   {
    "duration": 7,
    "start_time": "2022-02-28T11:58:19.202Z"
   },
   {
    "duration": 8,
    "start_time": "2022-02-28T11:58:29.672Z"
   },
   {
    "duration": 4,
    "start_time": "2022-02-28T11:59:59.112Z"
   },
   {
    "duration": 9,
    "start_time": "2022-02-28T12:02:03.723Z"
   },
   {
    "duration": 7,
    "start_time": "2022-02-28T12:02:58.811Z"
   },
   {
    "duration": 7,
    "start_time": "2022-02-28T12:04:02.423Z"
   },
   {
    "duration": 9,
    "start_time": "2022-02-28T12:04:37.012Z"
   },
   {
    "duration": 11,
    "start_time": "2022-02-28T12:05:31.380Z"
   },
   {
    "duration": 5,
    "start_time": "2022-02-28T12:06:33.573Z"
   },
   {
    "duration": 6,
    "start_time": "2022-02-28T12:06:39.222Z"
   },
   {
    "duration": 8,
    "start_time": "2022-02-28T12:06:50.280Z"
   },
   {
    "duration": 10,
    "start_time": "2022-02-28T12:07:10.062Z"
   },
   {
    "duration": 8,
    "start_time": "2022-02-28T12:07:45.653Z"
   },
   {
    "duration": 78,
    "start_time": "2022-02-28T12:08:51.053Z"
   },
   {
    "duration": 3,
    "start_time": "2022-02-28T12:08:51.133Z"
   },
   {
    "duration": 10,
    "start_time": "2022-02-28T12:08:51.138Z"
   },
   {
    "duration": 9,
    "start_time": "2022-02-28T12:09:25.074Z"
   },
   {
    "duration": 8,
    "start_time": "2022-02-28T12:09:36.895Z"
   },
   {
    "duration": 7,
    "start_time": "2022-02-28T12:09:43.243Z"
   },
   {
    "duration": 7,
    "start_time": "2022-02-28T12:09:55.390Z"
   },
   {
    "duration": 8,
    "start_time": "2022-02-28T12:10:11.000Z"
   },
   {
    "duration": 9,
    "start_time": "2022-02-28T12:10:42.572Z"
   },
   {
    "duration": 11,
    "start_time": "2022-02-28T12:11:59.153Z"
   },
   {
    "duration": 13,
    "start_time": "2022-02-28T12:15:29.262Z"
   },
   {
    "duration": 13,
    "start_time": "2022-02-28T12:16:07.131Z"
   },
   {
    "duration": 15,
    "start_time": "2022-02-28T12:17:59.272Z"
   },
   {
    "duration": 18,
    "start_time": "2022-02-28T12:18:12.663Z"
   },
   {
    "duration": 19,
    "start_time": "2022-02-28T12:20:05.963Z"
   },
   {
    "duration": 22,
    "start_time": "2022-02-28T12:21:02.992Z"
   },
   {
    "duration": 25,
    "start_time": "2022-02-28T12:22:21.583Z"
   },
   {
    "duration": 229,
    "start_time": "2022-02-28T12:25:43.446Z"
   },
   {
    "duration": 28,
    "start_time": "2022-02-28T12:25:51.555Z"
   },
   {
    "duration": 28,
    "start_time": "2022-02-28T12:29:42.442Z"
   },
   {
    "duration": 5061,
    "start_time": "2022-02-28T12:29:47.954Z"
   },
   {
    "duration": 5110,
    "start_time": "2022-02-28T12:30:19.335Z"
   },
   {
    "duration": 10,
    "start_time": "2022-02-28T12:30:38.985Z"
   },
   {
    "duration": 12,
    "start_time": "2022-02-28T12:31:08.895Z"
   },
   {
    "duration": 29,
    "start_time": "2022-02-28T12:47:52.973Z"
   },
   {
    "duration": 32,
    "start_time": "2022-02-28T12:50:33.434Z"
   },
   {
    "duration": 15,
    "start_time": "2022-02-28T12:52:54.925Z"
   },
   {
    "duration": 328,
    "start_time": "2022-02-28T13:00:04.465Z"
   },
   {
    "duration": 286,
    "start_time": "2022-02-28T13:00:37.145Z"
   },
   {
    "duration": 490,
    "start_time": "2022-02-28T13:02:31.776Z"
   },
   {
    "duration": 397,
    "start_time": "2022-02-28T13:02:54.785Z"
   },
   {
    "duration": 448,
    "start_time": "2022-02-28T13:03:13.425Z"
   },
   {
    "duration": 476,
    "start_time": "2022-02-28T13:03:22.326Z"
   },
   {
    "duration": 521,
    "start_time": "2022-02-28T13:07:36.427Z"
   },
   {
    "duration": 93,
    "start_time": "2022-02-28T13:10:43.885Z"
   },
   {
    "duration": 738,
    "start_time": "2022-02-28T13:11:17.626Z"
   },
   {
    "duration": 90,
    "start_time": "2022-02-28T13:11:27.826Z"
   },
   {
    "duration": 3,
    "start_time": "2022-02-28T13:11:27.919Z"
   },
   {
    "duration": 30,
    "start_time": "2022-02-28T13:11:28.043Z"
   },
   {
    "duration": 17,
    "start_time": "2022-02-28T13:11:28.076Z"
   },
   {
    "duration": 11,
    "start_time": "2022-02-28T13:11:28.095Z"
   },
   {
    "duration": 507,
    "start_time": "2022-02-28T13:11:28.108Z"
   },
   {
    "duration": 307,
    "start_time": "2022-02-28T15:08:34.741Z"
   },
   {
    "duration": 808,
    "start_time": "2022-02-28T15:08:39.141Z"
   },
   {
    "duration": 4,
    "start_time": "2022-02-28T15:08:39.952Z"
   },
   {
    "duration": 66,
    "start_time": "2022-02-28T15:08:39.960Z"
   },
   {
    "duration": 19,
    "start_time": "2022-02-28T15:08:40.029Z"
   },
   {
    "duration": 39,
    "start_time": "2022-02-28T15:08:40.050Z"
   },
   {
    "duration": 819,
    "start_time": "2022-02-28T15:08:40.091Z"
   },
   {
    "duration": 408,
    "start_time": "2022-02-28T15:08:40.912Z"
   },
   {
    "duration": 416,
    "start_time": "2022-02-28T15:09:13.495Z"
   },
   {
    "duration": 330,
    "start_time": "2022-02-28T15:09:31.143Z"
   },
   {
    "duration": 78,
    "start_time": "2022-02-28T15:10:12.793Z"
   },
   {
    "duration": 264,
    "start_time": "2022-02-28T15:10:19.863Z"
   },
   {
    "duration": 530,
    "start_time": "2022-02-28T15:11:45.223Z"
   },
   {
    "duration": 274,
    "start_time": "2022-02-28T15:11:51.063Z"
   },
   {
    "duration": 818,
    "start_time": "2022-02-28T15:12:04.083Z"
   },
   {
    "duration": 443,
    "start_time": "2022-02-28T15:12:11.723Z"
   },
   {
    "duration": 392,
    "start_time": "2022-02-28T15:12:39.424Z"
   },
   {
    "duration": 435,
    "start_time": "2022-02-28T15:13:53.886Z"
   },
   {
    "duration": 538,
    "start_time": "2022-02-28T15:14:47.880Z"
   },
   {
    "duration": 568,
    "start_time": "2022-02-28T15:15:29.680Z"
   },
   {
    "duration": 552,
    "start_time": "2022-02-28T15:15:50.194Z"
   },
   {
    "duration": 573,
    "start_time": "2022-02-28T15:16:27.144Z"
   },
   {
    "duration": 5531,
    "start_time": "2022-02-28T15:18:56.192Z"
   },
   {
    "duration": 617,
    "start_time": "2022-02-28T15:19:12.695Z"
   },
   {
    "duration": 316,
    "start_time": "2022-02-28T15:19:34.894Z"
   },
   {
    "duration": 306,
    "start_time": "2022-02-28T15:21:52.484Z"
   },
   {
    "duration": 316,
    "start_time": "2022-02-28T15:22:05.552Z"
   },
   {
    "duration": 324,
    "start_time": "2022-02-28T15:22:26.869Z"
   },
   {
    "duration": 555,
    "start_time": "2022-02-28T15:23:37.135Z"
   },
   {
    "duration": 565,
    "start_time": "2022-02-28T15:23:44.555Z"
   },
   {
    "duration": 654,
    "start_time": "2022-02-28T15:23:56.173Z"
   },
   {
    "duration": 1154,
    "start_time": "2022-02-28T15:25:53.014Z"
   },
   {
    "duration": 878,
    "start_time": "2022-02-28T15:25:59.373Z"
   },
   {
    "duration": 622,
    "start_time": "2022-02-28T15:26:03.115Z"
   },
   {
    "duration": 633,
    "start_time": "2022-02-28T15:27:04.945Z"
   },
   {
    "duration": 310,
    "start_time": "2022-02-28T15:27:18.138Z"
   },
   {
    "duration": 424,
    "start_time": "2022-02-28T15:27:25.463Z"
   },
   {
    "duration": 443,
    "start_time": "2022-02-28T15:27:31.636Z"
   },
   {
    "duration": 419,
    "start_time": "2022-02-28T15:27:38.295Z"
   },
   {
    "duration": 441,
    "start_time": "2022-02-28T15:27:52.448Z"
   },
   {
    "duration": 424,
    "start_time": "2022-02-28T15:27:58.966Z"
   },
   {
    "duration": 305,
    "start_time": "2022-02-28T15:28:09.455Z"
   },
   {
    "duration": 331,
    "start_time": "2022-02-28T15:28:17.126Z"
   },
   {
    "duration": 329,
    "start_time": "2022-02-28T15:28:24.685Z"
   },
   {
    "duration": 374,
    "start_time": "2022-02-28T15:28:27.765Z"
   },
   {
    "duration": 454,
    "start_time": "2022-02-28T15:28:48.655Z"
   },
   {
    "duration": 386,
    "start_time": "2022-02-28T15:29:04.654Z"
   },
   {
    "duration": 7955,
    "start_time": "2022-02-28T15:30:22.070Z"
   },
   {
    "duration": 380,
    "start_time": "2022-02-28T15:30:42.855Z"
   },
   {
    "duration": 383,
    "start_time": "2022-02-28T15:34:10.027Z"
   },
   {
    "duration": 384,
    "start_time": "2022-02-28T15:34:17.935Z"
   },
   {
    "duration": 293,
    "start_time": "2022-02-28T15:34:25.525Z"
   },
   {
    "duration": 305,
    "start_time": "2022-02-28T15:34:28.703Z"
   },
   {
    "duration": 411,
    "start_time": "2022-02-28T15:34:33.595Z"
   },
   {
    "duration": 560,
    "start_time": "2022-02-28T15:48:09.394Z"
   },
   {
    "duration": 660,
    "start_time": "2022-02-28T15:48:22.154Z"
   },
   {
    "duration": 209,
    "start_time": "2022-03-01T09:59:32.013Z"
   },
   {
    "duration": 638,
    "start_time": "2022-03-01T09:59:36.683Z"
   },
   {
    "duration": 3,
    "start_time": "2022-03-01T09:59:37.323Z"
   },
   {
    "duration": 54,
    "start_time": "2022-03-01T09:59:37.329Z"
   },
   {
    "duration": 15,
    "start_time": "2022-03-01T09:59:37.385Z"
   },
   {
    "duration": 11,
    "start_time": "2022-03-01T09:59:37.402Z"
   },
   {
    "duration": 497,
    "start_time": "2022-03-01T09:59:37.439Z"
   },
   {
    "duration": 459,
    "start_time": "2022-03-01T09:59:37.938Z"
   },
   {
    "duration": 369,
    "start_time": "2022-03-01T09:59:38.399Z"
   },
   {
    "duration": 263,
    "start_time": "2022-03-01T09:59:38.771Z"
   },
   {
    "duration": 236,
    "start_time": "2022-03-01T09:59:39.038Z"
   },
   {
    "duration": 234,
    "start_time": "2022-03-01T09:59:39.276Z"
   },
   {
    "duration": 350,
    "start_time": "2022-03-01T10:01:02.663Z"
   },
   {
    "duration": 355,
    "start_time": "2022-03-01T10:01:54.303Z"
   },
   {
    "duration": 435,
    "start_time": "2022-03-01T10:02:02.553Z"
   },
   {
    "duration": 542,
    "start_time": "2022-03-01T10:02:08.124Z"
   },
   {
    "duration": 436,
    "start_time": "2022-03-01T10:02:16.545Z"
   },
   {
    "duration": 278,
    "start_time": "2022-03-01T10:02:21.002Z"
   },
   {
    "duration": 369,
    "start_time": "2022-03-01T10:02:38.073Z"
   },
   {
    "duration": 319,
    "start_time": "2022-03-01T10:02:57.134Z"
   },
   {
    "duration": 361,
    "start_time": "2022-03-01T10:03:18.904Z"
   },
   {
    "duration": 350,
    "start_time": "2022-03-01T10:03:31.753Z"
   },
   {
    "duration": 1744,
    "start_time": "2022-03-01T10:03:40.833Z"
   },
   {
    "duration": 344,
    "start_time": "2022-03-01T10:03:45.276Z"
   },
   {
    "duration": 265,
    "start_time": "2022-03-01T10:03:52.243Z"
   },
   {
    "duration": 445,
    "start_time": "2022-03-01T10:05:55.224Z"
   },
   {
    "duration": 397,
    "start_time": "2022-03-01T10:07:30.983Z"
   },
   {
    "duration": 462,
    "start_time": "2022-03-01T10:08:06.554Z"
   },
   {
    "duration": 260,
    "start_time": "2022-03-01T10:08:12.643Z"
   },
   {
    "duration": 238,
    "start_time": "2022-03-01T10:15:27.235Z"
   },
   {
    "duration": 257,
    "start_time": "2022-03-01T10:18:03.505Z"
   },
   {
    "duration": 363,
    "start_time": "2022-03-01T10:28:46.234Z"
   },
   {
    "duration": 396,
    "start_time": "2022-03-01T10:28:59.762Z"
   },
   {
    "duration": 227,
    "start_time": "2022-03-01T10:29:18.253Z"
   },
   {
    "duration": 267,
    "start_time": "2022-03-01T10:29:25.562Z"
   },
   {
    "duration": 287,
    "start_time": "2022-03-01T10:29:39.764Z"
   },
   {
    "duration": 192,
    "start_time": "2022-03-01T10:36:49.043Z"
   },
   {
    "duration": 40,
    "start_time": "2022-03-01T10:36:52.443Z"
   },
   {
    "duration": 379,
    "start_time": "2022-03-01T10:38:33.912Z"
   },
   {
    "duration": 236,
    "start_time": "2022-03-01T10:38:41.082Z"
   },
   {
    "duration": 5836,
    "start_time": "2022-03-01T10:41:13.453Z"
   },
   {
    "duration": 439,
    "start_time": "2022-03-01T10:41:28.352Z"
   },
   {
    "duration": 233,
    "start_time": "2022-03-01T10:41:42.752Z"
   },
   {
    "duration": 425,
    "start_time": "2022-03-01T10:41:50.953Z"
   },
   {
    "duration": 237,
    "start_time": "2022-03-01T10:41:59.243Z"
   },
   {
    "duration": 226,
    "start_time": "2022-03-01T10:42:18.501Z"
   },
   {
    "duration": 93,
    "start_time": "2022-03-01T10:46:38.911Z"
   },
   {
    "duration": 3,
    "start_time": "2022-03-01T10:46:39.006Z"
   },
   {
    "duration": 42,
    "start_time": "2022-03-01T10:46:39.011Z"
   },
   {
    "duration": 14,
    "start_time": "2022-03-01T10:46:39.055Z"
   },
   {
    "duration": 17,
    "start_time": "2022-03-01T10:46:39.071Z"
   },
   {
    "duration": 484,
    "start_time": "2022-03-01T10:46:39.090Z"
   },
   {
    "duration": 344,
    "start_time": "2022-03-01T10:46:39.576Z"
   },
   {
    "duration": 368,
    "start_time": "2022-03-01T10:46:39.922Z"
   },
   {
    "duration": 257,
    "start_time": "2022-03-01T10:46:40.292Z"
   },
   {
    "duration": 240,
    "start_time": "2022-03-01T10:46:40.551Z"
   },
   {
    "duration": 262,
    "start_time": "2022-03-01T10:46:40.793Z"
   },
   {
    "duration": 732,
    "start_time": "2022-03-01T10:46:41.057Z"
   },
   {
    "duration": 290,
    "start_time": "2022-03-01T10:46:41.791Z"
   },
   {
    "duration": 264,
    "start_time": "2022-03-01T10:46:42.084Z"
   },
   {
    "duration": 58398,
    "start_time": "2022-03-01T10:46:42.351Z"
   },
   {
    "duration": 263,
    "start_time": "2022-03-01T10:51:40.022Z"
   },
   {
    "duration": 244,
    "start_time": "2022-03-01T10:55:18.470Z"
   },
   {
    "duration": 251,
    "start_time": "2022-03-01T10:55:40.414Z"
   },
   {
    "duration": 247,
    "start_time": "2022-03-01T10:55:57.871Z"
   },
   {
    "duration": 213,
    "start_time": "2022-03-01T11:02:38.141Z"
   },
   {
    "duration": 15,
    "start_time": "2022-03-01T11:05:40.261Z"
   },
   {
    "duration": 23,
    "start_time": "2022-03-01T11:05:51.767Z"
   },
   {
    "duration": 73,
    "start_time": "2022-03-01T11:06:31.651Z"
   },
   {
    "duration": 12,
    "start_time": "2022-03-01T11:06:38.501Z"
   },
   {
    "duration": 193,
    "start_time": "2022-03-01T11:08:30.267Z"
   },
   {
    "duration": 10,
    "start_time": "2022-03-01T11:14:36.110Z"
   },
   {
    "duration": 12,
    "start_time": "2022-03-01T11:14:51.770Z"
   },
   {
    "duration": 4306,
    "start_time": "2022-03-01T11:15:41.950Z"
   },
   {
    "duration": 160,
    "start_time": "2022-03-01T11:16:09.481Z"
   },
   {
    "duration": 4546,
    "start_time": "2022-03-01T11:17:00.150Z"
   },
   {
    "duration": 13,
    "start_time": "2022-03-01T11:17:16.525Z"
   },
   {
    "duration": 183,
    "start_time": "2022-03-01T11:17:38.031Z"
   },
   {
    "duration": 10,
    "start_time": "2022-03-01T11:17:50.850Z"
   },
   {
    "duration": 62,
    "start_time": "2022-03-01T11:21:24.960Z"
   },
   {
    "duration": 10,
    "start_time": "2022-03-01T11:21:30.749Z"
   },
   {
    "duration": 13,
    "start_time": "2022-03-01T11:21:38.258Z"
   },
   {
    "duration": 13,
    "start_time": "2022-03-01T11:21:49.651Z"
   },
   {
    "duration": 160,
    "start_time": "2022-03-01T11:28:41.800Z"
   },
   {
    "duration": 258,
    "start_time": "2022-03-01T11:36:59.081Z"
   },
   {
    "duration": 458,
    "start_time": "2022-03-01T11:40:04.230Z"
   },
   {
    "duration": 681,
    "start_time": "2022-03-01T11:40:12.951Z"
   },
   {
    "duration": 244,
    "start_time": "2022-03-01T11:45:00.600Z"
   },
   {
    "duration": 14,
    "start_time": "2022-03-01T11:50:33.750Z"
   },
   {
    "duration": 16,
    "start_time": "2022-03-01T11:50:39.014Z"
   },
   {
    "duration": 59,
    "start_time": "2022-03-01T11:52:30.201Z"
   },
   {
    "duration": 60,
    "start_time": "2022-03-01T11:52:55.920Z"
   },
   {
    "duration": 70,
    "start_time": "2022-03-01T11:53:01.861Z"
   },
   {
    "duration": 62,
    "start_time": "2022-03-01T11:53:18.870Z"
   },
   {
    "duration": 68,
    "start_time": "2022-03-01T11:53:24.021Z"
   },
   {
    "duration": 4429,
    "start_time": "2022-03-01T11:53:45.801Z"
   },
   {
    "duration": 4266,
    "start_time": "2022-03-01T11:54:41.701Z"
   },
   {
    "duration": 4394,
    "start_time": "2022-03-01T11:56:09.482Z"
   },
   {
    "duration": 15,
    "start_time": "2022-03-01T11:56:22.131Z"
   },
   {
    "duration": 80,
    "start_time": "2022-03-01T11:56:58.480Z"
   },
   {
    "duration": 3,
    "start_time": "2022-03-01T11:56:58.561Z"
   },
   {
    "duration": 47,
    "start_time": "2022-03-01T11:56:58.566Z"
   },
   {
    "duration": 32,
    "start_time": "2022-03-01T11:56:58.614Z"
   },
   {
    "duration": 10,
    "start_time": "2022-03-01T11:56:58.647Z"
   },
   {
    "duration": 508,
    "start_time": "2022-03-01T11:56:58.659Z"
   },
   {
    "duration": 354,
    "start_time": "2022-03-01T11:56:59.169Z"
   },
   {
    "duration": 380,
    "start_time": "2022-03-01T11:56:59.525Z"
   },
   {
    "duration": 310,
    "start_time": "2022-03-01T11:56:59.906Z"
   },
   {
    "duration": 255,
    "start_time": "2022-03-01T11:57:00.218Z"
   },
   {
    "duration": 284,
    "start_time": "2022-03-01T11:57:00.475Z"
   },
   {
    "duration": 262,
    "start_time": "2022-03-01T11:57:00.761Z"
   },
   {
    "duration": 294,
    "start_time": "2022-03-01T11:57:01.025Z"
   },
   {
    "duration": 26,
    "start_time": "2022-03-01T11:57:01.322Z"
   },
   {
    "duration": 266,
    "start_time": "2022-03-01T11:57:01.350Z"
   },
   {
    "duration": 266,
    "start_time": "2022-03-01T11:57:01.618Z"
   },
   {
    "duration": 184,
    "start_time": "2022-03-01T11:57:01.886Z"
   },
   {
    "duration": 266,
    "start_time": "2022-03-01T11:57:02.073Z"
   },
   {
    "duration": 4521,
    "start_time": "2022-03-01T11:57:29.210Z"
   },
   {
    "duration": 4523,
    "start_time": "2022-03-01T11:57:51.670Z"
   },
   {
    "duration": 186,
    "start_time": "2022-03-01T11:58:04.200Z"
   },
   {
    "duration": 195,
    "start_time": "2022-03-01T11:58:29.121Z"
   },
   {
    "duration": 189,
    "start_time": "2022-03-01T11:58:38.361Z"
   },
   {
    "duration": 204,
    "start_time": "2022-03-01T11:59:01.750Z"
   },
   {
    "duration": 231,
    "start_time": "2022-03-01T11:59:54.330Z"
   },
   {
    "duration": 156,
    "start_time": "2022-03-01T12:00:29.524Z"
   },
   {
    "duration": 164,
    "start_time": "2022-03-01T12:00:55.491Z"
   },
   {
    "duration": 183,
    "start_time": "2022-03-01T12:01:05.411Z"
   },
   {
    "duration": 150,
    "start_time": "2022-03-01T12:03:39.020Z"
   },
   {
    "duration": 179,
    "start_time": "2022-03-01T12:03:51.280Z"
   },
   {
    "duration": 187,
    "start_time": "2022-03-01T12:04:43.379Z"
   },
   {
    "duration": 179,
    "start_time": "2022-03-01T12:04:51.959Z"
   },
   {
    "duration": 183,
    "start_time": "2022-03-01T12:11:47.811Z"
   },
   {
    "duration": 8,
    "start_time": "2022-03-01T13:59:02.448Z"
   },
   {
    "duration": 8,
    "start_time": "2022-03-01T13:59:23.249Z"
   },
   {
    "duration": 7,
    "start_time": "2022-03-01T14:00:11.047Z"
   },
   {
    "duration": 7,
    "start_time": "2022-03-01T14:00:47.007Z"
   },
   {
    "duration": 180,
    "start_time": "2022-03-01T14:03:04.808Z"
   },
   {
    "duration": 13,
    "start_time": "2022-03-01T14:04:01.127Z"
   },
   {
    "duration": 16,
    "start_time": "2022-03-01T14:04:06.128Z"
   },
   {
    "duration": 10,
    "start_time": "2022-03-01T14:06:06.727Z"
   },
   {
    "duration": 14,
    "start_time": "2022-03-01T14:06:57.927Z"
   },
   {
    "duration": 13,
    "start_time": "2022-03-01T14:07:29.607Z"
   },
   {
    "duration": 12,
    "start_time": "2022-03-01T14:07:43.128Z"
   },
   {
    "duration": 12,
    "start_time": "2022-03-01T14:07:58.407Z"
   },
   {
    "duration": 13,
    "start_time": "2022-03-01T14:08:03.008Z"
   },
   {
    "duration": 15,
    "start_time": "2022-03-01T14:08:44.007Z"
   },
   {
    "duration": 15,
    "start_time": "2022-03-01T14:09:52.568Z"
   },
   {
    "duration": 202,
    "start_time": "2022-03-01T14:10:30.007Z"
   },
   {
    "duration": 18,
    "start_time": "2022-03-01T14:10:38.089Z"
   },
   {
    "duration": 24,
    "start_time": "2022-03-01T14:10:48.648Z"
   },
   {
    "duration": 12,
    "start_time": "2022-03-01T14:11:08.753Z"
   },
   {
    "duration": 18,
    "start_time": "2022-03-01T14:11:18.327Z"
   },
   {
    "duration": 17,
    "start_time": "2022-03-01T14:12:02.649Z"
   },
   {
    "duration": 179,
    "start_time": "2022-03-01T14:12:17.728Z"
   },
   {
    "duration": 18,
    "start_time": "2022-03-01T14:12:21.048Z"
   },
   {
    "duration": 203,
    "start_time": "2022-03-01T14:13:08.607Z"
   },
   {
    "duration": 202,
    "start_time": "2022-03-01T14:13:26.288Z"
   },
   {
    "duration": 189,
    "start_time": "2022-03-01T14:13:47.528Z"
   },
   {
    "duration": 93,
    "start_time": "2022-03-01T14:13:49.768Z"
   },
   {
    "duration": 3,
    "start_time": "2022-03-01T14:13:49.863Z"
   },
   {
    "duration": 32,
    "start_time": "2022-03-01T14:13:49.868Z"
   },
   {
    "duration": 14,
    "start_time": "2022-03-01T14:13:49.903Z"
   },
   {
    "duration": 22,
    "start_time": "2022-03-01T14:13:49.919Z"
   },
   {
    "duration": 481,
    "start_time": "2022-03-01T14:13:49.942Z"
   },
   {
    "duration": 341,
    "start_time": "2022-03-01T14:13:50.425Z"
   },
   {
    "duration": 361,
    "start_time": "2022-03-01T14:13:50.767Z"
   },
   {
    "duration": 262,
    "start_time": "2022-03-01T14:13:51.130Z"
   },
   {
    "duration": 236,
    "start_time": "2022-03-01T14:13:51.394Z"
   },
   {
    "duration": 254,
    "start_time": "2022-03-01T14:13:51.632Z"
   },
   {
    "duration": 244,
    "start_time": "2022-03-01T14:13:51.887Z"
   },
   {
    "duration": 269,
    "start_time": "2022-03-01T14:13:52.132Z"
   },
   {
    "duration": 244,
    "start_time": "2022-03-01T14:13:52.403Z"
   },
   {
    "duration": 251,
    "start_time": "2022-03-01T14:13:52.649Z"
   },
   {
    "duration": 237,
    "start_time": "2022-03-01T14:13:52.902Z"
   },
   {
    "duration": 154,
    "start_time": "2022-03-01T14:13:53.141Z"
   },
   {
    "duration": 198,
    "start_time": "2022-03-01T14:13:53.296Z"
   },
   {
    "duration": 189,
    "start_time": "2022-03-01T14:13:53.495Z"
   },
   {
    "duration": 189,
    "start_time": "2022-03-01T14:13:53.685Z"
   },
   {
    "duration": 307,
    "start_time": "2022-03-01T14:13:53.875Z"
   },
   {
    "duration": 206,
    "start_time": "2022-03-01T14:14:45.088Z"
   },
   {
    "duration": 23,
    "start_time": "2022-03-01T14:14:53.768Z"
   },
   {
    "duration": 193,
    "start_time": "2022-03-01T14:15:23.409Z"
   },
   {
    "duration": 17,
    "start_time": "2022-03-01T14:16:20.128Z"
   },
   {
    "duration": 25,
    "start_time": "2022-03-01T14:16:27.767Z"
   },
   {
    "duration": 27,
    "start_time": "2022-03-01T14:16:33.934Z"
   },
   {
    "duration": 22,
    "start_time": "2022-03-01T14:16:57.087Z"
   },
   {
    "duration": 21,
    "start_time": "2022-03-01T14:17:31.889Z"
   },
   {
    "duration": 65,
    "start_time": "2022-03-01T14:18:34.168Z"
   },
   {
    "duration": 20,
    "start_time": "2022-03-01T14:18:43.536Z"
   },
   {
    "duration": 57,
    "start_time": "2022-03-01T14:19:02.817Z"
   },
   {
    "duration": 22,
    "start_time": "2022-03-01T14:19:10.449Z"
   },
   {
    "duration": 4143,
    "start_time": "2022-03-01T14:20:49.648Z"
   },
   {
    "duration": 28,
    "start_time": "2022-03-01T14:21:08.088Z"
   },
   {
    "duration": 23,
    "start_time": "2022-03-01T14:21:21.808Z"
   },
   {
    "duration": 23,
    "start_time": "2022-03-01T14:27:36.728Z"
   },
   {
    "duration": 63,
    "start_time": "2022-03-01T14:30:53.927Z"
   },
   {
    "duration": 39,
    "start_time": "2022-03-01T14:30:58.488Z"
   },
   {
    "duration": 52,
    "start_time": "2022-03-01T14:31:15.009Z"
   },
   {
    "duration": 4,
    "start_time": "2022-03-01T14:32:05.129Z"
   },
   {
    "duration": 62,
    "start_time": "2022-03-01T14:34:56.408Z"
   },
   {
    "duration": 42,
    "start_time": "2022-03-01T14:35:15.168Z"
   },
   {
    "duration": 171,
    "start_time": "2022-03-01T14:35:36.608Z"
   },
   {
    "duration": 70,
    "start_time": "2022-03-01T14:36:33.848Z"
   },
   {
    "duration": 192,
    "start_time": "2022-03-01T14:36:37.048Z"
   },
   {
    "duration": 7,
    "start_time": "2022-03-01T14:36:55.529Z"
   },
   {
    "duration": 4,
    "start_time": "2022-03-01T14:37:39.528Z"
   },
   {
    "duration": 6,
    "start_time": "2022-03-01T14:39:44.488Z"
   },
   {
    "duration": 7,
    "start_time": "2022-03-01T14:39:52.689Z"
   },
   {
    "duration": 7,
    "start_time": "2022-03-01T14:40:36.648Z"
   },
   {
    "duration": 8,
    "start_time": "2022-03-01T14:40:43.168Z"
   },
   {
    "duration": 7,
    "start_time": "2022-03-01T14:42:15.768Z"
   },
   {
    "duration": 7,
    "start_time": "2022-03-01T14:42:30.368Z"
   },
   {
    "duration": 66,
    "start_time": "2022-03-01T14:44:25.049Z"
   },
   {
    "duration": 58,
    "start_time": "2022-03-01T14:44:46.568Z"
   },
   {
    "duration": 61,
    "start_time": "2022-03-01T14:45:07.751Z"
   },
   {
    "duration": 205,
    "start_time": "2022-03-01T14:45:16.168Z"
   },
   {
    "duration": 80,
    "start_time": "2022-03-01T14:45:45.768Z"
   },
   {
    "duration": 135,
    "start_time": "2022-03-01T14:47:01.888Z"
   },
   {
    "duration": 44,
    "start_time": "2022-03-01T14:48:03.488Z"
   },
   {
    "duration": 42,
    "start_time": "2022-03-01T14:48:11.169Z"
   },
   {
    "duration": 61,
    "start_time": "2022-03-01T14:50:49.169Z"
   },
   {
    "duration": 8,
    "start_time": "2022-03-01T14:50:55.128Z"
   },
   {
    "duration": 11,
    "start_time": "2022-03-01T14:51:13.049Z"
   },
   {
    "duration": 43,
    "start_time": "2022-03-01T14:51:20.088Z"
   },
   {
    "duration": 12,
    "start_time": "2022-03-01T14:53:32.809Z"
   },
   {
    "duration": 357,
    "start_time": "2022-03-01T14:54:58.889Z"
   },
   {
    "duration": 437,
    "start_time": "2022-03-01T14:55:22.768Z"
   },
   {
    "duration": 243,
    "start_time": "2022-03-01T14:56:30.728Z"
   },
   {
    "duration": 256,
    "start_time": "2022-03-01T14:56:57.128Z"
   },
   {
    "duration": 198,
    "start_time": "2022-03-01T14:57:56.248Z"
   },
   {
    "duration": 233,
    "start_time": "2022-03-01T14:58:13.049Z"
   },
   {
    "duration": 219,
    "start_time": "2022-03-01T14:59:56.576Z"
   },
   {
    "duration": 218,
    "start_time": "2022-03-01T15:00:41.128Z"
   },
   {
    "duration": 221,
    "start_time": "2022-03-01T15:01:23.978Z"
   },
   {
    "duration": 257,
    "start_time": "2022-03-01T15:02:04.369Z"
   },
   {
    "duration": 219,
    "start_time": "2022-03-01T15:02:08.528Z"
   },
   {
    "duration": 233,
    "start_time": "2022-03-01T15:02:15.971Z"
   },
   {
    "duration": 232,
    "start_time": "2022-03-01T15:02:38.328Z"
   },
   {
    "duration": 408,
    "start_time": "2022-03-01T15:03:04.169Z"
   },
   {
    "duration": 471,
    "start_time": "2022-03-01T15:03:22.768Z"
   },
   {
    "duration": 387,
    "start_time": "2022-03-01T15:03:28.650Z"
   },
   {
    "duration": 390,
    "start_time": "2022-03-01T15:03:34.248Z"
   },
   {
    "duration": 405,
    "start_time": "2022-03-01T15:04:02.968Z"
   },
   {
    "duration": 188,
    "start_time": "2022-03-01T15:09:39.531Z"
   },
   {
    "duration": 194,
    "start_time": "2022-03-01T15:09:54.121Z"
   },
   {
    "duration": 663,
    "start_time": "2022-03-02T08:45:00.570Z"
   },
   {
    "duration": 3,
    "start_time": "2022-03-02T08:45:01.235Z"
   },
   {
    "duration": 30,
    "start_time": "2022-03-02T08:45:01.240Z"
   },
   {
    "duration": 15,
    "start_time": "2022-03-02T08:45:01.272Z"
   },
   {
    "duration": 24,
    "start_time": "2022-03-02T08:45:01.288Z"
   },
   {
    "duration": 502,
    "start_time": "2022-03-02T08:45:01.314Z"
   },
   {
    "duration": 420,
    "start_time": "2022-03-02T08:45:01.818Z"
   },
   {
    "duration": 293,
    "start_time": "2022-03-02T08:45:02.239Z"
   },
   {
    "duration": 206,
    "start_time": "2022-03-02T08:45:02.535Z"
   },
   {
    "duration": 208,
    "start_time": "2022-03-02T08:45:02.743Z"
   },
   {
    "duration": 240,
    "start_time": "2022-03-02T08:45:02.953Z"
   },
   {
    "duration": 232,
    "start_time": "2022-03-02T08:45:03.194Z"
   },
   {
    "duration": 246,
    "start_time": "2022-03-02T08:45:03.428Z"
   },
   {
    "duration": 231,
    "start_time": "2022-03-02T08:45:03.676Z"
   },
   {
    "duration": 299,
    "start_time": "2022-03-02T08:45:03.909Z"
   },
   {
    "duration": 231,
    "start_time": "2022-03-02T08:45:04.210Z"
   },
   {
    "duration": 164,
    "start_time": "2022-03-02T08:45:04.443Z"
   },
   {
    "duration": 194,
    "start_time": "2022-03-02T08:45:04.608Z"
   },
   {
    "duration": 170,
    "start_time": "2022-03-02T08:45:04.805Z"
   },
   {
    "duration": 172,
    "start_time": "2022-03-02T08:45:04.977Z"
   },
   {
    "duration": 22,
    "start_time": "2022-03-02T08:45:05.150Z"
   },
   {
    "duration": 187,
    "start_time": "2022-03-02T08:45:05.173Z"
   },
   {
    "duration": 94,
    "start_time": "2022-03-02T08:47:35.089Z"
   },
   {
    "duration": 7,
    "start_time": "2022-03-02T08:47:43.005Z"
   },
   {
    "duration": 32,
    "start_time": "2022-03-02T08:47:48.370Z"
   },
   {
    "duration": 137,
    "start_time": "2022-03-02T08:54:08.098Z"
   },
   {
    "duration": 146,
    "start_time": "2022-03-02T08:54:38.907Z"
   },
   {
    "duration": 142,
    "start_time": "2022-03-02T08:54:57.472Z"
   },
   {
    "duration": 721,
    "start_time": "2022-03-02T08:55:17.649Z"
   },
   {
    "duration": 144,
    "start_time": "2022-03-02T08:56:21.070Z"
   },
   {
    "duration": 180,
    "start_time": "2022-03-02T08:56:49.389Z"
   },
   {
    "duration": 193,
    "start_time": "2022-03-02T09:03:08.130Z"
   },
   {
    "duration": 162,
    "start_time": "2022-03-02T09:03:16.270Z"
   },
   {
    "duration": 153,
    "start_time": "2022-03-02T09:06:51.390Z"
   },
   {
    "duration": 207,
    "start_time": "2022-03-02T09:18:49.030Z"
   },
   {
    "duration": 260,
    "start_time": "2022-03-02T09:18:59.510Z"
   },
   {
    "duration": 198,
    "start_time": "2022-03-02T09:19:06.630Z"
   },
   {
    "duration": 151,
    "start_time": "2022-03-02T09:19:14.898Z"
   },
   {
    "duration": 161,
    "start_time": "2022-03-02T09:19:17.690Z"
   },
   {
    "duration": 157,
    "start_time": "2022-03-02T09:19:22.125Z"
   },
   {
    "duration": 175,
    "start_time": "2022-03-02T09:19:25.430Z"
   },
   {
    "duration": 179,
    "start_time": "2022-03-02T09:19:56.650Z"
   },
   {
    "duration": 169,
    "start_time": "2022-03-02T09:23:18.527Z"
   },
   {
    "duration": 136,
    "start_time": "2022-03-02T09:26:17.590Z"
   },
   {
    "duration": 245,
    "start_time": "2022-03-02T09:30:29.073Z"
   },
   {
    "duration": 462,
    "start_time": "2022-03-02T09:37:19.250Z"
   },
   {
    "duration": 454,
    "start_time": "2022-03-02T09:38:53.110Z"
   },
   {
    "duration": 107,
    "start_time": "2022-03-02T10:29:58.160Z"
   },
   {
    "duration": 86,
    "start_time": "2022-03-02T10:31:51.079Z"
   },
   {
    "duration": 3,
    "start_time": "2022-03-02T10:31:51.167Z"
   },
   {
    "duration": 27,
    "start_time": "2022-03-02T10:31:51.248Z"
   },
   {
    "duration": 14,
    "start_time": "2022-03-02T10:31:51.276Z"
   },
   {
    "duration": 9,
    "start_time": "2022-03-02T10:31:51.291Z"
   },
   {
    "duration": 433,
    "start_time": "2022-03-02T10:31:51.302Z"
   },
   {
    "duration": 282,
    "start_time": "2022-03-02T10:31:51.737Z"
   },
   {
    "duration": 367,
    "start_time": "2022-03-02T10:31:52.020Z"
   },
   {
    "duration": 209,
    "start_time": "2022-03-02T10:31:52.388Z"
   },
   {
    "duration": 191,
    "start_time": "2022-03-02T10:31:52.605Z"
   },
   {
    "duration": 213,
    "start_time": "2022-03-02T10:31:52.798Z"
   },
   {
    "duration": 208,
    "start_time": "2022-03-02T10:31:53.013Z"
   },
   {
    "duration": 230,
    "start_time": "2022-03-02T10:31:53.223Z"
   },
   {
    "duration": 208,
    "start_time": "2022-03-02T10:31:53.454Z"
   },
   {
    "duration": 214,
    "start_time": "2022-03-02T10:31:53.663Z"
   },
   {
    "duration": 211,
    "start_time": "2022-03-02T10:31:53.878Z"
   },
   {
    "duration": 133,
    "start_time": "2022-03-02T10:31:54.091Z"
   },
   {
    "duration": 167,
    "start_time": "2022-03-02T10:31:54.225Z"
   },
   {
    "duration": 252,
    "start_time": "2022-03-02T10:31:54.393Z"
   },
   {
    "duration": 154,
    "start_time": "2022-03-02T10:31:54.647Z"
   },
   {
    "duration": 19,
    "start_time": "2022-03-02T10:31:54.803Z"
   },
   {
    "duration": 176,
    "start_time": "2022-03-02T10:31:54.823Z"
   },
   {
    "duration": 34,
    "start_time": "2022-03-02T10:31:55.001Z"
   },
   {
    "duration": 193,
    "start_time": "2022-03-02T10:31:55.036Z"
   },
   {
    "duration": 165,
    "start_time": "2022-03-02T10:31:55.230Z"
   },
   {
    "duration": 85,
    "start_time": "2022-03-02T10:31:56.546Z"
   },
   {
    "duration": 3,
    "start_time": "2022-03-02T10:31:56.634Z"
   },
   {
    "duration": 41,
    "start_time": "2022-03-02T10:31:56.639Z"
   },
   {
    "duration": 14,
    "start_time": "2022-03-02T10:31:56.681Z"
   },
   {
    "duration": 12,
    "start_time": "2022-03-02T10:31:56.697Z"
   },
   {
    "duration": 520,
    "start_time": "2022-03-02T10:31:56.710Z"
   },
   {
    "duration": 292,
    "start_time": "2022-03-02T10:31:57.231Z"
   },
   {
    "duration": 301,
    "start_time": "2022-03-02T10:31:57.525Z"
   },
   {
    "duration": 211,
    "start_time": "2022-03-02T10:31:57.827Z"
   },
   {
    "duration": 193,
    "start_time": "2022-03-02T10:31:58.040Z"
   },
   {
    "duration": 227,
    "start_time": "2022-03-02T10:31:58.235Z"
   },
   {
    "duration": 200,
    "start_time": "2022-03-02T10:31:58.464Z"
   },
   {
    "duration": 233,
    "start_time": "2022-03-02T10:31:58.665Z"
   },
   {
    "duration": 300,
    "start_time": "2022-03-02T10:31:58.900Z"
   },
   {
    "duration": 224,
    "start_time": "2022-03-02T10:31:59.201Z"
   },
   {
    "duration": 207,
    "start_time": "2022-03-02T10:31:59.428Z"
   },
   {
    "duration": 138,
    "start_time": "2022-03-02T10:31:59.637Z"
   },
   {
    "duration": 187,
    "start_time": "2022-03-02T10:31:59.776Z"
   },
   {
    "duration": 160,
    "start_time": "2022-03-02T10:31:59.964Z"
   },
   {
    "duration": 158,
    "start_time": "2022-03-02T10:32:00.126Z"
   },
   {
    "duration": 29,
    "start_time": "2022-03-02T10:32:00.285Z"
   },
   {
    "duration": 171,
    "start_time": "2022-03-02T10:32:00.316Z"
   },
   {
    "duration": 42,
    "start_time": "2022-03-02T10:32:00.489Z"
   },
   {
    "duration": 193,
    "start_time": "2022-03-02T10:32:00.532Z"
   },
   {
    "duration": 166,
    "start_time": "2022-03-02T10:32:00.726Z"
   },
   {
    "duration": 191,
    "start_time": "2022-03-02T10:32:00.893Z"
   },
   {
    "duration": 182,
    "start_time": "2022-03-02T10:32:01.086Z"
   },
   {
    "duration": 146,
    "start_time": "2022-03-02T10:32:01.270Z"
   },
   {
    "duration": 173,
    "start_time": "2022-03-02T10:32:01.418Z"
   },
   {
    "duration": 619,
    "start_time": "2022-03-02T10:32:01.593Z"
   },
   {
    "duration": 904,
    "start_time": "2022-03-11T09:40:48.234Z"
   },
   {
    "duration": 928,
    "start_time": "2022-03-11T09:40:56.155Z"
   },
   {
    "duration": 6,
    "start_time": "2022-03-11T09:40:57.086Z"
   },
   {
    "duration": 68,
    "start_time": "2022-03-11T09:40:57.096Z"
   },
   {
    "duration": 498,
    "start_time": "2022-03-11T09:40:57.167Z"
   },
   {
    "duration": 34,
    "start_time": "2022-03-11T09:40:57.636Z"
   },
   {
    "duration": 31,
    "start_time": "2022-03-11T09:40:57.641Z"
   },
   {
    "duration": 12,
    "start_time": "2022-03-11T09:40:57.662Z"
   },
   {
    "duration": 11,
    "start_time": "2022-03-11T09:40:57.665Z"
   },
   {
    "duration": 6,
    "start_time": "2022-03-11T09:40:57.672Z"
   },
   {
    "duration": 5,
    "start_time": "2022-03-11T09:40:57.675Z"
   },
   {
    "duration": -3,
    "start_time": "2022-03-11T09:40:57.685Z"
   },
   {
    "duration": -6,
    "start_time": "2022-03-11T09:40:57.690Z"
   },
   {
    "duration": -20,
    "start_time": "2022-03-11T09:40:57.706Z"
   },
   {
    "duration": -37,
    "start_time": "2022-03-11T09:40:57.725Z"
   },
   {
    "duration": -43,
    "start_time": "2022-03-11T09:40:57.733Z"
   },
   {
    "duration": -46,
    "start_time": "2022-03-11T09:40:57.738Z"
   },
   {
    "duration": -47,
    "start_time": "2022-03-11T09:40:57.742Z"
   },
   {
    "duration": -48,
    "start_time": "2022-03-11T09:40:57.745Z"
   },
   {
    "duration": -49,
    "start_time": "2022-03-11T09:40:57.748Z"
   },
   {
    "duration": -50,
    "start_time": "2022-03-11T09:40:57.751Z"
   },
   {
    "duration": -51,
    "start_time": "2022-03-11T09:40:57.756Z"
   },
   {
    "duration": -54,
    "start_time": "2022-03-11T09:40:57.760Z"
   },
   {
    "duration": -33,
    "start_time": "2022-03-11T09:40:57.764Z"
   },
   {
    "duration": -33,
    "start_time": "2022-03-11T09:40:57.766Z"
   },
   {
    "duration": -36,
    "start_time": "2022-03-11T09:40:57.771Z"
   },
   {
    "duration": -39,
    "start_time": "2022-03-11T09:40:57.775Z"
   },
   {
    "duration": -40,
    "start_time": "2022-03-11T09:40:57.778Z"
   },
   {
    "duration": -42,
    "start_time": "2022-03-11T09:40:57.781Z"
   },
   {
    "duration": -44,
    "start_time": "2022-03-11T09:40:57.784Z"
   },
   {
    "duration": -46,
    "start_time": "2022-03-11T09:40:57.788Z"
   },
   {
    "duration": 356,
    "start_time": "2022-03-11T09:41:36.614Z"
   },
   {
    "duration": 18,
    "start_time": "2022-03-11T09:41:43.762Z"
   },
   {
    "duration": 15,
    "start_time": "2022-03-11T09:41:48.740Z"
   },
   {
    "duration": 10,
    "start_time": "2022-03-11T09:43:08.134Z"
   },
   {
    "duration": 10,
    "start_time": "2022-03-11T09:48:08.675Z"
   },
   {
    "duration": 13,
    "start_time": "2022-03-11T09:48:10.835Z"
   },
   {
    "duration": 43,
    "start_time": "2022-03-11T09:48:43.737Z"
   },
   {
    "duration": 11,
    "start_time": "2022-03-11T09:48:45.254Z"
   },
   {
    "duration": 21,
    "start_time": "2022-03-11T09:48:45.736Z"
   },
   {
    "duration": 10,
    "start_time": "2022-03-11T09:49:11.120Z"
   },
   {
    "duration": 129,
    "start_time": "2022-03-11T09:52:18.454Z"
   },
   {
    "duration": 4,
    "start_time": "2022-03-11T09:52:18.586Z"
   },
   {
    "duration": 70,
    "start_time": "2022-03-11T09:52:18.593Z"
   },
   {
    "duration": 17,
    "start_time": "2022-03-11T09:52:18.666Z"
   },
   {
    "duration": 14,
    "start_time": "2022-03-11T09:52:18.686Z"
   },
   {
    "duration": 847,
    "start_time": "2022-03-11T09:52:18.703Z"
   },
   {
    "duration": 687,
    "start_time": "2022-03-11T09:52:19.552Z"
   },
   {
    "duration": 564,
    "start_time": "2022-03-11T09:52:20.241Z"
   },
   {
    "duration": 389,
    "start_time": "2022-03-11T09:52:20.809Z"
   },
   {
    "duration": 372,
    "start_time": "2022-03-11T09:52:21.201Z"
   },
   {
    "duration": 401,
    "start_time": "2022-03-11T09:52:21.576Z"
   },
   {
    "duration": 388,
    "start_time": "2022-03-11T09:52:21.980Z"
   },
   {
    "duration": 433,
    "start_time": "2022-03-11T09:52:22.370Z"
   },
   {
    "duration": 397,
    "start_time": "2022-03-11T09:52:22.805Z"
   },
   {
    "duration": 454,
    "start_time": "2022-03-11T09:52:23.205Z"
   },
   {
    "duration": 382,
    "start_time": "2022-03-11T09:52:23.661Z"
   },
   {
    "duration": 253,
    "start_time": "2022-03-11T09:52:24.045Z"
   },
   {
    "duration": 306,
    "start_time": "2022-03-11T09:52:24.301Z"
   },
   {
    "duration": 288,
    "start_time": "2022-03-11T09:52:24.609Z"
   },
   {
    "duration": 303,
    "start_time": "2022-03-11T09:52:24.899Z"
   },
   {
    "duration": 49,
    "start_time": "2022-03-11T09:52:25.205Z"
   },
   {
    "duration": 325,
    "start_time": "2022-03-11T09:52:25.256Z"
   },
   {
    "duration": 70,
    "start_time": "2022-03-11T09:52:25.583Z"
   },
   {
    "duration": 356,
    "start_time": "2022-03-11T09:52:25.656Z"
   },
   {
    "duration": 312,
    "start_time": "2022-03-11T09:52:26.014Z"
   },
   {
    "duration": 349,
    "start_time": "2022-03-11T09:52:26.331Z"
   },
   {
    "duration": 345,
    "start_time": "2022-03-11T09:52:26.687Z"
   },
   {
    "duration": 308,
    "start_time": "2022-03-11T09:52:27.035Z"
   },
   {
    "duration": 318,
    "start_time": "2022-03-11T09:52:27.345Z"
   },
   {
    "duration": 853,
    "start_time": "2022-03-11T09:52:27.665Z"
   },
   {
    "duration": 997,
    "start_time": "2022-03-11T09:53:16.314Z"
   },
   {
    "duration": 873,
    "start_time": "2022-03-11T09:53:29.422Z"
   },
   {
    "duration": 524,
    "start_time": "2022-03-11T09:53:41.296Z"
   },
   {
    "duration": 848,
    "start_time": "2022-03-11T09:54:10.834Z"
   },
   {
    "duration": 876,
    "start_time": "2022-03-11T09:54:21.994Z"
   },
   {
    "duration": 602,
    "start_time": "2022-03-11T09:54:34.514Z"
   },
   {
    "duration": 576,
    "start_time": "2022-03-11T09:55:01.035Z"
   },
   {
    "duration": 299,
    "start_time": "2022-03-11T09:58:01.195Z"
   },
   {
    "duration": 300,
    "start_time": "2022-03-11T09:58:15.034Z"
   },
   {
    "duration": 303,
    "start_time": "2022-03-11T09:58:35.734Z"
   },
   {
    "duration": 686,
    "start_time": "2022-03-11T09:58:48.393Z"
   },
   {
    "duration": 566,
    "start_time": "2022-03-11T09:59:19.135Z"
   },
   {
    "duration": 393,
    "start_time": "2022-03-11T10:00:36.679Z"
   },
   {
    "duration": 376,
    "start_time": "2022-03-11T10:00:56.034Z"
   },
   {
    "duration": 485,
    "start_time": "2022-03-11T10:02:17.574Z"
   },
   {
    "duration": 393,
    "start_time": "2022-03-11T10:02:33.753Z"
   },
   {
    "duration": 438,
    "start_time": "2022-03-11T10:03:14.574Z"
   },
   {
    "duration": 486,
    "start_time": "2022-03-11T10:03:59.254Z"
   },
   {
    "duration": 384,
    "start_time": "2022-03-11T10:04:29.064Z"
   },
   {
    "duration": 378,
    "start_time": "2022-03-11T10:04:50.775Z"
   },
   {
    "duration": 346,
    "start_time": "2022-03-11T10:05:39.274Z"
   },
   {
    "duration": 242,
    "start_time": "2022-03-11T10:05:56.194Z"
   },
   {
    "duration": 251,
    "start_time": "2022-03-11T10:06:09.234Z"
   },
   {
    "duration": 249,
    "start_time": "2022-03-11T10:06:33.055Z"
   },
   {
    "duration": 338,
    "start_time": "2022-03-11T10:07:34.034Z"
   },
   {
    "duration": 322,
    "start_time": "2022-03-11T10:07:47.934Z"
   },
   {
    "duration": 371,
    "start_time": "2022-03-11T10:08:05.234Z"
   },
   {
    "duration": 408,
    "start_time": "2022-03-11T10:08:07.675Z"
   },
   {
    "duration": 289,
    "start_time": "2022-03-11T10:08:22.194Z"
   },
   {
    "duration": 355,
    "start_time": "2022-03-11T10:10:34.449Z"
   },
   {
    "duration": 109,
    "start_time": "2022-03-11T10:11:20.514Z"
   },
   {
    "duration": 648,
    "start_time": "2022-03-11T10:11:25.594Z"
   },
   {
    "duration": 375,
    "start_time": "2022-03-11T10:11:29.434Z"
   },
   {
    "duration": 353,
    "start_time": "2022-03-11T10:12:34.289Z"
   },
   {
    "duration": 373,
    "start_time": "2022-03-11T10:14:23.835Z"
   },
   {
    "duration": 370,
    "start_time": "2022-03-11T10:15:18.275Z"
   },
   {
    "duration": 358,
    "start_time": "2022-03-11T10:16:12.914Z"
   },
   {
    "duration": 459,
    "start_time": "2022-03-11T10:16:36.174Z"
   },
   {
    "duration": 349,
    "start_time": "2022-03-11T10:16:49.894Z"
   },
   {
    "duration": 283,
    "start_time": "2022-03-11T10:16:59.294Z"
   },
   {
    "duration": 330,
    "start_time": "2022-03-11T10:17:02.694Z"
   },
   {
    "duration": 364,
    "start_time": "2022-03-11T10:17:06.614Z"
   },
   {
    "duration": 367,
    "start_time": "2022-03-11T10:17:10.075Z"
   },
   {
    "duration": 393,
    "start_time": "2022-03-11T10:17:18.554Z"
   },
   {
    "duration": 404,
    "start_time": "2022-03-11T10:17:47.754Z"
   },
   {
    "duration": 281,
    "start_time": "2022-03-11T10:17:50.802Z"
   },
   {
    "duration": 353,
    "start_time": "2022-03-11T10:18:20.794Z"
   },
   {
    "duration": 110,
    "start_time": "2022-03-11T10:18:45.558Z"
   },
   {
    "duration": 151,
    "start_time": "2022-03-11T10:18:50.714Z"
   },
   {
    "duration": 352,
    "start_time": "2022-03-11T10:18:54.575Z"
   },
   {
    "duration": 488,
    "start_time": "2022-03-11T10:19:23.514Z"
   },
   {
    "duration": 333,
    "start_time": "2022-03-11T10:20:09.195Z"
   },
   {
    "duration": 445,
    "start_time": "2022-03-11T10:20:32.434Z"
   },
   {
    "duration": 252,
    "start_time": "2022-03-11T10:21:11.608Z"
   },
   {
    "duration": 326,
    "start_time": "2022-03-11T10:21:51.343Z"
   },
   {
    "duration": 875,
    "start_time": "2022-03-11T10:22:22.882Z"
   },
   {
    "duration": 971,
    "start_time": "2022-03-11T10:23:11.754Z"
   },
   {
    "duration": 498,
    "start_time": "2022-03-11T10:26:00.434Z"
   },
   {
    "duration": 392,
    "start_time": "2022-03-12T09:19:00.972Z"
   },
   {
    "duration": 670,
    "start_time": "2022-03-12T09:19:06.769Z"
   },
   {
    "duration": 3,
    "start_time": "2022-03-12T09:19:07.441Z"
   },
   {
    "duration": 29,
    "start_time": "2022-03-12T09:19:07.446Z"
   },
   {
    "duration": 29,
    "start_time": "2022-03-12T09:19:07.476Z"
   },
   {
    "duration": 9,
    "start_time": "2022-03-12T09:19:07.507Z"
   },
   {
    "duration": 476,
    "start_time": "2022-03-12T09:19:07.517Z"
   },
   {
    "duration": 406,
    "start_time": "2022-03-12T09:19:07.995Z"
   },
   {
    "duration": 319,
    "start_time": "2022-03-12T09:19:08.404Z"
   },
   {
    "duration": 218,
    "start_time": "2022-03-12T09:19:08.725Z"
   },
   {
    "duration": 206,
    "start_time": "2022-03-12T09:19:08.945Z"
   },
   {
    "duration": 281,
    "start_time": "2022-03-12T09:19:09.153Z"
   },
   {
    "duration": 211,
    "start_time": "2022-03-12T09:19:09.436Z"
   },
   {
    "duration": 242,
    "start_time": "2022-03-12T09:19:09.649Z"
   },
   {
    "duration": 225,
    "start_time": "2022-03-12T09:19:09.892Z"
   },
   {
    "duration": 293,
    "start_time": "2022-03-12T09:19:10.119Z"
   },
   {
    "duration": 213,
    "start_time": "2022-03-12T09:19:10.414Z"
   },
   {
    "duration": 139,
    "start_time": "2022-03-12T09:19:10.628Z"
   },
   {
    "duration": 166,
    "start_time": "2022-03-12T09:19:10.768Z"
   },
   {
    "duration": 166,
    "start_time": "2022-03-12T09:19:10.935Z"
   },
   {
    "duration": 159,
    "start_time": "2022-03-12T09:19:11.105Z"
   },
   {
    "duration": 3,
    "start_time": "2022-03-12T09:19:11.265Z"
   },
   {
    "duration": 215,
    "start_time": "2022-03-12T09:19:11.270Z"
   },
   {
    "duration": 164,
    "start_time": "2022-03-12T09:19:11.488Z"
   },
   {
    "duration": 32,
    "start_time": "2022-03-12T09:19:11.654Z"
   },
   {
    "duration": 214,
    "start_time": "2022-03-12T09:19:11.688Z"
   },
   {
    "duration": 233,
    "start_time": "2022-03-12T09:19:11.905Z"
   },
   {
    "duration": 215,
    "start_time": "2022-03-12T09:19:12.140Z"
   },
   {
    "duration": 237,
    "start_time": "2022-03-12T09:19:12.357Z"
   },
   {
    "duration": 147,
    "start_time": "2022-03-12T09:19:12.595Z"
   },
   {
    "duration": 190,
    "start_time": "2022-03-12T09:19:12.743Z"
   },
   {
    "duration": 894,
    "start_time": "2022-03-12T09:19:12.935Z"
   },
   {
    "duration": 593,
    "start_time": "2022-03-12T09:19:22.605Z"
   },
   {
    "duration": 616,
    "start_time": "2022-03-12T09:19:52.723Z"
   },
   {
    "duration": 94,
    "start_time": "2022-03-12T09:21:26.757Z"
   },
   {
    "duration": 3,
    "start_time": "2022-03-12T09:21:26.852Z"
   },
   {
    "duration": 29,
    "start_time": "2022-03-12T09:21:26.857Z"
   },
   {
    "duration": 28,
    "start_time": "2022-03-12T09:21:26.888Z"
   },
   {
    "duration": 10,
    "start_time": "2022-03-12T09:21:26.918Z"
   },
   {
    "duration": 553,
    "start_time": "2022-03-12T09:21:26.929Z"
   },
   {
    "duration": 305,
    "start_time": "2022-03-12T09:21:27.484Z"
   },
   {
    "duration": 322,
    "start_time": "2022-03-12T09:21:27.792Z"
   },
   {
    "duration": 226,
    "start_time": "2022-03-12T09:21:28.116Z"
   },
   {
    "duration": 221,
    "start_time": "2022-03-12T09:21:28.344Z"
   },
   {
    "duration": 276,
    "start_time": "2022-03-12T09:21:28.566Z"
   },
   {
    "duration": 227,
    "start_time": "2022-03-12T09:21:28.843Z"
   },
   {
    "duration": 344,
    "start_time": "2022-03-12T09:21:29.071Z"
   },
   {
    "duration": 220,
    "start_time": "2022-03-12T09:21:29.416Z"
   },
   {
    "duration": 295,
    "start_time": "2022-03-12T09:21:29.637Z"
   },
   {
    "duration": 235,
    "start_time": "2022-03-12T09:21:29.933Z"
   },
   {
    "duration": 142,
    "start_time": "2022-03-12T09:21:30.169Z"
   },
   {
    "duration": 191,
    "start_time": "2022-03-12T09:21:30.312Z"
   },
   {
    "duration": 176,
    "start_time": "2022-03-12T09:21:30.505Z"
   },
   {
    "duration": 177,
    "start_time": "2022-03-12T09:21:30.682Z"
   },
   {
    "duration": 3,
    "start_time": "2022-03-12T09:21:30.861Z"
   },
   {
    "duration": 215,
    "start_time": "2022-03-12T09:21:30.865Z"
   },
   {
    "duration": 170,
    "start_time": "2022-03-12T09:21:31.084Z"
   },
   {
    "duration": 32,
    "start_time": "2022-03-12T09:21:31.256Z"
   },
   {
    "duration": 224,
    "start_time": "2022-03-12T09:21:31.289Z"
   },
   {
    "duration": 215,
    "start_time": "2022-03-12T09:21:31.515Z"
   },
   {
    "duration": 210,
    "start_time": "2022-03-12T09:21:31.732Z"
   },
   {
    "duration": 244,
    "start_time": "2022-03-12T09:21:31.944Z"
   },
   {
    "duration": 155,
    "start_time": "2022-03-12T09:21:32.189Z"
   },
   {
    "duration": 184,
    "start_time": "2022-03-12T09:21:32.346Z"
   },
   {
    "duration": 95,
    "start_time": "2022-03-12T09:21:32.532Z"
   },
   {
    "duration": 645,
    "start_time": "2022-03-12T09:22:09.041Z"
   },
   {
    "duration": 315,
    "start_time": "2022-03-12T09:22:34.123Z"
   },
   {
    "duration": 314,
    "start_time": "2022-03-12T09:25:22.640Z"
   },
   {
    "duration": 665,
    "start_time": "2022-03-12T09:25:30.488Z"
   },
   {
    "duration": 450,
    "start_time": "2022-03-12T09:29:27.223Z"
   },
   {
    "duration": 844,
    "start_time": "2022-03-12T09:30:21.774Z"
   },
   {
    "duration": 658,
    "start_time": "2022-03-12T09:30:29.230Z"
   },
   {
    "duration": 622,
    "start_time": "2022-03-12T09:32:18.050Z"
   },
   {
    "duration": 91,
    "start_time": "2022-03-12T09:32:58.208Z"
   },
   {
    "duration": 137,
    "start_time": "2022-03-12T09:33:20.254Z"
   },
   {
    "duration": 99,
    "start_time": "2022-03-12T09:33:45.497Z"
   },
   {
    "duration": 101,
    "start_time": "2022-03-12T09:33:56.554Z"
   },
   {
    "duration": 455,
    "start_time": "2022-03-12T09:37:26.137Z"
   },
   {
    "duration": 1072,
    "start_time": "2022-03-12T09:40:12.863Z"
   },
   {
    "duration": 1134,
    "start_time": "2022-03-12T09:40:52.608Z"
   },
   {
    "duration": 477,
    "start_time": "2022-03-12T09:40:57.987Z"
   },
   {
    "duration": 471,
    "start_time": "2022-03-12T09:41:17.086Z"
   },
   {
    "duration": 476,
    "start_time": "2022-03-12T09:46:01.002Z"
   },
   {
    "duration": 304,
    "start_time": "2022-03-12T09:51:32.426Z"
   },
   {
    "duration": 429,
    "start_time": "2022-03-12T09:51:45.669Z"
   },
   {
    "duration": 342,
    "start_time": "2022-03-12T09:52:11.834Z"
   },
   {
    "duration": 323,
    "start_time": "2022-03-12T09:52:19.130Z"
   },
   {
    "duration": 314,
    "start_time": "2022-03-12T09:52:43.550Z"
   },
   {
    "duration": 302,
    "start_time": "2022-03-12T09:53:00.848Z"
   },
   {
    "duration": 409,
    "start_time": "2022-03-12T09:54:07.062Z"
   },
   {
    "duration": 164,
    "start_time": "2022-03-12T09:54:36.934Z"
   },
   {
    "duration": 163,
    "start_time": "2022-03-12T09:54:39.583Z"
   },
   {
    "duration": 137,
    "start_time": "2022-03-12T09:59:24.102Z"
   },
   {
    "duration": 426,
    "start_time": "2022-03-12T09:59:54.789Z"
   },
   {
    "duration": 140,
    "start_time": "2022-03-12T10:00:03.657Z"
   },
   {
    "duration": 147,
    "start_time": "2022-03-12T10:00:59.870Z"
   },
   {
    "duration": 186,
    "start_time": "2022-03-12T10:01:55.852Z"
   },
   {
    "duration": 331,
    "start_time": "2022-03-12T10:02:26.123Z"
   },
   {
    "duration": 415,
    "start_time": "2022-03-12T10:02:31.250Z"
   },
   {
    "duration": 346,
    "start_time": "2022-03-12T10:03:08.243Z"
   },
   {
    "duration": 210,
    "start_time": "2022-03-12T10:03:34.915Z"
   },
   {
    "duration": 256,
    "start_time": "2022-03-12T10:03:39.539Z"
   },
   {
    "duration": 213,
    "start_time": "2022-03-12T10:03:44.473Z"
   },
   {
    "duration": 229,
    "start_time": "2022-03-12T10:03:48.668Z"
   },
   {
    "duration": 250,
    "start_time": "2022-03-12T10:03:57.896Z"
   },
   {
    "duration": 369,
    "start_time": "2022-03-12T10:04:33.722Z"
   },
   {
    "duration": 240,
    "start_time": "2022-03-12T10:04:42.221Z"
   },
   {
    "duration": 288,
    "start_time": "2022-03-12T10:05:37.943Z"
   },
   {
    "duration": 264,
    "start_time": "2022-03-12T10:05:40.963Z"
   },
   {
    "duration": 262,
    "start_time": "2022-03-12T10:06:39.515Z"
   }
  ],
  "kernelspec": {
   "display_name": "Python 3 (ipykernel)",
   "language": "python",
   "name": "python3"
  },
  "language_info": {
   "codemirror_mode": {
    "name": "ipython",
    "version": 3
   },
   "file_extension": ".py",
   "mimetype": "text/x-python",
   "name": "python",
   "nbconvert_exporter": "python",
   "pygments_lexer": "ipython3",
   "version": "3.9.5"
  },
  "toc": {
   "base_numbering": 1,
   "nav_menu": {},
   "number_sections": true,
   "sideBar": true,
   "skip_h1_title": true,
   "title_cell": "Содержание",
   "title_sidebar": "Contents",
   "toc_cell": true,
   "toc_position": {
    "height": "calc(100% - 180px)",
    "left": "10px",
    "top": "150px",
    "width": "165px"
   },
   "toc_section_display": true,
   "toc_window_display": true
  }
 },
 "nbformat": 4,
 "nbformat_minor": 4
}
